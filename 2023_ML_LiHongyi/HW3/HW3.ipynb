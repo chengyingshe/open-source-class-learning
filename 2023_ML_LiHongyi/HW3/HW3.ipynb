{
  "cells": [
    {
      "cell_type": "markdown",
      "metadata": {
        "id": "jRDuJsGCgxCO"
      },
      "source": [
        "# HW3 Image Classification\n",
        "## We strongly recommend that you run with [Kaggle](https://www.kaggle.com/t/86ca241732c04da99aca6490080bae73) for this homework\n",
        "\n",
        "If you have any questions, please contact the TAs via TA hours, NTU COOL, or email to mlta-2023-spring@googlegroups.com"
      ]
    },
    {
      "cell_type": "markdown",
      "metadata": {
        "id": "K9Vxu1iQwdIE"
      },
      "source": [
        "# Check GPU Type"
      ]
    },
    {
      "cell_type": "code",
      "execution_count": null,
      "metadata": {
        "colab": {
          "base_uri": "https://localhost:8080/"
        },
        "id": "KKjf6sZcwb_A",
        "outputId": "605652be-d5bf-48a2-8218-57b33b6f7790"
      },
      "outputs": [
        {
          "name": "stdout",
          "output_type": "stream",
          "text": [
            "Mon Mar 13 14:55:35 2023       \n",
            "+-----------------------------------------------------------------------------+\n",
            "| NVIDIA-SMI 525.85.12    Driver Version: 525.85.12    CUDA Version: 12.0     |\n",
            "|-------------------------------+----------------------+----------------------+\n",
            "| GPU  Name        Persistence-M| Bus-Id        Disp.A | Volatile Uncorr. ECC |\n",
            "| Fan  Temp  Perf  Pwr:Usage/Cap|         Memory-Usage | GPU-Util  Compute M. |\n",
            "|                               |                      |               MIG M. |\n",
            "|===============================+======================+======================|\n",
            "|   0  Tesla T4            Off  | 00000000:00:04.0 Off |                    0 |\n",
            "| N/A   66C    P0    31W /  70W |    625MiB / 15360MiB |      0%      Default |\n",
            "|                               |                      |                  N/A |\n",
            "+-------------------------------+----------------------+----------------------+\n",
            "                                                                               \n",
            "+-----------------------------------------------------------------------------+\n",
            "| Processes:                                                                  |\n",
            "|  GPU   GI   CI        PID   Type   Process name                  GPU Memory |\n",
            "|        ID   ID                                                   Usage      |\n",
            "|=============================================================================|\n",
            "+-----------------------------------------------------------------------------+\n"
          ]
        }
      ],
      "source": [
        "!nvidia-smi"
      ]
    },
    {
      "cell_type": "markdown",
      "metadata": {
        "id": "EVgrPb3HhJUT"
      },
      "source": [
        "# Get Data\n",
        "Notes: if the links are dead, you can download the data directly from Kaggle and upload it to the workspace, or you can use the Kaggle API to directly download the data into colab.\n"
      ]
    },
    {
      "cell_type": "code",
      "execution_count": null,
      "metadata": {
        "colab": {
          "base_uri": "https://localhost:8080/"
        },
        "id": "EAO6dg9eVaU_",
        "outputId": "5a20fe0a-ab0f-40e8-82d7-5cb1dea91d92"
      },
      "outputs": [
        {
          "name": "stdout",
          "output_type": "stream",
          "text": [
            "Looking in indexes: https://pypi.org/simple, https://us-python.pkg.dev/colab-wheels/public/simple/\n",
            "Requirement already satisfied: gdown in /usr/local/lib/python3.9/dist-packages (4.6.4)\n",
            "Requirement already satisfied: filelock in /usr/local/lib/python3.9/dist-packages (from gdown) (3.9.0)\n",
            "Requirement already satisfied: six in /usr/local/lib/python3.9/dist-packages (from gdown) (1.15.0)\n",
            "Requirement already satisfied: beautifulsoup4 in /usr/local/lib/python3.9/dist-packages (from gdown) (4.6.3)\n",
            "Requirement already satisfied: requests[socks] in /usr/local/lib/python3.9/dist-packages (from gdown) (2.25.1)\n",
            "Requirement already satisfied: tqdm in /usr/local/lib/python3.9/dist-packages (from gdown) (4.65.0)\n",
            "Requirement already satisfied: urllib3<1.27,>=1.21.1 in /usr/local/lib/python3.9/dist-packages (from requests[socks]->gdown) (1.26.14)\n",
            "Requirement already satisfied: certifi>=2017.4.17 in /usr/local/lib/python3.9/dist-packages (from requests[socks]->gdown) (2022.12.7)\n",
            "Requirement already satisfied: idna<3,>=2.5 in /usr/local/lib/python3.9/dist-packages (from requests[socks]->gdown) (2.10)\n",
            "Requirement already satisfied: chardet<5,>=3.0.2 in /usr/local/lib/python3.9/dist-packages (from requests[socks]->gdown) (4.0.0)\n",
            "Requirement already satisfied: PySocks!=1.5.7,>=1.5.6 in /usr/local/lib/python3.9/dist-packages (from requests[socks]->gdown) (1.7.1)\n",
            "/usr/local/lib/python3.9/dist-packages/gdown/cli.py:121: FutureWarning: Option `--id` was deprecated in version 4.3.1 and will be removed in 5.0. You don't need to pass it anymore to use a file ID.\n",
            "  warnings.warn(\n",
            "Downloading...\n",
            "From: https://drive.google.com/uc?id=1tbGNwk1yGoCBdu4Gi_Cia7EJ9OhubYD9\n",
            "To: /content/food11.zip\n",
            "100% 1.16G/1.16G [00:09<00:00, 126MB/s] \n"
          ]
        }
      ],
      "source": [
        "# Download Link\n",
        "# Link 1 (Dropbox): https://www.dropbox.com/s/up5q1gthsz3v0dq/food-11.zip?dl=0\n",
        "# Link 2 (Google Drive): https://drive.google.com/file/d/1tbGNwk1yGoCBdu4Gi_Cia7EJ9OhubYD9/view?usp=share_link\n",
        "# Link 3: Kaggle Competition.\n",
        "\n",
        "# (1) dropbox link\n",
        "# !wget -O food11.zip https://www.dropbox.com/s/up5q1gthsz3v0dq/food-11.zip?dl=0\n",
        "\n",
        "# (2) google drive link\n",
        "# !pip install gdown --upgrade\n",
        "# !gdown --id '1tbGNwk1yGoCBdu4Gi_Cia7EJ9OhubYD9' --output food11.zip"
      ]
    },
    {
      "cell_type": "code",
      "execution_count": null,
      "metadata": {
        "colab": {
          "background_save": true,
          "base_uri": "https://localhost:8080/"
        },
        "id": "HEsBm1lkhGmk",
        "outputId": "96b56b94-7aee-4180-b615-61a1cff7c7e5"
      },
      "outputs": [
        {
          "name": "stdout",
          "output_type": "stream",
          "text": [
            "Archive:  food11.zip\n",
            "replace valid/9_2898.jpg? [y]es, [n]o, [A]ll, [N]one, [r]ename: "
          ]
        }
      ],
      "source": [
        "! unzip food11.zip"
      ]
    },
    {
      "cell_type": "markdown",
      "metadata": {
        "id": "n5ceUnRihL-f"
      },
      "source": [
        "# Import Packages"
      ]
    },
    {
      "cell_type": "code",
      "execution_count": 1,
      "metadata": {
        "colab": {
          "background_save": true
        },
        "id": "CwOGtRWHVaVF"
      },
      "outputs": [],
      "source": [
        "# Import necessary packages.\n",
        "import numpy as np\n",
        "import pandas as pd\n",
        "import torch\n",
        "import os\n",
        "import torch.nn as nn\n",
        "import torchvision.transforms as transforms\n",
        "from PIL import Image\n",
        "# \"ConcatDataset\" and \"Subset\" are possibly useful when doing semi-supervised learning.\n",
        "from torch.utils.data import ConcatDataset, DataLoader, Subset, Dataset\n",
        "from torchvision.datasets import DatasetFolder, VisionDataset\n",
        "# This is for the progress bar.\n",
        "from tqdm import tqdm\n",
        "import random\n",
        "from torch.optim.lr_scheduler import StepLR"
      ]
    },
    {
      "cell_type": "code",
      "execution_count": 2,
      "metadata": {
        "colab": {
          "background_save": true
        },
        "id": "8kJm9GekVaVH"
      },
      "outputs": [],
      "source": [
        "myseed = 6666  # set a random seed for reproducibility\n",
        "torch.backends.cudnn.deterministic = True\n",
        "torch.backends.cudnn.benchmark = False\n",
        "np.random.seed(myseed)\n",
        "torch.manual_seed(myseed)\n",
        "if torch.cuda.is_available():\n",
        "    torch.cuda.manual_seed_all(myseed)"
      ]
    },
    {
      "cell_type": "markdown",
      "metadata": {
        "id": "d9MVtgbSVaVH"
      },
      "source": [
        "# Transforms\n",
        "Torchvision provides lots of useful utilities for image preprocessing, data *wrapping* as well as data augmentation.\n",
        "\n",
        "Please refer to PyTorch official website for details about different transforms."
      ]
    },
    {
      "cell_type": "code",
      "execution_count": 3,
      "metadata": {
        "colab": {
          "background_save": true
        },
        "id": "jvI3Xmq4VaVJ"
      },
      "outputs": [],
      "source": [
        "# TODO: 尝试使用多种data augmentation的方法\n",
        "# Normally, We don't need augmentations in testing and validation.\n",
        "# All we need here is to resize the PIL image and transform it into Tensor.\n",
        "test_tfm = transforms.Compose([\n",
        "    transforms.Resize((128, 128)),\n",
        "    transforms.ToTensor(),\n",
        "])\n",
        "\n",
        "# However, it is also possible to use augmentation in the testing phase.\n",
        "# You may use train_tfm to produce a variety of images and then test using ensemble methods\n",
        "train_tfm = transforms.Compose([\n",
        "    # Resize the image into a fixed shape (height = width = 128)\n",
        "    transforms.Resize((128, 128)),\n",
        "    # You may add some transforms here.\n",
        "    # ToTensor() should be the last one of the transforms.\n",
        "    transforms.ToTensor(),\n",
        "])\n"
      ]
    },
    {
      "cell_type": "markdown",
      "metadata": {
        "id": "D0ivMf-jVaVK"
      },
      "source": [
        "# Datasets\n",
        "The data is labelled by the name, so we load images and label while calling '__getitem__'"
      ]
    },
    {
      "cell_type": "code",
      "execution_count": 4,
      "metadata": {
        "colab": {
          "background_save": true
        },
        "id": "xBdtPhKwVaVL"
      },
      "outputs": [],
      "source": [
        "class FoodDataset(Dataset):\n",
        "\n",
        "    def __init__(self,path,tfm=test_tfm,files = None):\n",
        "        super(FoodDataset).__init__()\n",
        "        self.path = path\n",
        "        self.files = sorted([os.path.join(path,x) for x in os.listdir(path) if x.endswith(\".jpg\")])\n",
        "        if files != None:\n",
        "            self.files = files\n",
        "\n",
        "        self.transform = tfm\n",
        "\n",
        "    def __len__(self):\n",
        "        return len(self.files)\n",
        "\n",
        "    def __getitem__(self,idx):\n",
        "        fname = self.files[idx]\n",
        "        im = Image.open(fname)\n",
        "        im = self.transform(im)\n",
        "\n",
        "        try:\n",
        "            label = int(fname.split(\"/\")[-1].split(\"_\")[0])\n",
        "        except:\n",
        "            label = -1 # test has no label\n",
        "\n",
        "        return im,label"
      ]
    },
    {
      "cell_type": "markdown",
      "metadata": {
        "id": "ZPFkDwug61PZ"
      },
      "source": [
        "# Model"
      ]
    },
    {
      "cell_type": "code",
      "execution_count": 5,
      "metadata": {
        "colab": {
          "background_save": true
        },
        "id": "b_kDECOJVaVL"
      },
      "outputs": [],
      "source": [
        "class Classifier(nn.Module):\n",
        "    def __init__(self):\n",
        "        super(Classifier, self).__init__()\n",
        "        # torch.nn.Conv2d(in_channels, out_channels, kernel_size, stride, padding)\n",
        "        # torch.nn.MaxPool2d(kernel_size, stride, padding)\n",
        "        # input 維度 [3, 128, 128]\n",
        "        self.cnn = nn.Sequential(\n",
        "            nn.Conv2d(3, 64, 3, 1, 1),  # [64, 128, 128]\n",
        "            nn.BatchNorm2d(64),\n",
        "            nn.ReLU(),\n",
        "            nn.MaxPool2d(2, 2, 0),      # [64, 64, 64]\n",
        "\n",
        "            nn.Conv2d(64, 128, 3, 1, 1), # [128, 64, 64]\n",
        "            nn.BatchNorm2d(128),\n",
        "            nn.ReLU(),\n",
        "            nn.MaxPool2d(2, 2, 0),      # [128, 32, 32]\n",
        "\n",
        "            nn.Conv2d(128, 256, 3, 1, 1), # [256, 32, 32]\n",
        "            nn.BatchNorm2d(256),\n",
        "            nn.ReLU(),\n",
        "            nn.MaxPool2d(2, 2, 0),      # [256, 16, 16]\n",
        "\n",
        "            nn.Conv2d(256, 512, 3, 1, 1), # [512, 16, 16]\n",
        "            nn.BatchNorm2d(512),\n",
        "            nn.ReLU(),\n",
        "            nn.MaxPool2d(2, 2, 0),       # [512, 8, 8]\n",
        "\n",
        "            nn.Conv2d(512, 512, 3, 1, 1), # [512, 8, 8]\n",
        "            nn.BatchNorm2d(512),\n",
        "            nn.ReLU(),\n",
        "            nn.MaxPool2d(2, 2, 0),       # [512, 4, 4]\n",
        "        )\n",
        "        self.fc = nn.Sequential(\n",
        "            nn.Linear(512*4*4, 1024),\n",
        "            nn.ReLU(),\n",
        "            nn.Linear(1024, 512),\n",
        "            nn.ReLU(),\n",
        "            nn.Linear(512, 11)\n",
        "        )\n",
        "\n",
        "    def forward(self, x):\n",
        "        out = self.cnn(x)\n",
        "        out = out.view(out.size()[0], -1)\n",
        "        return self.fc(out)"
      ]
    },
    {
      "cell_type": "markdown",
      "metadata": {
        "id": "xgnIOaID687b"
      },
      "source": [
        "# Configurations"
      ]
    },
    {
      "cell_type": "code",
      "execution_count": 6,
      "metadata": {
        "colab": {
          "background_save": true
        },
        "id": "2_OeWtstVaVO"
      },
      "outputs": [],
      "source": [
        "# \"cuda\" only when GPUs are available.\n",
        "device = \"cuda\" if torch.cuda.is_available() else \"cpu\"\n",
        "\n",
        "# The number of batch size.\n",
        "batch_size = 64\n",
        "\n",
        "# The number of training epochs.\n",
        "n_epochs = 8\n",
        "\n",
        "# If no improvement in 'patience' epochs, early stop.\n",
        "# For the classification task, we use cross-entropy as the measurement of performance.\n",
        "criterion = nn.CrossEntropyLoss()"
      ]
    },
    {
      "cell_type": "markdown",
      "metadata": {
        "id": "zPGwvvPK7F7u"
      },
      "source": [
        "# Dataloader"
      ]
    },
    {
      "cell_type": "code",
      "execution_count": 7,
      "metadata": {
        "colab": {
          "background_save": true
        },
        "id": "zvZXRH2phItl"
      },
      "outputs": [],
      "source": [
        "# Construct train and valid datasets.\n",
        "# The argument \"loader\" tells how torchvision reads the data.\n",
        "train_set = FoodDataset(\"./oscl_datasets/train\", tfm=train_tfm)\n",
        "train_loader = DataLoader(train_set, batch_size=batch_size, shuffle=True, num_workers=0, pin_memory=True)\n",
        "valid_set = FoodDataset(\"./oscl_datasets/valid\", tfm=test_tfm)\n",
        "valid_loader = DataLoader(valid_set, batch_size=batch_size, shuffle=True, num_workers=0, pin_memory=True)"
      ]
    },
    {
      "cell_type": "markdown",
      "metadata": {
        "id": "UPQ0j1c17BG1"
      },
      "source": [
        "# Trainer"
      ]
    },
    {
      "cell_type": "code",
      "execution_count": 8,
      "metadata": {
        "id": "zbVkfIFhVaVO"
      },
      "outputs": [],
      "source": [
        "def train(model, n_epochs, train_loader, valid_loader, device, criterion, optimizer, lr_scheduler=None, exp_name='sample', patience=5):\n",
        "    stale = 0\n",
        "    best_acc = 0\n",
        "    for epoch in range(n_epochs):\n",
        "        # ---------- Training ----------\n",
        "        # Make sure the model is in train mode before training.\n",
        "        model.train()\n",
        "\n",
        "        # These are used to record information in training.\n",
        "        train_loss = []\n",
        "        train_accs = []\n",
        "\n",
        "        for batch in tqdm(train_loader):\n",
        "\n",
        "            # A batch consists of image data and corresponding labels.\n",
        "            imgs, labels = batch\n",
        "            #imgs = imgs.half()\n",
        "            #print(imgs.shape,labels.shape)\n",
        "\n",
        "            # Forward the data. (Make sure data and model are on the same device.)\n",
        "            logits = model(imgs.to(device))\n",
        "\n",
        "            # Calculate the cross-entropy loss.\n",
        "            # We don't need to apply softmax before computing cross-entropy as it is done automatically.\n",
        "            loss = criterion(logits, labels.to(device))\n",
        "\n",
        "            # Gradients stored in the parameters in the previous step should be cleared out first.\n",
        "            optimizer.zero_grad()\n",
        "\n",
        "            # Compute the gradients for parameters.\n",
        "            loss.backward()\n",
        "\n",
        "            # Clip the gradient norms for stable training.\n",
        "            grad_norm = nn.utils.clip_grad_norm_(model.parameters(), max_norm=10)\n",
        "\n",
        "            # Update the parameters with computed gradients.\n",
        "            optimizer.step()\n",
        "\n",
        "            # Compute the accuracy for current batch.\n",
        "            acc = (logits.argmax(dim=-1) == labels.to(device)).float().mean()\n",
        "\n",
        "            # Record the loss and accuracy.\n",
        "            train_loss.append(loss.item())\n",
        "            train_accs.append(acc)\n",
        "\n",
        "        train_loss = sum(train_loss) / len(train_loss)\n",
        "        train_acc = sum(train_accs) / len(train_accs)\n",
        "\n",
        "        # Print the information.\n",
        "        print(f\"[ Train | {epoch + 1:03d}/{n_epochs:03d} ] loss = {train_loss:.5f}, acc = {train_acc:.5f}\")\n",
        "\n",
        "        # ---------- Validation ----------\n",
        "        # Make sure the model is in eval mode so that some modules like dropout are disabled and work normally.\n",
        "        model.eval()\n",
        "\n",
        "        # These are used to record information in validation.\n",
        "        valid_loss = []\n",
        "        valid_accs = []\n",
        "\n",
        "        # Iterate the validation set by batches.\n",
        "        for batch in tqdm(valid_loader):\n",
        "\n",
        "            # A batch consists of image data and corresponding labels.\n",
        "            imgs, labels = batch\n",
        "            #imgs = imgs.half()\n",
        "\n",
        "            # We don't need gradient in validation.\n",
        "            # Using torch.no_grad() accelerates the forward process.\n",
        "            with torch.no_grad():\n",
        "                logits = model(imgs.to(device))\n",
        "\n",
        "            # We can still compute the loss (but not the gradient).\n",
        "            loss = criterion(logits, labels.to(device))\n",
        "\n",
        "            # Compute the accuracy for current batch.\n",
        "            acc = (logits.argmax(dim=-1) == labels.to(device)).float().mean()\n",
        "\n",
        "            # Record the loss and accuracy.\n",
        "            valid_loss.append(loss.item())\n",
        "            valid_accs.append(acc)\n",
        "            #break\n",
        "\n",
        "        # The average loss and accuracy for entire validation set is the average of the recorded values.\n",
        "        valid_loss = sum(valid_loss) / len(valid_loss)\n",
        "        valid_acc = sum(valid_accs) / len(valid_accs)\n",
        "\n",
        "        # Print the information.\n",
        "        print(f\"[ Valid | {epoch + 1:03d}/{n_epochs:03d} ] loss = {valid_loss:.5f}, acc = {valid_acc:.5f}\")\n",
        "\n",
        "\n",
        "        # update logs\n",
        "        if valid_acc > best_acc:\n",
        "            with open(f\"./{exp_name}_log.txt\",\"a\"):\n",
        "                print(f\"[ Valid | {epoch + 1:03d}/{n_epochs:03d} ] loss = {valid_loss:.5f}, acc = {valid_acc:.5f} -> best\")\n",
        "        else:\n",
        "            with open(f\"./{exp_name}_log.txt\",\"a\"):\n",
        "                print(f\"[ Valid | {epoch + 1:03d}/{n_epochs:03d} ] loss = {valid_loss:.5f}, acc = {valid_acc:.5f}\")\n",
        "\n",
        "        if lr_scheduler:\n",
        "            lr_scheduler.step()\n",
        "            \n",
        "        # save models\n",
        "        if valid_acc > best_acc:\n",
        "            print(f\"Best model found at epoch {epoch}, saving model\")\n",
        "            torch.save(model.state_dict(), f\"{exp_name}_best.ckpt\") # only save best to prevent output memory exceed error\n",
        "            best_acc = valid_acc\n",
        "            stale = 0\n",
        "        else:\n",
        "            stale += 1\n",
        "            if patience > 0 and stale > patience:\n",
        "                print(f\"No improvment {patience} consecutive epochs, early stopping\")\n",
        "                break"
      ]
    },
    {
      "cell_type": "markdown",
      "metadata": {},
      "source": [
        "# Training Models"
      ]
    },
    {
      "cell_type": "code",
      "execution_count": 13,
      "metadata": {},
      "outputs": [
        {
          "data": {
            "application/vnd.jupyter.widget-view+json": {
              "model_id": "3c7e888f3b9a4ac4b3c2565455bef51a",
              "version_major": 2,
              "version_minor": 0
            },
            "text/plain": [
              "  0%|          | 0/157 [00:00<?, ?it/s]"
            ]
          },
          "metadata": {},
          "output_type": "display_data"
        },
        {
          "name": "stdout",
          "output_type": "stream",
          "text": [
            "[ Train | 001/020 ] loss = 1.89408, acc = 0.33698\n"
          ]
        },
        {
          "data": {
            "application/vnd.jupyter.widget-view+json": {
              "model_id": "80f011e8966e45b588efbdcf0c7c1232",
              "version_major": 2,
              "version_minor": 0
            },
            "text/plain": [
              "  0%|          | 0/57 [00:00<?, ?it/s]"
            ]
          },
          "metadata": {},
          "output_type": "display_data"
        },
        {
          "name": "stdout",
          "output_type": "stream",
          "text": [
            "[ Valid | 001/020 ] loss = 1.73273, acc = 0.40304\n",
            "[ Valid | 001/020 ] loss = 1.73273, acc = 0.40304 -> best\n",
            "Best model found at epoch 0, saving model\n"
          ]
        },
        {
          "data": {
            "application/vnd.jupyter.widget-view+json": {
              "model_id": "85679405770d42e19203205690679936",
              "version_major": 2,
              "version_minor": 0
            },
            "text/plain": [
              "  0%|          | 0/157 [00:00<?, ?it/s]"
            ]
          },
          "metadata": {},
          "output_type": "display_data"
        },
        {
          "name": "stdout",
          "output_type": "stream",
          "text": [
            "[ Train | 002/020 ] loss = 1.52779, acc = 0.47442\n"
          ]
        },
        {
          "data": {
            "application/vnd.jupyter.widget-view+json": {
              "model_id": "39c9a174979a426fbb2b5cbcd004bc47",
              "version_major": 2,
              "version_minor": 0
            },
            "text/plain": [
              "  0%|          | 0/57 [00:00<?, ?it/s]"
            ]
          },
          "metadata": {},
          "output_type": "display_data"
        },
        {
          "name": "stdout",
          "output_type": "stream",
          "text": [
            "[ Valid | 002/020 ] loss = 1.64163, acc = 0.42961\n",
            "[ Valid | 002/020 ] loss = 1.64163, acc = 0.42961 -> best\n",
            "Best model found at epoch 1, saving model\n"
          ]
        },
        {
          "data": {
            "application/vnd.jupyter.widget-view+json": {
              "model_id": "351305e9047046a78772a34f00b12282",
              "version_major": 2,
              "version_minor": 0
            },
            "text/plain": [
              "  0%|          | 0/157 [00:00<?, ?it/s]"
            ]
          },
          "metadata": {},
          "output_type": "display_data"
        },
        {
          "name": "stdout",
          "output_type": "stream",
          "text": [
            "[ Train | 003/020 ] loss = 1.31567, acc = 0.55225\n"
          ]
        },
        {
          "data": {
            "application/vnd.jupyter.widget-view+json": {
              "model_id": "6cb038906f434943bc8626acad6910e5",
              "version_major": 2,
              "version_minor": 0
            },
            "text/plain": [
              "  0%|          | 0/57 [00:00<?, ?it/s]"
            ]
          },
          "metadata": {},
          "output_type": "display_data"
        },
        {
          "name": "stdout",
          "output_type": "stream",
          "text": [
            "[ Valid | 003/020 ] loss = 1.51322, acc = 0.47408\n",
            "[ Valid | 003/020 ] loss = 1.51322, acc = 0.47408 -> best\n",
            "Best model found at epoch 2, saving model\n"
          ]
        },
        {
          "data": {
            "application/vnd.jupyter.widget-view+json": {
              "model_id": "aa902db5cf2f42da9f412bc05d40e857",
              "version_major": 2,
              "version_minor": 0
            },
            "text/plain": [
              "  0%|          | 0/157 [00:00<?, ?it/s]"
            ]
          },
          "metadata": {},
          "output_type": "display_data"
        },
        {
          "name": "stdout",
          "output_type": "stream",
          "text": [
            "[ Train | 004/020 ] loss = 1.14834, acc = 0.60529\n"
          ]
        },
        {
          "data": {
            "application/vnd.jupyter.widget-view+json": {
              "model_id": "eb706a205da945f1b3c901a1d41a7b34",
              "version_major": 2,
              "version_minor": 0
            },
            "text/plain": [
              "  0%|          | 0/57 [00:00<?, ?it/s]"
            ]
          },
          "metadata": {},
          "output_type": "display_data"
        },
        {
          "name": "stdout",
          "output_type": "stream",
          "text": [
            "[ Valid | 004/020 ] loss = 1.45106, acc = 0.51308\n",
            "[ Valid | 004/020 ] loss = 1.45106, acc = 0.51308 -> best\n",
            "Best model found at epoch 3, saving model\n"
          ]
        },
        {
          "data": {
            "application/vnd.jupyter.widget-view+json": {
              "model_id": "e7dc1bd7917e4cde928fc731e9bc5ee2",
              "version_major": 2,
              "version_minor": 0
            },
            "text/plain": [
              "  0%|          | 0/157 [00:00<?, ?it/s]"
            ]
          },
          "metadata": {},
          "output_type": "display_data"
        },
        {
          "name": "stdout",
          "output_type": "stream",
          "text": [
            "[ Train | 005/020 ] loss = 1.00623, acc = 0.65237\n"
          ]
        },
        {
          "data": {
            "application/vnd.jupyter.widget-view+json": {
              "model_id": "b3ceacc4fc194355b35016be29e25a11",
              "version_major": 2,
              "version_minor": 0
            },
            "text/plain": [
              "  0%|          | 0/57 [00:00<?, ?it/s]"
            ]
          },
          "metadata": {},
          "output_type": "display_data"
        },
        {
          "name": "stdout",
          "output_type": "stream",
          "text": [
            "[ Valid | 005/020 ] loss = 1.35855, acc = 0.54947\n",
            "[ Valid | 005/020 ] loss = 1.35855, acc = 0.54947 -> best\n",
            "Best model found at epoch 4, saving model\n"
          ]
        },
        {
          "data": {
            "application/vnd.jupyter.widget-view+json": {
              "model_id": "02b334cca3eb421e85e29a9837fd9f84",
              "version_major": 2,
              "version_minor": 0
            },
            "text/plain": [
              "  0%|          | 0/157 [00:00<?, ?it/s]"
            ]
          },
          "metadata": {},
          "output_type": "display_data"
        },
        {
          "name": "stdout",
          "output_type": "stream",
          "text": [
            "[ Train | 006/020 ] loss = 0.89157, acc = 0.69198\n"
          ]
        },
        {
          "data": {
            "application/vnd.jupyter.widget-view+json": {
              "model_id": "dff4a3d04acd495ea5271a5033157d1d",
              "version_major": 2,
              "version_minor": 0
            },
            "text/plain": [
              "  0%|          | 0/57 [00:00<?, ?it/s]"
            ]
          },
          "metadata": {},
          "output_type": "display_data"
        },
        {
          "name": "stdout",
          "output_type": "stream",
          "text": [
            "[ Valid | 006/020 ] loss = 1.18813, acc = 0.60692\n",
            "[ Valid | 006/020 ] loss = 1.18813, acc = 0.60692 -> best\n",
            "Best model found at epoch 5, saving model\n"
          ]
        },
        {
          "data": {
            "application/vnd.jupyter.widget-view+json": {
              "model_id": "4a6301f444554a72b5c2bf1b122cdab1",
              "version_major": 2,
              "version_minor": 0
            },
            "text/plain": [
              "  0%|          | 0/157 [00:00<?, ?it/s]"
            ]
          },
          "metadata": {},
          "output_type": "display_data"
        },
        {
          "name": "stdout",
          "output_type": "stream",
          "text": [
            "[ Train | 007/020 ] loss = 0.76171, acc = 0.73447\n"
          ]
        },
        {
          "data": {
            "application/vnd.jupyter.widget-view+json": {
              "model_id": "21f57a177332468ead0be396b8e5e4e6",
              "version_major": 2,
              "version_minor": 0
            },
            "text/plain": [
              "  0%|          | 0/57 [00:00<?, ?it/s]"
            ]
          },
          "metadata": {},
          "output_type": "display_data"
        },
        {
          "name": "stdout",
          "output_type": "stream",
          "text": [
            "[ Valid | 007/020 ] loss = 1.36070, acc = 0.56660\n",
            "[ Valid | 007/020 ] loss = 1.36070, acc = 0.56660\n"
          ]
        },
        {
          "data": {
            "application/vnd.jupyter.widget-view+json": {
              "model_id": "c93fa5534d784c548f4443c2c56f0c81",
              "version_major": 2,
              "version_minor": 0
            },
            "text/plain": [
              "  0%|          | 0/157 [00:00<?, ?it/s]"
            ]
          },
          "metadata": {},
          "output_type": "display_data"
        },
        {
          "name": "stdout",
          "output_type": "stream",
          "text": [
            "[ Train | 008/020 ] loss = 0.63648, acc = 0.78384\n"
          ]
        },
        {
          "data": {
            "application/vnd.jupyter.widget-view+json": {
              "model_id": "d5c24e28bdab4d378e9d07dc31d84234",
              "version_major": 2,
              "version_minor": 0
            },
            "text/plain": [
              "  0%|          | 0/57 [00:00<?, ?it/s]"
            ]
          },
          "metadata": {},
          "output_type": "display_data"
        },
        {
          "name": "stdout",
          "output_type": "stream",
          "text": [
            "[ Valid | 008/020 ] loss = 1.28587, acc = 0.58586\n",
            "[ Valid | 008/020 ] loss = 1.28587, acc = 0.58586\n"
          ]
        },
        {
          "data": {
            "application/vnd.jupyter.widget-view+json": {
              "model_id": "29a1d7a8d6224233ad5c0931428445fc",
              "version_major": 2,
              "version_minor": 0
            },
            "text/plain": [
              "  0%|          | 0/157 [00:00<?, ?it/s]"
            ]
          },
          "metadata": {},
          "output_type": "display_data"
        },
        {
          "name": "stdout",
          "output_type": "stream",
          "text": [
            "[ Train | 009/020 ] loss = 0.54663, acc = 0.81051\n"
          ]
        },
        {
          "data": {
            "application/vnd.jupyter.widget-view+json": {
              "model_id": "5756bc3cd441467ea01b69d8473d7161",
              "version_major": 2,
              "version_minor": 0
            },
            "text/plain": [
              "  0%|          | 0/57 [00:00<?, ?it/s]"
            ]
          },
          "metadata": {},
          "output_type": "display_data"
        },
        {
          "name": "stdout",
          "output_type": "stream",
          "text": [
            "[ Valid | 009/020 ] loss = 1.50847, acc = 0.57903\n",
            "[ Valid | 009/020 ] loss = 1.50847, acc = 0.57903\n"
          ]
        },
        {
          "data": {
            "application/vnd.jupyter.widget-view+json": {
              "model_id": "49c28df0fd9245cebcef3244772ce8ac",
              "version_major": 2,
              "version_minor": 0
            },
            "text/plain": [
              "  0%|          | 0/157 [00:00<?, ?it/s]"
            ]
          },
          "metadata": {},
          "output_type": "display_data"
        },
        {
          "name": "stdout",
          "output_type": "stream",
          "text": [
            "[ Train | 010/020 ] loss = 0.45009, acc = 0.84116\n"
          ]
        },
        {
          "data": {
            "application/vnd.jupyter.widget-view+json": {
              "model_id": "0ebf37ed75ae4d88a03a47fc517d09d9",
              "version_major": 2,
              "version_minor": 0
            },
            "text/plain": [
              "  0%|          | 0/57 [00:00<?, ?it/s]"
            ]
          },
          "metadata": {},
          "output_type": "display_data"
        },
        {
          "name": "stdout",
          "output_type": "stream",
          "text": [
            "[ Valid | 010/020 ] loss = 1.30511, acc = 0.62276\n",
            "[ Valid | 010/020 ] loss = 1.30511, acc = 0.62276 -> best\n",
            "Best model found at epoch 9, saving model\n"
          ]
        },
        {
          "data": {
            "application/vnd.jupyter.widget-view+json": {
              "model_id": "6882179debc04982a6fd0435676c8502",
              "version_major": 2,
              "version_minor": 0
            },
            "text/plain": [
              "  0%|          | 0/157 [00:00<?, ?it/s]"
            ]
          },
          "metadata": {},
          "output_type": "display_data"
        },
        {
          "name": "stdout",
          "output_type": "stream",
          "text": [
            "[ Train | 011/020 ] loss = 0.36654, acc = 0.87450\n"
          ]
        },
        {
          "data": {
            "application/vnd.jupyter.widget-view+json": {
              "model_id": "bf9ff6a3c3fd449cbd4e1967d7b82a7c",
              "version_major": 2,
              "version_minor": 0
            },
            "text/plain": [
              "  0%|          | 0/57 [00:00<?, ?it/s]"
            ]
          },
          "metadata": {},
          "output_type": "display_data"
        },
        {
          "name": "stdout",
          "output_type": "stream",
          "text": [
            "[ Valid | 011/020 ] loss = 1.44000, acc = 0.62175\n",
            "[ Valid | 011/020 ] loss = 1.44000, acc = 0.62175\n"
          ]
        },
        {
          "data": {
            "application/vnd.jupyter.widget-view+json": {
              "model_id": "c871925732ba46cfa2865cc86aedbe15",
              "version_major": 2,
              "version_minor": 0
            },
            "text/plain": [
              "  0%|          | 0/157 [00:00<?, ?it/s]"
            ]
          },
          "metadata": {},
          "output_type": "display_data"
        },
        {
          "name": "stdout",
          "output_type": "stream",
          "text": [
            "[ Train | 012/020 ] loss = 0.27944, acc = 0.90695\n"
          ]
        },
        {
          "data": {
            "application/vnd.jupyter.widget-view+json": {
              "model_id": "12bab46596c74373903a27efa86fe0a6",
              "version_major": 2,
              "version_minor": 0
            },
            "text/plain": [
              "  0%|          | 0/57 [00:00<?, ?it/s]"
            ]
          },
          "metadata": {},
          "output_type": "display_data"
        },
        {
          "name": "stdout",
          "output_type": "stream",
          "text": [
            "[ Valid | 012/020 ] loss = 1.34854, acc = 0.63838\n",
            "[ Valid | 012/020 ] loss = 1.34854, acc = 0.63838 -> best\n",
            "Best model found at epoch 11, saving model\n"
          ]
        },
        {
          "data": {
            "application/vnd.jupyter.widget-view+json": {
              "model_id": "4c54e3f0dc614bf6811d1fa5af92baf6",
              "version_major": 2,
              "version_minor": 0
            },
            "text/plain": [
              "  0%|          | 0/157 [00:00<?, ?it/s]"
            ]
          },
          "metadata": {},
          "output_type": "display_data"
        },
        {
          "name": "stdout",
          "output_type": "stream",
          "text": [
            "[ Train | 013/020 ] loss = 0.21544, acc = 0.92546\n"
          ]
        },
        {
          "data": {
            "application/vnd.jupyter.widget-view+json": {
              "model_id": "f15bbc9040fb46a889ea6b5b0e71f481",
              "version_major": 2,
              "version_minor": 0
            },
            "text/plain": [
              "  0%|          | 0/57 [00:00<?, ?it/s]"
            ]
          },
          "metadata": {},
          "output_type": "display_data"
        },
        {
          "name": "stdout",
          "output_type": "stream",
          "text": [
            "[ Valid | 013/020 ] loss = 1.58136, acc = 0.63288\n",
            "[ Valid | 013/020 ] loss = 1.58136, acc = 0.63288\n"
          ]
        },
        {
          "data": {
            "application/vnd.jupyter.widget-view+json": {
              "model_id": "150aefab808d4120919a12d7e84aaa90",
              "version_major": 2,
              "version_minor": 0
            },
            "text/plain": [
              "  0%|          | 0/157 [00:00<?, ?it/s]"
            ]
          },
          "metadata": {},
          "output_type": "display_data"
        },
        {
          "name": "stdout",
          "output_type": "stream",
          "text": [
            "[ Train | 014/020 ] loss = 0.18294, acc = 0.93501\n"
          ]
        },
        {
          "data": {
            "application/vnd.jupyter.widget-view+json": {
              "model_id": "6b2c508b44314585927c0ac5e82eeee5",
              "version_major": 2,
              "version_minor": 0
            },
            "text/plain": [
              "  0%|          | 0/57 [00:00<?, ?it/s]"
            ]
          },
          "metadata": {},
          "output_type": "display_data"
        },
        {
          "name": "stdout",
          "output_type": "stream",
          "text": [
            "[ Valid | 014/020 ] loss = 1.56778, acc = 0.63089\n",
            "[ Valid | 014/020 ] loss = 1.56778, acc = 0.63089\n"
          ]
        },
        {
          "data": {
            "application/vnd.jupyter.widget-view+json": {
              "model_id": "bc1eaab314da46e9849b30e6aeef3400",
              "version_major": 2,
              "version_minor": 0
            },
            "text/plain": [
              "  0%|          | 0/157 [00:00<?, ?it/s]"
            ]
          },
          "metadata": {},
          "output_type": "display_data"
        },
        {
          "name": "stdout",
          "output_type": "stream",
          "text": [
            "[ Train | 015/020 ] loss = 0.13597, acc = 0.95303\n"
          ]
        },
        {
          "data": {
            "application/vnd.jupyter.widget-view+json": {
              "model_id": "f91a902be8214e02b659a1e3ab7bca35",
              "version_major": 2,
              "version_minor": 0
            },
            "text/plain": [
              "  0%|          | 0/57 [00:00<?, ?it/s]"
            ]
          },
          "metadata": {},
          "output_type": "display_data"
        },
        {
          "name": "stdout",
          "output_type": "stream",
          "text": [
            "[ Valid | 015/020 ] loss = 1.91347, acc = 0.62709\n",
            "[ Valid | 015/020 ] loss = 1.91347, acc = 0.62709\n"
          ]
        },
        {
          "data": {
            "application/vnd.jupyter.widget-view+json": {
              "model_id": "195cab8c1a4b4c4e8ed79435ce8dd2cf",
              "version_major": 2,
              "version_minor": 0
            },
            "text/plain": [
              "  0%|          | 0/157 [00:00<?, ?it/s]"
            ]
          },
          "metadata": {},
          "output_type": "display_data"
        },
        {
          "name": "stdout",
          "output_type": "stream",
          "text": [
            "[ Train | 016/020 ] loss = 0.11385, acc = 0.96029\n"
          ]
        },
        {
          "data": {
            "application/vnd.jupyter.widget-view+json": {
              "model_id": "9242300571484e1abf22c4f79fae3eb2",
              "version_major": 2,
              "version_minor": 0
            },
            "text/plain": [
              "  0%|          | 0/57 [00:00<?, ?it/s]"
            ]
          },
          "metadata": {},
          "output_type": "display_data"
        },
        {
          "name": "stdout",
          "output_type": "stream",
          "text": [
            "[ Valid | 016/020 ] loss = 1.73079, acc = 0.63593\n",
            "[ Valid | 016/020 ] loss = 1.73079, acc = 0.63593\n"
          ]
        },
        {
          "data": {
            "application/vnd.jupyter.widget-view+json": {
              "model_id": "d8c6c841480f48129ad8829191892692",
              "version_major": 2,
              "version_minor": 0
            },
            "text/plain": [
              "  0%|          | 0/157 [00:00<?, ?it/s]"
            ]
          },
          "metadata": {},
          "output_type": "display_data"
        },
        {
          "name": "stdout",
          "output_type": "stream",
          "text": [
            "[ Train | 017/020 ] loss = 0.09312, acc = 0.96805\n"
          ]
        },
        {
          "data": {
            "application/vnd.jupyter.widget-view+json": {
              "model_id": "f341d99a2a124b999fa8d5b73996de53",
              "version_major": 2,
              "version_minor": 0
            },
            "text/plain": [
              "  0%|          | 0/57 [00:00<?, ?it/s]"
            ]
          },
          "metadata": {},
          "output_type": "display_data"
        },
        {
          "name": "stdout",
          "output_type": "stream",
          "text": [
            "[ Valid | 017/020 ] loss = 1.94104, acc = 0.61620\n",
            "[ Valid | 017/020 ] loss = 1.94104, acc = 0.61620\n"
          ]
        },
        {
          "data": {
            "application/vnd.jupyter.widget-view+json": {
              "model_id": "319a5a52c0d346228336b9fb475debe0",
              "version_major": 2,
              "version_minor": 0
            },
            "text/plain": [
              "  0%|          | 0/157 [00:00<?, ?it/s]"
            ]
          },
          "metadata": {},
          "output_type": "display_data"
        },
        {
          "name": "stdout",
          "output_type": "stream",
          "text": [
            "[ Train | 018/020 ] loss = 0.07828, acc = 0.97373\n"
          ]
        },
        {
          "data": {
            "application/vnd.jupyter.widget-view+json": {
              "model_id": "fdc1746e71a741fcae5736721ac44b68",
              "version_major": 2,
              "version_minor": 0
            },
            "text/plain": [
              "  0%|          | 0/57 [00:00<?, ?it/s]"
            ]
          },
          "metadata": {},
          "output_type": "display_data"
        },
        {
          "name": "stdout",
          "output_type": "stream",
          "text": [
            "[ Valid | 018/020 ] loss = 2.21735, acc = 0.61131\n",
            "[ Valid | 018/020 ] loss = 2.21735, acc = 0.61131\n",
            "No improvment 5 consecutive epochs, early stopping\n"
          ]
        }
      ],
      "source": [
        "# Construct train and valid datasets.\n",
        "# The argument \"loader\" tells how torchvision reads the data.\n",
        "model = Classifier().to(device)\n",
        "# Initialize optimizer, you may fine-tune some hyperparameters such as learning rate on your own.\n",
        "optimizer = torch.optim.Adam(model.parameters(), lr=0.0003, weight_decay=1e-5)\n",
        "train_set = FoodDataset(\"./oscl_datasets/train\", tfm=train_tfm)\n",
        "train_loader = DataLoader(train_set, batch_size=batch_size, shuffle=True, num_workers=0, pin_memory=True)\n",
        "valid_set = FoodDataset(\"./oscl_datasets/valid\", tfm=test_tfm)\n",
        "valid_loader = DataLoader(valid_set, batch_size=batch_size, shuffle=True, num_workers=0, pin_memory=True)\n",
        "train(model, 10, train_loader, valid_loader, device, criterion, optimizer, exp_name='simple')"
      ]
    },
    {
      "cell_type": "markdown",
      "metadata": {
        "id": "rw2y9Uhw7wr2"
      },
      "source": [
        "# Dataloader for test"
      ]
    },
    {
      "cell_type": "code",
      "execution_count": 9,
      "metadata": {
        "id": "B9QNdHIXVaVP"
      },
      "outputs": [],
      "source": [
        "# Construct test datasets.\n",
        "# The argument \"loader\" tells how torchvision reads the data.\n",
        "test_set = FoodDataset(\"./oscl_datasets/test\", tfm=test_tfm)\n",
        "test_loader = DataLoader(test_set, batch_size=batch_size, shuffle=False, num_workers=0, pin_memory=True)"
      ]
    },
    {
      "cell_type": "markdown",
      "metadata": {
        "id": "G31uyjpvVaVP"
      },
      "source": [
        "# Testing and generate prediction CSV"
      ]
    },
    {
      "cell_type": "code",
      "execution_count": null,
      "metadata": {
        "id": "bpLtxx5FVaVP"
      },
      "outputs": [],
      "source": [
        "model_best = Classifier().to(device)\n",
        "model_best.load_state_dict(torch.load(f\"sample_best.ckpt\"))\n",
        "model_best.eval()\n",
        "prediction = []\n",
        "with torch.no_grad():\n",
        "    for data,_ in tqdm(test_loader):\n",
        "        test_pred = model_best(data.to(device))\n",
        "        test_label = np.argmax(test_pred.cpu().data.numpy(), axis=1)\n",
        "        prediction += test_label.squeeze().tolist()"
      ]
    },
    {
      "cell_type": "code",
      "execution_count": null,
      "metadata": {
        "id": "fKupB3VUVaVQ"
      },
      "outputs": [],
      "source": [
        "# create test csv\n",
        "def pad4(i):\n",
        "    return \"0\"*(4-len(str(i)))+str(i)\n",
        "df = pd.DataFrame()\n",
        "df[\"Id\"] = [pad4(i) for i in range(len(test_set))]\n",
        "df[\"Category\"] = prediction\n",
        "df.to_csv(\"submission.csv\",index = False)"
      ]
    },
    {
      "cell_type": "markdown",
      "metadata": {
        "id": "Ivk0hrE-V8Cu"
      },
      "source": [
        "# Q1. Augmentation Implementation\n",
        "## Implement augmentation by finishing train_tfm in the code with image size of your choice.\n",
        "## Directly copy the following block and paste it on GradeScope after you finish the code\n",
        "### Your train_tfm must be capable of producing 5+ different results when given an identical image multiple times.\n",
        "### Your  train_tfm in the report can be different from train_tfm in your training code.\n"
      ]
    },
    {
      "cell_type": "markdown",
      "metadata": {},
      "source": [
        "#### Medium Baseline (Acc=0.700)\n",
        "\n",
        "do some data augmentation & train longer"
      ]
    },
    {
      "cell_type": "code",
      "execution_count": 10,
      "metadata": {},
      "outputs": [],
      "source": [
        "new_train_tfm = transforms.Compose([\n",
        "    # Resize the image into a fixed shape (height = width = 128)\n",
        "    transforms.Resize((128, 128)),\n",
        "    # You may add some transforms here.\n",
        "    transforms.RandomHorizontalFlip(),\n",
        "    transforms.RandomRotation(45),\n",
        "    transforms.RandomResizedCrop((128, 128), scale=(0.5, 1)),\n",
        "    # ToTensor() should be the last one of the transforms.\n",
        "    transforms.ToTensor(),\n",
        "])"
      ]
    },
    {
      "cell_type": "code",
      "execution_count": 18,
      "metadata": {},
      "outputs": [],
      "source": [
        "model = Classifier().to(device)\n",
        "optimizer = torch.optim.Adam(model.parameters(), lr=0.0003, weight_decay=1e-5)\n",
        "train_set = FoodDataset(\"./oscl_datasets/train\", tfm=new_train_tfm)\n",
        "train_loader = DataLoader(train_set, batch_size=batch_size, shuffle=True, num_workers=0, pin_memory=True)\n",
        "valid_set = FoodDataset(\"./oscl_datasets/valid\", tfm=test_tfm)\n",
        "valid_loader = DataLoader(valid_set, batch_size=batch_size, shuffle=True, num_workers=0, pin_memory=True)\n",
        "\n",
        "train(model, 50, train_loader, valid_loader, device, criterion, optimizer, exp_name='medium')"
      ]
    },
    {
      "cell_type": "code",
      "execution_count": 22,
      "metadata": {},
      "outputs": [],
      "source": [
        "def get_dataloader(root='./oscl_datasets'):\n",
        "    train_set = FoodDataset(os.path.join(root, \"train\"), tfm=new_train_tfm)\n",
        "    valid_set = FoodDataset(os.path.join(root, \"valid\"), tfm=test_tfm)\n",
        "    # Repartition the dataset\n",
        "    train_set.files.extend(valid_set.files[:2000])\n",
        "    valid_set.files = valid_set.files[2000:]\n",
        "    train_loader = DataLoader(train_set, batch_size=batch_size, shuffle=True, num_workers=0, pin_memory=True)\n",
        "    valid_loader = DataLoader(valid_set, batch_size=batch_size, shuffle=True, num_workers=0, pin_memory=True)\n",
        "    return train_loader, valid_loader"
      ]
    },
    {
      "cell_type": "markdown",
      "metadata": {},
      "source": [
        "#### Strong Baseline (Acc=0.814)\n",
        "\n",
        "use predefined CNN model from torchvision or timm"
      ]
    },
    {
      "cell_type": "code",
      "execution_count": 21,
      "metadata": {},
      "outputs": [],
      "source": [
        "# use timm\n",
        "import timm\n",
        "from torch.optim.lr_scheduler import StepLR\n",
        "\n",
        "resnet = timm.create_model('resnet101', pretrained=False, num_classes=11).to(device)"
      ]
    },
    {
      "cell_type": "code",
      "execution_count": 23,
      "metadata": {},
      "outputs": [
        {
          "name": "stderr",
          "output_type": "stream",
          "text": [
            "  0%|          | 0/188 [00:00<?, ?it/s]"
          ]
        },
        {
          "name": "stderr",
          "output_type": "stream",
          "text": [
            "100%|██████████| 188/188 [02:35<00:00,  1.21it/s]\n"
          ]
        },
        {
          "name": "stdout",
          "output_type": "stream",
          "text": [
            "[ Train | 001/100 ] loss = 1.94232, acc = 0.32887\n"
          ]
        },
        {
          "name": "stderr",
          "output_type": "stream",
          "text": [
            "100%|██████████| 26/26 [00:15<00:00,  1.72it/s]\n"
          ]
        },
        {
          "name": "stdout",
          "output_type": "stream",
          "text": [
            "[ Valid | 001/100 ] loss = 2.30616, acc = 0.16911\n",
            "[ Valid | 001/100 ] loss = 2.30616, acc = 0.16911 -> best\n",
            "Best model found at epoch 0, saving model\n"
          ]
        },
        {
          "name": "stderr",
          "output_type": "stream",
          "text": [
            "100%|██████████| 188/188 [01:03<00:00,  2.96it/s]\n"
          ]
        },
        {
          "name": "stdout",
          "output_type": "stream",
          "text": [
            "[ Train | 002/100 ] loss = 1.76246, acc = 0.39195\n"
          ]
        },
        {
          "name": "stderr",
          "output_type": "stream",
          "text": [
            "100%|██████████| 26/26 [00:05<00:00,  4.37it/s]\n"
          ]
        },
        {
          "name": "stdout",
          "output_type": "stream",
          "text": [
            "[ Valid | 002/100 ] loss = 1.92374, acc = 0.34518\n",
            "[ Valid | 002/100 ] loss = 1.92374, acc = 0.34518 -> best\n",
            "Best model found at epoch 1, saving model\n"
          ]
        },
        {
          "name": "stderr",
          "output_type": "stream",
          "text": [
            "100%|██████████| 188/188 [01:03<00:00,  2.96it/s]\n"
          ]
        },
        {
          "name": "stdout",
          "output_type": "stream",
          "text": [
            "[ Train | 003/100 ] loss = 1.62335, acc = 0.44041\n"
          ]
        },
        {
          "name": "stderr",
          "output_type": "stream",
          "text": [
            "100%|██████████| 26/26 [00:06<00:00,  4.26it/s]\n"
          ]
        },
        {
          "name": "stdout",
          "output_type": "stream",
          "text": [
            "[ Valid | 003/100 ] loss = 2.36072, acc = 0.21358\n",
            "[ Valid | 003/100 ] loss = 2.36072, acc = 0.21358\n"
          ]
        },
        {
          "name": "stderr",
          "output_type": "stream",
          "text": [
            "100%|██████████| 188/188 [01:03<00:00,  2.97it/s]\n"
          ]
        },
        {
          "name": "stdout",
          "output_type": "stream",
          "text": [
            "[ Train | 004/100 ] loss = 1.53048, acc = 0.47897\n"
          ]
        },
        {
          "name": "stderr",
          "output_type": "stream",
          "text": [
            "100%|██████████| 26/26 [00:06<00:00,  4.22it/s]\n"
          ]
        },
        {
          "name": "stdout",
          "output_type": "stream",
          "text": [
            "[ Valid | 004/100 ] loss = 1.93093, acc = 0.35268\n",
            "[ Valid | 004/100 ] loss = 1.93093, acc = 0.35268 -> best\n",
            "Best model found at epoch 3, saving model\n"
          ]
        },
        {
          "name": "stderr",
          "output_type": "stream",
          "text": [
            "100%|██████████| 188/188 [01:03<00:00,  2.95it/s]\n"
          ]
        },
        {
          "name": "stdout",
          "output_type": "stream",
          "text": [
            "[ Train | 005/100 ] loss = 1.44736, acc = 0.50474\n"
          ]
        },
        {
          "name": "stderr",
          "output_type": "stream",
          "text": [
            "100%|██████████| 26/26 [00:06<00:00,  4.22it/s]\n"
          ]
        },
        {
          "name": "stdout",
          "output_type": "stream",
          "text": [
            "[ Valid | 005/100 ] loss = 1.91021, acc = 0.36674\n",
            "[ Valid | 005/100 ] loss = 1.91021, acc = 0.36674 -> best\n",
            "Best model found at epoch 4, saving model\n"
          ]
        },
        {
          "name": "stderr",
          "output_type": "stream",
          "text": [
            "100%|██████████| 188/188 [01:03<00:00,  2.98it/s]\n"
          ]
        },
        {
          "name": "stdout",
          "output_type": "stream",
          "text": [
            "[ Train | 006/100 ] loss = 1.36501, acc = 0.53707\n"
          ]
        },
        {
          "name": "stderr",
          "output_type": "stream",
          "text": [
            "100%|██████████| 26/26 [00:06<00:00,  4.18it/s]\n"
          ]
        },
        {
          "name": "stdout",
          "output_type": "stream",
          "text": [
            "[ Valid | 006/100 ] loss = 1.77677, acc = 0.37907\n",
            "[ Valid | 006/100 ] loss = 1.77677, acc = 0.37907 -> best\n",
            "Best model found at epoch 5, saving model\n"
          ]
        },
        {
          "name": "stderr",
          "output_type": "stream",
          "text": [
            "100%|██████████| 188/188 [01:03<00:00,  2.98it/s]\n"
          ]
        },
        {
          "name": "stdout",
          "output_type": "stream",
          "text": [
            "[ Train | 007/100 ] loss = 1.30596, acc = 0.55452\n"
          ]
        },
        {
          "name": "stderr",
          "output_type": "stream",
          "text": [
            "100%|██████████| 26/26 [00:06<00:00,  4.24it/s]\n"
          ]
        },
        {
          "name": "stdout",
          "output_type": "stream",
          "text": [
            "[ Valid | 007/100 ] loss = 2.05791, acc = 0.32172\n",
            "[ Valid | 007/100 ] loss = 2.05791, acc = 0.32172\n"
          ]
        },
        {
          "name": "stderr",
          "output_type": "stream",
          "text": [
            "100%|██████████| 188/188 [01:03<00:00,  2.96it/s]\n"
          ]
        },
        {
          "name": "stdout",
          "output_type": "stream",
          "text": [
            "[ Train | 008/100 ] loss = 1.25111, acc = 0.57131\n"
          ]
        },
        {
          "name": "stderr",
          "output_type": "stream",
          "text": [
            "100%|██████████| 26/26 [00:06<00:00,  4.25it/s]\n"
          ]
        },
        {
          "name": "stdout",
          "output_type": "stream",
          "text": [
            "[ Valid | 008/100 ] loss = 1.91906, acc = 0.38299\n",
            "[ Valid | 008/100 ] loss = 1.91906, acc = 0.38299 -> best\n",
            "Best model found at epoch 7, saving model\n"
          ]
        },
        {
          "name": "stderr",
          "output_type": "stream",
          "text": [
            "100%|██████████| 188/188 [01:03<00:00,  2.95it/s]\n"
          ]
        },
        {
          "name": "stdout",
          "output_type": "stream",
          "text": [
            "[ Train | 009/100 ] loss = 1.18495, acc = 0.59441\n"
          ]
        },
        {
          "name": "stderr",
          "output_type": "stream",
          "text": [
            "100%|██████████| 26/26 [00:06<00:00,  4.22it/s]\n"
          ]
        },
        {
          "name": "stdout",
          "output_type": "stream",
          "text": [
            "[ Valid | 009/100 ] loss = 1.48033, acc = 0.49263\n",
            "[ Valid | 009/100 ] loss = 1.48033, acc = 0.49263 -> best\n",
            "Best model found at epoch 8, saving model\n"
          ]
        },
        {
          "name": "stderr",
          "output_type": "stream",
          "text": [
            "100%|██████████| 188/188 [01:03<00:00,  2.94it/s]\n"
          ]
        },
        {
          "name": "stdout",
          "output_type": "stream",
          "text": [
            "[ Train | 010/100 ] loss = 1.14305, acc = 0.61478\n"
          ]
        },
        {
          "name": "stderr",
          "output_type": "stream",
          "text": [
            "100%|██████████| 26/26 [00:06<00:00,  4.25it/s]\n"
          ]
        },
        {
          "name": "stdout",
          "output_type": "stream",
          "text": [
            "[ Valid | 010/100 ] loss = 1.78452, acc = 0.39828\n",
            "[ Valid | 010/100 ] loss = 1.78452, acc = 0.39828\n"
          ]
        },
        {
          "name": "stderr",
          "output_type": "stream",
          "text": [
            "100%|██████████| 188/188 [01:03<00:00,  2.94it/s]\n"
          ]
        },
        {
          "name": "stdout",
          "output_type": "stream",
          "text": [
            "[ Train | 011/100 ] loss = 1.01343, acc = 0.65417\n"
          ]
        },
        {
          "name": "stderr",
          "output_type": "stream",
          "text": [
            "100%|██████████| 26/26 [00:06<00:00,  4.30it/s]\n"
          ]
        },
        {
          "name": "stdout",
          "output_type": "stream",
          "text": [
            "[ Valid | 011/100 ] loss = 1.88399, acc = 0.40520\n",
            "[ Valid | 011/100 ] loss = 1.88399, acc = 0.40520\n"
          ]
        },
        {
          "name": "stderr",
          "output_type": "stream",
          "text": [
            "100%|██████████| 188/188 [01:03<00:00,  2.97it/s]\n"
          ]
        },
        {
          "name": "stdout",
          "output_type": "stream",
          "text": [
            "[ Train | 012/100 ] loss = 0.96405, acc = 0.66755\n"
          ]
        },
        {
          "name": "stderr",
          "output_type": "stream",
          "text": [
            "100%|██████████| 26/26 [00:06<00:00,  4.12it/s]\n"
          ]
        },
        {
          "name": "stdout",
          "output_type": "stream",
          "text": [
            "[ Valid | 012/100 ] loss = 1.33856, acc = 0.54435\n",
            "[ Valid | 012/100 ] loss = 1.33856, acc = 0.54435 -> best\n",
            "Best model found at epoch 11, saving model\n"
          ]
        },
        {
          "name": "stderr",
          "output_type": "stream",
          "text": [
            "100%|██████████| 188/188 [01:04<00:00,  2.94it/s]\n"
          ]
        },
        {
          "name": "stdout",
          "output_type": "stream",
          "text": [
            "[ Train | 013/100 ] loss = 0.93560, acc = 0.67927\n"
          ]
        },
        {
          "name": "stderr",
          "output_type": "stream",
          "text": [
            "100%|██████████| 26/26 [00:06<00:00,  4.07it/s]\n"
          ]
        },
        {
          "name": "stdout",
          "output_type": "stream",
          "text": [
            "[ Valid | 013/100 ] loss = 1.38492, acc = 0.55722\n",
            "[ Valid | 013/100 ] loss = 1.38492, acc = 0.55722 -> best\n",
            "Best model found at epoch 12, saving model\n"
          ]
        },
        {
          "name": "stderr",
          "output_type": "stream",
          "text": [
            "100%|██████████| 188/188 [02:20<00:00,  1.34it/s]\n"
          ]
        },
        {
          "name": "stdout",
          "output_type": "stream",
          "text": [
            "[ Train | 014/100 ] loss = 0.90213, acc = 0.69049\n"
          ]
        },
        {
          "name": "stderr",
          "output_type": "stream",
          "text": [
            "100%|██████████| 26/26 [00:12<00:00,  2.01it/s]\n"
          ]
        },
        {
          "name": "stdout",
          "output_type": "stream",
          "text": [
            "[ Valid | 014/100 ] loss = 1.25247, acc = 0.57947\n",
            "[ Valid | 014/100 ] loss = 1.25247, acc = 0.57947 -> best\n",
            "Best model found at epoch 13, saving model\n"
          ]
        },
        {
          "name": "stderr",
          "output_type": "stream",
          "text": [
            "100%|██████████| 188/188 [01:34<00:00,  1.99it/s]\n"
          ]
        },
        {
          "name": "stdout",
          "output_type": "stream",
          "text": [
            "[ Train | 015/100 ] loss = 0.88649, acc = 0.69631\n"
          ]
        },
        {
          "name": "stderr",
          "output_type": "stream",
          "text": [
            "100%|██████████| 26/26 [00:06<00:00,  4.21it/s]\n"
          ]
        },
        {
          "name": "stdout",
          "output_type": "stream",
          "text": [
            "[ Valid | 015/100 ] loss = 1.31673, acc = 0.55903\n",
            "[ Valid | 015/100 ] loss = 1.31673, acc = 0.55903\n"
          ]
        },
        {
          "name": "stderr",
          "output_type": "stream",
          "text": [
            "100%|██████████| 188/188 [01:03<00:00,  2.96it/s]\n"
          ]
        },
        {
          "name": "stdout",
          "output_type": "stream",
          "text": [
            "[ Train | 016/100 ] loss = 0.85563, acc = 0.70745\n"
          ]
        },
        {
          "name": "stderr",
          "output_type": "stream",
          "text": [
            "100%|██████████| 26/26 [00:06<00:00,  4.28it/s]\n"
          ]
        },
        {
          "name": "stdout",
          "output_type": "stream",
          "text": [
            "[ Valid | 016/100 ] loss = 1.21074, acc = 0.59452\n",
            "[ Valid | 016/100 ] loss = 1.21074, acc = 0.59452 -> best\n",
            "Best model found at epoch 15, saving model\n"
          ]
        },
        {
          "name": "stderr",
          "output_type": "stream",
          "text": [
            "100%|██████████| 188/188 [01:03<00:00,  2.95it/s]\n"
          ]
        },
        {
          "name": "stdout",
          "output_type": "stream",
          "text": [
            "[ Train | 017/100 ] loss = 0.84275, acc = 0.71293\n"
          ]
        },
        {
          "name": "stderr",
          "output_type": "stream",
          "text": [
            "100%|██████████| 26/26 [00:05<00:00,  4.38it/s]\n"
          ]
        },
        {
          "name": "stdout",
          "output_type": "stream",
          "text": [
            "[ Valid | 017/100 ] loss = 1.33325, acc = 0.59927\n",
            "[ Valid | 017/100 ] loss = 1.33325, acc = 0.59927 -> best\n",
            "Best model found at epoch 16, saving model\n"
          ]
        },
        {
          "name": "stderr",
          "output_type": "stream",
          "text": [
            "100%|██████████| 188/188 [01:03<00:00,  2.96it/s]\n"
          ]
        },
        {
          "name": "stdout",
          "output_type": "stream",
          "text": [
            "[ Train | 018/100 ] loss = 0.81858, acc = 0.72199\n"
          ]
        },
        {
          "name": "stderr",
          "output_type": "stream",
          "text": [
            "100%|██████████| 26/26 [00:06<00:00,  4.20it/s]\n"
          ]
        },
        {
          "name": "stdout",
          "output_type": "stream",
          "text": [
            "[ Valid | 018/100 ] loss = 1.11946, acc = 0.61312\n",
            "[ Valid | 018/100 ] loss = 1.11946, acc = 0.61312 -> best\n",
            "Best model found at epoch 17, saving model\n"
          ]
        },
        {
          "name": "stderr",
          "output_type": "stream",
          "text": [
            "100%|██████████| 188/188 [01:03<00:00,  2.96it/s]\n"
          ]
        },
        {
          "name": "stdout",
          "output_type": "stream",
          "text": [
            "[ Train | 019/100 ] loss = 0.79859, acc = 0.73246\n"
          ]
        },
        {
          "name": "stderr",
          "output_type": "stream",
          "text": [
            "100%|██████████| 26/26 [00:06<00:00,  4.12it/s]\n"
          ]
        },
        {
          "name": "stdout",
          "output_type": "stream",
          "text": [
            "[ Valid | 019/100 ] loss = 1.42073, acc = 0.54762\n",
            "[ Valid | 019/100 ] loss = 1.42073, acc = 0.54762\n"
          ]
        },
        {
          "name": "stderr",
          "output_type": "stream",
          "text": [
            "100%|██████████| 188/188 [01:03<00:00,  2.96it/s]\n"
          ]
        },
        {
          "name": "stdout",
          "output_type": "stream",
          "text": [
            "[ Train | 020/100 ] loss = 0.77871, acc = 0.73496\n"
          ]
        },
        {
          "name": "stderr",
          "output_type": "stream",
          "text": [
            "100%|██████████| 26/26 [00:06<00:00,  4.31it/s]\n"
          ]
        },
        {
          "name": "stdout",
          "output_type": "stream",
          "text": [
            "[ Valid | 020/100 ] loss = 1.17876, acc = 0.60773\n",
            "[ Valid | 020/100 ] loss = 1.17876, acc = 0.60773\n"
          ]
        },
        {
          "name": "stderr",
          "output_type": "stream",
          "text": [
            "100%|██████████| 188/188 [01:03<00:00,  2.98it/s]\n"
          ]
        },
        {
          "name": "stdout",
          "output_type": "stream",
          "text": [
            "[ Train | 021/100 ] loss = 0.68627, acc = 0.76247\n"
          ]
        },
        {
          "name": "stderr",
          "output_type": "stream",
          "text": [
            "100%|██████████| 26/26 [00:06<00:00,  4.16it/s]\n"
          ]
        },
        {
          "name": "stdout",
          "output_type": "stream",
          "text": [
            "[ Valid | 021/100 ] loss = 0.98306, acc = 0.65758\n",
            "[ Valid | 021/100 ] loss = 0.98306, acc = 0.65758 -> best\n",
            "Best model found at epoch 20, saving model\n"
          ]
        },
        {
          "name": "stderr",
          "output_type": "stream",
          "text": [
            "100%|██████████| 188/188 [01:03<00:00,  2.95it/s]\n"
          ]
        },
        {
          "name": "stdout",
          "output_type": "stream",
          "text": [
            "[ Train | 022/100 ] loss = 0.65970, acc = 0.77385\n"
          ]
        },
        {
          "name": "stderr",
          "output_type": "stream",
          "text": [
            "100%|██████████| 26/26 [00:06<00:00,  4.33it/s]\n"
          ]
        },
        {
          "name": "stdout",
          "output_type": "stream",
          "text": [
            "[ Valid | 022/100 ] loss = 1.34561, acc = 0.57437\n",
            "[ Valid | 022/100 ] loss = 1.34561, acc = 0.57437\n"
          ]
        },
        {
          "name": "stderr",
          "output_type": "stream",
          "text": [
            "100%|██████████| 188/188 [01:03<00:00,  2.96it/s]\n"
          ]
        },
        {
          "name": "stdout",
          "output_type": "stream",
          "text": [
            "[ Train | 023/100 ] loss = 0.63493, acc = 0.78300\n"
          ]
        },
        {
          "name": "stderr",
          "output_type": "stream",
          "text": [
            "100%|██████████| 26/26 [00:06<00:00,  4.19it/s]\n"
          ]
        },
        {
          "name": "stdout",
          "output_type": "stream",
          "text": [
            "[ Valid | 023/100 ] loss = 1.23544, acc = 0.60953\n",
            "[ Valid | 023/100 ] loss = 1.23544, acc = 0.60953\n"
          ]
        },
        {
          "name": "stderr",
          "output_type": "stream",
          "text": [
            "100%|██████████| 188/188 [01:03<00:00,  2.95it/s]\n"
          ]
        },
        {
          "name": "stdout",
          "output_type": "stream",
          "text": [
            "[ Train | 024/100 ] loss = 0.61891, acc = 0.78474\n"
          ]
        },
        {
          "name": "stderr",
          "output_type": "stream",
          "text": [
            "100%|██████████| 26/26 [00:06<00:00,  4.16it/s]\n"
          ]
        },
        {
          "name": "stdout",
          "output_type": "stream",
          "text": [
            "[ Valid | 024/100 ] loss = 1.09693, acc = 0.62332\n",
            "[ Valid | 024/100 ] loss = 1.09693, acc = 0.62332\n"
          ]
        },
        {
          "name": "stderr",
          "output_type": "stream",
          "text": [
            "100%|██████████| 188/188 [01:03<00:00,  2.97it/s]\n"
          ]
        },
        {
          "name": "stdout",
          "output_type": "stream",
          "text": [
            "[ Train | 025/100 ] loss = 0.59375, acc = 0.79654\n"
          ]
        },
        {
          "name": "stderr",
          "output_type": "stream",
          "text": [
            "100%|██████████| 26/26 [00:05<00:00,  4.35it/s]\n"
          ]
        },
        {
          "name": "stdout",
          "output_type": "stream",
          "text": [
            "[ Valid | 025/100 ] loss = 1.19016, acc = 0.61041\n",
            "[ Valid | 025/100 ] loss = 1.19016, acc = 0.61041\n"
          ]
        },
        {
          "name": "stderr",
          "output_type": "stream",
          "text": [
            "100%|██████████| 188/188 [01:03<00:00,  2.96it/s]\n"
          ]
        },
        {
          "name": "stdout",
          "output_type": "stream",
          "text": [
            "[ Train | 026/100 ] loss = 0.58884, acc = 0.79787\n"
          ]
        },
        {
          "name": "stderr",
          "output_type": "stream",
          "text": [
            "100%|██████████| 26/26 [00:06<00:00,  4.33it/s]\n"
          ]
        },
        {
          "name": "stdout",
          "output_type": "stream",
          "text": [
            "[ Valid | 026/100 ] loss = 1.35955, acc = 0.59566\n",
            "[ Valid | 026/100 ] loss = 1.35955, acc = 0.59566\n"
          ]
        },
        {
          "name": "stderr",
          "output_type": "stream",
          "text": [
            "100%|██████████| 188/188 [01:03<00:00,  2.98it/s]\n"
          ]
        },
        {
          "name": "stdout",
          "output_type": "stream",
          "text": [
            "[ Train | 027/100 ] loss = 0.56035, acc = 0.80485\n"
          ]
        },
        {
          "name": "stderr",
          "output_type": "stream",
          "text": [
            "100%|██████████| 26/26 [00:06<00:00,  4.31it/s]\n"
          ]
        },
        {
          "name": "stdout",
          "output_type": "stream",
          "text": [
            "[ Valid | 027/100 ] loss = 1.07535, acc = 0.66205\n",
            "[ Valid | 027/100 ] loss = 1.07535, acc = 0.66205 -> best\n",
            "Best model found at epoch 26, saving model\n"
          ]
        },
        {
          "name": "stderr",
          "output_type": "stream",
          "text": [
            "100%|██████████| 188/188 [01:03<00:00,  2.96it/s]\n"
          ]
        },
        {
          "name": "stdout",
          "output_type": "stream",
          "text": [
            "[ Train | 028/100 ] loss = 0.55720, acc = 0.80760\n"
          ]
        },
        {
          "name": "stderr",
          "output_type": "stream",
          "text": [
            "100%|██████████| 26/26 [00:06<00:00,  4.22it/s]\n"
          ]
        },
        {
          "name": "stdout",
          "output_type": "stream",
          "text": [
            "[ Valid | 028/100 ] loss = 1.02885, acc = 0.66478\n",
            "[ Valid | 028/100 ] loss = 1.02885, acc = 0.66478 -> best\n",
            "Best model found at epoch 27, saving model\n"
          ]
        },
        {
          "name": "stderr",
          "output_type": "stream",
          "text": [
            "100%|██████████| 188/188 [01:03<00:00,  2.96it/s]\n"
          ]
        },
        {
          "name": "stdout",
          "output_type": "stream",
          "text": [
            "[ Train | 029/100 ] loss = 0.53032, acc = 0.81707\n"
          ]
        },
        {
          "name": "stderr",
          "output_type": "stream",
          "text": [
            "100%|██████████| 26/26 [00:06<00:00,  4.19it/s]\n"
          ]
        },
        {
          "name": "stdout",
          "output_type": "stream",
          "text": [
            "[ Valid | 029/100 ] loss = 1.22451, acc = 0.61192\n",
            "[ Valid | 029/100 ] loss = 1.22451, acc = 0.61192\n"
          ]
        },
        {
          "name": "stderr",
          "output_type": "stream",
          "text": [
            "100%|██████████| 188/188 [01:03<00:00,  2.98it/s]\n"
          ]
        },
        {
          "name": "stdout",
          "output_type": "stream",
          "text": [
            "[ Train | 030/100 ] loss = 0.51840, acc = 0.82256\n"
          ]
        },
        {
          "name": "stderr",
          "output_type": "stream",
          "text": [
            "100%|██████████| 26/26 [00:06<00:00,  4.06it/s]\n"
          ]
        },
        {
          "name": "stdout",
          "output_type": "stream",
          "text": [
            "[ Valid | 030/100 ] loss = 1.06070, acc = 0.67165\n",
            "[ Valid | 030/100 ] loss = 1.06070, acc = 0.67165 -> best\n",
            "Best model found at epoch 29, saving model\n"
          ]
        },
        {
          "name": "stderr",
          "output_type": "stream",
          "text": [
            "100%|██████████| 188/188 [01:03<00:00,  2.96it/s]\n"
          ]
        },
        {
          "name": "stdout",
          "output_type": "stream",
          "text": [
            "[ Train | 031/100 ] loss = 0.46228, acc = 0.84250\n"
          ]
        },
        {
          "name": "stderr",
          "output_type": "stream",
          "text": [
            "100%|██████████| 26/26 [00:05<00:00,  4.35it/s]\n"
          ]
        },
        {
          "name": "stdout",
          "output_type": "stream",
          "text": [
            "[ Valid | 031/100 ] loss = 1.05329, acc = 0.67737\n",
            "[ Valid | 031/100 ] loss = 1.05329, acc = 0.67737 -> best\n",
            "Best model found at epoch 30, saving model\n"
          ]
        },
        {
          "name": "stderr",
          "output_type": "stream",
          "text": [
            "100%|██████████| 188/188 [01:03<00:00,  2.96it/s]\n"
          ]
        },
        {
          "name": "stdout",
          "output_type": "stream",
          "text": [
            "[ Train | 032/100 ] loss = 0.44338, acc = 0.84824\n"
          ]
        },
        {
          "name": "stderr",
          "output_type": "stream",
          "text": [
            "100%|██████████| 26/26 [00:06<00:00,  4.21it/s]\n"
          ]
        },
        {
          "name": "stdout",
          "output_type": "stream",
          "text": [
            "[ Valid | 032/100 ] loss = 1.02172, acc = 0.67974\n",
            "[ Valid | 032/100 ] loss = 1.02172, acc = 0.67974 -> best\n",
            "Best model found at epoch 31, saving model\n"
          ]
        },
        {
          "name": "stderr",
          "output_type": "stream",
          "text": [
            "100%|██████████| 188/188 [01:03<00:00,  2.97it/s]\n"
          ]
        },
        {
          "name": "stdout",
          "output_type": "stream",
          "text": [
            "[ Train | 033/100 ] loss = 0.42548, acc = 0.85414\n"
          ]
        },
        {
          "name": "stderr",
          "output_type": "stream",
          "text": [
            "100%|██████████| 26/26 [00:06<00:00,  4.27it/s]\n"
          ]
        },
        {
          "name": "stdout",
          "output_type": "stream",
          "text": [
            "[ Valid | 033/100 ] loss = 1.02279, acc = 0.69060\n",
            "[ Valid | 033/100 ] loss = 1.02279, acc = 0.69060 -> best\n",
            "Best model found at epoch 32, saving model\n"
          ]
        },
        {
          "name": "stderr",
          "output_type": "stream",
          "text": [
            "100%|██████████| 188/188 [01:03<00:00,  2.96it/s]\n"
          ]
        },
        {
          "name": "stdout",
          "output_type": "stream",
          "text": [
            "[ Train | 034/100 ] loss = 0.40758, acc = 0.86004\n"
          ]
        },
        {
          "name": "stderr",
          "output_type": "stream",
          "text": [
            "100%|██████████| 26/26 [00:06<00:00,  4.17it/s]\n"
          ]
        },
        {
          "name": "stdout",
          "output_type": "stream",
          "text": [
            "[ Valid | 034/100 ] loss = 1.06923, acc = 0.66416\n",
            "[ Valid | 034/100 ] loss = 1.06923, acc = 0.66416\n"
          ]
        },
        {
          "name": "stderr",
          "output_type": "stream",
          "text": [
            "100%|██████████| 188/188 [01:03<00:00,  2.95it/s]\n"
          ]
        },
        {
          "name": "stdout",
          "output_type": "stream",
          "text": [
            "[ Train | 035/100 ] loss = 0.39877, acc = 0.86228\n"
          ]
        },
        {
          "name": "stderr",
          "output_type": "stream",
          "text": [
            "100%|██████████| 26/26 [00:06<00:00,  4.28it/s]\n"
          ]
        },
        {
          "name": "stdout",
          "output_type": "stream",
          "text": [
            "[ Valid | 035/100 ] loss = 1.11036, acc = 0.67165\n",
            "[ Valid | 035/100 ] loss = 1.11036, acc = 0.67165\n"
          ]
        },
        {
          "name": "stderr",
          "output_type": "stream",
          "text": [
            "100%|██████████| 188/188 [01:03<00:00,  2.95it/s]\n"
          ]
        },
        {
          "name": "stdout",
          "output_type": "stream",
          "text": [
            "[ Train | 036/100 ] loss = 0.39189, acc = 0.86469\n"
          ]
        },
        {
          "name": "stderr",
          "output_type": "stream",
          "text": [
            "100%|██████████| 26/26 [00:06<00:00,  4.12it/s]\n"
          ]
        },
        {
          "name": "stdout",
          "output_type": "stream",
          "text": [
            "[ Valid | 036/100 ] loss = 1.05194, acc = 0.67554\n",
            "[ Valid | 036/100 ] loss = 1.05194, acc = 0.67554\n"
          ]
        },
        {
          "name": "stderr",
          "output_type": "stream",
          "text": [
            "100%|██████████| 188/188 [01:03<00:00,  2.95it/s]\n"
          ]
        },
        {
          "name": "stdout",
          "output_type": "stream",
          "text": [
            "[ Train | 037/100 ] loss = 0.38756, acc = 0.86885\n"
          ]
        },
        {
          "name": "stderr",
          "output_type": "stream",
          "text": [
            "100%|██████████| 26/26 [00:06<00:00,  4.18it/s]\n"
          ]
        },
        {
          "name": "stdout",
          "output_type": "stream",
          "text": [
            "[ Valid | 037/100 ] loss = 1.09809, acc = 0.67797\n",
            "[ Valid | 037/100 ] loss = 1.09809, acc = 0.67797\n"
          ]
        },
        {
          "name": "stderr",
          "output_type": "stream",
          "text": [
            "100%|██████████| 188/188 [01:03<00:00,  2.94it/s]\n"
          ]
        },
        {
          "name": "stdout",
          "output_type": "stream",
          "text": [
            "[ Train | 038/100 ] loss = 0.37067, acc = 0.87292\n"
          ]
        },
        {
          "name": "stderr",
          "output_type": "stream",
          "text": [
            "100%|██████████| 26/26 [00:06<00:00,  4.32it/s]\n"
          ]
        },
        {
          "name": "stdout",
          "output_type": "stream",
          "text": [
            "[ Valid | 038/100 ] loss = 1.21076, acc = 0.64795\n",
            "[ Valid | 038/100 ] loss = 1.21076, acc = 0.64795\n"
          ]
        },
        {
          "name": "stderr",
          "output_type": "stream",
          "text": [
            "100%|██████████| 188/188 [01:03<00:00,  2.98it/s]\n"
          ]
        },
        {
          "name": "stdout",
          "output_type": "stream",
          "text": [
            "[ Train | 039/100 ] loss = 0.35784, acc = 0.87566\n"
          ]
        },
        {
          "name": "stderr",
          "output_type": "stream",
          "text": [
            "100%|██████████| 26/26 [00:06<00:00,  4.21it/s]\n"
          ]
        },
        {
          "name": "stdout",
          "output_type": "stream",
          "text": [
            "[ Valid | 039/100 ] loss = 1.02370, acc = 0.69270\n",
            "[ Valid | 039/100 ] loss = 1.02370, acc = 0.69270 -> best\n",
            "Best model found at epoch 38, saving model\n"
          ]
        },
        {
          "name": "stderr",
          "output_type": "stream",
          "text": [
            "100%|██████████| 188/188 [01:03<00:00,  2.94it/s]\n"
          ]
        },
        {
          "name": "stdout",
          "output_type": "stream",
          "text": [
            "[ Train | 040/100 ] loss = 0.35154, acc = 0.88215\n"
          ]
        },
        {
          "name": "stderr",
          "output_type": "stream",
          "text": [
            "100%|██████████| 26/26 [00:06<00:00,  4.21it/s]\n"
          ]
        },
        {
          "name": "stdout",
          "output_type": "stream",
          "text": [
            "[ Valid | 040/100 ] loss = 1.30275, acc = 0.63773\n",
            "[ Valid | 040/100 ] loss = 1.30275, acc = 0.63773\n"
          ]
        },
        {
          "name": "stderr",
          "output_type": "stream",
          "text": [
            "100%|██████████| 188/188 [01:03<00:00,  2.94it/s]\n"
          ]
        },
        {
          "name": "stdout",
          "output_type": "stream",
          "text": [
            "[ Train | 041/100 ] loss = 0.30140, acc = 0.89702\n"
          ]
        },
        {
          "name": "stderr",
          "output_type": "stream",
          "text": [
            "100%|██████████| 26/26 [00:06<00:00,  4.13it/s]\n"
          ]
        },
        {
          "name": "stdout",
          "output_type": "stream",
          "text": [
            "[ Valid | 041/100 ] loss = 1.09612, acc = 0.68760\n",
            "[ Valid | 041/100 ] loss = 1.09612, acc = 0.68760\n"
          ]
        },
        {
          "name": "stderr",
          "output_type": "stream",
          "text": [
            "100%|██████████| 188/188 [01:03<00:00,  2.94it/s]\n"
          ]
        },
        {
          "name": "stdout",
          "output_type": "stream",
          "text": [
            "[ Train | 042/100 ] loss = 0.30233, acc = 0.89370\n"
          ]
        },
        {
          "name": "stderr",
          "output_type": "stream",
          "text": [
            "100%|██████████| 26/26 [00:06<00:00,  4.25it/s]\n"
          ]
        },
        {
          "name": "stdout",
          "output_type": "stream",
          "text": [
            "[ Valid | 042/100 ] loss = 1.10509, acc = 0.69333\n",
            "[ Valid | 042/100 ] loss = 1.10509, acc = 0.69333 -> best\n",
            "Best model found at epoch 41, saving model\n"
          ]
        },
        {
          "name": "stderr",
          "output_type": "stream",
          "text": [
            "100%|██████████| 188/188 [01:03<00:00,  2.96it/s]\n"
          ]
        },
        {
          "name": "stdout",
          "output_type": "stream",
          "text": [
            "[ Train | 043/100 ] loss = 0.28551, acc = 0.90401\n"
          ]
        },
        {
          "name": "stderr",
          "output_type": "stream",
          "text": [
            "100%|██████████| 26/26 [00:06<00:00,  4.17it/s]\n"
          ]
        },
        {
          "name": "stdout",
          "output_type": "stream",
          "text": [
            "[ Valid | 043/100 ] loss = 1.01009, acc = 0.70681\n",
            "[ Valid | 043/100 ] loss = 1.01009, acc = 0.70681 -> best\n",
            "Best model found at epoch 42, saving model\n"
          ]
        },
        {
          "name": "stderr",
          "output_type": "stream",
          "text": [
            "100%|██████████| 188/188 [01:03<00:00,  2.95it/s]\n"
          ]
        },
        {
          "name": "stdout",
          "output_type": "stream",
          "text": [
            "[ Train | 044/100 ] loss = 0.28751, acc = 0.90384\n"
          ]
        },
        {
          "name": "stderr",
          "output_type": "stream",
          "text": [
            "100%|██████████| 26/26 [00:06<00:00,  4.16it/s]\n"
          ]
        },
        {
          "name": "stdout",
          "output_type": "stream",
          "text": [
            "[ Valid | 044/100 ] loss = 1.04793, acc = 0.70171\n",
            "[ Valid | 044/100 ] loss = 1.04793, acc = 0.70171\n"
          ]
        },
        {
          "name": "stderr",
          "output_type": "stream",
          "text": [
            "100%|██████████| 188/188 [01:03<00:00,  2.95it/s]\n"
          ]
        },
        {
          "name": "stdout",
          "output_type": "stream",
          "text": [
            "[ Train | 045/100 ] loss = 0.27219, acc = 0.90766\n"
          ]
        },
        {
          "name": "stderr",
          "output_type": "stream",
          "text": [
            "100%|██████████| 26/26 [00:06<00:00,  4.13it/s]\n"
          ]
        },
        {
          "name": "stdout",
          "output_type": "stream",
          "text": [
            "[ Valid | 045/100 ] loss = 1.14119, acc = 0.68581\n",
            "[ Valid | 045/100 ] loss = 1.14119, acc = 0.68581\n"
          ]
        },
        {
          "name": "stderr",
          "output_type": "stream",
          "text": [
            "100%|██████████| 188/188 [01:03<00:00,  2.94it/s]\n"
          ]
        },
        {
          "name": "stdout",
          "output_type": "stream",
          "text": [
            "[ Train | 046/100 ] loss = 0.26330, acc = 0.91157\n"
          ]
        },
        {
          "name": "stderr",
          "output_type": "stream",
          "text": [
            "100%|██████████| 26/26 [00:06<00:00,  4.05it/s]\n"
          ]
        },
        {
          "name": "stdout",
          "output_type": "stream",
          "text": [
            "[ Valid | 046/100 ] loss = 1.12828, acc = 0.67440\n",
            "[ Valid | 046/100 ] loss = 1.12828, acc = 0.67440\n"
          ]
        },
        {
          "name": "stderr",
          "output_type": "stream",
          "text": [
            "100%|██████████| 188/188 [01:03<00:00,  2.94it/s]\n"
          ]
        },
        {
          "name": "stdout",
          "output_type": "stream",
          "text": [
            "[ Train | 047/100 ] loss = 0.24430, acc = 0.91714\n"
          ]
        },
        {
          "name": "stderr",
          "output_type": "stream",
          "text": [
            "100%|██████████| 26/26 [00:06<00:00,  4.14it/s]\n"
          ]
        },
        {
          "name": "stdout",
          "output_type": "stream",
          "text": [
            "[ Valid | 047/100 ] loss = 1.06870, acc = 0.70951\n",
            "[ Valid | 047/100 ] loss = 1.06870, acc = 0.70951 -> best\n",
            "Best model found at epoch 46, saving model\n"
          ]
        },
        {
          "name": "stderr",
          "output_type": "stream",
          "text": [
            "100%|██████████| 188/188 [01:03<00:00,  2.97it/s]\n"
          ]
        },
        {
          "name": "stdout",
          "output_type": "stream",
          "text": [
            "[ Train | 048/100 ] loss = 0.25376, acc = 0.91423\n"
          ]
        },
        {
          "name": "stderr",
          "output_type": "stream",
          "text": [
            "100%|██████████| 26/26 [00:06<00:00,  4.29it/s]\n"
          ]
        },
        {
          "name": "stdout",
          "output_type": "stream",
          "text": [
            "[ Valid | 048/100 ] loss = 1.10663, acc = 0.70352\n",
            "[ Valid | 048/100 ] loss = 1.10663, acc = 0.70352\n"
          ]
        },
        {
          "name": "stderr",
          "output_type": "stream",
          "text": [
            "100%|██████████| 188/188 [01:03<00:00,  2.96it/s]\n"
          ]
        },
        {
          "name": "stdout",
          "output_type": "stream",
          "text": [
            "[ Train | 049/100 ] loss = 0.24532, acc = 0.91622\n"
          ]
        },
        {
          "name": "stderr",
          "output_type": "stream",
          "text": [
            "100%|██████████| 26/26 [00:05<00:00,  4.33it/s]\n"
          ]
        },
        {
          "name": "stdout",
          "output_type": "stream",
          "text": [
            "[ Valid | 049/100 ] loss = 1.16127, acc = 0.68698\n",
            "[ Valid | 049/100 ] loss = 1.16127, acc = 0.68698\n"
          ]
        },
        {
          "name": "stderr",
          "output_type": "stream",
          "text": [
            "100%|██████████| 188/188 [01:03<00:00,  2.96it/s]\n"
          ]
        },
        {
          "name": "stdout",
          "output_type": "stream",
          "text": [
            "[ Train | 050/100 ] loss = 0.24102, acc = 0.91714\n"
          ]
        },
        {
          "name": "stderr",
          "output_type": "stream",
          "text": [
            "100%|██████████| 26/26 [00:06<00:00,  4.33it/s]\n"
          ]
        },
        {
          "name": "stdout",
          "output_type": "stream",
          "text": [
            "[ Valid | 050/100 ] loss = 1.16463, acc = 0.69453\n",
            "[ Valid | 050/100 ] loss = 1.16463, acc = 0.69453\n"
          ]
        },
        {
          "name": "stderr",
          "output_type": "stream",
          "text": [
            "100%|██████████| 188/188 [01:03<00:00,  2.97it/s]\n"
          ]
        },
        {
          "name": "stdout",
          "output_type": "stream",
          "text": [
            "[ Train | 051/100 ] loss = 0.21263, acc = 0.92570\n"
          ]
        },
        {
          "name": "stderr",
          "output_type": "stream",
          "text": [
            "100%|██████████| 26/26 [00:06<00:00,  4.32it/s]\n"
          ]
        },
        {
          "name": "stdout",
          "output_type": "stream",
          "text": [
            "[ Valid | 051/100 ] loss = 1.12559, acc = 0.69720\n",
            "[ Valid | 051/100 ] loss = 1.12559, acc = 0.69720\n"
          ]
        },
        {
          "name": "stderr",
          "output_type": "stream",
          "text": [
            "100%|██████████| 188/188 [01:03<00:00,  2.96it/s]\n"
          ]
        },
        {
          "name": "stdout",
          "output_type": "stream",
          "text": [
            "[ Train | 052/100 ] loss = 0.21178, acc = 0.92686\n"
          ]
        },
        {
          "name": "stderr",
          "output_type": "stream",
          "text": [
            "100%|██████████| 26/26 [00:06<00:00,  4.05it/s]\n"
          ]
        },
        {
          "name": "stdout",
          "output_type": "stream",
          "text": [
            "[ Valid | 052/100 ] loss = 1.11143, acc = 0.71375\n",
            "[ Valid | 052/100 ] loss = 1.11143, acc = 0.71375 -> best\n",
            "Best model found at epoch 51, saving model\n"
          ]
        },
        {
          "name": "stderr",
          "output_type": "stream",
          "text": [
            "100%|██████████| 188/188 [01:04<00:00,  2.93it/s]\n"
          ]
        },
        {
          "name": "stdout",
          "output_type": "stream",
          "text": [
            "[ Train | 053/100 ] loss = 0.20725, acc = 0.93251\n"
          ]
        },
        {
          "name": "stderr",
          "output_type": "stream",
          "text": [
            "100%|██████████| 26/26 [00:06<00:00,  4.20it/s]\n"
          ]
        },
        {
          "name": "stdout",
          "output_type": "stream",
          "text": [
            "[ Valid | 053/100 ] loss = 1.21588, acc = 0.68609\n",
            "[ Valid | 053/100 ] loss = 1.21588, acc = 0.68609\n"
          ]
        },
        {
          "name": "stderr",
          "output_type": "stream",
          "text": [
            "100%|██████████| 188/188 [01:03<00:00,  2.95it/s]\n"
          ]
        },
        {
          "name": "stdout",
          "output_type": "stream",
          "text": [
            "[ Train | 054/100 ] loss = 0.20779, acc = 0.92911\n"
          ]
        },
        {
          "name": "stderr",
          "output_type": "stream",
          "text": [
            "100%|██████████| 26/26 [00:06<00:00,  4.28it/s]\n"
          ]
        },
        {
          "name": "stdout",
          "output_type": "stream",
          "text": [
            "[ Valid | 054/100 ] loss = 1.25530, acc = 0.68640\n",
            "[ Valid | 054/100 ] loss = 1.25530, acc = 0.68640\n"
          ]
        },
        {
          "name": "stderr",
          "output_type": "stream",
          "text": [
            "100%|██████████| 188/188 [01:03<00:00,  2.95it/s]\n"
          ]
        },
        {
          "name": "stdout",
          "output_type": "stream",
          "text": [
            "[ Train | 055/100 ] loss = 0.19746, acc = 0.93002\n"
          ]
        },
        {
          "name": "stderr",
          "output_type": "stream",
          "text": [
            "100%|██████████| 26/26 [00:06<00:00,  4.20it/s]\n"
          ]
        },
        {
          "name": "stdout",
          "output_type": "stream",
          "text": [
            "[ Valid | 055/100 ] loss = 1.13988, acc = 0.70680\n",
            "[ Valid | 055/100 ] loss = 1.13988, acc = 0.70680\n"
          ]
        },
        {
          "name": "stderr",
          "output_type": "stream",
          "text": [
            "100%|██████████| 188/188 [01:03<00:00,  2.95it/s]\n"
          ]
        },
        {
          "name": "stdout",
          "output_type": "stream",
          "text": [
            "[ Train | 056/100 ] loss = 0.19701, acc = 0.93334\n"
          ]
        },
        {
          "name": "stderr",
          "output_type": "stream",
          "text": [
            "100%|██████████| 26/26 [00:06<00:00,  4.20it/s]\n"
          ]
        },
        {
          "name": "stdout",
          "output_type": "stream",
          "text": [
            "[ Valid | 056/100 ] loss = 1.19192, acc = 0.69329\n",
            "[ Valid | 056/100 ] loss = 1.19192, acc = 0.69329\n"
          ]
        },
        {
          "name": "stderr",
          "output_type": "stream",
          "text": [
            "100%|██████████| 188/188 [01:03<00:00,  2.97it/s]\n"
          ]
        },
        {
          "name": "stdout",
          "output_type": "stream",
          "text": [
            "[ Train | 057/100 ] loss = 0.19301, acc = 0.93260\n"
          ]
        },
        {
          "name": "stderr",
          "output_type": "stream",
          "text": [
            "100%|██████████| 26/26 [00:06<00:00,  4.22it/s]\n"
          ]
        },
        {
          "name": "stdout",
          "output_type": "stream",
          "text": [
            "[ Valid | 057/100 ] loss = 1.15135, acc = 0.70504\n",
            "[ Valid | 057/100 ] loss = 1.15135, acc = 0.70504\n"
          ]
        },
        {
          "name": "stderr",
          "output_type": "stream",
          "text": [
            "100%|██████████| 188/188 [01:03<00:00,  2.97it/s]\n"
          ]
        },
        {
          "name": "stdout",
          "output_type": "stream",
          "text": [
            "[ Train | 058/100 ] loss = 0.18764, acc = 0.93758\n"
          ]
        },
        {
          "name": "stderr",
          "output_type": "stream",
          "text": [
            "100%|██████████| 26/26 [00:06<00:00,  4.16it/s]\n"
          ]
        },
        {
          "name": "stdout",
          "output_type": "stream",
          "text": [
            "[ Valid | 058/100 ] loss = 1.19752, acc = 0.69960\n",
            "[ Valid | 058/100 ] loss = 1.19752, acc = 0.69960\n"
          ]
        },
        {
          "name": "stderr",
          "output_type": "stream",
          "text": [
            "100%|██████████| 188/188 [01:03<00:00,  2.95it/s]\n"
          ]
        },
        {
          "name": "stdout",
          "output_type": "stream",
          "text": [
            "[ Train | 059/100 ] loss = 0.18863, acc = 0.93517\n"
          ]
        },
        {
          "name": "stderr",
          "output_type": "stream",
          "text": [
            "100%|██████████| 26/26 [00:05<00:00,  4.35it/s]\n"
          ]
        },
        {
          "name": "stdout",
          "output_type": "stream",
          "text": [
            "[ Valid | 059/100 ] loss = 1.21621, acc = 0.69992\n",
            "[ Valid | 059/100 ] loss = 1.21621, acc = 0.69992\n"
          ]
        },
        {
          "name": "stderr",
          "output_type": "stream",
          "text": [
            "100%|██████████| 188/188 [01:03<00:00,  2.96it/s]\n"
          ]
        },
        {
          "name": "stdout",
          "output_type": "stream",
          "text": [
            "[ Train | 060/100 ] loss = 0.18514, acc = 0.93625\n"
          ]
        },
        {
          "name": "stderr",
          "output_type": "stream",
          "text": [
            "100%|██████████| 26/26 [00:06<00:00,  4.25it/s]\n"
          ]
        },
        {
          "name": "stdout",
          "output_type": "stream",
          "text": [
            "[ Valid | 060/100 ] loss = 1.23851, acc = 0.69213\n",
            "[ Valid | 060/100 ] loss = 1.23851, acc = 0.69213\n"
          ]
        },
        {
          "name": "stderr",
          "output_type": "stream",
          "text": [
            "100%|██████████| 188/188 [01:03<00:00,  2.96it/s]\n"
          ]
        },
        {
          "name": "stdout",
          "output_type": "stream",
          "text": [
            "[ Train | 061/100 ] loss = 0.17713, acc = 0.94074\n"
          ]
        },
        {
          "name": "stderr",
          "output_type": "stream",
          "text": [
            "100%|██████████| 26/26 [00:06<00:00,  4.11it/s]\n"
          ]
        },
        {
          "name": "stdout",
          "output_type": "stream",
          "text": [
            "[ Valid | 061/100 ] loss = 1.19746, acc = 0.70173\n",
            "[ Valid | 061/100 ] loss = 1.19746, acc = 0.70173\n"
          ]
        },
        {
          "name": "stderr",
          "output_type": "stream",
          "text": [
            "100%|██████████| 188/188 [01:03<00:00,  2.95it/s]\n"
          ]
        },
        {
          "name": "stdout",
          "output_type": "stream",
          "text": [
            "[ Train | 062/100 ] loss = 0.17998, acc = 0.93758\n"
          ]
        },
        {
          "name": "stderr",
          "output_type": "stream",
          "text": [
            "100%|██████████| 26/26 [00:06<00:00,  4.14it/s]\n"
          ]
        },
        {
          "name": "stdout",
          "output_type": "stream",
          "text": [
            "[ Valid | 062/100 ] loss = 1.19921, acc = 0.70352\n",
            "[ Valid | 062/100 ] loss = 1.19921, acc = 0.70352\n"
          ]
        },
        {
          "name": "stderr",
          "output_type": "stream",
          "text": [
            "100%|██████████| 188/188 [01:03<00:00,  2.96it/s]\n"
          ]
        },
        {
          "name": "stdout",
          "output_type": "stream",
          "text": [
            "[ Train | 063/100 ] loss = 0.16746, acc = 0.94382\n"
          ]
        },
        {
          "name": "stderr",
          "output_type": "stream",
          "text": [
            "100%|██████████| 26/26 [00:06<00:00,  4.24it/s]\n"
          ]
        },
        {
          "name": "stdout",
          "output_type": "stream",
          "text": [
            "[ Valid | 063/100 ] loss = 1.23026, acc = 0.69871\n",
            "[ Valid | 063/100 ] loss = 1.23026, acc = 0.69871\n"
          ]
        },
        {
          "name": "stderr",
          "output_type": "stream",
          "text": [
            "100%|██████████| 188/188 [01:03<00:00,  2.96it/s]\n"
          ]
        },
        {
          "name": "stdout",
          "output_type": "stream",
          "text": [
            "[ Train | 064/100 ] loss = 0.15959, acc = 0.94722\n"
          ]
        },
        {
          "name": "stderr",
          "output_type": "stream",
          "text": [
            "100%|██████████| 26/26 [00:06<00:00,  4.32it/s]\n"
          ]
        },
        {
          "name": "stdout",
          "output_type": "stream",
          "text": [
            "[ Valid | 064/100 ] loss = 1.22054, acc = 0.69777\n",
            "[ Valid | 064/100 ] loss = 1.22054, acc = 0.69777\n"
          ]
        },
        {
          "name": "stderr",
          "output_type": "stream",
          "text": [
            "100%|██████████| 188/188 [01:03<00:00,  2.97it/s]\n"
          ]
        },
        {
          "name": "stdout",
          "output_type": "stream",
          "text": [
            "[ Train | 065/100 ] loss = 0.16671, acc = 0.94132\n"
          ]
        },
        {
          "name": "stderr",
          "output_type": "stream",
          "text": [
            "100%|██████████| 26/26 [00:06<00:00,  4.13it/s]\n"
          ]
        },
        {
          "name": "stdout",
          "output_type": "stream",
          "text": [
            "[ Valid | 065/100 ] loss = 1.20385, acc = 0.71370\n",
            "[ Valid | 065/100 ] loss = 1.20385, acc = 0.71370\n"
          ]
        },
        {
          "name": "stderr",
          "output_type": "stream",
          "text": [
            "100%|██████████| 188/188 [01:03<00:00,  2.94it/s]\n"
          ]
        },
        {
          "name": "stdout",
          "output_type": "stream",
          "text": [
            "[ Train | 066/100 ] loss = 0.16405, acc = 0.94274\n"
          ]
        },
        {
          "name": "stderr",
          "output_type": "stream",
          "text": [
            "100%|██████████| 26/26 [00:05<00:00,  4.38it/s]\n"
          ]
        },
        {
          "name": "stdout",
          "output_type": "stream",
          "text": [
            "[ Valid | 066/100 ] loss = 1.24060, acc = 0.70473\n",
            "[ Valid | 066/100 ] loss = 1.24060, acc = 0.70473\n"
          ]
        },
        {
          "name": "stderr",
          "output_type": "stream",
          "text": [
            "100%|██████████| 188/188 [01:03<00:00,  2.95it/s]\n"
          ]
        },
        {
          "name": "stdout",
          "output_type": "stream",
          "text": [
            "[ Train | 067/100 ] loss = 0.16276, acc = 0.94573\n"
          ]
        },
        {
          "name": "stderr",
          "output_type": "stream",
          "text": [
            "100%|██████████| 26/26 [00:06<00:00,  4.25it/s]\n"
          ]
        },
        {
          "name": "stdout",
          "output_type": "stream",
          "text": [
            "[ Valid | 067/100 ] loss = 1.21037, acc = 0.70772\n",
            "[ Valid | 067/100 ] loss = 1.21037, acc = 0.70772\n"
          ]
        },
        {
          "name": "stderr",
          "output_type": "stream",
          "text": [
            "100%|██████████| 188/188 [01:03<00:00,  2.96it/s]\n"
          ]
        },
        {
          "name": "stdout",
          "output_type": "stream",
          "text": [
            "[ Train | 068/100 ] loss = 0.15870, acc = 0.94814\n"
          ]
        },
        {
          "name": "stderr",
          "output_type": "stream",
          "text": [
            "100%|██████████| 26/26 [00:06<00:00,  4.14it/s]\n"
          ]
        },
        {
          "name": "stdout",
          "output_type": "stream",
          "text": [
            "[ Valid | 068/100 ] loss = 1.32049, acc = 0.69211\n",
            "[ Valid | 068/100 ] loss = 1.32049, acc = 0.69211\n"
          ]
        },
        {
          "name": "stderr",
          "output_type": "stream",
          "text": [
            "100%|██████████| 188/188 [01:03<00:00,  2.96it/s]\n"
          ]
        },
        {
          "name": "stdout",
          "output_type": "stream",
          "text": [
            "[ Train | 069/100 ] loss = 0.15734, acc = 0.94764\n"
          ]
        },
        {
          "name": "stderr",
          "output_type": "stream",
          "text": [
            "100%|██████████| 26/26 [00:06<00:00,  4.23it/s]\n"
          ]
        },
        {
          "name": "stdout",
          "output_type": "stream",
          "text": [
            "[ Valid | 069/100 ] loss = 1.24131, acc = 0.70652\n",
            "[ Valid | 069/100 ] loss = 1.24131, acc = 0.70652\n"
          ]
        },
        {
          "name": "stderr",
          "output_type": "stream",
          "text": [
            "100%|██████████| 188/188 [01:03<00:00,  2.98it/s]\n"
          ]
        },
        {
          "name": "stdout",
          "output_type": "stream",
          "text": [
            "[ Train | 070/100 ] loss = 0.15638, acc = 0.94589\n"
          ]
        },
        {
          "name": "stderr",
          "output_type": "stream",
          "text": [
            "100%|██████████| 26/26 [00:06<00:00,  4.33it/s]\n"
          ]
        },
        {
          "name": "stdout",
          "output_type": "stream",
          "text": [
            "[ Valid | 070/100 ] loss = 1.27929, acc = 0.69630\n",
            "[ Valid | 070/100 ] loss = 1.27929, acc = 0.69630\n"
          ]
        },
        {
          "name": "stderr",
          "output_type": "stream",
          "text": [
            "100%|██████████| 188/188 [01:03<00:00,  2.96it/s]\n"
          ]
        },
        {
          "name": "stdout",
          "output_type": "stream",
          "text": [
            "[ Train | 071/100 ] loss = 0.14565, acc = 0.95121\n"
          ]
        },
        {
          "name": "stderr",
          "output_type": "stream",
          "text": [
            "100%|██████████| 26/26 [00:06<00:00,  4.18it/s]\n"
          ]
        },
        {
          "name": "stdout",
          "output_type": "stream",
          "text": [
            "[ Valid | 071/100 ] loss = 1.29002, acc = 0.70201\n",
            "[ Valid | 071/100 ] loss = 1.29002, acc = 0.70201\n"
          ]
        },
        {
          "name": "stderr",
          "output_type": "stream",
          "text": [
            "100%|██████████| 188/188 [01:03<00:00,  2.94it/s]\n"
          ]
        },
        {
          "name": "stdout",
          "output_type": "stream",
          "text": [
            "[ Train | 072/100 ] loss = 0.15386, acc = 0.94731\n"
          ]
        },
        {
          "name": "stderr",
          "output_type": "stream",
          "text": [
            "100%|██████████| 26/26 [00:06<00:00,  4.27it/s]\n"
          ]
        },
        {
          "name": "stdout",
          "output_type": "stream",
          "text": [
            "[ Valid | 072/100 ] loss = 1.28206, acc = 0.69390\n",
            "[ Valid | 072/100 ] loss = 1.28206, acc = 0.69390\n"
          ]
        },
        {
          "name": "stderr",
          "output_type": "stream",
          "text": [
            "100%|██████████| 188/188 [01:03<00:00,  2.94it/s]\n"
          ]
        },
        {
          "name": "stdout",
          "output_type": "stream",
          "text": [
            "[ Train | 073/100 ] loss = 0.15176, acc = 0.94988\n"
          ]
        },
        {
          "name": "stderr",
          "output_type": "stream",
          "text": [
            "100%|██████████| 26/26 [00:06<00:00,  4.27it/s]\n"
          ]
        },
        {
          "name": "stdout",
          "output_type": "stream",
          "text": [
            "[ Valid | 073/100 ] loss = 1.27472, acc = 0.70561\n",
            "[ Valid | 073/100 ] loss = 1.27472, acc = 0.70561\n"
          ]
        },
        {
          "name": "stderr",
          "output_type": "stream",
          "text": [
            "100%|██████████| 188/188 [01:03<00:00,  2.95it/s]\n"
          ]
        },
        {
          "name": "stdout",
          "output_type": "stream",
          "text": [
            "[ Train | 074/100 ] loss = 0.14897, acc = 0.95113\n"
          ]
        },
        {
          "name": "stderr",
          "output_type": "stream",
          "text": [
            "100%|██████████| 26/26 [00:06<00:00,  4.21it/s]\n"
          ]
        },
        {
          "name": "stdout",
          "output_type": "stream",
          "text": [
            "[ Valid | 074/100 ] loss = 1.26032, acc = 0.70866\n",
            "[ Valid | 074/100 ] loss = 1.26032, acc = 0.70866\n"
          ]
        },
        {
          "name": "stderr",
          "output_type": "stream",
          "text": [
            "100%|██████████| 188/188 [01:03<00:00,  2.98it/s]\n"
          ]
        },
        {
          "name": "stdout",
          "output_type": "stream",
          "text": [
            "[ Train | 075/100 ] loss = 0.14198, acc = 0.95188\n"
          ]
        },
        {
          "name": "stderr",
          "output_type": "stream",
          "text": [
            "100%|██████████| 26/26 [00:05<00:00,  4.36it/s]\n"
          ]
        },
        {
          "name": "stdout",
          "output_type": "stream",
          "text": [
            "[ Valid | 075/100 ] loss = 1.19813, acc = 0.72212\n",
            "[ Valid | 075/100 ] loss = 1.19813, acc = 0.72212 -> best\n",
            "Best model found at epoch 74, saving model\n"
          ]
        },
        {
          "name": "stderr",
          "output_type": "stream",
          "text": [
            "100%|██████████| 188/188 [01:03<00:00,  2.96it/s]\n"
          ]
        },
        {
          "name": "stdout",
          "output_type": "stream",
          "text": [
            "[ Train | 076/100 ] loss = 0.15466, acc = 0.94689\n"
          ]
        },
        {
          "name": "stderr",
          "output_type": "stream",
          "text": [
            "100%|██████████| 26/26 [00:06<00:00,  4.26it/s]\n"
          ]
        },
        {
          "name": "stdout",
          "output_type": "stream",
          "text": [
            "[ Valid | 076/100 ] loss = 1.27948, acc = 0.69962\n",
            "[ Valid | 076/100 ] loss = 1.27948, acc = 0.69962\n"
          ]
        },
        {
          "name": "stderr",
          "output_type": "stream",
          "text": [
            "100%|██████████| 188/188 [01:03<00:00,  2.97it/s]\n"
          ]
        },
        {
          "name": "stdout",
          "output_type": "stream",
          "text": [
            "[ Train | 077/100 ] loss = 0.14717, acc = 0.95196\n"
          ]
        },
        {
          "name": "stderr",
          "output_type": "stream",
          "text": [
            "100%|██████████| 26/26 [00:06<00:00,  4.28it/s]\n"
          ]
        },
        {
          "name": "stdout",
          "output_type": "stream",
          "text": [
            "[ Valid | 077/100 ] loss = 1.27124, acc = 0.69538\n",
            "[ Valid | 077/100 ] loss = 1.27124, acc = 0.69538\n"
          ]
        },
        {
          "name": "stderr",
          "output_type": "stream",
          "text": [
            "100%|██████████| 188/188 [01:03<00:00,  2.96it/s]\n"
          ]
        },
        {
          "name": "stdout",
          "output_type": "stream",
          "text": [
            "[ Train | 078/100 ] loss = 0.14899, acc = 0.94897\n"
          ]
        },
        {
          "name": "stderr",
          "output_type": "stream",
          "text": [
            "100%|██████████| 26/26 [00:06<00:00,  4.22it/s]\n"
          ]
        },
        {
          "name": "stdout",
          "output_type": "stream",
          "text": [
            "[ Valid | 078/100 ] loss = 1.25665, acc = 0.70353\n",
            "[ Valid | 078/100 ] loss = 1.25665, acc = 0.70353\n"
          ]
        },
        {
          "name": "stderr",
          "output_type": "stream",
          "text": [
            "100%|██████████| 188/188 [01:03<00:00,  2.96it/s]\n"
          ]
        },
        {
          "name": "stdout",
          "output_type": "stream",
          "text": [
            "[ Train | 079/100 ] loss = 0.15425, acc = 0.94930\n"
          ]
        },
        {
          "name": "stderr",
          "output_type": "stream",
          "text": [
            "100%|██████████| 26/26 [00:06<00:00,  4.17it/s]\n"
          ]
        },
        {
          "name": "stdout",
          "output_type": "stream",
          "text": [
            "[ Valid | 079/100 ] loss = 1.27990, acc = 0.69963\n",
            "[ Valid | 079/100 ] loss = 1.27990, acc = 0.69963\n"
          ]
        },
        {
          "name": "stderr",
          "output_type": "stream",
          "text": [
            "100%|██████████| 188/188 [01:03<00:00,  2.96it/s]\n"
          ]
        },
        {
          "name": "stdout",
          "output_type": "stream",
          "text": [
            "[ Train | 080/100 ] loss = 0.14784, acc = 0.95030\n"
          ]
        },
        {
          "name": "stderr",
          "output_type": "stream",
          "text": [
            "100%|██████████| 26/26 [00:05<00:00,  4.36it/s]\n"
          ]
        },
        {
          "name": "stdout",
          "output_type": "stream",
          "text": [
            "[ Valid | 080/100 ] loss = 1.25559, acc = 0.70649\n",
            "[ Valid | 080/100 ] loss = 1.25559, acc = 0.70649\n"
          ]
        },
        {
          "name": "stderr",
          "output_type": "stream",
          "text": [
            "100%|██████████| 188/188 [01:05<00:00,  2.86it/s]\n"
          ]
        },
        {
          "name": "stdout",
          "output_type": "stream",
          "text": [
            "[ Train | 081/100 ] loss = 0.14825, acc = 0.94914\n"
          ]
        },
        {
          "name": "stderr",
          "output_type": "stream",
          "text": [
            "100%|██████████| 26/26 [00:07<00:00,  3.54it/s]\n"
          ]
        },
        {
          "name": "stdout",
          "output_type": "stream",
          "text": [
            "[ Valid | 081/100 ] loss = 1.29768, acc = 0.70081\n",
            "[ Valid | 081/100 ] loss = 1.29768, acc = 0.70081\n"
          ]
        },
        {
          "name": "stderr",
          "output_type": "stream",
          "text": [
            "100%|██████████| 188/188 [01:17<00:00,  2.44it/s]\n"
          ]
        },
        {
          "name": "stdout",
          "output_type": "stream",
          "text": [
            "[ Train | 082/100 ] loss = 0.14380, acc = 0.95171\n"
          ]
        },
        {
          "name": "stderr",
          "output_type": "stream",
          "text": [
            "100%|██████████| 26/26 [00:06<00:00,  3.86it/s]\n"
          ]
        },
        {
          "name": "stdout",
          "output_type": "stream",
          "text": [
            "[ Valid | 082/100 ] loss = 1.35334, acc = 0.69510\n",
            "[ Valid | 082/100 ] loss = 1.35334, acc = 0.69510\n"
          ]
        },
        {
          "name": "stderr",
          "output_type": "stream",
          "text": [
            "100%|██████████| 188/188 [01:05<00:00,  2.88it/s]\n"
          ]
        },
        {
          "name": "stdout",
          "output_type": "stream",
          "text": [
            "[ Train | 083/100 ] loss = 0.14101, acc = 0.95371\n"
          ]
        },
        {
          "name": "stderr",
          "output_type": "stream",
          "text": [
            "100%|██████████| 26/26 [00:06<00:00,  4.11it/s]\n"
          ]
        },
        {
          "name": "stdout",
          "output_type": "stream",
          "text": [
            "[ Valid | 083/100 ] loss = 1.26603, acc = 0.70290\n",
            "[ Valid | 083/100 ] loss = 1.26603, acc = 0.70290\n"
          ]
        },
        {
          "name": "stderr",
          "output_type": "stream",
          "text": [
            "100%|██████████| 188/188 [01:04<00:00,  2.93it/s]\n"
          ]
        },
        {
          "name": "stdout",
          "output_type": "stream",
          "text": [
            "[ Train | 084/100 ] loss = 0.13418, acc = 0.95504\n"
          ]
        },
        {
          "name": "stderr",
          "output_type": "stream",
          "text": [
            "100%|██████████| 26/26 [00:06<00:00,  4.32it/s]\n"
          ]
        },
        {
          "name": "stdout",
          "output_type": "stream",
          "text": [
            "[ Valid | 084/100 ] loss = 1.35660, acc = 0.69393\n",
            "[ Valid | 084/100 ] loss = 1.35660, acc = 0.69393\n"
          ]
        },
        {
          "name": "stderr",
          "output_type": "stream",
          "text": [
            "100%|██████████| 188/188 [01:03<00:00,  2.97it/s]\n"
          ]
        },
        {
          "name": "stdout",
          "output_type": "stream",
          "text": [
            "[ Train | 085/100 ] loss = 0.13917, acc = 0.95246\n"
          ]
        },
        {
          "name": "stderr",
          "output_type": "stream",
          "text": [
            "100%|██████████| 26/26 [00:06<00:00,  4.15it/s]\n"
          ]
        },
        {
          "name": "stdout",
          "output_type": "stream",
          "text": [
            "[ Valid | 085/100 ] loss = 1.29712, acc = 0.70141\n",
            "[ Valid | 085/100 ] loss = 1.29712, acc = 0.70141\n"
          ]
        },
        {
          "name": "stderr",
          "output_type": "stream",
          "text": [
            "100%|██████████| 188/188 [01:03<00:00,  2.94it/s]\n"
          ]
        },
        {
          "name": "stdout",
          "output_type": "stream",
          "text": [
            "[ Train | 086/100 ] loss = 0.13754, acc = 0.95354\n"
          ]
        },
        {
          "name": "stderr",
          "output_type": "stream",
          "text": [
            "100%|██████████| 26/26 [00:06<00:00,  4.21it/s]\n"
          ]
        },
        {
          "name": "stdout",
          "output_type": "stream",
          "text": [
            "[ Valid | 086/100 ] loss = 1.28383, acc = 0.70233\n",
            "[ Valid | 086/100 ] loss = 1.28383, acc = 0.70233\n"
          ]
        },
        {
          "name": "stderr",
          "output_type": "stream",
          "text": [
            "100%|██████████| 188/188 [01:03<00:00,  2.96it/s]\n"
          ]
        },
        {
          "name": "stdout",
          "output_type": "stream",
          "text": [
            "[ Train | 087/100 ] loss = 0.13938, acc = 0.95404\n"
          ]
        },
        {
          "name": "stderr",
          "output_type": "stream",
          "text": [
            "100%|██████████| 26/26 [00:06<00:00,  4.16it/s]\n"
          ]
        },
        {
          "name": "stdout",
          "output_type": "stream",
          "text": [
            "[ Valid | 087/100 ] loss = 1.30239, acc = 0.70410\n",
            "[ Valid | 087/100 ] loss = 1.30239, acc = 0.70410\n"
          ]
        },
        {
          "name": "stderr",
          "output_type": "stream",
          "text": [
            "100%|██████████| 188/188 [01:03<00:00,  2.94it/s]\n"
          ]
        },
        {
          "name": "stdout",
          "output_type": "stream",
          "text": [
            "[ Train | 088/100 ] loss = 0.14092, acc = 0.94997\n"
          ]
        },
        {
          "name": "stderr",
          "output_type": "stream",
          "text": [
            "100%|██████████| 26/26 [00:06<00:00,  4.16it/s]\n"
          ]
        },
        {
          "name": "stdout",
          "output_type": "stream",
          "text": [
            "[ Valid | 088/100 ] loss = 1.25794, acc = 0.71467\n",
            "[ Valid | 088/100 ] loss = 1.25794, acc = 0.71467\n"
          ]
        },
        {
          "name": "stderr",
          "output_type": "stream",
          "text": [
            "100%|██████████| 188/188 [01:05<00:00,  2.87it/s]\n"
          ]
        },
        {
          "name": "stdout",
          "output_type": "stream",
          "text": [
            "[ Train | 089/100 ] loss = 0.14261, acc = 0.95337\n"
          ]
        },
        {
          "name": "stderr",
          "output_type": "stream",
          "text": [
            "100%|██████████| 26/26 [00:06<00:00,  4.10it/s]\n"
          ]
        },
        {
          "name": "stdout",
          "output_type": "stream",
          "text": [
            "[ Valid | 089/100 ] loss = 1.28564, acc = 0.70350\n",
            "[ Valid | 089/100 ] loss = 1.28564, acc = 0.70350\n"
          ]
        },
        {
          "name": "stderr",
          "output_type": "stream",
          "text": [
            "100%|██████████| 188/188 [01:04<00:00,  2.93it/s]\n"
          ]
        },
        {
          "name": "stdout",
          "output_type": "stream",
          "text": [
            "[ Train | 090/100 ] loss = 0.13923, acc = 0.95296\n"
          ]
        },
        {
          "name": "stderr",
          "output_type": "stream",
          "text": [
            "100%|██████████| 26/26 [00:06<00:00,  4.15it/s]\n"
          ]
        },
        {
          "name": "stdout",
          "output_type": "stream",
          "text": [
            "[ Valid | 090/100 ] loss = 1.29959, acc = 0.70709\n",
            "[ Valid | 090/100 ] loss = 1.29959, acc = 0.70709\n"
          ]
        },
        {
          "name": "stderr",
          "output_type": "stream",
          "text": [
            "100%|██████████| 188/188 [01:03<00:00,  2.96it/s]\n"
          ]
        },
        {
          "name": "stdout",
          "output_type": "stream",
          "text": [
            "[ Train | 091/100 ] loss = 0.13479, acc = 0.95562\n"
          ]
        },
        {
          "name": "stderr",
          "output_type": "stream",
          "text": [
            "100%|██████████| 26/26 [00:06<00:00,  4.21it/s]\n"
          ]
        },
        {
          "name": "stdout",
          "output_type": "stream",
          "text": [
            "[ Valid | 091/100 ] loss = 1.31999, acc = 0.69991\n",
            "[ Valid | 091/100 ] loss = 1.31999, acc = 0.69991\n"
          ]
        },
        {
          "name": "stderr",
          "output_type": "stream",
          "text": [
            "100%|██████████| 188/188 [01:03<00:00,  2.96it/s]\n"
          ]
        },
        {
          "name": "stdout",
          "output_type": "stream",
          "text": [
            "[ Train | 092/100 ] loss = 0.13621, acc = 0.95495\n"
          ]
        },
        {
          "name": "stderr",
          "output_type": "stream",
          "text": [
            "100%|██████████| 26/26 [00:06<00:00,  4.17it/s]\n"
          ]
        },
        {
          "name": "stdout",
          "output_type": "stream",
          "text": [
            "[ Valid | 092/100 ] loss = 1.30190, acc = 0.70623\n",
            "[ Valid | 092/100 ] loss = 1.30190, acc = 0.70623\n"
          ]
        },
        {
          "name": "stderr",
          "output_type": "stream",
          "text": [
            "100%|██████████| 188/188 [01:03<00:00,  2.95it/s]\n"
          ]
        },
        {
          "name": "stdout",
          "output_type": "stream",
          "text": [
            "[ Train | 093/100 ] loss = 0.13669, acc = 0.95371\n"
          ]
        },
        {
          "name": "stderr",
          "output_type": "stream",
          "text": [
            "100%|██████████| 26/26 [00:05<00:00,  4.35it/s]\n"
          ]
        },
        {
          "name": "stdout",
          "output_type": "stream",
          "text": [
            "[ Valid | 093/100 ] loss = 1.23845, acc = 0.71375\n",
            "[ Valid | 093/100 ] loss = 1.23845, acc = 0.71375\n"
          ]
        },
        {
          "name": "stderr",
          "output_type": "stream",
          "text": [
            "100%|██████████| 188/188 [01:03<00:00,  2.96it/s]\n"
          ]
        },
        {
          "name": "stdout",
          "output_type": "stream",
          "text": [
            "[ Train | 094/100 ] loss = 0.13150, acc = 0.95695\n"
          ]
        },
        {
          "name": "stderr",
          "output_type": "stream",
          "text": [
            "100%|██████████| 26/26 [00:06<00:00,  4.14it/s]\n"
          ]
        },
        {
          "name": "stdout",
          "output_type": "stream",
          "text": [
            "[ Valid | 094/100 ] loss = 1.26915, acc = 0.71013\n",
            "[ Valid | 094/100 ] loss = 1.26915, acc = 0.71013\n"
          ]
        },
        {
          "name": "stderr",
          "output_type": "stream",
          "text": [
            "100%|██████████| 188/188 [01:03<00:00,  2.96it/s]\n"
          ]
        },
        {
          "name": "stdout",
          "output_type": "stream",
          "text": [
            "[ Train | 095/100 ] loss = 0.13240, acc = 0.95637\n"
          ]
        },
        {
          "name": "stderr",
          "output_type": "stream",
          "text": [
            "100%|██████████| 26/26 [00:06<00:00,  4.32it/s]\n"
          ]
        },
        {
          "name": "stdout",
          "output_type": "stream",
          "text": [
            "[ Valid | 095/100 ] loss = 1.28390, acc = 0.70292\n",
            "[ Valid | 095/100 ] loss = 1.28390, acc = 0.70292\n"
          ]
        },
        {
          "name": "stderr",
          "output_type": "stream",
          "text": [
            "100%|██████████| 188/188 [01:03<00:00,  2.95it/s]\n"
          ]
        },
        {
          "name": "stdout",
          "output_type": "stream",
          "text": [
            "[ Train | 096/100 ] loss = 0.13295, acc = 0.95545\n"
          ]
        },
        {
          "name": "stderr",
          "output_type": "stream",
          "text": [
            "100%|██████████| 26/26 [00:06<00:00,  4.19it/s]\n"
          ]
        },
        {
          "name": "stdout",
          "output_type": "stream",
          "text": [
            "[ Valid | 096/100 ] loss = 1.32204, acc = 0.69814\n",
            "[ Valid | 096/100 ] loss = 1.32204, acc = 0.69814\n"
          ]
        },
        {
          "name": "stderr",
          "output_type": "stream",
          "text": [
            "100%|██████████| 188/188 [01:03<00:00,  2.98it/s]\n"
          ]
        },
        {
          "name": "stdout",
          "output_type": "stream",
          "text": [
            "[ Train | 097/100 ] loss = 0.13356, acc = 0.95412\n"
          ]
        },
        {
          "name": "stderr",
          "output_type": "stream",
          "text": [
            "100%|██████████| 26/26 [00:06<00:00,  4.21it/s]\n"
          ]
        },
        {
          "name": "stdout",
          "output_type": "stream",
          "text": [
            "[ Valid | 097/100 ] loss = 1.30247, acc = 0.70108\n",
            "[ Valid | 097/100 ] loss = 1.30247, acc = 0.70108\n"
          ]
        },
        {
          "name": "stderr",
          "output_type": "stream",
          "text": [
            "100%|██████████| 188/188 [01:04<00:00,  2.93it/s]\n"
          ]
        },
        {
          "name": "stdout",
          "output_type": "stream",
          "text": [
            "[ Train | 098/100 ] loss = 0.13898, acc = 0.95071\n"
          ]
        },
        {
          "name": "stderr",
          "output_type": "stream",
          "text": [
            "100%|██████████| 26/26 [00:05<00:00,  4.37it/s]\n"
          ]
        },
        {
          "name": "stdout",
          "output_type": "stream",
          "text": [
            "[ Valid | 098/100 ] loss = 1.28044, acc = 0.70382\n",
            "[ Valid | 098/100 ] loss = 1.28044, acc = 0.70382\n"
          ]
        },
        {
          "name": "stderr",
          "output_type": "stream",
          "text": [
            "100%|██████████| 188/188 [01:03<00:00,  2.97it/s]\n"
          ]
        },
        {
          "name": "stdout",
          "output_type": "stream",
          "text": [
            "[ Train | 099/100 ] loss = 0.13669, acc = 0.95362\n"
          ]
        },
        {
          "name": "stderr",
          "output_type": "stream",
          "text": [
            "100%|██████████| 26/26 [00:06<00:00,  4.11it/s]\n"
          ]
        },
        {
          "name": "stdout",
          "output_type": "stream",
          "text": [
            "[ Valid | 099/100 ] loss = 1.32967, acc = 0.70319\n",
            "[ Valid | 099/100 ] loss = 1.32967, acc = 0.70319\n"
          ]
        },
        {
          "name": "stderr",
          "output_type": "stream",
          "text": [
            "100%|██████████| 188/188 [01:03<00:00,  2.95it/s]\n"
          ]
        },
        {
          "name": "stdout",
          "output_type": "stream",
          "text": [
            "[ Train | 100/100 ] loss = 0.13468, acc = 0.95637\n"
          ]
        },
        {
          "name": "stderr",
          "output_type": "stream",
          "text": [
            "100%|██████████| 26/26 [00:06<00:00,  4.31it/s]"
          ]
        },
        {
          "name": "stdout",
          "output_type": "stream",
          "text": [
            "[ Valid | 100/100 ] loss = 1.30306, acc = 0.69868\n",
            "[ Valid | 100/100 ] loss = 1.30306, acc = 0.69868\n"
          ]
        },
        {
          "name": "stderr",
          "output_type": "stream",
          "text": [
            "\n"
          ]
        }
      ],
      "source": [
        "optimizer = torch.optim.Adam(resnet.parameters(), lr=0.001, weight_decay=1e-5)\n",
        "lr_scheduler = StepLR(optimizer, step_size=10, gamma=0.5)\n",
        "train_loader, valid_loader = get_dataloader()\n",
        "train(resnet, 100, train_loader, valid_loader, device, criterion, optimizer, lr_scheduler=lr_scheduler, exp_name='strong_resnet', patience=-1)"
      ]
    },
    {
      "cell_type": "markdown",
      "metadata": {},
      "source": [
        "#### Boss Baseline (Acc=0.874)\n",
        "cross validation"
      ]
    },
    {
      "cell_type": "code",
      "execution_count": null,
      "metadata": {},
      "outputs": [],
      "source": [
        "# cross validation\n"
      ]
    },
    {
      "cell_type": "markdown",
      "metadata": {
        "id": "3HemRgZ6WwRM"
      },
      "source": [
        "# Q2. Visual Representations Implementation\n",
        "## Visualize the learned visual representations of the CNN model on the validation set by implementing t-SNE (t-distributed Stochastic Neighbor Embedding) on the output of both top & mid layers (You need to submit 2 images).\n"
      ]
    },
    {
      "cell_type": "code",
      "execution_count": 26,
      "metadata": {
        "id": "iXd_SZnB2Wg8"
      },
      "outputs": [
        {
          "data": {
            "text/plain": [
              "ResNet(\n",
              "  (conv1): Conv2d(3, 64, kernel_size=(7, 7), stride=(2, 2), padding=(3, 3), bias=False)\n",
              "  (bn1): BatchNorm2d(64, eps=1e-05, momentum=0.1, affine=True, track_running_stats=True)\n",
              "  (act1): ReLU(inplace=True)\n",
              "  (maxpool): MaxPool2d(kernel_size=3, stride=2, padding=1, dilation=1, ceil_mode=False)\n",
              "  (layer1): Sequential(\n",
              "    (0): Bottleneck(\n",
              "      (conv1): Conv2d(64, 64, kernel_size=(1, 1), stride=(1, 1), bias=False)\n",
              "      (bn1): BatchNorm2d(64, eps=1e-05, momentum=0.1, affine=True, track_running_stats=True)\n",
              "      (act1): ReLU(inplace=True)\n",
              "      (conv2): Conv2d(64, 64, kernel_size=(3, 3), stride=(1, 1), padding=(1, 1), bias=False)\n",
              "      (bn2): BatchNorm2d(64, eps=1e-05, momentum=0.1, affine=True, track_running_stats=True)\n",
              "      (drop_block): Identity()\n",
              "      (act2): ReLU(inplace=True)\n",
              "      (aa): Identity()\n",
              "      (conv3): Conv2d(64, 256, kernel_size=(1, 1), stride=(1, 1), bias=False)\n",
              "      (bn3): BatchNorm2d(256, eps=1e-05, momentum=0.1, affine=True, track_running_stats=True)\n",
              "      (act3): ReLU(inplace=True)\n",
              "      (downsample): Sequential(\n",
              "        (0): Conv2d(64, 256, kernel_size=(1, 1), stride=(1, 1), bias=False)\n",
              "        (1): BatchNorm2d(256, eps=1e-05, momentum=0.1, affine=True, track_running_stats=True)\n",
              "      )\n",
              "    )\n",
              "    (1): Bottleneck(\n",
              "      (conv1): Conv2d(256, 64, kernel_size=(1, 1), stride=(1, 1), bias=False)\n",
              "      (bn1): BatchNorm2d(64, eps=1e-05, momentum=0.1, affine=True, track_running_stats=True)\n",
              "      (act1): ReLU(inplace=True)\n",
              "      (conv2): Conv2d(64, 64, kernel_size=(3, 3), stride=(1, 1), padding=(1, 1), bias=False)\n",
              "      (bn2): BatchNorm2d(64, eps=1e-05, momentum=0.1, affine=True, track_running_stats=True)\n",
              "      (drop_block): Identity()\n",
              "      (act2): ReLU(inplace=True)\n",
              "      (aa): Identity()\n",
              "      (conv3): Conv2d(64, 256, kernel_size=(1, 1), stride=(1, 1), bias=False)\n",
              "      (bn3): BatchNorm2d(256, eps=1e-05, momentum=0.1, affine=True, track_running_stats=True)\n",
              "      (act3): ReLU(inplace=True)\n",
              "    )\n",
              "    (2): Bottleneck(\n",
              "      (conv1): Conv2d(256, 64, kernel_size=(1, 1), stride=(1, 1), bias=False)\n",
              "      (bn1): BatchNorm2d(64, eps=1e-05, momentum=0.1, affine=True, track_running_stats=True)\n",
              "      (act1): ReLU(inplace=True)\n",
              "      (conv2): Conv2d(64, 64, kernel_size=(3, 3), stride=(1, 1), padding=(1, 1), bias=False)\n",
              "      (bn2): BatchNorm2d(64, eps=1e-05, momentum=0.1, affine=True, track_running_stats=True)\n",
              "      (drop_block): Identity()\n",
              "      (act2): ReLU(inplace=True)\n",
              "      (aa): Identity()\n",
              "      (conv3): Conv2d(64, 256, kernel_size=(1, 1), stride=(1, 1), bias=False)\n",
              "      (bn3): BatchNorm2d(256, eps=1e-05, momentum=0.1, affine=True, track_running_stats=True)\n",
              "      (act3): ReLU(inplace=True)\n",
              "    )\n",
              "  )\n",
              "  (layer2): Sequential(\n",
              "    (0): Bottleneck(\n",
              "      (conv1): Conv2d(256, 128, kernel_size=(1, 1), stride=(1, 1), bias=False)\n",
              "      (bn1): BatchNorm2d(128, eps=1e-05, momentum=0.1, affine=True, track_running_stats=True)\n",
              "      (act1): ReLU(inplace=True)\n",
              "      (conv2): Conv2d(128, 128, kernel_size=(3, 3), stride=(2, 2), padding=(1, 1), bias=False)\n",
              "      (bn2): BatchNorm2d(128, eps=1e-05, momentum=0.1, affine=True, track_running_stats=True)\n",
              "      (drop_block): Identity()\n",
              "      (act2): ReLU(inplace=True)\n",
              "      (aa): Identity()\n",
              "      (conv3): Conv2d(128, 512, kernel_size=(1, 1), stride=(1, 1), bias=False)\n",
              "      (bn3): BatchNorm2d(512, eps=1e-05, momentum=0.1, affine=True, track_running_stats=True)\n",
              "      (act3): ReLU(inplace=True)\n",
              "      (downsample): Sequential(\n",
              "        (0): Conv2d(256, 512, kernel_size=(1, 1), stride=(2, 2), bias=False)\n",
              "        (1): BatchNorm2d(512, eps=1e-05, momentum=0.1, affine=True, track_running_stats=True)\n",
              "      )\n",
              "    )\n",
              "    (1): Bottleneck(\n",
              "      (conv1): Conv2d(512, 128, kernel_size=(1, 1), stride=(1, 1), bias=False)\n",
              "      (bn1): BatchNorm2d(128, eps=1e-05, momentum=0.1, affine=True, track_running_stats=True)\n",
              "      (act1): ReLU(inplace=True)\n",
              "      (conv2): Conv2d(128, 128, kernel_size=(3, 3), stride=(1, 1), padding=(1, 1), bias=False)\n",
              "      (bn2): BatchNorm2d(128, eps=1e-05, momentum=0.1, affine=True, track_running_stats=True)\n",
              "      (drop_block): Identity()\n",
              "      (act2): ReLU(inplace=True)\n",
              "      (aa): Identity()\n",
              "      (conv3): Conv2d(128, 512, kernel_size=(1, 1), stride=(1, 1), bias=False)\n",
              "      (bn3): BatchNorm2d(512, eps=1e-05, momentum=0.1, affine=True, track_running_stats=True)\n",
              "      (act3): ReLU(inplace=True)\n",
              "    )\n",
              "    (2): Bottleneck(\n",
              "      (conv1): Conv2d(512, 128, kernel_size=(1, 1), stride=(1, 1), bias=False)\n",
              "      (bn1): BatchNorm2d(128, eps=1e-05, momentum=0.1, affine=True, track_running_stats=True)\n",
              "      (act1): ReLU(inplace=True)\n",
              "      (conv2): Conv2d(128, 128, kernel_size=(3, 3), stride=(1, 1), padding=(1, 1), bias=False)\n",
              "      (bn2): BatchNorm2d(128, eps=1e-05, momentum=0.1, affine=True, track_running_stats=True)\n",
              "      (drop_block): Identity()\n",
              "      (act2): ReLU(inplace=True)\n",
              "      (aa): Identity()\n",
              "      (conv3): Conv2d(128, 512, kernel_size=(1, 1), stride=(1, 1), bias=False)\n",
              "      (bn3): BatchNorm2d(512, eps=1e-05, momentum=0.1, affine=True, track_running_stats=True)\n",
              "      (act3): ReLU(inplace=True)\n",
              "    )\n",
              "    (3): Bottleneck(\n",
              "      (conv1): Conv2d(512, 128, kernel_size=(1, 1), stride=(1, 1), bias=False)\n",
              "      (bn1): BatchNorm2d(128, eps=1e-05, momentum=0.1, affine=True, track_running_stats=True)\n",
              "      (act1): ReLU(inplace=True)\n",
              "      (conv2): Conv2d(128, 128, kernel_size=(3, 3), stride=(1, 1), padding=(1, 1), bias=False)\n",
              "      (bn2): BatchNorm2d(128, eps=1e-05, momentum=0.1, affine=True, track_running_stats=True)\n",
              "      (drop_block): Identity()\n",
              "      (act2): ReLU(inplace=True)\n",
              "      (aa): Identity()\n",
              "      (conv3): Conv2d(128, 512, kernel_size=(1, 1), stride=(1, 1), bias=False)\n",
              "      (bn3): BatchNorm2d(512, eps=1e-05, momentum=0.1, affine=True, track_running_stats=True)\n",
              "      (act3): ReLU(inplace=True)\n",
              "    )\n",
              "  )\n",
              "  (layer3): Sequential(\n",
              "    (0): Bottleneck(\n",
              "      (conv1): Conv2d(512, 256, kernel_size=(1, 1), stride=(1, 1), bias=False)\n",
              "      (bn1): BatchNorm2d(256, eps=1e-05, momentum=0.1, affine=True, track_running_stats=True)\n",
              "      (act1): ReLU(inplace=True)\n",
              "      (conv2): Conv2d(256, 256, kernel_size=(3, 3), stride=(2, 2), padding=(1, 1), bias=False)\n",
              "      (bn2): BatchNorm2d(256, eps=1e-05, momentum=0.1, affine=True, track_running_stats=True)\n",
              "      (drop_block): Identity()\n",
              "      (act2): ReLU(inplace=True)\n",
              "      (aa): Identity()\n",
              "      (conv3): Conv2d(256, 1024, kernel_size=(1, 1), stride=(1, 1), bias=False)\n",
              "      (bn3): BatchNorm2d(1024, eps=1e-05, momentum=0.1, affine=True, track_running_stats=True)\n",
              "      (act3): ReLU(inplace=True)\n",
              "      (downsample): Sequential(\n",
              "        (0): Conv2d(512, 1024, kernel_size=(1, 1), stride=(2, 2), bias=False)\n",
              "        (1): BatchNorm2d(1024, eps=1e-05, momentum=0.1, affine=True, track_running_stats=True)\n",
              "      )\n",
              "    )\n",
              "    (1): Bottleneck(\n",
              "      (conv1): Conv2d(1024, 256, kernel_size=(1, 1), stride=(1, 1), bias=False)\n",
              "      (bn1): BatchNorm2d(256, eps=1e-05, momentum=0.1, affine=True, track_running_stats=True)\n",
              "      (act1): ReLU(inplace=True)\n",
              "      (conv2): Conv2d(256, 256, kernel_size=(3, 3), stride=(1, 1), padding=(1, 1), bias=False)\n",
              "      (bn2): BatchNorm2d(256, eps=1e-05, momentum=0.1, affine=True, track_running_stats=True)\n",
              "      (drop_block): Identity()\n",
              "      (act2): ReLU(inplace=True)\n",
              "      (aa): Identity()\n",
              "      (conv3): Conv2d(256, 1024, kernel_size=(1, 1), stride=(1, 1), bias=False)\n",
              "      (bn3): BatchNorm2d(1024, eps=1e-05, momentum=0.1, affine=True, track_running_stats=True)\n",
              "      (act3): ReLU(inplace=True)\n",
              "    )\n",
              "    (2): Bottleneck(\n",
              "      (conv1): Conv2d(1024, 256, kernel_size=(1, 1), stride=(1, 1), bias=False)\n",
              "      (bn1): BatchNorm2d(256, eps=1e-05, momentum=0.1, affine=True, track_running_stats=True)\n",
              "      (act1): ReLU(inplace=True)\n",
              "      (conv2): Conv2d(256, 256, kernel_size=(3, 3), stride=(1, 1), padding=(1, 1), bias=False)\n",
              "      (bn2): BatchNorm2d(256, eps=1e-05, momentum=0.1, affine=True, track_running_stats=True)\n",
              "      (drop_block): Identity()\n",
              "      (act2): ReLU(inplace=True)\n",
              "      (aa): Identity()\n",
              "      (conv3): Conv2d(256, 1024, kernel_size=(1, 1), stride=(1, 1), bias=False)\n",
              "      (bn3): BatchNorm2d(1024, eps=1e-05, momentum=0.1, affine=True, track_running_stats=True)\n",
              "      (act3): ReLU(inplace=True)\n",
              "    )\n",
              "    (3): Bottleneck(\n",
              "      (conv1): Conv2d(1024, 256, kernel_size=(1, 1), stride=(1, 1), bias=False)\n",
              "      (bn1): BatchNorm2d(256, eps=1e-05, momentum=0.1, affine=True, track_running_stats=True)\n",
              "      (act1): ReLU(inplace=True)\n",
              "      (conv2): Conv2d(256, 256, kernel_size=(3, 3), stride=(1, 1), padding=(1, 1), bias=False)\n",
              "      (bn2): BatchNorm2d(256, eps=1e-05, momentum=0.1, affine=True, track_running_stats=True)\n",
              "      (drop_block): Identity()\n",
              "      (act2): ReLU(inplace=True)\n",
              "      (aa): Identity()\n",
              "      (conv3): Conv2d(256, 1024, kernel_size=(1, 1), stride=(1, 1), bias=False)\n",
              "      (bn3): BatchNorm2d(1024, eps=1e-05, momentum=0.1, affine=True, track_running_stats=True)\n",
              "      (act3): ReLU(inplace=True)\n",
              "    )\n",
              "    (4): Bottleneck(\n",
              "      (conv1): Conv2d(1024, 256, kernel_size=(1, 1), stride=(1, 1), bias=False)\n",
              "      (bn1): BatchNorm2d(256, eps=1e-05, momentum=0.1, affine=True, track_running_stats=True)\n",
              "      (act1): ReLU(inplace=True)\n",
              "      (conv2): Conv2d(256, 256, kernel_size=(3, 3), stride=(1, 1), padding=(1, 1), bias=False)\n",
              "      (bn2): BatchNorm2d(256, eps=1e-05, momentum=0.1, affine=True, track_running_stats=True)\n",
              "      (drop_block): Identity()\n",
              "      (act2): ReLU(inplace=True)\n",
              "      (aa): Identity()\n",
              "      (conv3): Conv2d(256, 1024, kernel_size=(1, 1), stride=(1, 1), bias=False)\n",
              "      (bn3): BatchNorm2d(1024, eps=1e-05, momentum=0.1, affine=True, track_running_stats=True)\n",
              "      (act3): ReLU(inplace=True)\n",
              "    )\n",
              "    (5): Bottleneck(\n",
              "      (conv1): Conv2d(1024, 256, kernel_size=(1, 1), stride=(1, 1), bias=False)\n",
              "      (bn1): BatchNorm2d(256, eps=1e-05, momentum=0.1, affine=True, track_running_stats=True)\n",
              "      (act1): ReLU(inplace=True)\n",
              "      (conv2): Conv2d(256, 256, kernel_size=(3, 3), stride=(1, 1), padding=(1, 1), bias=False)\n",
              "      (bn2): BatchNorm2d(256, eps=1e-05, momentum=0.1, affine=True, track_running_stats=True)\n",
              "      (drop_block): Identity()\n",
              "      (act2): ReLU(inplace=True)\n",
              "      (aa): Identity()\n",
              "      (conv3): Conv2d(256, 1024, kernel_size=(1, 1), stride=(1, 1), bias=False)\n",
              "      (bn3): BatchNorm2d(1024, eps=1e-05, momentum=0.1, affine=True, track_running_stats=True)\n",
              "      (act3): ReLU(inplace=True)\n",
              "    )\n",
              "    (6): Bottleneck(\n",
              "      (conv1): Conv2d(1024, 256, kernel_size=(1, 1), stride=(1, 1), bias=False)\n",
              "      (bn1): BatchNorm2d(256, eps=1e-05, momentum=0.1, affine=True, track_running_stats=True)\n",
              "      (act1): ReLU(inplace=True)\n",
              "      (conv2): Conv2d(256, 256, kernel_size=(3, 3), stride=(1, 1), padding=(1, 1), bias=False)\n",
              "      (bn2): BatchNorm2d(256, eps=1e-05, momentum=0.1, affine=True, track_running_stats=True)\n",
              "      (drop_block): Identity()\n",
              "      (act2): ReLU(inplace=True)\n",
              "      (aa): Identity()\n",
              "      (conv3): Conv2d(256, 1024, kernel_size=(1, 1), stride=(1, 1), bias=False)\n",
              "      (bn3): BatchNorm2d(1024, eps=1e-05, momentum=0.1, affine=True, track_running_stats=True)\n",
              "      (act3): ReLU(inplace=True)\n",
              "    )\n",
              "    (7): Bottleneck(\n",
              "      (conv1): Conv2d(1024, 256, kernel_size=(1, 1), stride=(1, 1), bias=False)\n",
              "      (bn1): BatchNorm2d(256, eps=1e-05, momentum=0.1, affine=True, track_running_stats=True)\n",
              "      (act1): ReLU(inplace=True)\n",
              "      (conv2): Conv2d(256, 256, kernel_size=(3, 3), stride=(1, 1), padding=(1, 1), bias=False)\n",
              "      (bn2): BatchNorm2d(256, eps=1e-05, momentum=0.1, affine=True, track_running_stats=True)\n",
              "      (drop_block): Identity()\n",
              "      (act2): ReLU(inplace=True)\n",
              "      (aa): Identity()\n",
              "      (conv3): Conv2d(256, 1024, kernel_size=(1, 1), stride=(1, 1), bias=False)\n",
              "      (bn3): BatchNorm2d(1024, eps=1e-05, momentum=0.1, affine=True, track_running_stats=True)\n",
              "      (act3): ReLU(inplace=True)\n",
              "    )\n",
              "    (8): Bottleneck(\n",
              "      (conv1): Conv2d(1024, 256, kernel_size=(1, 1), stride=(1, 1), bias=False)\n",
              "      (bn1): BatchNorm2d(256, eps=1e-05, momentum=0.1, affine=True, track_running_stats=True)\n",
              "      (act1): ReLU(inplace=True)\n",
              "      (conv2): Conv2d(256, 256, kernel_size=(3, 3), stride=(1, 1), padding=(1, 1), bias=False)\n",
              "      (bn2): BatchNorm2d(256, eps=1e-05, momentum=0.1, affine=True, track_running_stats=True)\n",
              "      (drop_block): Identity()\n",
              "      (act2): ReLU(inplace=True)\n",
              "      (aa): Identity()\n",
              "      (conv3): Conv2d(256, 1024, kernel_size=(1, 1), stride=(1, 1), bias=False)\n",
              "      (bn3): BatchNorm2d(1024, eps=1e-05, momentum=0.1, affine=True, track_running_stats=True)\n",
              "      (act3): ReLU(inplace=True)\n",
              "    )\n",
              "    (9): Bottleneck(\n",
              "      (conv1): Conv2d(1024, 256, kernel_size=(1, 1), stride=(1, 1), bias=False)\n",
              "      (bn1): BatchNorm2d(256, eps=1e-05, momentum=0.1, affine=True, track_running_stats=True)\n",
              "      (act1): ReLU(inplace=True)\n",
              "      (conv2): Conv2d(256, 256, kernel_size=(3, 3), stride=(1, 1), padding=(1, 1), bias=False)\n",
              "      (bn2): BatchNorm2d(256, eps=1e-05, momentum=0.1, affine=True, track_running_stats=True)\n",
              "      (drop_block): Identity()\n",
              "      (act2): ReLU(inplace=True)\n",
              "      (aa): Identity()\n",
              "      (conv3): Conv2d(256, 1024, kernel_size=(1, 1), stride=(1, 1), bias=False)\n",
              "      (bn3): BatchNorm2d(1024, eps=1e-05, momentum=0.1, affine=True, track_running_stats=True)\n",
              "      (act3): ReLU(inplace=True)\n",
              "    )\n",
              "    (10): Bottleneck(\n",
              "      (conv1): Conv2d(1024, 256, kernel_size=(1, 1), stride=(1, 1), bias=False)\n",
              "      (bn1): BatchNorm2d(256, eps=1e-05, momentum=0.1, affine=True, track_running_stats=True)\n",
              "      (act1): ReLU(inplace=True)\n",
              "      (conv2): Conv2d(256, 256, kernel_size=(3, 3), stride=(1, 1), padding=(1, 1), bias=False)\n",
              "      (bn2): BatchNorm2d(256, eps=1e-05, momentum=0.1, affine=True, track_running_stats=True)\n",
              "      (drop_block): Identity()\n",
              "      (act2): ReLU(inplace=True)\n",
              "      (aa): Identity()\n",
              "      (conv3): Conv2d(256, 1024, kernel_size=(1, 1), stride=(1, 1), bias=False)\n",
              "      (bn3): BatchNorm2d(1024, eps=1e-05, momentum=0.1, affine=True, track_running_stats=True)\n",
              "      (act3): ReLU(inplace=True)\n",
              "    )\n",
              "    (11): Bottleneck(\n",
              "      (conv1): Conv2d(1024, 256, kernel_size=(1, 1), stride=(1, 1), bias=False)\n",
              "      (bn1): BatchNorm2d(256, eps=1e-05, momentum=0.1, affine=True, track_running_stats=True)\n",
              "      (act1): ReLU(inplace=True)\n",
              "      (conv2): Conv2d(256, 256, kernel_size=(3, 3), stride=(1, 1), padding=(1, 1), bias=False)\n",
              "      (bn2): BatchNorm2d(256, eps=1e-05, momentum=0.1, affine=True, track_running_stats=True)\n",
              "      (drop_block): Identity()\n",
              "      (act2): ReLU(inplace=True)\n",
              "      (aa): Identity()\n",
              "      (conv3): Conv2d(256, 1024, kernel_size=(1, 1), stride=(1, 1), bias=False)\n",
              "      (bn3): BatchNorm2d(1024, eps=1e-05, momentum=0.1, affine=True, track_running_stats=True)\n",
              "      (act3): ReLU(inplace=True)\n",
              "    )\n",
              "    (12): Bottleneck(\n",
              "      (conv1): Conv2d(1024, 256, kernel_size=(1, 1), stride=(1, 1), bias=False)\n",
              "      (bn1): BatchNorm2d(256, eps=1e-05, momentum=0.1, affine=True, track_running_stats=True)\n",
              "      (act1): ReLU(inplace=True)\n",
              "      (conv2): Conv2d(256, 256, kernel_size=(3, 3), stride=(1, 1), padding=(1, 1), bias=False)\n",
              "      (bn2): BatchNorm2d(256, eps=1e-05, momentum=0.1, affine=True, track_running_stats=True)\n",
              "      (drop_block): Identity()\n",
              "      (act2): ReLU(inplace=True)\n",
              "      (aa): Identity()\n",
              "      (conv3): Conv2d(256, 1024, kernel_size=(1, 1), stride=(1, 1), bias=False)\n",
              "      (bn3): BatchNorm2d(1024, eps=1e-05, momentum=0.1, affine=True, track_running_stats=True)\n",
              "      (act3): ReLU(inplace=True)\n",
              "    )\n",
              "    (13): Bottleneck(\n",
              "      (conv1): Conv2d(1024, 256, kernel_size=(1, 1), stride=(1, 1), bias=False)\n",
              "      (bn1): BatchNorm2d(256, eps=1e-05, momentum=0.1, affine=True, track_running_stats=True)\n",
              "      (act1): ReLU(inplace=True)\n",
              "      (conv2): Conv2d(256, 256, kernel_size=(3, 3), stride=(1, 1), padding=(1, 1), bias=False)\n",
              "      (bn2): BatchNorm2d(256, eps=1e-05, momentum=0.1, affine=True, track_running_stats=True)\n",
              "      (drop_block): Identity()\n",
              "      (act2): ReLU(inplace=True)\n",
              "      (aa): Identity()\n",
              "      (conv3): Conv2d(256, 1024, kernel_size=(1, 1), stride=(1, 1), bias=False)\n",
              "      (bn3): BatchNorm2d(1024, eps=1e-05, momentum=0.1, affine=True, track_running_stats=True)\n",
              "      (act3): ReLU(inplace=True)\n",
              "    )\n",
              "    (14): Bottleneck(\n",
              "      (conv1): Conv2d(1024, 256, kernel_size=(1, 1), stride=(1, 1), bias=False)\n",
              "      (bn1): BatchNorm2d(256, eps=1e-05, momentum=0.1, affine=True, track_running_stats=True)\n",
              "      (act1): ReLU(inplace=True)\n",
              "      (conv2): Conv2d(256, 256, kernel_size=(3, 3), stride=(1, 1), padding=(1, 1), bias=False)\n",
              "      (bn2): BatchNorm2d(256, eps=1e-05, momentum=0.1, affine=True, track_running_stats=True)\n",
              "      (drop_block): Identity()\n",
              "      (act2): ReLU(inplace=True)\n",
              "      (aa): Identity()\n",
              "      (conv3): Conv2d(256, 1024, kernel_size=(1, 1), stride=(1, 1), bias=False)\n",
              "      (bn3): BatchNorm2d(1024, eps=1e-05, momentum=0.1, affine=True, track_running_stats=True)\n",
              "      (act3): ReLU(inplace=True)\n",
              "    )\n",
              "    (15): Bottleneck(\n",
              "      (conv1): Conv2d(1024, 256, kernel_size=(1, 1), stride=(1, 1), bias=False)\n",
              "      (bn1): BatchNorm2d(256, eps=1e-05, momentum=0.1, affine=True, track_running_stats=True)\n",
              "      (act1): ReLU(inplace=True)\n",
              "      (conv2): Conv2d(256, 256, kernel_size=(3, 3), stride=(1, 1), padding=(1, 1), bias=False)\n",
              "      (bn2): BatchNorm2d(256, eps=1e-05, momentum=0.1, affine=True, track_running_stats=True)\n",
              "      (drop_block): Identity()\n",
              "      (act2): ReLU(inplace=True)\n",
              "      (aa): Identity()\n",
              "      (conv3): Conv2d(256, 1024, kernel_size=(1, 1), stride=(1, 1), bias=False)\n",
              "      (bn3): BatchNorm2d(1024, eps=1e-05, momentum=0.1, affine=True, track_running_stats=True)\n",
              "      (act3): ReLU(inplace=True)\n",
              "    )\n",
              "    (16): Bottleneck(\n",
              "      (conv1): Conv2d(1024, 256, kernel_size=(1, 1), stride=(1, 1), bias=False)\n",
              "      (bn1): BatchNorm2d(256, eps=1e-05, momentum=0.1, affine=True, track_running_stats=True)\n",
              "      (act1): ReLU(inplace=True)\n",
              "      (conv2): Conv2d(256, 256, kernel_size=(3, 3), stride=(1, 1), padding=(1, 1), bias=False)\n",
              "      (bn2): BatchNorm2d(256, eps=1e-05, momentum=0.1, affine=True, track_running_stats=True)\n",
              "      (drop_block): Identity()\n",
              "      (act2): ReLU(inplace=True)\n",
              "      (aa): Identity()\n",
              "      (conv3): Conv2d(256, 1024, kernel_size=(1, 1), stride=(1, 1), bias=False)\n",
              "      (bn3): BatchNorm2d(1024, eps=1e-05, momentum=0.1, affine=True, track_running_stats=True)\n",
              "      (act3): ReLU(inplace=True)\n",
              "    )\n",
              "    (17): Bottleneck(\n",
              "      (conv1): Conv2d(1024, 256, kernel_size=(1, 1), stride=(1, 1), bias=False)\n",
              "      (bn1): BatchNorm2d(256, eps=1e-05, momentum=0.1, affine=True, track_running_stats=True)\n",
              "      (act1): ReLU(inplace=True)\n",
              "      (conv2): Conv2d(256, 256, kernel_size=(3, 3), stride=(1, 1), padding=(1, 1), bias=False)\n",
              "      (bn2): BatchNorm2d(256, eps=1e-05, momentum=0.1, affine=True, track_running_stats=True)\n",
              "      (drop_block): Identity()\n",
              "      (act2): ReLU(inplace=True)\n",
              "      (aa): Identity()\n",
              "      (conv3): Conv2d(256, 1024, kernel_size=(1, 1), stride=(1, 1), bias=False)\n",
              "      (bn3): BatchNorm2d(1024, eps=1e-05, momentum=0.1, affine=True, track_running_stats=True)\n",
              "      (act3): ReLU(inplace=True)\n",
              "    )\n",
              "    (18): Bottleneck(\n",
              "      (conv1): Conv2d(1024, 256, kernel_size=(1, 1), stride=(1, 1), bias=False)\n",
              "      (bn1): BatchNorm2d(256, eps=1e-05, momentum=0.1, affine=True, track_running_stats=True)\n",
              "      (act1): ReLU(inplace=True)\n",
              "      (conv2): Conv2d(256, 256, kernel_size=(3, 3), stride=(1, 1), padding=(1, 1), bias=False)\n",
              "      (bn2): BatchNorm2d(256, eps=1e-05, momentum=0.1, affine=True, track_running_stats=True)\n",
              "      (drop_block): Identity()\n",
              "      (act2): ReLU(inplace=True)\n",
              "      (aa): Identity()\n",
              "      (conv3): Conv2d(256, 1024, kernel_size=(1, 1), stride=(1, 1), bias=False)\n",
              "      (bn3): BatchNorm2d(1024, eps=1e-05, momentum=0.1, affine=True, track_running_stats=True)\n",
              "      (act3): ReLU(inplace=True)\n",
              "    )\n",
              "    (19): Bottleneck(\n",
              "      (conv1): Conv2d(1024, 256, kernel_size=(1, 1), stride=(1, 1), bias=False)\n",
              "      (bn1): BatchNorm2d(256, eps=1e-05, momentum=0.1, affine=True, track_running_stats=True)\n",
              "      (act1): ReLU(inplace=True)\n",
              "      (conv2): Conv2d(256, 256, kernel_size=(3, 3), stride=(1, 1), padding=(1, 1), bias=False)\n",
              "      (bn2): BatchNorm2d(256, eps=1e-05, momentum=0.1, affine=True, track_running_stats=True)\n",
              "      (drop_block): Identity()\n",
              "      (act2): ReLU(inplace=True)\n",
              "      (aa): Identity()\n",
              "      (conv3): Conv2d(256, 1024, kernel_size=(1, 1), stride=(1, 1), bias=False)\n",
              "      (bn3): BatchNorm2d(1024, eps=1e-05, momentum=0.1, affine=True, track_running_stats=True)\n",
              "      (act3): ReLU(inplace=True)\n",
              "    )\n",
              "    (20): Bottleneck(\n",
              "      (conv1): Conv2d(1024, 256, kernel_size=(1, 1), stride=(1, 1), bias=False)\n",
              "      (bn1): BatchNorm2d(256, eps=1e-05, momentum=0.1, affine=True, track_running_stats=True)\n",
              "      (act1): ReLU(inplace=True)\n",
              "      (conv2): Conv2d(256, 256, kernel_size=(3, 3), stride=(1, 1), padding=(1, 1), bias=False)\n",
              "      (bn2): BatchNorm2d(256, eps=1e-05, momentum=0.1, affine=True, track_running_stats=True)\n",
              "      (drop_block): Identity()\n",
              "      (act2): ReLU(inplace=True)\n",
              "      (aa): Identity()\n",
              "      (conv3): Conv2d(256, 1024, kernel_size=(1, 1), stride=(1, 1), bias=False)\n",
              "      (bn3): BatchNorm2d(1024, eps=1e-05, momentum=0.1, affine=True, track_running_stats=True)\n",
              "      (act3): ReLU(inplace=True)\n",
              "    )\n",
              "    (21): Bottleneck(\n",
              "      (conv1): Conv2d(1024, 256, kernel_size=(1, 1), stride=(1, 1), bias=False)\n",
              "      (bn1): BatchNorm2d(256, eps=1e-05, momentum=0.1, affine=True, track_running_stats=True)\n",
              "      (act1): ReLU(inplace=True)\n",
              "      (conv2): Conv2d(256, 256, kernel_size=(3, 3), stride=(1, 1), padding=(1, 1), bias=False)\n",
              "      (bn2): BatchNorm2d(256, eps=1e-05, momentum=0.1, affine=True, track_running_stats=True)\n",
              "      (drop_block): Identity()\n",
              "      (act2): ReLU(inplace=True)\n",
              "      (aa): Identity()\n",
              "      (conv3): Conv2d(256, 1024, kernel_size=(1, 1), stride=(1, 1), bias=False)\n",
              "      (bn3): BatchNorm2d(1024, eps=1e-05, momentum=0.1, affine=True, track_running_stats=True)\n",
              "      (act3): ReLU(inplace=True)\n",
              "    )\n",
              "    (22): Bottleneck(\n",
              "      (conv1): Conv2d(1024, 256, kernel_size=(1, 1), stride=(1, 1), bias=False)\n",
              "      (bn1): BatchNorm2d(256, eps=1e-05, momentum=0.1, affine=True, track_running_stats=True)\n",
              "      (act1): ReLU(inplace=True)\n",
              "      (conv2): Conv2d(256, 256, kernel_size=(3, 3), stride=(1, 1), padding=(1, 1), bias=False)\n",
              "      (bn2): BatchNorm2d(256, eps=1e-05, momentum=0.1, affine=True, track_running_stats=True)\n",
              "      (drop_block): Identity()\n",
              "      (act2): ReLU(inplace=True)\n",
              "      (aa): Identity()\n",
              "      (conv3): Conv2d(256, 1024, kernel_size=(1, 1), stride=(1, 1), bias=False)\n",
              "      (bn3): BatchNorm2d(1024, eps=1e-05, momentum=0.1, affine=True, track_running_stats=True)\n",
              "      (act3): ReLU(inplace=True)\n",
              "    )\n",
              "  )\n",
              "  (layer4): Sequential(\n",
              "    (0): Bottleneck(\n",
              "      (conv1): Conv2d(1024, 512, kernel_size=(1, 1), stride=(1, 1), bias=False)\n",
              "      (bn1): BatchNorm2d(512, eps=1e-05, momentum=0.1, affine=True, track_running_stats=True)\n",
              "      (act1): ReLU(inplace=True)\n",
              "      (conv2): Conv2d(512, 512, kernel_size=(3, 3), stride=(2, 2), padding=(1, 1), bias=False)\n",
              "      (bn2): BatchNorm2d(512, eps=1e-05, momentum=0.1, affine=True, track_running_stats=True)\n",
              "      (drop_block): Identity()\n",
              "      (act2): ReLU(inplace=True)\n",
              "      (aa): Identity()\n",
              "      (conv3): Conv2d(512, 2048, kernel_size=(1, 1), stride=(1, 1), bias=False)\n",
              "      (bn3): BatchNorm2d(2048, eps=1e-05, momentum=0.1, affine=True, track_running_stats=True)\n",
              "      (act3): ReLU(inplace=True)\n",
              "      (downsample): Sequential(\n",
              "        (0): Conv2d(1024, 2048, kernel_size=(1, 1), stride=(2, 2), bias=False)\n",
              "        (1): BatchNorm2d(2048, eps=1e-05, momentum=0.1, affine=True, track_running_stats=True)\n",
              "      )\n",
              "    )\n",
              "    (1): Bottleneck(\n",
              "      (conv1): Conv2d(2048, 512, kernel_size=(1, 1), stride=(1, 1), bias=False)\n",
              "      (bn1): BatchNorm2d(512, eps=1e-05, momentum=0.1, affine=True, track_running_stats=True)\n",
              "      (act1): ReLU(inplace=True)\n",
              "      (conv2): Conv2d(512, 512, kernel_size=(3, 3), stride=(1, 1), padding=(1, 1), bias=False)\n",
              "      (bn2): BatchNorm2d(512, eps=1e-05, momentum=0.1, affine=True, track_running_stats=True)\n",
              "      (drop_block): Identity()\n",
              "      (act2): ReLU(inplace=True)\n",
              "      (aa): Identity()\n",
              "      (conv3): Conv2d(512, 2048, kernel_size=(1, 1), stride=(1, 1), bias=False)\n",
              "      (bn3): BatchNorm2d(2048, eps=1e-05, momentum=0.1, affine=True, track_running_stats=True)\n",
              "      (act3): ReLU(inplace=True)\n",
              "    )\n",
              "    (2): Bottleneck(\n",
              "      (conv1): Conv2d(2048, 512, kernel_size=(1, 1), stride=(1, 1), bias=False)\n",
              "      (bn1): BatchNorm2d(512, eps=1e-05, momentum=0.1, affine=True, track_running_stats=True)\n",
              "      (act1): ReLU(inplace=True)\n",
              "      (conv2): Conv2d(512, 512, kernel_size=(3, 3), stride=(1, 1), padding=(1, 1), bias=False)\n",
              "      (bn2): BatchNorm2d(512, eps=1e-05, momentum=0.1, affine=True, track_running_stats=True)\n",
              "      (drop_block): Identity()\n",
              "      (act2): ReLU(inplace=True)\n",
              "      (aa): Identity()\n",
              "      (conv3): Conv2d(512, 2048, kernel_size=(1, 1), stride=(1, 1), bias=False)\n",
              "      (bn3): BatchNorm2d(2048, eps=1e-05, momentum=0.1, affine=True, track_running_stats=True)\n",
              "      (act3): ReLU(inplace=True)\n",
              "    )\n",
              "  )\n",
              "  (global_pool): SelectAdaptivePool2d(pool_type=avg, flatten=Flatten(start_dim=1, end_dim=-1))\n",
              "  (fc): Linear(in_features=2048, out_features=11, bias=True)\n",
              ")"
            ]
          },
          "execution_count": 26,
          "metadata": {},
          "output_type": "execute_result"
        }
      ],
      "source": [
        "import torch\n",
        "import numpy as np\n",
        "from sklearn.manifold import TSNE\n",
        "import matplotlib.pyplot as plt\n",
        "from tqdm import tqdm\n",
        "import matplotlib.cm as cm\n",
        "\n",
        "device = 'cuda' if torch.cuda.is_available() else 'cpu'\n",
        "exp_name = 'strong_resnet'\n",
        "# Load the trained model\n",
        "model = resnet\n",
        "state_dict = torch.load(f\"{exp_name}_best.ckpt\")\n",
        "model.load_state_dict(state_dict)\n",
        "model.eval()"
      ]
    },
    {
      "cell_type": "code",
      "execution_count": 27,
      "metadata": {},
      "outputs": [
        {
          "data": {
            "text/plain": [
              "==========================================================================================\n",
              "Layer (type:depth-idx)                   Output Shape              Param #\n",
              "==========================================================================================\n",
              "ResNet                                   [1, 11]                   --\n",
              "├─Conv2d: 1-1                            [1, 64, 64, 64]           9,408\n",
              "├─BatchNorm2d: 1-2                       [1, 64, 64, 64]           128\n",
              "├─ReLU: 1-3                              [1, 64, 64, 64]           --\n",
              "├─MaxPool2d: 1-4                         [1, 64, 32, 32]           --\n",
              "├─Sequential: 1-5                        [1, 256, 32, 32]          --\n",
              "│    └─Bottleneck: 2-1                   [1, 256, 32, 32]          --\n",
              "│    │    └─Conv2d: 3-1                  [1, 64, 32, 32]           4,096\n",
              "│    │    └─BatchNorm2d: 3-2             [1, 64, 32, 32]           128\n",
              "│    │    └─ReLU: 3-3                    [1, 64, 32, 32]           --\n",
              "│    │    └─Conv2d: 3-4                  [1, 64, 32, 32]           36,864\n",
              "│    │    └─BatchNorm2d: 3-5             [1, 64, 32, 32]           128\n",
              "│    │    └─Identity: 3-6                [1, 64, 32, 32]           --\n",
              "│    │    └─ReLU: 3-7                    [1, 64, 32, 32]           --\n",
              "│    │    └─Identity: 3-8                [1, 64, 32, 32]           --\n",
              "│    │    └─Conv2d: 3-9                  [1, 256, 32, 32]          16,384\n",
              "│    │    └─BatchNorm2d: 3-10            [1, 256, 32, 32]          512\n",
              "│    │    └─Sequential: 3-11             [1, 256, 32, 32]          16,896\n",
              "│    │    └─ReLU: 3-12                   [1, 256, 32, 32]          --\n",
              "│    └─Bottleneck: 2-2                   [1, 256, 32, 32]          --\n",
              "│    │    └─Conv2d: 3-13                 [1, 64, 32, 32]           16,384\n",
              "│    │    └─BatchNorm2d: 3-14            [1, 64, 32, 32]           128\n",
              "│    │    └─ReLU: 3-15                   [1, 64, 32, 32]           --\n",
              "│    │    └─Conv2d: 3-16                 [1, 64, 32, 32]           36,864\n",
              "│    │    └─BatchNorm2d: 3-17            [1, 64, 32, 32]           128\n",
              "│    │    └─Identity: 3-18               [1, 64, 32, 32]           --\n",
              "│    │    └─ReLU: 3-19                   [1, 64, 32, 32]           --\n",
              "│    │    └─Identity: 3-20               [1, 64, 32, 32]           --\n",
              "│    │    └─Conv2d: 3-21                 [1, 256, 32, 32]          16,384\n",
              "│    │    └─BatchNorm2d: 3-22            [1, 256, 32, 32]          512\n",
              "│    │    └─ReLU: 3-23                   [1, 256, 32, 32]          --\n",
              "│    └─Bottleneck: 2-3                   [1, 256, 32, 32]          --\n",
              "│    │    └─Conv2d: 3-24                 [1, 64, 32, 32]           16,384\n",
              "│    │    └─BatchNorm2d: 3-25            [1, 64, 32, 32]           128\n",
              "│    │    └─ReLU: 3-26                   [1, 64, 32, 32]           --\n",
              "│    │    └─Conv2d: 3-27                 [1, 64, 32, 32]           36,864\n",
              "│    │    └─BatchNorm2d: 3-28            [1, 64, 32, 32]           128\n",
              "│    │    └─Identity: 3-29               [1, 64, 32, 32]           --\n",
              "│    │    └─ReLU: 3-30                   [1, 64, 32, 32]           --\n",
              "│    │    └─Identity: 3-31               [1, 64, 32, 32]           --\n",
              "│    │    └─Conv2d: 3-32                 [1, 256, 32, 32]          16,384\n",
              "│    │    └─BatchNorm2d: 3-33            [1, 256, 32, 32]          512\n",
              "│    │    └─ReLU: 3-34                   [1, 256, 32, 32]          --\n",
              "├─Sequential: 1-6                        [1, 512, 16, 16]          --\n",
              "│    └─Bottleneck: 2-4                   [1, 512, 16, 16]          --\n",
              "│    │    └─Conv2d: 3-35                 [1, 128, 32, 32]          32,768\n",
              "│    │    └─BatchNorm2d: 3-36            [1, 128, 32, 32]          256\n",
              "│    │    └─ReLU: 3-37                   [1, 128, 32, 32]          --\n",
              "│    │    └─Conv2d: 3-38                 [1, 128, 16, 16]          147,456\n",
              "│    │    └─BatchNorm2d: 3-39            [1, 128, 16, 16]          256\n",
              "│    │    └─Identity: 3-40               [1, 128, 16, 16]          --\n",
              "│    │    └─ReLU: 3-41                   [1, 128, 16, 16]          --\n",
              "│    │    └─Identity: 3-42               [1, 128, 16, 16]          --\n",
              "│    │    └─Conv2d: 3-43                 [1, 512, 16, 16]          65,536\n",
              "│    │    └─BatchNorm2d: 3-44            [1, 512, 16, 16]          1,024\n",
              "│    │    └─Sequential: 3-45             [1, 512, 16, 16]          132,096\n",
              "│    │    └─ReLU: 3-46                   [1, 512, 16, 16]          --\n",
              "│    └─Bottleneck: 2-5                   [1, 512, 16, 16]          --\n",
              "│    │    └─Conv2d: 3-47                 [1, 128, 16, 16]          65,536\n",
              "│    │    └─BatchNorm2d: 3-48            [1, 128, 16, 16]          256\n",
              "│    │    └─ReLU: 3-49                   [1, 128, 16, 16]          --\n",
              "│    │    └─Conv2d: 3-50                 [1, 128, 16, 16]          147,456\n",
              "│    │    └─BatchNorm2d: 3-51            [1, 128, 16, 16]          256\n",
              "│    │    └─Identity: 3-52               [1, 128, 16, 16]          --\n",
              "│    │    └─ReLU: 3-53                   [1, 128, 16, 16]          --\n",
              "│    │    └─Identity: 3-54               [1, 128, 16, 16]          --\n",
              "│    │    └─Conv2d: 3-55                 [1, 512, 16, 16]          65,536\n",
              "│    │    └─BatchNorm2d: 3-56            [1, 512, 16, 16]          1,024\n",
              "│    │    └─ReLU: 3-57                   [1, 512, 16, 16]          --\n",
              "│    └─Bottleneck: 2-6                   [1, 512, 16, 16]          --\n",
              "│    │    └─Conv2d: 3-58                 [1, 128, 16, 16]          65,536\n",
              "│    │    └─BatchNorm2d: 3-59            [1, 128, 16, 16]          256\n",
              "│    │    └─ReLU: 3-60                   [1, 128, 16, 16]          --\n",
              "│    │    └─Conv2d: 3-61                 [1, 128, 16, 16]          147,456\n",
              "│    │    └─BatchNorm2d: 3-62            [1, 128, 16, 16]          256\n",
              "│    │    └─Identity: 3-63               [1, 128, 16, 16]          --\n",
              "│    │    └─ReLU: 3-64                   [1, 128, 16, 16]          --\n",
              "│    │    └─Identity: 3-65               [1, 128, 16, 16]          --\n",
              "│    │    └─Conv2d: 3-66                 [1, 512, 16, 16]          65,536\n",
              "│    │    └─BatchNorm2d: 3-67            [1, 512, 16, 16]          1,024\n",
              "│    │    └─ReLU: 3-68                   [1, 512, 16, 16]          --\n",
              "│    └─Bottleneck: 2-7                   [1, 512, 16, 16]          --\n",
              "│    │    └─Conv2d: 3-69                 [1, 128, 16, 16]          65,536\n",
              "│    │    └─BatchNorm2d: 3-70            [1, 128, 16, 16]          256\n",
              "│    │    └─ReLU: 3-71                   [1, 128, 16, 16]          --\n",
              "│    │    └─Conv2d: 3-72                 [1, 128, 16, 16]          147,456\n",
              "│    │    └─BatchNorm2d: 3-73            [1, 128, 16, 16]          256\n",
              "│    │    └─Identity: 3-74               [1, 128, 16, 16]          --\n",
              "│    │    └─ReLU: 3-75                   [1, 128, 16, 16]          --\n",
              "│    │    └─Identity: 3-76               [1, 128, 16, 16]          --\n",
              "│    │    └─Conv2d: 3-77                 [1, 512, 16, 16]          65,536\n",
              "│    │    └─BatchNorm2d: 3-78            [1, 512, 16, 16]          1,024\n",
              "│    │    └─ReLU: 3-79                   [1, 512, 16, 16]          --\n",
              "├─Sequential: 1-7                        [1, 1024, 8, 8]           --\n",
              "│    └─Bottleneck: 2-8                   [1, 1024, 8, 8]           --\n",
              "│    │    └─Conv2d: 3-80                 [1, 256, 16, 16]          131,072\n",
              "│    │    └─BatchNorm2d: 3-81            [1, 256, 16, 16]          512\n",
              "│    │    └─ReLU: 3-82                   [1, 256, 16, 16]          --\n",
              "│    │    └─Conv2d: 3-83                 [1, 256, 8, 8]            589,824\n",
              "│    │    └─BatchNorm2d: 3-84            [1, 256, 8, 8]            512\n",
              "│    │    └─Identity: 3-85               [1, 256, 8, 8]            --\n",
              "│    │    └─ReLU: 3-86                   [1, 256, 8, 8]            --\n",
              "│    │    └─Identity: 3-87               [1, 256, 8, 8]            --\n",
              "│    │    └─Conv2d: 3-88                 [1, 1024, 8, 8]           262,144\n",
              "│    │    └─BatchNorm2d: 3-89            [1, 1024, 8, 8]           2,048\n",
              "│    │    └─Sequential: 3-90             [1, 1024, 8, 8]           526,336\n",
              "│    │    └─ReLU: 3-91                   [1, 1024, 8, 8]           --\n",
              "│    └─Bottleneck: 2-9                   [1, 1024, 8, 8]           --\n",
              "│    │    └─Conv2d: 3-92                 [1, 256, 8, 8]            262,144\n",
              "│    │    └─BatchNorm2d: 3-93            [1, 256, 8, 8]            512\n",
              "│    │    └─ReLU: 3-94                   [1, 256, 8, 8]            --\n",
              "│    │    └─Conv2d: 3-95                 [1, 256, 8, 8]            589,824\n",
              "│    │    └─BatchNorm2d: 3-96            [1, 256, 8, 8]            512\n",
              "│    │    └─Identity: 3-97               [1, 256, 8, 8]            --\n",
              "│    │    └─ReLU: 3-98                   [1, 256, 8, 8]            --\n",
              "│    │    └─Identity: 3-99               [1, 256, 8, 8]            --\n",
              "│    │    └─Conv2d: 3-100                [1, 1024, 8, 8]           262,144\n",
              "│    │    └─BatchNorm2d: 3-101           [1, 1024, 8, 8]           2,048\n",
              "│    │    └─ReLU: 3-102                  [1, 1024, 8, 8]           --\n",
              "│    └─Bottleneck: 2-10                  [1, 1024, 8, 8]           --\n",
              "│    │    └─Conv2d: 3-103                [1, 256, 8, 8]            262,144\n",
              "│    │    └─BatchNorm2d: 3-104           [1, 256, 8, 8]            512\n",
              "│    │    └─ReLU: 3-105                  [1, 256, 8, 8]            --\n",
              "│    │    └─Conv2d: 3-106                [1, 256, 8, 8]            589,824\n",
              "│    │    └─BatchNorm2d: 3-107           [1, 256, 8, 8]            512\n",
              "│    │    └─Identity: 3-108              [1, 256, 8, 8]            --\n",
              "│    │    └─ReLU: 3-109                  [1, 256, 8, 8]            --\n",
              "│    │    └─Identity: 3-110              [1, 256, 8, 8]            --\n",
              "│    │    └─Conv2d: 3-111                [1, 1024, 8, 8]           262,144\n",
              "│    │    └─BatchNorm2d: 3-112           [1, 1024, 8, 8]           2,048\n",
              "│    │    └─ReLU: 3-113                  [1, 1024, 8, 8]           --\n",
              "│    └─Bottleneck: 2-11                  [1, 1024, 8, 8]           --\n",
              "│    │    └─Conv2d: 3-114                [1, 256, 8, 8]            262,144\n",
              "│    │    └─BatchNorm2d: 3-115           [1, 256, 8, 8]            512\n",
              "│    │    └─ReLU: 3-116                  [1, 256, 8, 8]            --\n",
              "│    │    └─Conv2d: 3-117                [1, 256, 8, 8]            589,824\n",
              "│    │    └─BatchNorm2d: 3-118           [1, 256, 8, 8]            512\n",
              "│    │    └─Identity: 3-119              [1, 256, 8, 8]            --\n",
              "│    │    └─ReLU: 3-120                  [1, 256, 8, 8]            --\n",
              "│    │    └─Identity: 3-121              [1, 256, 8, 8]            --\n",
              "│    │    └─Conv2d: 3-122                [1, 1024, 8, 8]           262,144\n",
              "│    │    └─BatchNorm2d: 3-123           [1, 1024, 8, 8]           2,048\n",
              "│    │    └─ReLU: 3-124                  [1, 1024, 8, 8]           --\n",
              "│    └─Bottleneck: 2-12                  [1, 1024, 8, 8]           --\n",
              "│    │    └─Conv2d: 3-125                [1, 256, 8, 8]            262,144\n",
              "│    │    └─BatchNorm2d: 3-126           [1, 256, 8, 8]            512\n",
              "│    │    └─ReLU: 3-127                  [1, 256, 8, 8]            --\n",
              "│    │    └─Conv2d: 3-128                [1, 256, 8, 8]            589,824\n",
              "│    │    └─BatchNorm2d: 3-129           [1, 256, 8, 8]            512\n",
              "│    │    └─Identity: 3-130              [1, 256, 8, 8]            --\n",
              "│    │    └─ReLU: 3-131                  [1, 256, 8, 8]            --\n",
              "│    │    └─Identity: 3-132              [1, 256, 8, 8]            --\n",
              "│    │    └─Conv2d: 3-133                [1, 1024, 8, 8]           262,144\n",
              "│    │    └─BatchNorm2d: 3-134           [1, 1024, 8, 8]           2,048\n",
              "│    │    └─ReLU: 3-135                  [1, 1024, 8, 8]           --\n",
              "│    └─Bottleneck: 2-13                  [1, 1024, 8, 8]           --\n",
              "│    │    └─Conv2d: 3-136                [1, 256, 8, 8]            262,144\n",
              "│    │    └─BatchNorm2d: 3-137           [1, 256, 8, 8]            512\n",
              "│    │    └─ReLU: 3-138                  [1, 256, 8, 8]            --\n",
              "│    │    └─Conv2d: 3-139                [1, 256, 8, 8]            589,824\n",
              "│    │    └─BatchNorm2d: 3-140           [1, 256, 8, 8]            512\n",
              "│    │    └─Identity: 3-141              [1, 256, 8, 8]            --\n",
              "│    │    └─ReLU: 3-142                  [1, 256, 8, 8]            --\n",
              "│    │    └─Identity: 3-143              [1, 256, 8, 8]            --\n",
              "│    │    └─Conv2d: 3-144                [1, 1024, 8, 8]           262,144\n",
              "│    │    └─BatchNorm2d: 3-145           [1, 1024, 8, 8]           2,048\n",
              "│    │    └─ReLU: 3-146                  [1, 1024, 8, 8]           --\n",
              "│    └─Bottleneck: 2-14                  [1, 1024, 8, 8]           --\n",
              "│    │    └─Conv2d: 3-147                [1, 256, 8, 8]            262,144\n",
              "│    │    └─BatchNorm2d: 3-148           [1, 256, 8, 8]            512\n",
              "│    │    └─ReLU: 3-149                  [1, 256, 8, 8]            --\n",
              "│    │    └─Conv2d: 3-150                [1, 256, 8, 8]            589,824\n",
              "│    │    └─BatchNorm2d: 3-151           [1, 256, 8, 8]            512\n",
              "│    │    └─Identity: 3-152              [1, 256, 8, 8]            --\n",
              "│    │    └─ReLU: 3-153                  [1, 256, 8, 8]            --\n",
              "│    │    └─Identity: 3-154              [1, 256, 8, 8]            --\n",
              "│    │    └─Conv2d: 3-155                [1, 1024, 8, 8]           262,144\n",
              "│    │    └─BatchNorm2d: 3-156           [1, 1024, 8, 8]           2,048\n",
              "│    │    └─ReLU: 3-157                  [1, 1024, 8, 8]           --\n",
              "│    └─Bottleneck: 2-15                  [1, 1024, 8, 8]           --\n",
              "│    │    └─Conv2d: 3-158                [1, 256, 8, 8]            262,144\n",
              "│    │    └─BatchNorm2d: 3-159           [1, 256, 8, 8]            512\n",
              "│    │    └─ReLU: 3-160                  [1, 256, 8, 8]            --\n",
              "│    │    └─Conv2d: 3-161                [1, 256, 8, 8]            589,824\n",
              "│    │    └─BatchNorm2d: 3-162           [1, 256, 8, 8]            512\n",
              "│    │    └─Identity: 3-163              [1, 256, 8, 8]            --\n",
              "│    │    └─ReLU: 3-164                  [1, 256, 8, 8]            --\n",
              "│    │    └─Identity: 3-165              [1, 256, 8, 8]            --\n",
              "│    │    └─Conv2d: 3-166                [1, 1024, 8, 8]           262,144\n",
              "│    │    └─BatchNorm2d: 3-167           [1, 1024, 8, 8]           2,048\n",
              "│    │    └─ReLU: 3-168                  [1, 1024, 8, 8]           --\n",
              "│    └─Bottleneck: 2-16                  [1, 1024, 8, 8]           --\n",
              "│    │    └─Conv2d: 3-169                [1, 256, 8, 8]            262,144\n",
              "│    │    └─BatchNorm2d: 3-170           [1, 256, 8, 8]            512\n",
              "│    │    └─ReLU: 3-171                  [1, 256, 8, 8]            --\n",
              "│    │    └─Conv2d: 3-172                [1, 256, 8, 8]            589,824\n",
              "│    │    └─BatchNorm2d: 3-173           [1, 256, 8, 8]            512\n",
              "│    │    └─Identity: 3-174              [1, 256, 8, 8]            --\n",
              "│    │    └─ReLU: 3-175                  [1, 256, 8, 8]            --\n",
              "│    │    └─Identity: 3-176              [1, 256, 8, 8]            --\n",
              "│    │    └─Conv2d: 3-177                [1, 1024, 8, 8]           262,144\n",
              "│    │    └─BatchNorm2d: 3-178           [1, 1024, 8, 8]           2,048\n",
              "│    │    └─ReLU: 3-179                  [1, 1024, 8, 8]           --\n",
              "│    └─Bottleneck: 2-17                  [1, 1024, 8, 8]           --\n",
              "│    │    └─Conv2d: 3-180                [1, 256, 8, 8]            262,144\n",
              "│    │    └─BatchNorm2d: 3-181           [1, 256, 8, 8]            512\n",
              "│    │    └─ReLU: 3-182                  [1, 256, 8, 8]            --\n",
              "│    │    └─Conv2d: 3-183                [1, 256, 8, 8]            589,824\n",
              "│    │    └─BatchNorm2d: 3-184           [1, 256, 8, 8]            512\n",
              "│    │    └─Identity: 3-185              [1, 256, 8, 8]            --\n",
              "│    │    └─ReLU: 3-186                  [1, 256, 8, 8]            --\n",
              "│    │    └─Identity: 3-187              [1, 256, 8, 8]            --\n",
              "│    │    └─Conv2d: 3-188                [1, 1024, 8, 8]           262,144\n",
              "│    │    └─BatchNorm2d: 3-189           [1, 1024, 8, 8]           2,048\n",
              "│    │    └─ReLU: 3-190                  [1, 1024, 8, 8]           --\n",
              "│    └─Bottleneck: 2-18                  [1, 1024, 8, 8]           --\n",
              "│    │    └─Conv2d: 3-191                [1, 256, 8, 8]            262,144\n",
              "│    │    └─BatchNorm2d: 3-192           [1, 256, 8, 8]            512\n",
              "│    │    └─ReLU: 3-193                  [1, 256, 8, 8]            --\n",
              "│    │    └─Conv2d: 3-194                [1, 256, 8, 8]            589,824\n",
              "│    │    └─BatchNorm2d: 3-195           [1, 256, 8, 8]            512\n",
              "│    │    └─Identity: 3-196              [1, 256, 8, 8]            --\n",
              "│    │    └─ReLU: 3-197                  [1, 256, 8, 8]            --\n",
              "│    │    └─Identity: 3-198              [1, 256, 8, 8]            --\n",
              "│    │    └─Conv2d: 3-199                [1, 1024, 8, 8]           262,144\n",
              "│    │    └─BatchNorm2d: 3-200           [1, 1024, 8, 8]           2,048\n",
              "│    │    └─ReLU: 3-201                  [1, 1024, 8, 8]           --\n",
              "│    └─Bottleneck: 2-19                  [1, 1024, 8, 8]           --\n",
              "│    │    └─Conv2d: 3-202                [1, 256, 8, 8]            262,144\n",
              "│    │    └─BatchNorm2d: 3-203           [1, 256, 8, 8]            512\n",
              "│    │    └─ReLU: 3-204                  [1, 256, 8, 8]            --\n",
              "│    │    └─Conv2d: 3-205                [1, 256, 8, 8]            589,824\n",
              "│    │    └─BatchNorm2d: 3-206           [1, 256, 8, 8]            512\n",
              "│    │    └─Identity: 3-207              [1, 256, 8, 8]            --\n",
              "│    │    └─ReLU: 3-208                  [1, 256, 8, 8]            --\n",
              "│    │    └─Identity: 3-209              [1, 256, 8, 8]            --\n",
              "│    │    └─Conv2d: 3-210                [1, 1024, 8, 8]           262,144\n",
              "│    │    └─BatchNorm2d: 3-211           [1, 1024, 8, 8]           2,048\n",
              "│    │    └─ReLU: 3-212                  [1, 1024, 8, 8]           --\n",
              "│    └─Bottleneck: 2-20                  [1, 1024, 8, 8]           --\n",
              "│    │    └─Conv2d: 3-213                [1, 256, 8, 8]            262,144\n",
              "│    │    └─BatchNorm2d: 3-214           [1, 256, 8, 8]            512\n",
              "│    │    └─ReLU: 3-215                  [1, 256, 8, 8]            --\n",
              "│    │    └─Conv2d: 3-216                [1, 256, 8, 8]            589,824\n",
              "│    │    └─BatchNorm2d: 3-217           [1, 256, 8, 8]            512\n",
              "│    │    └─Identity: 3-218              [1, 256, 8, 8]            --\n",
              "│    │    └─ReLU: 3-219                  [1, 256, 8, 8]            --\n",
              "│    │    └─Identity: 3-220              [1, 256, 8, 8]            --\n",
              "│    │    └─Conv2d: 3-221                [1, 1024, 8, 8]           262,144\n",
              "│    │    └─BatchNorm2d: 3-222           [1, 1024, 8, 8]           2,048\n",
              "│    │    └─ReLU: 3-223                  [1, 1024, 8, 8]           --\n",
              "│    └─Bottleneck: 2-21                  [1, 1024, 8, 8]           --\n",
              "│    │    └─Conv2d: 3-224                [1, 256, 8, 8]            262,144\n",
              "│    │    └─BatchNorm2d: 3-225           [1, 256, 8, 8]            512\n",
              "│    │    └─ReLU: 3-226                  [1, 256, 8, 8]            --\n",
              "│    │    └─Conv2d: 3-227                [1, 256, 8, 8]            589,824\n",
              "│    │    └─BatchNorm2d: 3-228           [1, 256, 8, 8]            512\n",
              "│    │    └─Identity: 3-229              [1, 256, 8, 8]            --\n",
              "│    │    └─ReLU: 3-230                  [1, 256, 8, 8]            --\n",
              "│    │    └─Identity: 3-231              [1, 256, 8, 8]            --\n",
              "│    │    └─Conv2d: 3-232                [1, 1024, 8, 8]           262,144\n",
              "│    │    └─BatchNorm2d: 3-233           [1, 1024, 8, 8]           2,048\n",
              "│    │    └─ReLU: 3-234                  [1, 1024, 8, 8]           --\n",
              "│    └─Bottleneck: 2-22                  [1, 1024, 8, 8]           --\n",
              "│    │    └─Conv2d: 3-235                [1, 256, 8, 8]            262,144\n",
              "│    │    └─BatchNorm2d: 3-236           [1, 256, 8, 8]            512\n",
              "│    │    └─ReLU: 3-237                  [1, 256, 8, 8]            --\n",
              "│    │    └─Conv2d: 3-238                [1, 256, 8, 8]            589,824\n",
              "│    │    └─BatchNorm2d: 3-239           [1, 256, 8, 8]            512\n",
              "│    │    └─Identity: 3-240              [1, 256, 8, 8]            --\n",
              "│    │    └─ReLU: 3-241                  [1, 256, 8, 8]            --\n",
              "│    │    └─Identity: 3-242              [1, 256, 8, 8]            --\n",
              "│    │    └─Conv2d: 3-243                [1, 1024, 8, 8]           262,144\n",
              "│    │    └─BatchNorm2d: 3-244           [1, 1024, 8, 8]           2,048\n",
              "│    │    └─ReLU: 3-245                  [1, 1024, 8, 8]           --\n",
              "│    └─Bottleneck: 2-23                  [1, 1024, 8, 8]           --\n",
              "│    │    └─Conv2d: 3-246                [1, 256, 8, 8]            262,144\n",
              "│    │    └─BatchNorm2d: 3-247           [1, 256, 8, 8]            512\n",
              "│    │    └─ReLU: 3-248                  [1, 256, 8, 8]            --\n",
              "│    │    └─Conv2d: 3-249                [1, 256, 8, 8]            589,824\n",
              "│    │    └─BatchNorm2d: 3-250           [1, 256, 8, 8]            512\n",
              "│    │    └─Identity: 3-251              [1, 256, 8, 8]            --\n",
              "│    │    └─ReLU: 3-252                  [1, 256, 8, 8]            --\n",
              "│    │    └─Identity: 3-253              [1, 256, 8, 8]            --\n",
              "│    │    └─Conv2d: 3-254                [1, 1024, 8, 8]           262,144\n",
              "│    │    └─BatchNorm2d: 3-255           [1, 1024, 8, 8]           2,048\n",
              "│    │    └─ReLU: 3-256                  [1, 1024, 8, 8]           --\n",
              "│    └─Bottleneck: 2-24                  [1, 1024, 8, 8]           --\n",
              "│    │    └─Conv2d: 3-257                [1, 256, 8, 8]            262,144\n",
              "│    │    └─BatchNorm2d: 3-258           [1, 256, 8, 8]            512\n",
              "│    │    └─ReLU: 3-259                  [1, 256, 8, 8]            --\n",
              "│    │    └─Conv2d: 3-260                [1, 256, 8, 8]            589,824\n",
              "│    │    └─BatchNorm2d: 3-261           [1, 256, 8, 8]            512\n",
              "│    │    └─Identity: 3-262              [1, 256, 8, 8]            --\n",
              "│    │    └─ReLU: 3-263                  [1, 256, 8, 8]            --\n",
              "│    │    └─Identity: 3-264              [1, 256, 8, 8]            --\n",
              "│    │    └─Conv2d: 3-265                [1, 1024, 8, 8]           262,144\n",
              "│    │    └─BatchNorm2d: 3-266           [1, 1024, 8, 8]           2,048\n",
              "│    │    └─ReLU: 3-267                  [1, 1024, 8, 8]           --\n",
              "│    └─Bottleneck: 2-25                  [1, 1024, 8, 8]           --\n",
              "│    │    └─Conv2d: 3-268                [1, 256, 8, 8]            262,144\n",
              "│    │    └─BatchNorm2d: 3-269           [1, 256, 8, 8]            512\n",
              "│    │    └─ReLU: 3-270                  [1, 256, 8, 8]            --\n",
              "│    │    └─Conv2d: 3-271                [1, 256, 8, 8]            589,824\n",
              "│    │    └─BatchNorm2d: 3-272           [1, 256, 8, 8]            512\n",
              "│    │    └─Identity: 3-273              [1, 256, 8, 8]            --\n",
              "│    │    └─ReLU: 3-274                  [1, 256, 8, 8]            --\n",
              "│    │    └─Identity: 3-275              [1, 256, 8, 8]            --\n",
              "│    │    └─Conv2d: 3-276                [1, 1024, 8, 8]           262,144\n",
              "│    │    └─BatchNorm2d: 3-277           [1, 1024, 8, 8]           2,048\n",
              "│    │    └─ReLU: 3-278                  [1, 1024, 8, 8]           --\n",
              "│    └─Bottleneck: 2-26                  [1, 1024, 8, 8]           --\n",
              "│    │    └─Conv2d: 3-279                [1, 256, 8, 8]            262,144\n",
              "│    │    └─BatchNorm2d: 3-280           [1, 256, 8, 8]            512\n",
              "│    │    └─ReLU: 3-281                  [1, 256, 8, 8]            --\n",
              "│    │    └─Conv2d: 3-282                [1, 256, 8, 8]            589,824\n",
              "│    │    └─BatchNorm2d: 3-283           [1, 256, 8, 8]            512\n",
              "│    │    └─Identity: 3-284              [1, 256, 8, 8]            --\n",
              "│    │    └─ReLU: 3-285                  [1, 256, 8, 8]            --\n",
              "│    │    └─Identity: 3-286              [1, 256, 8, 8]            --\n",
              "│    │    └─Conv2d: 3-287                [1, 1024, 8, 8]           262,144\n",
              "│    │    └─BatchNorm2d: 3-288           [1, 1024, 8, 8]           2,048\n",
              "│    │    └─ReLU: 3-289                  [1, 1024, 8, 8]           --\n",
              "│    └─Bottleneck: 2-27                  [1, 1024, 8, 8]           --\n",
              "│    │    └─Conv2d: 3-290                [1, 256, 8, 8]            262,144\n",
              "│    │    └─BatchNorm2d: 3-291           [1, 256, 8, 8]            512\n",
              "│    │    └─ReLU: 3-292                  [1, 256, 8, 8]            --\n",
              "│    │    └─Conv2d: 3-293                [1, 256, 8, 8]            589,824\n",
              "│    │    └─BatchNorm2d: 3-294           [1, 256, 8, 8]            512\n",
              "│    │    └─Identity: 3-295              [1, 256, 8, 8]            --\n",
              "│    │    └─ReLU: 3-296                  [1, 256, 8, 8]            --\n",
              "│    │    └─Identity: 3-297              [1, 256, 8, 8]            --\n",
              "│    │    └─Conv2d: 3-298                [1, 1024, 8, 8]           262,144\n",
              "│    │    └─BatchNorm2d: 3-299           [1, 1024, 8, 8]           2,048\n",
              "│    │    └─ReLU: 3-300                  [1, 1024, 8, 8]           --\n",
              "│    └─Bottleneck: 2-28                  [1, 1024, 8, 8]           --\n",
              "│    │    └─Conv2d: 3-301                [1, 256, 8, 8]            262,144\n",
              "│    │    └─BatchNorm2d: 3-302           [1, 256, 8, 8]            512\n",
              "│    │    └─ReLU: 3-303                  [1, 256, 8, 8]            --\n",
              "│    │    └─Conv2d: 3-304                [1, 256, 8, 8]            589,824\n",
              "│    │    └─BatchNorm2d: 3-305           [1, 256, 8, 8]            512\n",
              "│    │    └─Identity: 3-306              [1, 256, 8, 8]            --\n",
              "│    │    └─ReLU: 3-307                  [1, 256, 8, 8]            --\n",
              "│    │    └─Identity: 3-308              [1, 256, 8, 8]            --\n",
              "│    │    └─Conv2d: 3-309                [1, 1024, 8, 8]           262,144\n",
              "│    │    └─BatchNorm2d: 3-310           [1, 1024, 8, 8]           2,048\n",
              "│    │    └─ReLU: 3-311                  [1, 1024, 8, 8]           --\n",
              "│    └─Bottleneck: 2-29                  [1, 1024, 8, 8]           --\n",
              "│    │    └─Conv2d: 3-312                [1, 256, 8, 8]            262,144\n",
              "│    │    └─BatchNorm2d: 3-313           [1, 256, 8, 8]            512\n",
              "│    │    └─ReLU: 3-314                  [1, 256, 8, 8]            --\n",
              "│    │    └─Conv2d: 3-315                [1, 256, 8, 8]            589,824\n",
              "│    │    └─BatchNorm2d: 3-316           [1, 256, 8, 8]            512\n",
              "│    │    └─Identity: 3-317              [1, 256, 8, 8]            --\n",
              "│    │    └─ReLU: 3-318                  [1, 256, 8, 8]            --\n",
              "│    │    └─Identity: 3-319              [1, 256, 8, 8]            --\n",
              "│    │    └─Conv2d: 3-320                [1, 1024, 8, 8]           262,144\n",
              "│    │    └─BatchNorm2d: 3-321           [1, 1024, 8, 8]           2,048\n",
              "│    │    └─ReLU: 3-322                  [1, 1024, 8, 8]           --\n",
              "│    └─Bottleneck: 2-30                  [1, 1024, 8, 8]           --\n",
              "│    │    └─Conv2d: 3-323                [1, 256, 8, 8]            262,144\n",
              "│    │    └─BatchNorm2d: 3-324           [1, 256, 8, 8]            512\n",
              "│    │    └─ReLU: 3-325                  [1, 256, 8, 8]            --\n",
              "│    │    └─Conv2d: 3-326                [1, 256, 8, 8]            589,824\n",
              "│    │    └─BatchNorm2d: 3-327           [1, 256, 8, 8]            512\n",
              "│    │    └─Identity: 3-328              [1, 256, 8, 8]            --\n",
              "│    │    └─ReLU: 3-329                  [1, 256, 8, 8]            --\n",
              "│    │    └─Identity: 3-330              [1, 256, 8, 8]            --\n",
              "│    │    └─Conv2d: 3-331                [1, 1024, 8, 8]           262,144\n",
              "│    │    └─BatchNorm2d: 3-332           [1, 1024, 8, 8]           2,048\n",
              "│    │    └─ReLU: 3-333                  [1, 1024, 8, 8]           --\n",
              "├─Sequential: 1-8                        [1, 2048, 4, 4]           --\n",
              "│    └─Bottleneck: 2-31                  [1, 2048, 4, 4]           --\n",
              "│    │    └─Conv2d: 3-334                [1, 512, 8, 8]            524,288\n",
              "│    │    └─BatchNorm2d: 3-335           [1, 512, 8, 8]            1,024\n",
              "│    │    └─ReLU: 3-336                  [1, 512, 8, 8]            --\n",
              "│    │    └─Conv2d: 3-337                [1, 512, 4, 4]            2,359,296\n",
              "│    │    └─BatchNorm2d: 3-338           [1, 512, 4, 4]            1,024\n",
              "│    │    └─Identity: 3-339              [1, 512, 4, 4]            --\n",
              "│    │    └─ReLU: 3-340                  [1, 512, 4, 4]            --\n",
              "│    │    └─Identity: 3-341              [1, 512, 4, 4]            --\n",
              "│    │    └─Conv2d: 3-342                [1, 2048, 4, 4]           1,048,576\n",
              "│    │    └─BatchNorm2d: 3-343           [1, 2048, 4, 4]           4,096\n",
              "│    │    └─Sequential: 3-344            [1, 2048, 4, 4]           2,101,248\n",
              "│    │    └─ReLU: 3-345                  [1, 2048, 4, 4]           --\n",
              "│    └─Bottleneck: 2-32                  [1, 2048, 4, 4]           --\n",
              "│    │    └─Conv2d: 3-346                [1, 512, 4, 4]            1,048,576\n",
              "│    │    └─BatchNorm2d: 3-347           [1, 512, 4, 4]            1,024\n",
              "│    │    └─ReLU: 3-348                  [1, 512, 4, 4]            --\n",
              "│    │    └─Conv2d: 3-349                [1, 512, 4, 4]            2,359,296\n",
              "│    │    └─BatchNorm2d: 3-350           [1, 512, 4, 4]            1,024\n",
              "│    │    └─Identity: 3-351              [1, 512, 4, 4]            --\n",
              "│    │    └─ReLU: 3-352                  [1, 512, 4, 4]            --\n",
              "│    │    └─Identity: 3-353              [1, 512, 4, 4]            --\n",
              "│    │    └─Conv2d: 3-354                [1, 2048, 4, 4]           1,048,576\n",
              "│    │    └─BatchNorm2d: 3-355           [1, 2048, 4, 4]           4,096\n",
              "│    │    └─ReLU: 3-356                  [1, 2048, 4, 4]           --\n",
              "│    └─Bottleneck: 2-33                  [1, 2048, 4, 4]           --\n",
              "│    │    └─Conv2d: 3-357                [1, 512, 4, 4]            1,048,576\n",
              "│    │    └─BatchNorm2d: 3-358           [1, 512, 4, 4]            1,024\n",
              "│    │    └─ReLU: 3-359                  [1, 512, 4, 4]            --\n",
              "│    │    └─Conv2d: 3-360                [1, 512, 4, 4]            2,359,296\n",
              "│    │    └─BatchNorm2d: 3-361           [1, 512, 4, 4]            1,024\n",
              "│    │    └─Identity: 3-362              [1, 512, 4, 4]            --\n",
              "│    │    └─ReLU: 3-363                  [1, 512, 4, 4]            --\n",
              "│    │    └─Identity: 3-364              [1, 512, 4, 4]            --\n",
              "│    │    └─Conv2d: 3-365                [1, 2048, 4, 4]           1,048,576\n",
              "│    │    └─BatchNorm2d: 3-366           [1, 2048, 4, 4]           4,096\n",
              "│    │    └─ReLU: 3-367                  [1, 2048, 4, 4]           --\n",
              "├─SelectAdaptivePool2d: 1-9              [1, 2048]                 --\n",
              "│    └─AdaptiveAvgPool2d: 2-34           [1, 2048, 1, 1]           --\n",
              "│    └─Flatten: 2-35                     [1, 2048]                 --\n",
              "├─Linear: 1-10                           [1, 11]                   22,539\n",
              "==========================================================================================\n",
              "Total params: 42,522,699\n",
              "Trainable params: 42,522,699\n",
              "Non-trainable params: 0\n",
              "Total mult-adds (G): 2.55\n",
              "==========================================================================================\n",
              "Input size (MB): 0.20\n",
              "Forward/backward pass size (MB): 84.80\n",
              "Params size (MB): 170.09\n",
              "Estimated Total Size (MB): 255.09\n",
              "=========================================================================================="
            ]
          },
          "execution_count": 27,
          "metadata": {},
          "output_type": "execute_result"
        }
      ],
      "source": [
        "from torchinfo import summary\n",
        "\n",
        "summary(model, (1, 3, 128, 128))"
      ]
    },
    {
      "cell_type": "code",
      "execution_count": 43,
      "metadata": {},
      "outputs": [],
      "source": [
        "def plot_tsne(module, data_loader, device, title=None):\n",
        "    \"\"\"Plot t-SNE visualization\"\"\"\n",
        "    features = []\n",
        "    labels = []\n",
        "    for batch in tqdm(data_loader):\n",
        "        imgs, lbls = batch\n",
        "        with torch.no_grad():\n",
        "            logits = module(imgs.to(device))\n",
        "            logits = logits.view(logits.size()[0], -1)\n",
        "        labels.extend(lbls.cpu().numpy())\n",
        "        logits = np.squeeze(logits.cpu().numpy())\n",
        "        features.extend(logits)\n",
        "\n",
        "    features = np.array(features)\n",
        "    colors_per_class = cm.rainbow(np.linspace(0, 1, 11))\n",
        "\n",
        "    # Apply t-SNE to the features\n",
        "    features_tsne = TSNE(n_components=2, init='pca', random_state=42).fit_transform(features)\n",
        "\n",
        "    # Plot the t-SNE visualization\n",
        "    plt.figure(figsize=(10, 8))\n",
        "    for label in np.unique(labels):\n",
        "        plt.scatter(features_tsne[labels == label, 0], features_tsne[labels == label, 1], label=label, s=5)\n",
        "    if title:\n",
        "        plt.title(title)\n",
        "    plt.legend()\n",
        "    plt.show()"
      ]
    },
    {
      "cell_type": "code",
      "execution_count": 44,
      "metadata": {},
      "outputs": [],
      "source": [
        "from collections import  OrderedDict\n",
        "\n",
        "top_module = model.conv1  # 模型第一层（7x7卷积层）\n",
        "mid_module = nn.Sequential(OrderedDict({  #  从模型第一层一直到模型中间层\n",
        "    'conv1': model.conv1,\n",
        "    'bn1': model.bn1,\n",
        "    'act1': model.act1,\n",
        "    'maxpool': model.maxpool,\n",
        "    'layer1': model.layer1,\n",
        "    'layer2': model.layer2\n",
        "}))\n",
        "bottom_module = nn.Sequential(OrderedDict({  #  从模型第一层一直到模型最后层（global_pool之前）\n",
        "    'conv1': model.conv1,\n",
        "    'bn1': model.bn1,\n",
        "    'act1': model.act1,\n",
        "    'maxpool': model.maxpool,\n",
        "    'layer1': model.layer1,\n",
        "    'layer2': model.layer2,\n",
        "    'layer3': model.layer3,\n",
        "    'layer4': model.layer4,\n",
        "}))"
      ]
    },
    {
      "cell_type": "code",
      "execution_count": 45,
      "metadata": {
        "id": "QcBKUNfc3BeL"
      },
      "outputs": [
        {
          "name": "stderr",
          "output_type": "stream",
          "text": [
            "100%|██████████| 57/57 [00:10<00:00,  5.20it/s]\n"
          ]
        },
        {
          "data": {
            "image/png": "[encoded data removed]",
            "text/plain": [
              "<Figure size 1000x800 with 1 Axes>"
            ]
          },
          "metadata": {},
          "output_type": "display_data"
        }
      ],
      "source": [
        "# Load the vaildation set defined by TA\n",
        "valid_set = FoodDataset(\"./oscl_datasets/valid\", tfm=test_tfm)\n",
        "valid_loader = DataLoader(valid_set, batch_size=64, shuffle=False, num_workers=0, pin_memory=True)\n",
        "plot_tsne(top_module, valid_loader, device, 'Top Module t-SNE')"
      ]
    },
    {
      "cell_type": "code",
      "execution_count": 46,
      "metadata": {},
      "outputs": [
        {
          "name": "stderr",
          "output_type": "stream",
          "text": [
            "100%|██████████| 57/57 [00:10<00:00,  5.27it/s]\n"
          ]
        },
        {
          "data": {
            "image/png": "[encoded data removed]",
            "text/plain": [
              "<Figure size 1000x800 with 1 Axes>"
            ]
          },
          "metadata": {},
          "output_type": "display_data"
        }
      ],
      "source": [
        "plot_tsne(mid_module, valid_loader, device, 'Mid Module t-SNE')"
      ]
    },
    {
      "cell_type": "code",
      "execution_count": 47,
      "metadata": {},
      "outputs": [
        {
          "name": "stderr",
          "output_type": "stream",
          "text": [
            "100%|██████████| 57/57 [00:11<00:00,  4.83it/s]\n"
          ]
        },
        {
          "data": {
            "image/png": "[encoded data removed]",
            "text/plain": [
              "<Figure size 1000x800 with 1 Axes>"
            ]
          },
          "metadata": {},
          "output_type": "display_data"
        }
      ],
      "source": [
        "plot_tsne(bottom_module, valid_loader, device, 'Bottom Module t-SNE')"
      ]
    },
    {
      "cell_type": "markdown",
      "metadata": {},
      "source": [
        "总结：模型越到底层，输出的`feature map`越是有意义的高维数据（降至低维进行可视化）"
      ]
    }
  ],
  "metadata": {
    "accelerator": "GPU",
    "colab": {
      "provenance": []
    },
    "gpuClass": "standard",
    "kernelspec": {
      "display_name": "d2l",
      "language": "python",
      "name": "python3"
    },
    "language_info": {
      "codemirror_mode": {
        "name": "ipython",
        "version": 3
      },
      "file_extension": ".py",
      "mimetype": "text/x-python",
      "name": "python",
      "nbconvert_exporter": "python",
      "pygments_lexer": "ipython3",
      "version": "3.9.20"
    }
  },
  "nbformat": 4,
  "nbformat_minor": 0
}
