{
  "cells": [
    {
      "cell_type": "markdown",
      "metadata": {
        "id": "OYlaRwNu7ojq"
      },
      "source": [
        "# **Homework 2: Phoneme Classification**\n"
      ]
    },
    {
      "cell_type": "markdown",
      "metadata": {
        "id": "A7DRC5V7_8A5"
      },
      "source": [
        "Objectives:\n",
        "* Solve a classification problem with deep neural networks (DNNs).\n",
        "* Understand recursive neural networks (RNNs).\n",
        "\n",
        "If you have any questions, please contact the TAs via TA hours, NTU COOL, or email to mlta-2023-spring@googlegroups.com"
      ]
    },
    {
      "cell_type": "markdown",
      "metadata": {
        "id": "KVUGfWTo7_Oj"
      },
      "source": [
        "# Download Data\n",
        "Download data from google drive, then unzip it.\n",
        "\n",
        "You should have\n",
        "- `libriphone/train_split.txt`: training metadata\n",
        "- `libriphone/train_labels`: training labels\n",
        "- `libriphone/test_split.txt`: testing metadata\n",
        "- `libriphone/feat/train/*.pt`: training feature\n",
        "- `libriphone/feat/test/*.pt`:  testing feature\n",
        "\n",
        "after running the following block.\n",
        "\n",
        "> **Notes: if the google drive link is dead, you can download the data directly from [Kaggle](https://www.kaggle.com/c/ml2023spring-hw2/data) and upload it to the workspace.**\n"
      ]
    },
    {
      "cell_type": "code",
      "execution_count": 2,
      "metadata": {
        "colab": {
          "base_uri": "https://localhost:8080/"
        },
        "id": "OzkiMEcC3Foq",
        "outputId": "d488b8e6-5886-4e29-ee97-ac41d72dd416"
      },
      "outputs": [
        {
          "name": "stdout",
          "output_type": "stream",
          "text": [
            "Looking in indexes: https://pypi.tuna.tsinghua.edu.cn/simple\n",
            "Requirement already satisfied: gdown in d:\\anaconda3\\envs\\cv\\lib\\site-packages (5.2.0)\n",
            "Requirement already satisfied: beautifulsoup4 in d:\\anaconda3\\envs\\cv\\lib\\site-packages (from gdown) (4.12.3)\n",
            "Requirement already satisfied: filelock in d:\\anaconda3\\envs\\cv\\lib\\site-packages (from gdown) (3.15.4)\n",
            "Requirement already satisfied: requests[socks] in d:\\anaconda3\\envs\\cv\\lib\\site-packages (from gdown) (2.32.3)\n",
            "Requirement already satisfied: tqdm in d:\\anaconda3\\envs\\cv\\lib\\site-packages (from gdown) (4.66.4)\n",
            "Requirement already satisfied: soupsieve>1.2 in d:\\anaconda3\\envs\\cv\\lib\\site-packages (from beautifulsoup4->gdown) (2.6)\n",
            "Requirement already satisfied: charset-normalizer<4,>=2 in d:\\anaconda3\\envs\\cv\\lib\\site-packages (from requests[socks]->gdown) (3.3.2)\n",
            "Requirement already satisfied: idna<4,>=2.5 in d:\\anaconda3\\envs\\cv\\lib\\site-packages (from requests[socks]->gdown) (3.7)\n",
            "Requirement already satisfied: urllib3<3,>=1.21.1 in d:\\anaconda3\\envs\\cv\\lib\\site-packages (from requests[socks]->gdown) (2.2.2)\n",
            "Requirement already satisfied: certifi>=2017.4.17 in d:\\anaconda3\\envs\\cv\\lib\\site-packages (from requests[socks]->gdown) (2024.6.2)\n",
            "Requirement already satisfied: PySocks!=1.5.7,>=1.5.6 in d:\\anaconda3\\envs\\cv\\lib\\site-packages (from requests[socks]->gdown) (1.7.1)\n",
            "Requirement already satisfied: colorama in d:\\anaconda3\\envs\\cv\\lib\\site-packages (from tqdm->gdown) (0.4.6)\n"
          ]
        },
        {
          "name": "stderr",
          "output_type": "stream",
          "text": [
            "D:\\Anaconda3\\envs\\cv\\lib\\site-packages\\gdown\\__main__.py:140: FutureWarning: Option `--id` was deprecated in version 4.3.1 and will be removed in 5.0. You don't need to pass it anymore to use a file ID.\n",
            "  warnings.warn(\n",
            "Failed to retrieve file url:\n",
            "\n",
            "\tCannot retrieve the public link of the file. You may need to change\n",
            "\tthe permission to 'Anyone with the link', or have had many accesses.\n",
            "\tCheck FAQ in https://github.com/wkentaro/gdown?tab=readme-ov-file#faq.\n",
            "\n",
            "You may still be able to access the file from the browser:\n",
            "\n",
            "\thttps://drive.google.com/uc?id='1qzCRnywKh30mTbWUEjXuNT2isOCAPdO1'\n",
            "\n",
            "but Gdown can't. Please check connections and permissions.\n",
            "unzip:  cannot find either libriphone.zip or libriphone.zip.zip.\n",
            "'ls' �����ڲ����ⲿ���Ҳ���ǿ����еĳ���\n",
            "���������ļ���\n"
          ]
        }
      ],
      "source": [
        "!pip install --upgrade gdown\n",
        "\n",
        "# Main link\n",
        "# !gdown --id '1N1eVIDe9hKM5uiNRGmifBlwSDGiVXPJe' --output libriphone.zip\n",
        "!gdown --id '1qzCRnywKh30mTbWUEjXuNT2isOCAPdO1' --output libriphone.zip\n",
        "\n",
        "!unzip -q libriphone.zip\n",
        "!ls libriphone"
      ]
    },
    {
      "cell_type": "markdown",
      "metadata": {
        "id": "pADUiYODJE1O"
      },
      "source": [
        "# Some Utility Functions\n",
        "**Fixes random number generator seeds for reproducibility.**"
      ]
    },
    {
      "cell_type": "code",
      "execution_count": 1,
      "metadata": {
        "id": "BsZKgBZQJjaE"
      },
      "outputs": [],
      "source": [
        "import numpy as np\n",
        "import torch\n",
        "import random\n",
        "\n",
        "def same_seeds(seed):\n",
        "    random.seed(seed)\n",
        "    np.random.seed(seed)\n",
        "    torch.manual_seed(seed)\n",
        "    if torch.cuda.is_available():\n",
        "        torch.cuda.manual_seed(seed)\n",
        "        torch.cuda.manual_seed_all(seed)\n",
        "    torch.backends.cudnn.benchmark = False\n",
        "    torch.backends.cudnn.deterministic = True"
      ]
    },
    {
      "cell_type": "markdown",
      "metadata": {
        "id": "_L_4anls8Drv"
      },
      "source": [
        "**Helper functions to pre-process the training data from raw MFCC features of each utterance.**\n",
        "\n",
        "A phoneme may span several frames and is dependent to past and future frames. \\\n",
        "Hence we concatenate neighboring phonemes for training to achieve higher accuracy. The **concat_feat** function concatenates past and future k frames (total 2k+1 = n frames), and we predict the center frame.\n",
        "\n",
        "Feel free to modify the data preprocess functions, but **do not drop any frame** (if you modify the functions, remember to check that the number of frames are the same as mentioned in the slides)"
      ]
    },
    {
      "cell_type": "code",
      "execution_count": 2,
      "metadata": {
        "id": "IJjLT8em-y9G"
      },
      "outputs": [],
      "source": [
        "import os\n",
        "import torch\n",
        "from tqdm import tqdm\n",
        "\n",
        "def load_feat(path):\n",
        "    feat = torch.load(path)\n",
        "    return feat\n",
        "\n",
        "def shift(x, n):\n",
        "    if n < 0:\n",
        "        left = x[0].repeat(-n, 1)\n",
        "        right = x[:n]\n",
        "    elif n > 0:\n",
        "        right = x[-1].repeat(n, 1)\n",
        "        left = x[n:]\n",
        "    else:\n",
        "        return x\n",
        "\n",
        "    return torch.cat((left, right), dim=0)\n",
        "\n",
        "def concat_feat(x, concat_n):\n",
        "    assert concat_n % 2 == 1 # n must be odd\n",
        "    if concat_n < 2:\n",
        "        return x\n",
        "    seq_len, feature_dim = x.size(0), x.size(1)\n",
        "    x = x.repeat(1, concat_n)\n",
        "    x = x.view(seq_len, concat_n, feature_dim).permute(1, 0, 2) # concat_n, seq_len, feature_dim\n",
        "    mid = (concat_n // 2)\n",
        "    for r_idx in range(1, mid+1):\n",
        "        x[mid + r_idx, :] = shift(x[mid + r_idx], r_idx)\n",
        "        x[mid - r_idx, :] = shift(x[mid - r_idx], -r_idx)\n",
        "\n",
        "    return x.permute(1, 0, 2).view(seq_len, concat_n * feature_dim)\n",
        "\n",
        "def preprocess_data(split, feat_dir, phone_path, concat_nframes, train_ratio=0.8, random_seed=1213):\n",
        "    class_num = 41 # NOTE: pre-computed, should not need change\n",
        "\n",
        "    if split == 'train' or split == 'val':\n",
        "        mode = 'train'\n",
        "    elif split == 'test':\n",
        "        mode = 'test'\n",
        "    else:\n",
        "        raise ValueError('Invalid \\'split\\' argument for dataset: PhoneDataset!')\n",
        "\n",
        "    label_dict = {}\n",
        "    if mode == 'train':\n",
        "        for line in open(os.path.join(phone_path, f'{mode}_labels.txt')).readlines():\n",
        "            line = line.strip('\\n').split(' ')\n",
        "            label_dict[line[0]] = [int(p) for p in line[1:]]\n",
        "\n",
        "        # split training and validation data\n",
        "        usage_list = open(os.path.join(phone_path, 'train_split.txt')).readlines()\n",
        "        random.seed(random_seed)\n",
        "        random.shuffle(usage_list)\n",
        "        train_len = int(len(usage_list) * train_ratio)\n",
        "        usage_list = usage_list[:train_len] if split == 'train' else usage_list[train_len:]\n",
        "\n",
        "    elif mode == 'test':\n",
        "        usage_list = open(os.path.join(phone_path, 'test_split.txt')).readlines()\n",
        "\n",
        "    usage_list = [line.strip('\\n') for line in usage_list]\n",
        "    print('[Dataset] - # phone classes: ' + str(class_num) + ', number of utterances for ' + split + ': ' + str(len(usage_list)))\n",
        "\n",
        "    max_len = 3000000\n",
        "    X = torch.empty(max_len, 39 * concat_nframes)\n",
        "    if mode == 'train':\n",
        "        y = torch.empty(max_len, dtype=torch.long)\n",
        "\n",
        "    idx = 0\n",
        "    for i, fname in tqdm(enumerate(usage_list)):\n",
        "        feat = load_feat(os.path.join(feat_dir, mode, f'{fname}.pt'))\n",
        "        cur_len = len(feat)\n",
        "        feat = concat_feat(feat, concat_nframes)\n",
        "        if mode == 'train':\n",
        "          label = torch.LongTensor(label_dict[fname])\n",
        "\n",
        "        X[idx: idx + cur_len, :] = feat\n",
        "        if mode == 'train':\n",
        "          y[idx: idx + cur_len] = label\n",
        "\n",
        "        idx += cur_len\n",
        "\n",
        "    X = X[:idx, :]\n",
        "    if mode == 'train':\n",
        "      y = y[:idx]\n",
        "\n",
        "    print(f'[INFO] {split} set')\n",
        "    print(X.shape)\n",
        "    if mode == 'train':\n",
        "      print(y.shape)\n",
        "      return X, y\n",
        "    else:\n",
        "      return X\n"
      ]
    },
    {
      "cell_type": "markdown",
      "metadata": {
        "id": "us5XW_x6udZQ"
      },
      "source": [
        "# Dataset"
      ]
    },
    {
      "cell_type": "code",
      "execution_count": 3,
      "metadata": {
        "id": "Fjf5EcmJtf4e"
      },
      "outputs": [],
      "source": [
        "import torch\n",
        "from torch.utils.data import Dataset\n",
        "\n",
        "class LibriDataset(Dataset):\n",
        "    def __init__(self, X, y=None):\n",
        "        self.data = X\n",
        "        if y is not None:\n",
        "            self.label = torch.LongTensor(y)\n",
        "        else:\n",
        "            self.label = None\n",
        "\n",
        "    def __getitem__(self, idx):\n",
        "        if self.label is not None:\n",
        "            return self.data[idx], self.label[idx]\n",
        "        else:\n",
        "            return self.data[idx]\n",
        "\n",
        "    def __len__(self):\n",
        "        return len(self.data)\n"
      ]
    },
    {
      "cell_type": "markdown",
      "metadata": {
        "id": "IRqKNvNZwe3V"
      },
      "source": [
        "# Model\n",
        "Feel free to modify the structure of the model."
      ]
    },
    {
      "cell_type": "code",
      "execution_count": 4,
      "metadata": {
        "id": "Bg-GRd7ywdrL"
      },
      "outputs": [],
      "source": [
        "import torch.nn as nn\n",
        "\n",
        "class BasicBlock(nn.Module):\n",
        "    def __init__(self, input_dim, output_dim, batchnorm=False, dropout=0.0):\n",
        "        super(BasicBlock, self).__init__()\n",
        "\n",
        "        # TODO: apply batch normalization and dropout for strong baseline.\n",
        "        # Reference: https://pytorch.org/docs/stable/generated/torch.nn.BatchNorm1d.html (batch normalization)\n",
        "        #       https://pytorch.org/docs/stable/generated/torch.nn.Dropout.html (dropout)\n",
        "        self.block = nn.Sequential(\n",
        "            nn.Linear(input_dim, output_dim),\n",
        "            nn.ReLU(),\n",
        "        )\n",
        "        if dropout:\n",
        "            self.block.append(nn.Dropout(dropout))\n",
        "        if batchnorm:\n",
        "            self.block.append(nn.BatchNorm1d(output_dim))\n",
        "\n",
        "    def forward(self, x):\n",
        "        x = self.block(x)\n",
        "        return x\n",
        "\n",
        "\n",
        "class Classifier(nn.Module):\n",
        "    def __init__(self, input_dim, output_dim=41, hidden_layers=1, hidden_dim=256):\n",
        "        super(Classifier, self).__init__()\n",
        "\n",
        "        self.fc = nn.Sequential(\n",
        "            BasicBlock(input_dim, hidden_dim),\n",
        "            *[BasicBlock(hidden_dim, hidden_dim) for _ in range(hidden_layers)],\n",
        "            nn.Linear(hidden_dim, output_dim)\n",
        "        )\n",
        "\n",
        "    def forward(self, x):\n",
        "        x = self.fc(x)\n",
        "        return x\n",
        "    \n",
        "class ClassifierV2(nn.Module):\n",
        "    def __init__(self, input_dim, output_dim=41, hidden_layers=1, hidden_dim=256, dropout=0.0):\n",
        "        super().__init__()\n",
        "\n",
        "        self.fc = nn.Sequential(\n",
        "            BasicBlock(input_dim, hidden_dim),\n",
        "            *[BasicBlock(hidden_dim, hidden_dim, batchnorm=True, dropout=dropout) for _ in range(hidden_layers)],\n",
        "            nn.Linear(hidden_dim, output_dim)\n",
        "        )\n",
        "\n",
        "    def forward(self, x):\n",
        "        x = self.fc(x)\n",
        "        return x"
      ]
    },
    {
      "cell_type": "code",
      "execution_count": 25,
      "metadata": {},
      "outputs": [],
      "source": [
        "import torch.nn as nn\n",
        "\n",
        "class Classifier_GRU(nn.Module):\n",
        "    \"\"\"包含GRU模型的分类器\"\"\"\n",
        "    def __init__(self, input_dim, \n",
        "                 output_dim=41, \n",
        "                 hidden_dim=1024, \n",
        "                 num_layers=2, \n",
        "                 bidirectional=False, \n",
        "                 dropout=0.0,\n",
        "                 mlp_layers=[512, 256]):\n",
        "        super().__init__()\n",
        "        self.bidirectional = bidirectional\n",
        "        self.gru = nn.GRU(input_size=input_dim, \n",
        "                          hidden_size=hidden_dim, \n",
        "                          num_layers=num_layers, \n",
        "                          batch_first=True,\n",
        "                          dropout=dropout,\n",
        "                          bidirectional=bidirectional)\n",
        "        \n",
        "        self.seq_len = None\n",
        "        \n",
        "        self.fc = []\n",
        "        gru_output_dim = hidden_dim * 2 if bidirectional else hidden_dim\n",
        "        for i in range(len(mlp_layers)):\n",
        "            if i == 0:\n",
        "                self.fc.append(nn.Linear(gru_output_dim, mlp_layers[i]))\n",
        "            else:\n",
        "                self.fc.append(nn.Linear(mlp_layers[i-1], mlp_layers[i]))\n",
        "            self.fc.append(nn.ReLU())\n",
        "        self.fc.append(nn.Linear(mlp_layers[-1], output_dim))\n",
        "        self.fc = nn.Sequential(*self.fc)\n",
        "        \n",
        "    def forward(self, x):\n",
        "        assert self.seq_len is not None\n",
        "        batch_size, feature_size = x.shape\n",
        "        assert feature_size % self.seq_len == 0\n",
        "        x = x.view(batch_size, self.seq_len, feature_size // self.seq_len)\n",
        "        output, _ = self.gru(x)\n",
        "        x = self.fc(output[:, -1, :])  # [B, output_dim]\n",
        "        return x"
      ]
    },
    {
      "cell_type": "code",
      "execution_count": 6,
      "metadata": {},
      "outputs": [],
      "source": [
        "def count_parameters(model):\n",
        "    \"\"\"\n",
        "    计算模型的总参数量\n",
        "\n",
        "    参数:\n",
        "    model (torch.nn.Module): PyTorch模型实例\n",
        "\n",
        "    返回:\n",
        "    int: 模型的总参数量\n",
        "    \"\"\"\n",
        "    return sum(p.numel() for p in model.parameters() if p.requires_grad)"
      ]
    },
    {
      "cell_type": "markdown",
      "metadata": {
        "id": "TlIq8JeqvvHC"
      },
      "source": [
        "# Hyper-parameters"
      ]
    },
    {
      "cell_type": "code",
      "execution_count": 7,
      "metadata": {
        "id": "iIHn79Iav1ri"
      },
      "outputs": [],
      "source": [
        "# data prarameters\n",
        "# TODO: change the value of \"concat_nframes\" for medium baseline\n",
        "concat_nframes = 3   # the number of frames to concat with, n must be odd (total 2k+1 = n frames)\n",
        "train_ratio = 0.75   # the ratio of data used for training, the rest will be used for validation\n",
        "\n",
        "# training parameters\n",
        "seed = 1213          # random seed\n",
        "batch_size = 512        # batch size\n",
        "num_epoch = 10         # the number of training epoch\n",
        "learning_rate = 1e-4      # learning rate\n",
        "model_path = './model.ckpt'  # the path where the checkpoint will be saved\n",
        "\n",
        "# model parameters\n",
        "# TODO: change the value of \"hidden_layers\" or \"hidden_dim\" for medium baseline\n",
        "input_dim = 39 * concat_nframes  # the input dim of the model, you should not change the value\n",
        "hidden_layers = 2          # the number of hidden layers\n",
        "hidden_dim = 64           # the hidden dim"
      ]
    },
    {
      "cell_type": "code",
      "execution_count": 8,
      "metadata": {},
      "outputs": [
        {
          "name": "stdout",
          "output_type": "stream",
          "text": [
            "number of parameters of model_1: 8559657\n",
            "number of parameters of model_2: 8718377\n"
          ]
        }
      ],
      "source": [
        "model_1 = Classifier(input_dim=input_dim, hidden_layers=8, hidden_dim=1024)\n",
        "model_2 = Classifier(input_dim=input_dim, hidden_layers=2, hidden_dim=2048)\n",
        "print(f'number of parameters of model_1: {count_parameters(model_1)}')\n",
        "print(f'number of parameters of model_2: {count_parameters(model_2)}')"
      ]
    },
    {
      "cell_type": "markdown",
      "metadata": {
        "id": "IIUFRgG5yoDn"
      },
      "source": [
        "# Dataloader"
      ]
    },
    {
      "cell_type": "code",
      "execution_count": 9,
      "metadata": {
        "colab": {
          "base_uri": "https://localhost:8080/"
        },
        "id": "c1zI3v5jyrDn",
        "outputId": "71dff0ad-86a8-42b2-a6e0-c869a525b8e0"
      },
      "outputs": [
        {
          "name": "stdout",
          "output_type": "stream",
          "text": [
            "DEVICE: cuda\n",
            "[Dataset] - # phone classes: 41, number of utterances for train: 2571\n"
          ]
        },
        {
          "name": "stderr",
          "output_type": "stream",
          "text": [
            "2571it [00:01, 1737.28it/s]\n"
          ]
        },
        {
          "name": "stdout",
          "output_type": "stream",
          "text": [
            "[INFO] train set\n",
            "torch.Size([1588590, 117])\n",
            "torch.Size([1588590])\n",
            "[Dataset] - # phone classes: 41, number of utterances for val: 858\n"
          ]
        },
        {
          "name": "stderr",
          "output_type": "stream",
          "text": [
            "858it [00:00, 1784.37it/s]\n"
          ]
        },
        {
          "name": "stdout",
          "output_type": "stream",
          "text": [
            "[INFO] val set\n",
            "torch.Size([528204, 117])\n",
            "torch.Size([528204])\n"
          ]
        }
      ],
      "source": [
        "from torch.utils.data import DataLoader\n",
        "import gc\n",
        "\n",
        "same_seeds(seed)\n",
        "device = 'cuda' if torch.cuda.is_available() else 'cpu'\n",
        "print(f'DEVICE: {device}')\n",
        "\n",
        "# preprocess data\n",
        "train_X, train_y = preprocess_data(split='train', feat_dir='./libriphone/feat', phone_path='./libriphone', concat_nframes=concat_nframes, train_ratio=train_ratio, random_seed=seed)\n",
        "val_X, val_y = preprocess_data(split='val', feat_dir='./libriphone/feat', phone_path='./libriphone', concat_nframes=concat_nframes, train_ratio=train_ratio, random_seed=seed)\n",
        "\n",
        "# get dataset\n",
        "train_set = LibriDataset(train_X, train_y)\n",
        "val_set = LibriDataset(val_X, val_y)\n",
        "\n",
        "# remove raw feature to save memory\n",
        "del train_X, train_y, val_X, val_y\n",
        "gc.collect()\n",
        "\n",
        "# get dataloader\n",
        "train_loader = DataLoader(train_set, batch_size=batch_size, shuffle=True)\n",
        "val_loader = DataLoader(val_set, batch_size=batch_size, shuffle=False)"
      ]
    },
    {
      "cell_type": "code",
      "execution_count": 10,
      "metadata": {},
      "outputs": [
        {
          "name": "stdout",
          "output_type": "stream",
          "text": [
            "torch.Size([512, 117])\n",
            "torch.Size([512])\n"
          ]
        }
      ],
      "source": [
        "for X, y in train_loader:\n",
        "    print(X.shape)\n",
        "    print(y.shape)\n",
        "    break"
      ]
    },
    {
      "cell_type": "markdown",
      "metadata": {
        "id": "pwWH1KIqzxEr"
      },
      "source": [
        "# Training"
      ]
    },
    {
      "cell_type": "code",
      "execution_count": 32,
      "metadata": {
        "colab": {
          "base_uri": "https://localhost:8080/"
        },
        "id": "CdMWsBs7zzNs",
        "outputId": "5f600fec-d607-469f-db9d-f1088a8400f4"
      },
      "outputs": [],
      "source": [
        "from torch.optim.lr_scheduler import PolynomialLR, StepLR\n",
        "\n",
        "# train function\n",
        "def train(num_epoch, model, optimizer, criterion, train_loader, val_loader, device, model_path, lr_scheduler=None):\n",
        "    best_acc = 0.0\n",
        "    for epoch in range(num_epoch):\n",
        "        train_acc = 0.0\n",
        "        train_loss = 0.0\n",
        "        val_acc = 0.0\n",
        "        val_loss = 0.0\n",
        "        \n",
        "        print(f'learning_rate: {lr_scheduler.get_last_lr()[0]}')\n",
        "        # training\n",
        "        model.train() # set the model to training mode\n",
        "        for i, batch in enumerate(tqdm(train_loader)):\n",
        "            features, labels = batch\n",
        "            features = features.to(device)\n",
        "            labels = labels.to(device)\n",
        "\n",
        "            optimizer.zero_grad()\n",
        "            outputs = model(features)\n",
        "            \n",
        "            loss = criterion(outputs, labels)\n",
        "            loss.backward()\n",
        "            optimizer.step()\n",
        "\n",
        "            _, train_pred = torch.max(outputs, 1) # get the index of the class with the highest probability\n",
        "            train_acc += (train_pred.detach() == labels.detach()).sum().item()\n",
        "            train_loss += loss.item()\n",
        "\n",
        "        # validation\n",
        "        model.eval() # set the model to evaluation mode\n",
        "        with torch.no_grad():\n",
        "            for i, batch in enumerate(tqdm(val_loader)):\n",
        "                features, labels = batch\n",
        "                features = features.to(device)\n",
        "                labels = labels.to(device)\n",
        "                outputs = model(features)\n",
        "\n",
        "                loss = criterion(outputs, labels)\n",
        "\n",
        "                _, val_pred = torch.max(outputs, 1)\n",
        "                val_acc += (val_pred.cpu() == labels.cpu()).sum().item() # get the index of the class with the highest probability\n",
        "                val_loss += loss.item()\n",
        "\n",
        "        print(f'[{epoch+1:03d}/{num_epoch:03d}] Train Acc: {train_acc/len(train_set):3.5f} Loss: {train_loss/len(train_loader):3.5f} | Val Acc: {val_acc/len(val_set):3.5f} loss: {val_loss/len(val_loader):3.5f}')\n",
        "\n",
        "        # if the model improves, save a checkpoint at this epoch\n",
        "        if val_acc > best_acc:\n",
        "            best_acc = val_acc\n",
        "            torch.save(model.state_dict(), model_path)\n",
        "            print(f'saving model with acc {best_acc/len(val_set):.5f}')\n",
        "\n",
        "        if lr_scheduler:\n",
        "            lr_scheduler.step()\n",
        "\n",
        "def train_from_init(num_epoch, model, train_loader, val_loader, device, learning_rate, model_path):\n",
        "    optimizer = torch.optim.Adam(model.parameters(), lr=learning_rate)\n",
        "    criterion = nn.CrossEntropyLoss()\n",
        "    scheduler = StepLR(optimizer, step_size=5, gamma=0.5)\n",
        "    train(num_epoch, model, optimizer, criterion, train_loader, val_loader, device, model_path, scheduler)\n",
        "\n",
        "# create model, define a loss function, and optimizer\n",
        "# model = Classifier(input_dim=input_dim, hidden_layers=hidden_layers, hidden_dim=hidden_dim).to(device)\n",
        "# optimizer = torch.optim.Adam(model.parameters(), lr=learning_rate)\n",
        "# train(num_epoch, model, train_loader, val_loader, device, learning_rate, model_path)"
      ]
    },
    {
      "cell_type": "code",
      "execution_count": 41,
      "metadata": {},
      "outputs": [
        {
          "name": "stdout",
          "output_type": "stream",
          "text": [
            "Start to train model_1 on cuda.\n"
          ]
        },
        {
          "name": "stderr",
          "output_type": "stream",
          "text": [
            "100%|██████████| 3103/3103 [00:39<00:00, 78.30it/s]\n",
            "100%|██████████| 1032/1032 [00:05<00:00, 201.53it/s]\n"
          ]
        },
        {
          "name": "stdout",
          "output_type": "stream",
          "text": [
            "[001/010] Train Acc: 0.65877 Loss: 1.12159 | Val Acc: 0.54382 loss: 1.62337\n",
            "saving model with acc 0.54382\n"
          ]
        },
        {
          "name": "stderr",
          "output_type": "stream",
          "text": [
            "100%|██████████| 3103/3103 [00:36<00:00, 85.67it/s]\n",
            "100%|██████████| 1032/1032 [00:04<00:00, 206.80it/s]\n"
          ]
        },
        {
          "name": "stdout",
          "output_type": "stream",
          "text": [
            "[002/010] Train Acc: 0.67199 Loss: 1.07635 | Val Acc: 0.54265 loss: 1.65210\n"
          ]
        },
        {
          "name": "stderr",
          "output_type": "stream",
          "text": [
            "100%|██████████| 3103/3103 [00:37<00:00, 83.70it/s]\n",
            "100%|██████████| 1032/1032 [00:04<00:00, 206.57it/s]\n"
          ]
        },
        {
          "name": "stdout",
          "output_type": "stream",
          "text": [
            "[003/010] Train Acc: 0.68527 Loss: 1.03067 | Val Acc: 0.53989 loss: 1.71929\n"
          ]
        },
        {
          "name": "stderr",
          "output_type": "stream",
          "text": [
            "100%|██████████| 3103/3103 [00:35<00:00, 86.60it/s]\n",
            "100%|██████████| 1032/1032 [00:04<00:00, 209.55it/s]\n"
          ]
        },
        {
          "name": "stdout",
          "output_type": "stream",
          "text": [
            "[004/010] Train Acc: 0.69879 Loss: 0.98518 | Val Acc: 0.53385 loss: 1.75275\n"
          ]
        },
        {
          "name": "stderr",
          "output_type": "stream",
          "text": [
            "100%|██████████| 3103/3103 [00:36<00:00, 84.27it/s]\n",
            "100%|██████████| 1032/1032 [00:05<00:00, 202.12it/s]\n"
          ]
        },
        {
          "name": "stdout",
          "output_type": "stream",
          "text": [
            "[005/010] Train Acc: 0.71174 Loss: 0.94042 | Val Acc: 0.53203 loss: 1.82890\n"
          ]
        },
        {
          "name": "stderr",
          "output_type": "stream",
          "text": [
            "100%|██████████| 3103/3103 [00:36<00:00, 84.80it/s]\n",
            "100%|██████████| 1032/1032 [00:04<00:00, 208.78it/s]\n"
          ]
        },
        {
          "name": "stdout",
          "output_type": "stream",
          "text": [
            "[006/010] Train Acc: 0.72409 Loss: 0.89881 | Val Acc: 0.53136 loss: 1.85692\n"
          ]
        },
        {
          "name": "stderr",
          "output_type": "stream",
          "text": [
            "100%|██████████| 3103/3103 [00:36<00:00, 85.49it/s]\n",
            "100%|██████████| 1032/1032 [00:04<00:00, 209.50it/s]\n"
          ]
        },
        {
          "name": "stdout",
          "output_type": "stream",
          "text": [
            "[007/010] Train Acc: 0.73619 Loss: 0.85816 | Val Acc: 0.52842 loss: 1.89811\n"
          ]
        },
        {
          "name": "stderr",
          "output_type": "stream",
          "text": [
            "100%|██████████| 3103/3103 [00:35<00:00, 86.45it/s]\n",
            "100%|██████████| 1032/1032 [00:04<00:00, 211.30it/s]\n"
          ]
        },
        {
          "name": "stdout",
          "output_type": "stream",
          "text": [
            "[008/010] Train Acc: 0.74742 Loss: 0.81928 | Val Acc: 0.52237 loss: 1.97231\n"
          ]
        },
        {
          "name": "stderr",
          "output_type": "stream",
          "text": [
            "100%|██████████| 3103/3103 [00:35<00:00, 86.84it/s]\n",
            "100%|██████████| 1032/1032 [00:04<00:00, 216.24it/s]\n"
          ]
        },
        {
          "name": "stdout",
          "output_type": "stream",
          "text": [
            "[009/010] Train Acc: 0.75783 Loss: 0.78252 | Val Acc: 0.52154 loss: 2.04517\n"
          ]
        },
        {
          "name": "stderr",
          "output_type": "stream",
          "text": [
            "100%|██████████| 3103/3103 [00:35<00:00, 87.83it/s]\n",
            "100%|██████████| 1032/1032 [00:04<00:00, 220.59it/s]\n"
          ]
        },
        {
          "name": "stdout",
          "output_type": "stream",
          "text": [
            "[010/010] Train Acc: 0.76866 Loss: 0.74762 | Val Acc: 0.51969 loss: 2.10830\n",
            "-----------------------------------\n",
            "Start to train model_2 on cuda.\n"
          ]
        },
        {
          "name": "stderr",
          "output_type": "stream",
          "text": [
            "100%|██████████| 3103/3103 [00:34<00:00, 89.72it/s]\n",
            "100%|██████████| 1032/1032 [00:04<00:00, 220.49it/s]\n"
          ]
        },
        {
          "name": "stdout",
          "output_type": "stream",
          "text": [
            "[001/010] Train Acc: 0.65261 Loss: 1.10976 | Val Acc: 0.56278 loss: 1.46794\n",
            "saving model with acc 0.56278\n"
          ]
        },
        {
          "name": "stderr",
          "output_type": "stream",
          "text": [
            "100%|██████████| 3103/3103 [00:34<00:00, 89.61it/s]\n",
            "100%|██████████| 1032/1032 [00:04<00:00, 217.61it/s]\n"
          ]
        },
        {
          "name": "stdout",
          "output_type": "stream",
          "text": [
            "[002/010] Train Acc: 0.66385 Loss: 1.07175 | Val Acc: 0.55946 loss: 1.49172\n"
          ]
        },
        {
          "name": "stderr",
          "output_type": "stream",
          "text": [
            "100%|██████████| 3103/3103 [00:34<00:00, 89.06it/s]\n",
            "100%|██████████| 1032/1032 [00:04<00:00, 217.65it/s]\n"
          ]
        },
        {
          "name": "stdout",
          "output_type": "stream",
          "text": [
            "[003/010] Train Acc: 0.67531 Loss: 1.03263 | Val Acc: 0.55859 loss: 1.51997\n"
          ]
        },
        {
          "name": "stderr",
          "output_type": "stream",
          "text": [
            "100%|██████████| 3103/3103 [00:35<00:00, 88.51it/s]\n",
            "100%|██████████| 1032/1032 [00:04<00:00, 211.01it/s]\n"
          ]
        },
        {
          "name": "stdout",
          "output_type": "stream",
          "text": [
            "[004/010] Train Acc: 0.68640 Loss: 0.99465 | Val Acc: 0.55714 loss: 1.53445\n"
          ]
        },
        {
          "name": "stderr",
          "output_type": "stream",
          "text": [
            "100%|██████████| 3103/3103 [00:35<00:00, 88.52it/s]\n",
            "100%|██████████| 1032/1032 [00:04<00:00, 210.16it/s]\n"
          ]
        },
        {
          "name": "stdout",
          "output_type": "stream",
          "text": [
            "[005/010] Train Acc: 0.69865 Loss: 0.95510 | Val Acc: 0.55355 loss: 1.55971\n"
          ]
        },
        {
          "name": "stderr",
          "output_type": "stream",
          "text": [
            "100%|██████████| 3103/3103 [00:34<00:00, 89.31it/s]\n",
            "100%|██████████| 1032/1032 [00:04<00:00, 219.26it/s]\n"
          ]
        },
        {
          "name": "stdout",
          "output_type": "stream",
          "text": [
            "[006/010] Train Acc: 0.71089 Loss: 0.91613 | Val Acc: 0.54969 loss: 1.59322\n"
          ]
        },
        {
          "name": "stderr",
          "output_type": "stream",
          "text": [
            "100%|██████████| 3103/3103 [00:34<00:00, 89.13it/s]\n",
            "100%|██████████| 1032/1032 [00:04<00:00, 220.71it/s]\n"
          ]
        },
        {
          "name": "stdout",
          "output_type": "stream",
          "text": [
            "[007/010] Train Acc: 0.72211 Loss: 0.87724 | Val Acc: 0.54791 loss: 1.61887\n"
          ]
        },
        {
          "name": "stderr",
          "output_type": "stream",
          "text": [
            "100%|██████████| 3103/3103 [00:34<00:00, 88.67it/s]\n",
            "100%|██████████| 1032/1032 [00:04<00:00, 214.50it/s]\n"
          ]
        },
        {
          "name": "stdout",
          "output_type": "stream",
          "text": [
            "[008/010] Train Acc: 0.73418 Loss: 0.83868 | Val Acc: 0.54361 loss: 1.66469\n"
          ]
        },
        {
          "name": "stderr",
          "output_type": "stream",
          "text": [
            "100%|██████████| 3103/3103 [00:35<00:00, 88.12it/s]\n",
            "100%|██████████| 1032/1032 [00:04<00:00, 211.50it/s]\n"
          ]
        },
        {
          "name": "stdout",
          "output_type": "stream",
          "text": [
            "[009/010] Train Acc: 0.74595 Loss: 0.80073 | Val Acc: 0.54286 loss: 1.69468\n"
          ]
        },
        {
          "name": "stderr",
          "output_type": "stream",
          "text": [
            "100%|██████████| 3103/3103 [00:35<00:00, 88.17it/s]\n",
            "100%|██████████| 1032/1032 [00:05<00:00, 205.05it/s]"
          ]
        },
        {
          "name": "stdout",
          "output_type": "stream",
          "text": [
            "[010/010] Train Acc: 0.75789 Loss: 0.76287 | Val Acc: 0.53756 loss: 1.74203\n"
          ]
        },
        {
          "name": "stderr",
          "output_type": "stream",
          "text": [
            "\n"
          ]
        }
      ],
      "source": [
        "model_1 = model_1.to(device)\n",
        "model_2 = model_2.to(device)\n",
        "print(f'Start to train model_1 on {device}.')\n",
        "train(num_epoch, model_1, train_loader, val_loader, device, learning_rate, 'model_1.ckpt')\n",
        "print('-----------------------------------')\n",
        "print(f'Start to train model_2 on {device}.')\n",
        "train(num_epoch, model_2, train_loader, val_loader, device, learning_rate, 'model_2.ckpt')"
      ]
    },
    {
      "cell_type": "code",
      "execution_count": 22,
      "metadata": {},
      "outputs": [
        {
          "name": "stdout",
          "output_type": "stream",
          "text": [
            "Start to train model_3 on cuda.\n"
          ]
        },
        {
          "name": "stderr",
          "output_type": "stream",
          "text": [
            "100%|██████████| 3103/3103 [00:39<00:00, 77.92it/s]\n",
            "100%|██████████| 1032/1032 [00:05<00:00, 201.97it/s]\n"
          ]
        },
        {
          "name": "stdout",
          "output_type": "stream",
          "text": [
            "[001/010] Train Acc: 0.46160 Loss: 1.88658 | Val Acc: 0.52039 loss: 1.61677\n",
            "saving model with acc 0.52039\n"
          ]
        },
        {
          "name": "stderr",
          "output_type": "stream",
          "text": [
            "100%|██████████| 3103/3103 [00:39<00:00, 78.54it/s]\n",
            "100%|██████████| 1032/1032 [00:05<00:00, 189.55it/s]\n"
          ]
        },
        {
          "name": "stdout",
          "output_type": "stream",
          "text": [
            "[002/010] Train Acc: 0.51538 Loss: 1.63815 | Val Acc: 0.54076 loss: 1.53246\n",
            "saving model with acc 0.54076\n"
          ]
        },
        {
          "name": "stderr",
          "output_type": "stream",
          "text": [
            "100%|██████████| 3103/3103 [00:39<00:00, 79.19it/s]\n",
            "100%|██████████| 1032/1032 [00:05<00:00, 201.83it/s]\n"
          ]
        },
        {
          "name": "stdout",
          "output_type": "stream",
          "text": [
            "[003/010] Train Acc: 0.53278 Loss: 1.56754 | Val Acc: 0.54971 loss: 1.49152\n",
            "saving model with acc 0.54971\n"
          ]
        },
        {
          "name": "stderr",
          "output_type": "stream",
          "text": [
            "100%|██████████| 3103/3103 [00:39<00:00, 78.86it/s]\n",
            "100%|██████████| 1032/1032 [00:05<00:00, 202.46it/s]\n"
          ]
        },
        {
          "name": "stdout",
          "output_type": "stream",
          "text": [
            "[004/010] Train Acc: 0.54314 Loss: 1.52439 | Val Acc: 0.55647 loss: 1.46713\n",
            "saving model with acc 0.55647\n"
          ]
        },
        {
          "name": "stderr",
          "output_type": "stream",
          "text": [
            "100%|██████████| 3103/3103 [00:39<00:00, 78.94it/s]\n",
            "100%|██████████| 1032/1032 [00:05<00:00, 201.05it/s]\n"
          ]
        },
        {
          "name": "stdout",
          "output_type": "stream",
          "text": [
            "[005/010] Train Acc: 0.55213 Loss: 1.49162 | Val Acc: 0.56104 loss: 1.44815\n",
            "saving model with acc 0.56104\n"
          ]
        },
        {
          "name": "stderr",
          "output_type": "stream",
          "text": [
            "100%|██████████| 3103/3103 [00:40<00:00, 76.86it/s]\n",
            "100%|██████████| 1032/1032 [00:05<00:00, 194.07it/s]\n"
          ]
        },
        {
          "name": "stdout",
          "output_type": "stream",
          "text": [
            "[006/010] Train Acc: 0.55831 Loss: 1.46657 | Val Acc: 0.56423 loss: 1.43639\n",
            "saving model with acc 0.56423\n"
          ]
        },
        {
          "name": "stderr",
          "output_type": "stream",
          "text": [
            "100%|██████████| 3103/3103 [00:41<00:00, 75.43it/s]\n",
            "100%|██████████| 1032/1032 [00:05<00:00, 192.24it/s]\n"
          ]
        },
        {
          "name": "stdout",
          "output_type": "stream",
          "text": [
            "[007/010] Train Acc: 0.56378 Loss: 1.44490 | Val Acc: 0.56619 loss: 1.42730\n",
            "saving model with acc 0.56619\n"
          ]
        },
        {
          "name": "stderr",
          "output_type": "stream",
          "text": [
            "100%|██████████| 3103/3103 [00:40<00:00, 77.17it/s]\n",
            "100%|██████████| 1032/1032 [00:05<00:00, 203.13it/s]\n"
          ]
        },
        {
          "name": "stdout",
          "output_type": "stream",
          "text": [
            "[008/010] Train Acc: 0.56863 Loss: 1.42562 | Val Acc: 0.56870 loss: 1.42186\n",
            "saving model with acc 0.56870\n"
          ]
        },
        {
          "name": "stderr",
          "output_type": "stream",
          "text": [
            "100%|██████████| 3103/3103 [00:39<00:00, 77.75it/s]\n",
            "100%|██████████| 1032/1032 [00:05<00:00, 201.71it/s]\n"
          ]
        },
        {
          "name": "stdout",
          "output_type": "stream",
          "text": [
            "[009/010] Train Acc: 0.57293 Loss: 1.40892 | Val Acc: 0.57072 loss: 1.41145\n",
            "saving model with acc 0.57072\n"
          ]
        },
        {
          "name": "stderr",
          "output_type": "stream",
          "text": [
            "100%|██████████| 3103/3103 [00:39<00:00, 78.88it/s]\n",
            "100%|██████████| 1032/1032 [00:05<00:00, 199.99it/s]\n"
          ]
        },
        {
          "name": "stdout",
          "output_type": "stream",
          "text": [
            "[010/010] Train Acc: 0.57703 Loss: 1.39413 | Val Acc: 0.57247 loss: 1.40599\n",
            "saving model with acc 0.57247\n",
            "-----------------------------------\n",
            "Start to train model_4 on cuda.\n"
          ]
        },
        {
          "name": "stderr",
          "output_type": "stream",
          "text": [
            "100%|██████████| 3103/3103 [00:39<00:00, 77.64it/s]\n",
            "100%|██████████| 1032/1032 [00:05<00:00, 198.57it/s]\n"
          ]
        },
        {
          "name": "stdout",
          "output_type": "stream",
          "text": [
            "[001/010] Train Acc: 0.38498 Loss: 2.23369 | Val Acc: 0.46846 loss: 1.86001\n",
            "saving model with acc 0.46846\n"
          ]
        },
        {
          "name": "stderr",
          "output_type": "stream",
          "text": [
            "100%|██████████| 3103/3103 [00:38<00:00, 80.70it/s]\n",
            "100%|██████████| 1032/1032 [00:05<00:00, 198.56it/s]\n"
          ]
        },
        {
          "name": "stdout",
          "output_type": "stream",
          "text": [
            "[002/010] Train Acc: 0.46531 Loss: 1.86520 | Val Acc: 0.50394 loss: 1.70246\n",
            "saving model with acc 0.50394\n"
          ]
        },
        {
          "name": "stderr",
          "output_type": "stream",
          "text": [
            "100%|██████████| 3103/3103 [00:39<00:00, 79.26it/s]\n",
            "100%|██████████| 1032/1032 [00:05<00:00, 193.90it/s]\n"
          ]
        },
        {
          "name": "stdout",
          "output_type": "stream",
          "text": [
            "[003/010] Train Acc: 0.48814 Loss: 1.77384 | Val Acc: 0.51762 loss: 1.64336\n",
            "saving model with acc 0.51762\n"
          ]
        },
        {
          "name": "stderr",
          "output_type": "stream",
          "text": [
            "100%|██████████| 3103/3103 [00:39<00:00, 79.29it/s]\n",
            "100%|██████████| 1032/1032 [00:05<00:00, 193.17it/s]\n"
          ]
        },
        {
          "name": "stdout",
          "output_type": "stream",
          "text": [
            "[004/010] Train Acc: 0.50053 Loss: 1.72555 | Val Acc: 0.52719 loss: 1.60852\n",
            "saving model with acc 0.52719\n"
          ]
        },
        {
          "name": "stderr",
          "output_type": "stream",
          "text": [
            "100%|██████████| 3103/3103 [00:39<00:00, 77.93it/s]\n",
            "100%|██████████| 1032/1032 [00:04<00:00, 207.85it/s]\n"
          ]
        },
        {
          "name": "stdout",
          "output_type": "stream",
          "text": [
            "[005/010] Train Acc: 0.50895 Loss: 1.69271 | Val Acc: 0.53220 loss: 1.58875\n",
            "saving model with acc 0.53220\n"
          ]
        },
        {
          "name": "stderr",
          "output_type": "stream",
          "text": [
            "100%|██████████| 3103/3103 [00:37<00:00, 82.11it/s]\n",
            "100%|██████████| 1032/1032 [00:04<00:00, 209.92it/s]\n"
          ]
        },
        {
          "name": "stdout",
          "output_type": "stream",
          "text": [
            "[006/010] Train Acc: 0.51539 Loss: 1.66676 | Val Acc: 0.53743 loss: 1.56663\n",
            "saving model with acc 0.53743\n"
          ]
        },
        {
          "name": "stderr",
          "output_type": "stream",
          "text": [
            "100%|██████████| 3103/3103 [00:38<00:00, 79.68it/s]\n",
            "100%|██████████| 1032/1032 [00:05<00:00, 201.35it/s]\n"
          ]
        },
        {
          "name": "stdout",
          "output_type": "stream",
          "text": [
            "[007/010] Train Acc: 0.52135 Loss: 1.64573 | Val Acc: 0.54087 loss: 1.55206\n",
            "saving model with acc 0.54087\n"
          ]
        },
        {
          "name": "stderr",
          "output_type": "stream",
          "text": [
            "100%|██████████| 3103/3103 [00:38<00:00, 81.02it/s]\n",
            "100%|██████████| 1032/1032 [00:05<00:00, 204.99it/s]\n"
          ]
        },
        {
          "name": "stdout",
          "output_type": "stream",
          "text": [
            "[008/010] Train Acc: 0.52591 Loss: 1.62753 | Val Acc: 0.54453 loss: 1.53666\n",
            "saving model with acc 0.54453\n"
          ]
        },
        {
          "name": "stderr",
          "output_type": "stream",
          "text": [
            "100%|██████████| 3103/3103 [00:39<00:00, 79.26it/s]\n",
            "100%|██████████| 1032/1032 [00:05<00:00, 196.36it/s]\n"
          ]
        },
        {
          "name": "stdout",
          "output_type": "stream",
          "text": [
            "[009/010] Train Acc: 0.52952 Loss: 1.61218 | Val Acc: 0.54745 loss: 1.52518\n",
            "saving model with acc 0.54745\n"
          ]
        },
        {
          "name": "stderr",
          "output_type": "stream",
          "text": [
            "100%|██████████| 3103/3103 [00:40<00:00, 77.50it/s]\n",
            "100%|██████████| 1032/1032 [00:05<00:00, 196.00it/s]\n"
          ]
        },
        {
          "name": "stdout",
          "output_type": "stream",
          "text": [
            "[010/010] Train Acc: 0.53329 Loss: 1.59803 | Val Acc: 0.54972 loss: 1.51496\n",
            "saving model with acc 0.54972\n",
            "-----------------------------------\n",
            "Start to train model_5 on cuda.\n"
          ]
        },
        {
          "name": "stderr",
          "output_type": "stream",
          "text": [
            "100%|██████████| 3103/3103 [00:39<00:00, 78.77it/s]\n",
            "100%|██████████| 1032/1032 [00:05<00:00, 203.68it/s]\n"
          ]
        },
        {
          "name": "stdout",
          "output_type": "stream",
          "text": [
            "[001/010] Train Acc: 0.24932 Loss: 2.83059 | Val Acc: 0.17339 loss: 4.59497\n",
            "saving model with acc 0.17339\n"
          ]
        },
        {
          "name": "stderr",
          "output_type": "stream",
          "text": [
            "100%|██████████| 3103/3103 [00:39<00:00, 78.75it/s]\n",
            "100%|██████████| 1032/1032 [00:05<00:00, 203.63it/s]\n"
          ]
        },
        {
          "name": "stdout",
          "output_type": "stream",
          "text": [
            "[002/010] Train Acc: 0.29090 Loss: 2.59934 | Val Acc: 0.17701 loss: 4.15001\n",
            "saving model with acc 0.17701\n"
          ]
        },
        {
          "name": "stderr",
          "output_type": "stream",
          "text": [
            "100%|██████████| 3103/3103 [00:39<00:00, 78.35it/s]\n",
            "100%|██████████| 1032/1032 [00:05<00:00, 199.28it/s]\n"
          ]
        },
        {
          "name": "stdout",
          "output_type": "stream",
          "text": [
            "[003/010] Train Acc: 0.34496 Loss: 2.39569 | Val Acc: 0.25961 loss: 3.26559\n",
            "saving model with acc 0.25961\n"
          ]
        },
        {
          "name": "stderr",
          "output_type": "stream",
          "text": [
            "100%|██████████| 3103/3103 [00:40<00:00, 76.27it/s]\n",
            "100%|██████████| 1032/1032 [00:05<00:00, 196.07it/s]\n"
          ]
        },
        {
          "name": "stdout",
          "output_type": "stream",
          "text": [
            "[004/010] Train Acc: 0.37325 Loss: 2.27328 | Val Acc: 0.33278 loss: 2.61053\n",
            "saving model with acc 0.33278\n"
          ]
        },
        {
          "name": "stderr",
          "output_type": "stream",
          "text": [
            "100%|██████████| 3103/3103 [00:38<00:00, 81.41it/s]\n",
            "100%|██████████| 1032/1032 [00:04<00:00, 206.74it/s]\n"
          ]
        },
        {
          "name": "stdout",
          "output_type": "stream",
          "text": [
            "[005/010] Train Acc: 0.39439 Loss: 2.16606 | Val Acc: 0.40365 loss: 2.11111\n",
            "saving model with acc 0.40365\n"
          ]
        },
        {
          "name": "stderr",
          "output_type": "stream",
          "text": [
            "100%|██████████| 3103/3103 [00:37<00:00, 83.50it/s]\n",
            "100%|██████████| 1032/1032 [00:04<00:00, 210.92it/s]\n"
          ]
        },
        {
          "name": "stdout",
          "output_type": "stream",
          "text": [
            "[006/010] Train Acc: 0.40869 Loss: 2.09753 | Val Acc: 0.43111 loss: 1.99037\n",
            "saving model with acc 0.43111\n"
          ]
        },
        {
          "name": "stderr",
          "output_type": "stream",
          "text": [
            "100%|██████████| 3103/3103 [00:36<00:00, 84.04it/s]\n",
            "100%|██████████| 1032/1032 [00:04<00:00, 209.92it/s]\n"
          ]
        },
        {
          "name": "stdout",
          "output_type": "stream",
          "text": [
            "[007/010] Train Acc: 0.42101 Loss: 2.05073 | Val Acc: 0.44994 loss: 1.93188\n",
            "saving model with acc 0.44994\n"
          ]
        },
        {
          "name": "stderr",
          "output_type": "stream",
          "text": [
            "100%|██████████| 3103/3103 [00:37<00:00, 83.30it/s]\n",
            "100%|██████████| 1032/1032 [00:04<00:00, 211.00it/s]\n"
          ]
        },
        {
          "name": "stdout",
          "output_type": "stream",
          "text": [
            "[008/010] Train Acc: 0.43018 Loss: 2.02155 | Val Acc: 0.45768 loss: 1.90302\n",
            "saving model with acc 0.45768\n"
          ]
        },
        {
          "name": "stderr",
          "output_type": "stream",
          "text": [
            "100%|██████████| 3103/3103 [00:38<00:00, 81.28it/s]\n",
            "100%|██████████| 1032/1032 [00:04<00:00, 208.97it/s]\n"
          ]
        },
        {
          "name": "stdout",
          "output_type": "stream",
          "text": [
            "[009/010] Train Acc: 0.43755 Loss: 1.99804 | Val Acc: 0.46303 loss: 1.88218\n",
            "saving model with acc 0.46303\n"
          ]
        },
        {
          "name": "stderr",
          "output_type": "stream",
          "text": [
            "100%|██████████| 3103/3103 [00:37<00:00, 83.76it/s]\n",
            "100%|██████████| 1032/1032 [00:04<00:00, 211.85it/s]"
          ]
        },
        {
          "name": "stdout",
          "output_type": "stream",
          "text": [
            "[010/010] Train Acc: 0.44367 Loss: 1.98042 | Val Acc: 0.47175 loss: 1.85445\n",
            "saving model with acc 0.47175\n"
          ]
        },
        {
          "name": "stderr",
          "output_type": "stream",
          "text": [
            "\n"
          ]
        }
      ],
      "source": [
        "model_3 = ClassifierV2(input_dim=input_dim, hidden_layers=8, hidden_dim=1024, dropout=0.25).to(device)\n",
        "model_4 = ClassifierV2(input_dim=input_dim, hidden_layers=8, hidden_dim=1024, dropout=0.5).to(device)\n",
        "model_5 = ClassifierV2(input_dim=input_dim, hidden_layers=8, hidden_dim=1024, dropout=0.75).to(device)\n",
        "print(f'Start to train model_3 on {device}.')\n",
        "train(num_epoch, model_3, train_loader, val_loader, device, learning_rate, 'model_3.ckpt')\n",
        "print('-----------------------------------')\n",
        "print(f'Start to train model_4 on {device}.')\n",
        "train(num_epoch, model_4, train_loader, val_loader, device, learning_rate, 'model_4.ckpt')\n",
        "print('-----------------------------------')\n",
        "print(f'Start to train model_5 on {device}.')\n",
        "train(num_epoch, model_5, train_loader, val_loader, device, learning_rate, 'model_5.ckpt')"
      ]
    },
    {
      "cell_type": "code",
      "execution_count": 23,
      "metadata": {},
      "outputs": [
        {
          "name": "stdout",
          "output_type": "stream",
          "text": [
            "Start to train model_3 on cuda.\n"
          ]
        },
        {
          "name": "stderr",
          "output_type": "stream",
          "text": [
            "100%|██████████| 3103/3103 [00:37<00:00, 83.54it/s]\n",
            "100%|██████████| 1032/1032 [00:04<00:00, 206.94it/s]\n"
          ]
        },
        {
          "name": "stdout",
          "output_type": "stream",
          "text": [
            "[001/050] Train Acc: 0.46064 Loss: 1.89040 | Val Acc: 0.52081 loss: 1.62239\n",
            "saving model with acc 0.52081\n"
          ]
        },
        {
          "name": "stderr",
          "output_type": "stream",
          "text": [
            "100%|██████████| 3103/3103 [00:36<00:00, 84.39it/s]\n",
            "100%|██████████| 1032/1032 [00:04<00:00, 210.22it/s]\n"
          ]
        },
        {
          "name": "stdout",
          "output_type": "stream",
          "text": [
            "[002/050] Train Acc: 0.51576 Loss: 1.63735 | Val Acc: 0.53954 loss: 1.53431\n",
            "saving model with acc 0.53954\n"
          ]
        },
        {
          "name": "stderr",
          "output_type": "stream",
          "text": [
            "100%|██████████| 3103/3103 [00:37<00:00, 83.72it/s]\n",
            "100%|██████████| 1032/1032 [00:04<00:00, 209.92it/s]\n"
          ]
        },
        {
          "name": "stdout",
          "output_type": "stream",
          "text": [
            "[003/050] Train Acc: 0.53265 Loss: 1.56656 | Val Acc: 0.54970 loss: 1.49048\n",
            "saving model with acc 0.54970\n"
          ]
        },
        {
          "name": "stderr",
          "output_type": "stream",
          "text": [
            "100%|██████████| 3103/3103 [00:36<00:00, 84.27it/s]\n",
            "100%|██████████| 1032/1032 [00:04<00:00, 209.93it/s]\n"
          ]
        },
        {
          "name": "stdout",
          "output_type": "stream",
          "text": [
            "[004/050] Train Acc: 0.54352 Loss: 1.52299 | Val Acc: 0.55580 loss: 1.46631\n",
            "saving model with acc 0.55580\n"
          ]
        },
        {
          "name": "stderr",
          "output_type": "stream",
          "text": [
            "100%|██████████| 3103/3103 [00:36<00:00, 84.55it/s]\n",
            "100%|██████████| 1032/1032 [00:04<00:00, 212.75it/s]\n"
          ]
        },
        {
          "name": "stdout",
          "output_type": "stream",
          "text": [
            "[005/050] Train Acc: 0.55162 Loss: 1.49146 | Val Acc: 0.56139 loss: 1.44709\n",
            "saving model with acc 0.56139\n"
          ]
        },
        {
          "name": "stderr",
          "output_type": "stream",
          "text": [
            "100%|██████████| 3103/3103 [00:36<00:00, 84.51it/s]\n",
            "100%|██████████| 1032/1032 [00:04<00:00, 212.13it/s]\n"
          ]
        },
        {
          "name": "stdout",
          "output_type": "stream",
          "text": [
            "[006/050] Train Acc: 0.55838 Loss: 1.46545 | Val Acc: 0.56554 loss: 1.43463\n",
            "saving model with acc 0.56554\n"
          ]
        },
        {
          "name": "stderr",
          "output_type": "stream",
          "text": [
            "100%|██████████| 3103/3103 [00:37<00:00, 82.40it/s]\n",
            "100%|██████████| 1032/1032 [00:05<00:00, 205.30it/s]\n"
          ]
        },
        {
          "name": "stdout",
          "output_type": "stream",
          "text": [
            "[007/050] Train Acc: 0.56414 Loss: 1.44283 | Val Acc: 0.56767 loss: 1.42504\n",
            "saving model with acc 0.56767\n"
          ]
        },
        {
          "name": "stderr",
          "output_type": "stream",
          "text": [
            "100%|██████████| 3103/3103 [00:37<00:00, 83.24it/s]\n",
            "100%|██████████| 1032/1032 [00:04<00:00, 211.56it/s]\n"
          ]
        },
        {
          "name": "stdout",
          "output_type": "stream",
          "text": [
            "[008/050] Train Acc: 0.56926 Loss: 1.42479 | Val Acc: 0.56999 loss: 1.41483\n",
            "saving model with acc 0.56999\n"
          ]
        },
        {
          "name": "stderr",
          "output_type": "stream",
          "text": [
            "100%|██████████| 3103/3103 [00:37<00:00, 83.19it/s]\n",
            "100%|██████████| 1032/1032 [00:04<00:00, 212.66it/s]\n"
          ]
        },
        {
          "name": "stdout",
          "output_type": "stream",
          "text": [
            "[009/050] Train Acc: 0.57352 Loss: 1.40743 | Val Acc: 0.57236 loss: 1.40891\n",
            "saving model with acc 0.57236\n"
          ]
        },
        {
          "name": "stderr",
          "output_type": "stream",
          "text": [
            "100%|██████████| 3103/3103 [00:37<00:00, 83.77it/s]\n",
            "100%|██████████| 1032/1032 [00:04<00:00, 212.65it/s]\n"
          ]
        },
        {
          "name": "stdout",
          "output_type": "stream",
          "text": [
            "[010/050] Train Acc: 0.57723 Loss: 1.39235 | Val Acc: 0.57345 loss: 1.40263\n",
            "saving model with acc 0.57345\n"
          ]
        },
        {
          "name": "stderr",
          "output_type": "stream",
          "text": [
            "100%|██████████| 3103/3103 [00:36<00:00, 84.23it/s]\n",
            "100%|██████████| 1032/1032 [00:04<00:00, 211.64it/s]\n"
          ]
        },
        {
          "name": "stdout",
          "output_type": "stream",
          "text": [
            "[011/050] Train Acc: 0.58110 Loss: 1.37752 | Val Acc: 0.57346 loss: 1.40008\n",
            "saving model with acc 0.57346\n"
          ]
        },
        {
          "name": "stderr",
          "output_type": "stream",
          "text": [
            "100%|██████████| 3103/3103 [00:37<00:00, 83.78it/s]\n",
            "100%|██████████| 1032/1032 [00:04<00:00, 210.33it/s]\n"
          ]
        },
        {
          "name": "stdout",
          "output_type": "stream",
          "text": [
            "[012/050] Train Acc: 0.58467 Loss: 1.36419 | Val Acc: 0.57513 loss: 1.39748\n",
            "saving model with acc 0.57513\n"
          ]
        },
        {
          "name": "stderr",
          "output_type": "stream",
          "text": [
            "100%|██████████| 3103/3103 [00:36<00:00, 84.26it/s]\n",
            "100%|██████████| 1032/1032 [00:04<00:00, 211.47it/s]\n"
          ]
        },
        {
          "name": "stdout",
          "output_type": "stream",
          "text": [
            "[013/050] Train Acc: 0.58762 Loss: 1.35247 | Val Acc: 0.57565 loss: 1.39534\n",
            "saving model with acc 0.57565\n"
          ]
        },
        {
          "name": "stderr",
          "output_type": "stream",
          "text": [
            "100%|██████████| 3103/3103 [00:36<00:00, 84.23it/s]\n",
            "100%|██████████| 1032/1032 [00:04<00:00, 211.90it/s]\n"
          ]
        },
        {
          "name": "stdout",
          "output_type": "stream",
          "text": [
            "[014/050] Train Acc: 0.59093 Loss: 1.34039 | Val Acc: 0.57665 loss: 1.39254\n",
            "saving model with acc 0.57665\n"
          ]
        },
        {
          "name": "stderr",
          "output_type": "stream",
          "text": [
            "100%|██████████| 3103/3103 [00:37<00:00, 83.84it/s]\n",
            "100%|██████████| 1032/1032 [00:04<00:00, 213.66it/s]\n"
          ]
        },
        {
          "name": "stdout",
          "output_type": "stream",
          "text": [
            "[015/050] Train Acc: 0.59405 Loss: 1.32948 | Val Acc: 0.57745 loss: 1.38900\n",
            "saving model with acc 0.57745\n"
          ]
        },
        {
          "name": "stderr",
          "output_type": "stream",
          "text": [
            "100%|██████████| 3103/3103 [00:36<00:00, 83.90it/s]\n",
            "100%|██████████| 1032/1032 [00:04<00:00, 210.24it/s]\n"
          ]
        },
        {
          "name": "stdout",
          "output_type": "stream",
          "text": [
            "[016/050] Train Acc: 0.59615 Loss: 1.31936 | Val Acc: 0.57849 loss: 1.38804\n",
            "saving model with acc 0.57849\n"
          ]
        },
        {
          "name": "stderr",
          "output_type": "stream",
          "text": [
            "100%|██████████| 3103/3103 [00:37<00:00, 83.08it/s]\n",
            "100%|██████████| 1032/1032 [00:04<00:00, 211.33it/s]\n"
          ]
        },
        {
          "name": "stdout",
          "output_type": "stream",
          "text": [
            "[017/050] Train Acc: 0.59929 Loss: 1.30886 | Val Acc: 0.57817 loss: 1.39029\n"
          ]
        },
        {
          "name": "stderr",
          "output_type": "stream",
          "text": [
            "100%|██████████| 3103/3103 [00:37<00:00, 83.69it/s]\n",
            "100%|██████████| 1032/1032 [00:04<00:00, 212.38it/s]\n"
          ]
        },
        {
          "name": "stdout",
          "output_type": "stream",
          "text": [
            "[018/050] Train Acc: 0.60185 Loss: 1.29997 | Val Acc: 0.57814 loss: 1.38952\n"
          ]
        },
        {
          "name": "stderr",
          "output_type": "stream",
          "text": [
            "100%|██████████| 3103/3103 [00:36<00:00, 84.28it/s]\n",
            "100%|██████████| 1032/1032 [00:04<00:00, 212.45it/s]\n"
          ]
        },
        {
          "name": "stdout",
          "output_type": "stream",
          "text": [
            "[019/050] Train Acc: 0.60389 Loss: 1.29193 | Val Acc: 0.57799 loss: 1.39086\n"
          ]
        },
        {
          "name": "stderr",
          "output_type": "stream",
          "text": [
            "100%|██████████| 3103/3103 [00:36<00:00, 84.28it/s]\n",
            "100%|██████████| 1032/1032 [00:04<00:00, 211.15it/s]\n"
          ]
        },
        {
          "name": "stdout",
          "output_type": "stream",
          "text": [
            "[020/050] Train Acc: 0.60604 Loss: 1.28341 | Val Acc: 0.57788 loss: 1.39210\n"
          ]
        },
        {
          "name": "stderr",
          "output_type": "stream",
          "text": [
            "100%|██████████| 3103/3103 [00:37<00:00, 83.86it/s]\n",
            "100%|██████████| 1032/1032 [00:04<00:00, 212.09it/s]\n"
          ]
        },
        {
          "name": "stdout",
          "output_type": "stream",
          "text": [
            "[021/050] Train Acc: 0.60866 Loss: 1.27442 | Val Acc: 0.57810 loss: 1.39122\n"
          ]
        },
        {
          "name": "stderr",
          "output_type": "stream",
          "text": [
            "100%|██████████| 3103/3103 [00:37<00:00, 83.12it/s]\n",
            "100%|██████████| 1032/1032 [00:05<00:00, 201.94it/s]\n"
          ]
        },
        {
          "name": "stdout",
          "output_type": "stream",
          "text": [
            "[022/050] Train Acc: 0.61101 Loss: 1.26617 | Val Acc: 0.57799 loss: 1.39393\n"
          ]
        },
        {
          "name": "stderr",
          "output_type": "stream",
          "text": [
            "100%|██████████| 3103/3103 [00:38<00:00, 80.69it/s]\n",
            "100%|██████████| 1032/1032 [00:05<00:00, 200.13it/s]\n"
          ]
        },
        {
          "name": "stdout",
          "output_type": "stream",
          "text": [
            "[023/050] Train Acc: 0.61265 Loss: 1.25873 | Val Acc: 0.57825 loss: 1.39338\n"
          ]
        },
        {
          "name": "stderr",
          "output_type": "stream",
          "text": [
            "100%|██████████| 3103/3103 [00:38<00:00, 80.05it/s]\n",
            "100%|██████████| 1032/1032 [00:04<00:00, 207.64it/s]\n"
          ]
        },
        {
          "name": "stdout",
          "output_type": "stream",
          "text": [
            "[024/050] Train Acc: 0.61427 Loss: 1.25214 | Val Acc: 0.57887 loss: 1.39356\n",
            "saving model with acc 0.57887\n"
          ]
        },
        {
          "name": "stderr",
          "output_type": "stream",
          "text": [
            "100%|██████████| 3103/3103 [00:37<00:00, 83.36it/s]\n",
            "100%|██████████| 1032/1032 [00:04<00:00, 210.47it/s]\n"
          ]
        },
        {
          "name": "stdout",
          "output_type": "stream",
          "text": [
            "[025/050] Train Acc: 0.61650 Loss: 1.24521 | Val Acc: 0.57860 loss: 1.39447\n"
          ]
        },
        {
          "name": "stderr",
          "output_type": "stream",
          "text": [
            "100%|██████████| 3103/3103 [00:36<00:00, 84.51it/s]\n",
            "100%|██████████| 1032/1032 [00:04<00:00, 208.06it/s]\n"
          ]
        },
        {
          "name": "stdout",
          "output_type": "stream",
          "text": [
            "[026/050] Train Acc: 0.61827 Loss: 1.23806 | Val Acc: 0.57808 loss: 1.39651\n"
          ]
        },
        {
          "name": "stderr",
          "output_type": "stream",
          "text": [
            "100%|██████████| 3103/3103 [00:37<00:00, 83.54it/s]\n",
            "100%|██████████| 1032/1032 [00:04<00:00, 209.71it/s]\n"
          ]
        },
        {
          "name": "stdout",
          "output_type": "stream",
          "text": [
            "[027/050] Train Acc: 0.62027 Loss: 1.23190 | Val Acc: 0.57854 loss: 1.39650\n"
          ]
        },
        {
          "name": "stderr",
          "output_type": "stream",
          "text": [
            "100%|██████████| 3103/3103 [00:36<00:00, 84.27it/s]\n",
            "100%|██████████| 1032/1032 [00:04<00:00, 209.83it/s]\n"
          ]
        },
        {
          "name": "stdout",
          "output_type": "stream",
          "text": [
            "[028/050] Train Acc: 0.62166 Loss: 1.22607 | Val Acc: 0.57858 loss: 1.39688\n"
          ]
        },
        {
          "name": "stderr",
          "output_type": "stream",
          "text": [
            "100%|██████████| 3103/3103 [00:37<00:00, 83.76it/s]\n",
            "100%|██████████| 1032/1032 [00:04<00:00, 209.57it/s]\n"
          ]
        },
        {
          "name": "stdout",
          "output_type": "stream",
          "text": [
            "[029/050] Train Acc: 0.62384 Loss: 1.21943 | Val Acc: 0.57894 loss: 1.39968\n",
            "saving model with acc 0.57894\n"
          ]
        },
        {
          "name": "stderr",
          "output_type": "stream",
          "text": [
            "100%|██████████| 3103/3103 [00:36<00:00, 84.30it/s]\n",
            "100%|██████████| 1032/1032 [00:04<00:00, 211.77it/s]\n"
          ]
        },
        {
          "name": "stdout",
          "output_type": "stream",
          "text": [
            "[030/050] Train Acc: 0.62499 Loss: 1.21411 | Val Acc: 0.57826 loss: 1.40063\n"
          ]
        },
        {
          "name": "stderr",
          "output_type": "stream",
          "text": [
            "100%|██████████| 3103/3103 [00:36<00:00, 84.34it/s]\n",
            "100%|██████████| 1032/1032 [00:04<00:00, 211.82it/s]\n"
          ]
        },
        {
          "name": "stdout",
          "output_type": "stream",
          "text": [
            "[031/050] Train Acc: 0.62663 Loss: 1.20806 | Val Acc: 0.57793 loss: 1.40466\n"
          ]
        },
        {
          "name": "stderr",
          "output_type": "stream",
          "text": [
            "100%|██████████| 3103/3103 [00:37<00:00, 83.44it/s]\n",
            "100%|██████████| 1032/1032 [00:04<00:00, 209.07it/s]\n"
          ]
        },
        {
          "name": "stdout",
          "output_type": "stream",
          "text": [
            "[032/050] Train Acc: 0.62861 Loss: 1.20261 | Val Acc: 0.57772 loss: 1.40432\n"
          ]
        },
        {
          "name": "stderr",
          "output_type": "stream",
          "text": [
            "100%|██████████| 3103/3103 [00:36<00:00, 83.90it/s]\n",
            "100%|██████████| 1032/1032 [00:04<00:00, 212.46it/s]\n"
          ]
        },
        {
          "name": "stdout",
          "output_type": "stream",
          "text": [
            "[033/050] Train Acc: 0.62997 Loss: 1.19619 | Val Acc: 0.57728 loss: 1.40649\n"
          ]
        },
        {
          "name": "stderr",
          "output_type": "stream",
          "text": [
            "100%|██████████| 3103/3103 [00:36<00:00, 84.37it/s]\n",
            "100%|██████████| 1032/1032 [00:04<00:00, 212.05it/s]\n"
          ]
        },
        {
          "name": "stdout",
          "output_type": "stream",
          "text": [
            "[034/050] Train Acc: 0.63126 Loss: 1.19136 | Val Acc: 0.57727 loss: 1.40653\n"
          ]
        },
        {
          "name": "stderr",
          "output_type": "stream",
          "text": [
            "100%|██████████| 3103/3103 [00:37<00:00, 83.53it/s]\n",
            "100%|██████████| 1032/1032 [00:04<00:00, 209.89it/s]\n"
          ]
        },
        {
          "name": "stdout",
          "output_type": "stream",
          "text": [
            "[035/050] Train Acc: 0.63265 Loss: 1.18749 | Val Acc: 0.57830 loss: 1.40832\n"
          ]
        },
        {
          "name": "stderr",
          "output_type": "stream",
          "text": [
            "100%|██████████| 3103/3103 [00:37<00:00, 83.82it/s]\n",
            "100%|██████████| 1032/1032 [00:04<00:00, 211.25it/s]\n"
          ]
        },
        {
          "name": "stdout",
          "output_type": "stream",
          "text": [
            "[036/050] Train Acc: 0.63380 Loss: 1.18235 | Val Acc: 0.57705 loss: 1.41127\n"
          ]
        },
        {
          "name": "stderr",
          "output_type": "stream",
          "text": [
            "100%|██████████| 3103/3103 [00:36<00:00, 84.09it/s]\n",
            "100%|██████████| 1032/1032 [00:04<00:00, 208.52it/s]\n"
          ]
        },
        {
          "name": "stdout",
          "output_type": "stream",
          "text": [
            "[037/050] Train Acc: 0.63527 Loss: 1.17769 | Val Acc: 0.57739 loss: 1.41133\n"
          ]
        },
        {
          "name": "stderr",
          "output_type": "stream",
          "text": [
            "100%|██████████| 3103/3103 [00:37<00:00, 83.79it/s]\n",
            "100%|██████████| 1032/1032 [00:04<00:00, 211.41it/s]\n"
          ]
        },
        {
          "name": "stdout",
          "output_type": "stream",
          "text": [
            "[038/050] Train Acc: 0.63639 Loss: 1.17302 | Val Acc: 0.57729 loss: 1.41224\n"
          ]
        },
        {
          "name": "stderr",
          "output_type": "stream",
          "text": [
            "100%|██████████| 3103/3103 [00:37<00:00, 83.44it/s]\n",
            "100%|██████████| 1032/1032 [00:04<00:00, 212.19it/s]\n"
          ]
        },
        {
          "name": "stdout",
          "output_type": "stream",
          "text": [
            "[039/050] Train Acc: 0.63767 Loss: 1.16834 | Val Acc: 0.57736 loss: 1.41343\n"
          ]
        },
        {
          "name": "stderr",
          "output_type": "stream",
          "text": [
            "100%|██████████| 3103/3103 [00:36<00:00, 84.37it/s]\n",
            "100%|██████████| 1032/1032 [00:04<00:00, 212.83it/s]\n"
          ]
        },
        {
          "name": "stdout",
          "output_type": "stream",
          "text": [
            "[040/050] Train Acc: 0.63896 Loss: 1.16352 | Val Acc: 0.57676 loss: 1.41917\n"
          ]
        },
        {
          "name": "stderr",
          "output_type": "stream",
          "text": [
            "100%|██████████| 3103/3103 [00:36<00:00, 84.48it/s]\n",
            "100%|██████████| 1032/1032 [00:04<00:00, 212.61it/s]\n"
          ]
        },
        {
          "name": "stdout",
          "output_type": "stream",
          "text": [
            "[041/050] Train Acc: 0.64058 Loss: 1.15944 | Val Acc: 0.57715 loss: 1.41845\n"
          ]
        },
        {
          "name": "stderr",
          "output_type": "stream",
          "text": [
            "100%|██████████| 3103/3103 [00:36<00:00, 84.37it/s]\n",
            "100%|██████████| 1032/1032 [00:04<00:00, 211.59it/s]\n"
          ]
        },
        {
          "name": "stdout",
          "output_type": "stream",
          "text": [
            "[042/050] Train Acc: 0.64128 Loss: 1.15584 | Val Acc: 0.57726 loss: 1.41951\n"
          ]
        },
        {
          "name": "stderr",
          "output_type": "stream",
          "text": [
            "100%|██████████| 3103/3103 [00:36<00:00, 84.37it/s]\n",
            "100%|██████████| 1032/1032 [00:05<00:00, 205.90it/s]\n"
          ]
        },
        {
          "name": "stdout",
          "output_type": "stream",
          "text": [
            "[043/050] Train Acc: 0.64259 Loss: 1.15126 | Val Acc: 0.57602 loss: 1.42003\n"
          ]
        },
        {
          "name": "stderr",
          "output_type": "stream",
          "text": [
            "100%|██████████| 3103/3103 [00:36<00:00, 84.29it/s]\n",
            "100%|██████████| 1032/1032 [00:04<00:00, 211.82it/s]\n"
          ]
        },
        {
          "name": "stdout",
          "output_type": "stream",
          "text": [
            "[044/050] Train Acc: 0.64371 Loss: 1.14709 | Val Acc: 0.57610 loss: 1.42217\n"
          ]
        },
        {
          "name": "stderr",
          "output_type": "stream",
          "text": [
            "100%|██████████| 3103/3103 [00:36<00:00, 84.31it/s]\n",
            "100%|██████████| 1032/1032 [00:04<00:00, 210.92it/s]\n"
          ]
        },
        {
          "name": "stdout",
          "output_type": "stream",
          "text": [
            "[045/050] Train Acc: 0.64472 Loss: 1.14382 | Val Acc: 0.57623 loss: 1.42124\n"
          ]
        },
        {
          "name": "stderr",
          "output_type": "stream",
          "text": [
            "100%|██████████| 3103/3103 [00:36<00:00, 83.93it/s]\n",
            "100%|██████████| 1032/1032 [00:04<00:00, 209.62it/s]\n"
          ]
        },
        {
          "name": "stdout",
          "output_type": "stream",
          "text": [
            "[046/050] Train Acc: 0.64582 Loss: 1.13944 | Val Acc: 0.57587 loss: 1.42577\n"
          ]
        },
        {
          "name": "stderr",
          "output_type": "stream",
          "text": [
            "100%|██████████| 3103/3103 [00:37<00:00, 82.53it/s]\n",
            "100%|██████████| 1032/1032 [00:05<00:00, 193.63it/s]\n"
          ]
        },
        {
          "name": "stdout",
          "output_type": "stream",
          "text": [
            "[047/050] Train Acc: 0.64686 Loss: 1.13686 | Val Acc: 0.57625 loss: 1.42598\n"
          ]
        },
        {
          "name": "stderr",
          "output_type": "stream",
          "text": [
            "100%|██████████| 3103/3103 [00:38<00:00, 79.82it/s]\n",
            "100%|██████████| 1032/1032 [00:05<00:00, 201.97it/s]\n"
          ]
        },
        {
          "name": "stdout",
          "output_type": "stream",
          "text": [
            "[048/050] Train Acc: 0.64753 Loss: 1.13318 | Val Acc: 0.57639 loss: 1.42443\n"
          ]
        },
        {
          "name": "stderr",
          "output_type": "stream",
          "text": [
            "100%|██████████| 3103/3103 [00:38<00:00, 79.57it/s]\n",
            "100%|██████████| 1032/1032 [00:05<00:00, 201.61it/s]\n"
          ]
        },
        {
          "name": "stdout",
          "output_type": "stream",
          "text": [
            "[049/050] Train Acc: 0.64875 Loss: 1.12926 | Val Acc: 0.57542 loss: 1.42798\n"
          ]
        },
        {
          "name": "stderr",
          "output_type": "stream",
          "text": [
            "100%|██████████| 3103/3103 [00:37<00:00, 82.50it/s]\n",
            "100%|██████████| 1032/1032 [00:05<00:00, 194.35it/s]"
          ]
        },
        {
          "name": "stdout",
          "output_type": "stream",
          "text": [
            "[050/050] Train Acc: 0.64949 Loss: 1.12580 | Val Acc: 0.57555 loss: 1.43203\n"
          ]
        },
        {
          "name": "stderr",
          "output_type": "stream",
          "text": [
            "\n"
          ]
        }
      ],
      "source": [
        "model_3 = ClassifierV2(input_dim=input_dim, hidden_layers=8, hidden_dim=1024, dropout=0.25).to(device)\n",
        "print(f'Start to train model_3 on {device}.')\n",
        "train(50, model_3, train_loader, val_loader, device, learning_rate, 'model_3.ckpt')"
      ]
    },
    {
      "cell_type": "code",
      "execution_count": 34,
      "metadata": {},
      "outputs": [
        {
          "name": "stdout",
          "output_type": "stream",
          "text": [
            "Start to train model_7 on cuda.\n",
            "learning_rate: 0.0001\n"
          ]
        },
        {
          "name": "stderr",
          "output_type": "stream",
          "text": [
            "100%|██████████| 3103/3103 [00:30<00:00, 102.63it/s]\n",
            "100%|██████████| 1032/1032 [00:04<00:00, 206.44it/s]\n"
          ]
        },
        {
          "name": "stdout",
          "output_type": "stream",
          "text": [
            "[001/100] Train Acc: 0.41825 Loss: 2.09509 | Val Acc: 0.46586 loss: 1.85773\n",
            "saving model with acc 0.46586\n",
            "learning_rate: 0.0001\n"
          ]
        },
        {
          "name": "stderr",
          "output_type": "stream",
          "text": [
            "100%|██████████| 3103/3103 [00:29<00:00, 103.53it/s]\n",
            "100%|██████████| 1032/1032 [00:05<00:00, 205.48it/s]\n"
          ]
        },
        {
          "name": "stdout",
          "output_type": "stream",
          "text": [
            "[002/100] Train Acc: 0.48071 Loss: 1.79795 | Val Acc: 0.49582 loss: 1.73751\n",
            "saving model with acc 0.49582\n",
            "learning_rate: 0.0001\n"
          ]
        },
        {
          "name": "stderr",
          "output_type": "stream",
          "text": [
            "100%|██████████| 3103/3103 [00:30<00:00, 102.95it/s]\n",
            "100%|██████████| 1032/1032 [00:04<00:00, 210.71it/s]\n"
          ]
        },
        {
          "name": "stdout",
          "output_type": "stream",
          "text": [
            "[003/100] Train Acc: 0.50210 Loss: 1.70563 | Val Acc: 0.51214 loss: 1.66270\n",
            "saving model with acc 0.51214\n",
            "learning_rate: 0.0001\n"
          ]
        },
        {
          "name": "stderr",
          "output_type": "stream",
          "text": [
            "100%|██████████| 3103/3103 [00:30<00:00, 101.98it/s]\n",
            "100%|██████████| 1032/1032 [00:04<00:00, 206.94it/s]\n"
          ]
        },
        {
          "name": "stdout",
          "output_type": "stream",
          "text": [
            "[004/100] Train Acc: 0.51517 Loss: 1.64693 | Val Acc: 0.52209 loss: 1.61753\n",
            "saving model with acc 0.52209\n",
            "learning_rate: 0.0001\n"
          ]
        },
        {
          "name": "stderr",
          "output_type": "stream",
          "text": [
            "100%|██████████| 3103/3103 [00:30<00:00, 101.57it/s]\n",
            "100%|██████████| 1032/1032 [00:04<00:00, 208.04it/s]\n"
          ]
        },
        {
          "name": "stdout",
          "output_type": "stream",
          "text": [
            "[005/100] Train Acc: 0.52430 Loss: 1.60647 | Val Acc: 0.52995 loss: 1.58472\n",
            "saving model with acc 0.52995\n",
            "learning_rate: 5e-05\n"
          ]
        },
        {
          "name": "stderr",
          "output_type": "stream",
          "text": [
            "100%|██████████| 3103/3103 [00:30<00:00, 101.62it/s]\n",
            "100%|██████████| 1032/1032 [00:05<00:00, 200.66it/s]\n"
          ]
        },
        {
          "name": "stdout",
          "output_type": "stream",
          "text": [
            "[006/100] Train Acc: 0.53122 Loss: 1.57821 | Val Acc: 0.53478 loss: 1.56592\n",
            "saving model with acc 0.53478\n",
            "learning_rate: 5e-05\n"
          ]
        },
        {
          "name": "stderr",
          "output_type": "stream",
          "text": [
            "100%|██████████| 3103/3103 [00:30<00:00, 101.78it/s]\n",
            "100%|██████████| 1032/1032 [00:04<00:00, 213.84it/s]\n"
          ]
        },
        {
          "name": "stdout",
          "output_type": "stream",
          "text": [
            "[007/100] Train Acc: 0.53463 Loss: 1.56443 | Val Acc: 0.53755 loss: 1.55386\n",
            "saving model with acc 0.53755\n",
            "learning_rate: 5e-05\n"
          ]
        },
        {
          "name": "stderr",
          "output_type": "stream",
          "text": [
            "100%|██████████| 3103/3103 [00:29<00:00, 104.36it/s]\n",
            "100%|██████████| 1032/1032 [00:04<00:00, 231.44it/s]\n"
          ]
        },
        {
          "name": "stdout",
          "output_type": "stream",
          "text": [
            "[008/100] Train Acc: 0.53729 Loss: 1.55232 | Val Acc: 0.53991 loss: 1.54349\n",
            "saving model with acc 0.53991\n",
            "learning_rate: 5e-05\n"
          ]
        },
        {
          "name": "stderr",
          "output_type": "stream",
          "text": [
            "100%|██████████| 3103/3103 [00:27<00:00, 111.59it/s]\n",
            "100%|██████████| 1032/1032 [00:04<00:00, 219.49it/s]\n"
          ]
        },
        {
          "name": "stdout",
          "output_type": "stream",
          "text": [
            "[009/100] Train Acc: 0.54007 Loss: 1.54137 | Val Acc: 0.54249 loss: 1.53364\n",
            "saving model with acc 0.54249\n",
            "learning_rate: 5e-05\n"
          ]
        },
        {
          "name": "stderr",
          "output_type": "stream",
          "text": [
            "100%|██████████| 3103/3103 [00:28<00:00, 109.78it/s]\n",
            "100%|██████████| 1032/1032 [00:04<00:00, 219.31it/s]\n"
          ]
        },
        {
          "name": "stdout",
          "output_type": "stream",
          "text": [
            "[010/100] Train Acc: 0.54234 Loss: 1.53135 | Val Acc: 0.54439 loss: 1.52495\n",
            "saving model with acc 0.54439\n",
            "learning_rate: 2.5e-05\n"
          ]
        },
        {
          "name": "stderr",
          "output_type": "stream",
          "text": [
            "100%|██████████| 3103/3103 [00:28<00:00, 110.64it/s]\n",
            "100%|██████████| 1032/1032 [00:04<00:00, 221.86it/s]\n"
          ]
        },
        {
          "name": "stdout",
          "output_type": "stream",
          "text": [
            "[011/100] Train Acc: 0.54520 Loss: 1.52164 | Val Acc: 0.54585 loss: 1.51967\n",
            "saving model with acc 0.54585\n",
            "learning_rate: 2.5e-05\n"
          ]
        },
        {
          "name": "stderr",
          "output_type": "stream",
          "text": [
            "100%|██████████| 3103/3103 [00:27<00:00, 110.92it/s]\n",
            "100%|██████████| 1032/1032 [00:05<00:00, 205.37it/s]\n"
          ]
        },
        {
          "name": "stdout",
          "output_type": "stream",
          "text": [
            "[012/100] Train Acc: 0.54636 Loss: 1.51674 | Val Acc: 0.54654 loss: 1.51639\n",
            "saving model with acc 0.54654\n",
            "learning_rate: 2.5e-05\n"
          ]
        },
        {
          "name": "stderr",
          "output_type": "stream",
          "text": [
            "100%|██████████| 3103/3103 [00:29<00:00, 106.21it/s]\n",
            "100%|██████████| 1032/1032 [00:04<00:00, 217.23it/s]\n"
          ]
        },
        {
          "name": "stdout",
          "output_type": "stream",
          "text": [
            "[013/100] Train Acc: 0.54748 Loss: 1.51239 | Val Acc: 0.54811 loss: 1.51228\n",
            "saving model with acc 0.54811\n",
            "learning_rate: 2.5e-05\n"
          ]
        },
        {
          "name": "stderr",
          "output_type": "stream",
          "text": [
            "100%|██████████| 3103/3103 [00:29<00:00, 104.46it/s]\n",
            "100%|██████████| 1032/1032 [00:05<00:00, 177.68it/s]\n"
          ]
        },
        {
          "name": "stdout",
          "output_type": "stream",
          "text": [
            "[014/100] Train Acc: 0.54806 Loss: 1.50846 | Val Acc: 0.54834 loss: 1.50925\n",
            "saving model with acc 0.54834\n",
            "learning_rate: 2.5e-05\n"
          ]
        },
        {
          "name": "stderr",
          "output_type": "stream",
          "text": [
            "100%|██████████| 3103/3103 [00:30<00:00, 101.54it/s]\n",
            "100%|██████████| 1032/1032 [00:04<00:00, 214.67it/s]\n"
          ]
        },
        {
          "name": "stdout",
          "output_type": "stream",
          "text": [
            "[015/100] Train Acc: 0.54921 Loss: 1.50453 | Val Acc: 0.54966 loss: 1.50494\n",
            "saving model with acc 0.54966\n",
            "learning_rate: 1.25e-05\n"
          ]
        },
        {
          "name": "stderr",
          "output_type": "stream",
          "text": [
            "100%|██████████| 3103/3103 [00:30<00:00, 102.93it/s]\n",
            "100%|██████████| 1032/1032 [00:04<00:00, 209.28it/s]\n"
          ]
        },
        {
          "name": "stdout",
          "output_type": "stream",
          "text": [
            "[016/100] Train Acc: 0.55062 Loss: 1.49969 | Val Acc: 0.55010 loss: 1.50227\n",
            "saving model with acc 0.55010\n",
            "learning_rate: 1.25e-05\n"
          ]
        },
        {
          "name": "stderr",
          "output_type": "stream",
          "text": [
            "100%|██████████| 3103/3103 [00:28<00:00, 110.32it/s]\n",
            "100%|██████████| 1032/1032 [00:04<00:00, 223.50it/s]\n"
          ]
        },
        {
          "name": "stdout",
          "output_type": "stream",
          "text": [
            "[017/100] Train Acc: 0.55122 Loss: 1.49807 | Val Acc: 0.55058 loss: 1.50105\n",
            "saving model with acc 0.55058\n",
            "learning_rate: 1.25e-05\n"
          ]
        },
        {
          "name": "stderr",
          "output_type": "stream",
          "text": [
            "100%|██████████| 3103/3103 [00:27<00:00, 111.87it/s]\n",
            "100%|██████████| 1032/1032 [00:04<00:00, 216.59it/s]\n"
          ]
        },
        {
          "name": "stdout",
          "output_type": "stream",
          "text": [
            "[018/100] Train Acc: 0.55165 Loss: 1.49579 | Val Acc: 0.55081 loss: 1.49915\n",
            "saving model with acc 0.55081\n",
            "learning_rate: 1.25e-05\n"
          ]
        },
        {
          "name": "stderr",
          "output_type": "stream",
          "text": [
            "100%|██████████| 3103/3103 [00:28<00:00, 110.03it/s]\n",
            "100%|██████████| 1032/1032 [00:04<00:00, 221.36it/s]\n"
          ]
        },
        {
          "name": "stdout",
          "output_type": "stream",
          "text": [
            "[019/100] Train Acc: 0.55205 Loss: 1.49380 | Val Acc: 0.55117 loss: 1.49825\n",
            "saving model with acc 0.55117\n",
            "learning_rate: 1.25e-05\n"
          ]
        },
        {
          "name": "stderr",
          "output_type": "stream",
          "text": [
            "100%|██████████| 3103/3103 [00:28<00:00, 110.32it/s]\n",
            "100%|██████████| 1032/1032 [00:04<00:00, 222.52it/s]\n"
          ]
        },
        {
          "name": "stdout",
          "output_type": "stream",
          "text": [
            "[020/100] Train Acc: 0.55266 Loss: 1.49189 | Val Acc: 0.55150 loss: 1.49693\n",
            "saving model with acc 0.55150\n",
            "learning_rate: 6.25e-06\n"
          ]
        },
        {
          "name": "stderr",
          "output_type": "stream",
          "text": [
            "100%|██████████| 3103/3103 [00:27<00:00, 111.65it/s]\n",
            "100%|██████████| 1032/1032 [00:04<00:00, 233.34it/s]\n"
          ]
        },
        {
          "name": "stdout",
          "output_type": "stream",
          "text": [
            "[021/100] Train Acc: 0.55303 Loss: 1.48995 | Val Acc: 0.55179 loss: 1.49543\n",
            "saving model with acc 0.55179\n",
            "learning_rate: 6.25e-06\n"
          ]
        },
        {
          "name": "stderr",
          "output_type": "stream",
          "text": [
            "100%|██████████| 3103/3103 [00:27<00:00, 112.14it/s]\n",
            "100%|██████████| 1032/1032 [00:04<00:00, 221.04it/s]\n"
          ]
        },
        {
          "name": "stdout",
          "output_type": "stream",
          "text": [
            "[022/100] Train Acc: 0.55336 Loss: 1.48898 | Val Acc: 0.55173 loss: 1.49454\n",
            "learning_rate: 6.25e-06\n"
          ]
        },
        {
          "name": "stderr",
          "output_type": "stream",
          "text": [
            "100%|██████████| 3103/3103 [00:29<00:00, 105.59it/s]\n",
            "100%|██████████| 1032/1032 [00:04<00:00, 226.68it/s]\n"
          ]
        },
        {
          "name": "stdout",
          "output_type": "stream",
          "text": [
            "[023/100] Train Acc: 0.55315 Loss: 1.48829 | Val Acc: 0.55217 loss: 1.49357\n",
            "saving model with acc 0.55217\n",
            "learning_rate: 6.25e-06\n"
          ]
        },
        {
          "name": "stderr",
          "output_type": "stream",
          "text": [
            "100%|██████████| 3103/3103 [00:29<00:00, 103.44it/s]\n",
            "100%|██████████| 1032/1032 [00:05<00:00, 205.31it/s]\n"
          ]
        },
        {
          "name": "stdout",
          "output_type": "stream",
          "text": [
            "[024/100] Train Acc: 0.55349 Loss: 1.48745 | Val Acc: 0.55213 loss: 1.49334\n",
            "learning_rate: 6.25e-06\n"
          ]
        },
        {
          "name": "stderr",
          "output_type": "stream",
          "text": [
            "100%|██████████| 3103/3103 [00:30<00:00, 101.97it/s]\n",
            "100%|██████████| 1032/1032 [00:04<00:00, 218.97it/s]\n"
          ]
        },
        {
          "name": "stdout",
          "output_type": "stream",
          "text": [
            "[025/100] Train Acc: 0.55375 Loss: 1.48637 | Val Acc: 0.55242 loss: 1.49229\n",
            "saving model with acc 0.55242\n",
            "learning_rate: 3.125e-06\n"
          ]
        },
        {
          "name": "stderr",
          "output_type": "stream",
          "text": [
            "100%|██████████| 3103/3103 [00:31<00:00, 99.93it/s] \n",
            "100%|██████████| 1032/1032 [00:05<00:00, 195.78it/s]\n"
          ]
        },
        {
          "name": "stdout",
          "output_type": "stream",
          "text": [
            "[026/100] Train Acc: 0.55414 Loss: 1.48537 | Val Acc: 0.55246 loss: 1.49167\n",
            "saving model with acc 0.55246\n",
            "learning_rate: 3.125e-06\n"
          ]
        },
        {
          "name": "stderr",
          "output_type": "stream",
          "text": [
            "100%|██████████| 3103/3103 [00:31<00:00, 99.17it/s] \n",
            "100%|██████████| 1032/1032 [00:05<00:00, 205.88it/s]\n"
          ]
        },
        {
          "name": "stdout",
          "output_type": "stream",
          "text": [
            "[027/100] Train Acc: 0.55417 Loss: 1.48469 | Val Acc: 0.55252 loss: 1.49144\n",
            "saving model with acc 0.55252\n",
            "learning_rate: 3.125e-06\n"
          ]
        },
        {
          "name": "stderr",
          "output_type": "stream",
          "text": [
            "100%|██████████| 3103/3103 [00:30<00:00, 100.49it/s]\n",
            "100%|██████████| 1032/1032 [00:05<00:00, 193.47it/s]\n"
          ]
        },
        {
          "name": "stdout",
          "output_type": "stream",
          "text": [
            "[028/100] Train Acc: 0.55423 Loss: 1.48445 | Val Acc: 0.55265 loss: 1.49094\n",
            "saving model with acc 0.55265\n",
            "learning_rate: 3.125e-06\n"
          ]
        },
        {
          "name": "stderr",
          "output_type": "stream",
          "text": [
            "100%|██████████| 3103/3103 [00:29<00:00, 103.44it/s]\n",
            "100%|██████████| 1032/1032 [00:04<00:00, 231.29it/s]\n"
          ]
        },
        {
          "name": "stdout",
          "output_type": "stream",
          "text": [
            "[029/100] Train Acc: 0.55442 Loss: 1.48409 | Val Acc: 0.55279 loss: 1.49086\n",
            "saving model with acc 0.55279\n",
            "learning_rate: 3.125e-06\n"
          ]
        },
        {
          "name": "stderr",
          "output_type": "stream",
          "text": [
            "100%|██████████| 3103/3103 [00:27<00:00, 112.27it/s]\n",
            "100%|██████████| 1032/1032 [00:04<00:00, 219.57it/s]\n"
          ]
        },
        {
          "name": "stdout",
          "output_type": "stream",
          "text": [
            "[030/100] Train Acc: 0.55466 Loss: 1.48343 | Val Acc: 0.55290 loss: 1.49068\n",
            "saving model with acc 0.55290\n",
            "learning_rate: 1.5625e-06\n"
          ]
        },
        {
          "name": "stderr",
          "output_type": "stream",
          "text": [
            "100%|██████████| 3103/3103 [00:27<00:00, 111.97it/s]\n",
            "100%|██████████| 1032/1032 [00:04<00:00, 233.80it/s]\n"
          ]
        },
        {
          "name": "stdout",
          "output_type": "stream",
          "text": [
            "[031/100] Train Acc: 0.55466 Loss: 1.48302 | Val Acc: 0.55286 loss: 1.49019\n",
            "learning_rate: 1.5625e-06\n"
          ]
        },
        {
          "name": "stderr",
          "output_type": "stream",
          "text": [
            "100%|██████████| 3103/3103 [00:27<00:00, 113.56it/s]\n",
            "100%|██████████| 1032/1032 [00:04<00:00, 225.60it/s]\n"
          ]
        },
        {
          "name": "stdout",
          "output_type": "stream",
          "text": [
            "[032/100] Train Acc: 0.55483 Loss: 1.48287 | Val Acc: 0.55293 loss: 1.49003\n",
            "saving model with acc 0.55293\n",
            "learning_rate: 1.5625e-06\n"
          ]
        },
        {
          "name": "stderr",
          "output_type": "stream",
          "text": [
            "100%|██████████| 3103/3103 [00:27<00:00, 112.32it/s]\n",
            "100%|██████████| 1032/1032 [00:04<00:00, 233.32it/s]\n"
          ]
        },
        {
          "name": "stdout",
          "output_type": "stream",
          "text": [
            "[033/100] Train Acc: 0.55506 Loss: 1.48270 | Val Acc: 0.55309 loss: 1.48990\n",
            "saving model with acc 0.55309\n",
            "learning_rate: 1.5625e-06\n"
          ]
        },
        {
          "name": "stderr",
          "output_type": "stream",
          "text": [
            "100%|██████████| 3103/3103 [00:27<00:00, 113.22it/s]\n",
            "100%|██████████| 1032/1032 [00:04<00:00, 221.16it/s]\n"
          ]
        },
        {
          "name": "stdout",
          "output_type": "stream",
          "text": [
            "[034/100] Train Acc: 0.55507 Loss: 1.48262 | Val Acc: 0.55295 loss: 1.48974\n",
            "learning_rate: 1.5625e-06\n"
          ]
        },
        {
          "name": "stderr",
          "output_type": "stream",
          "text": [
            "100%|██████████| 3103/3103 [00:27<00:00, 112.76it/s]\n",
            "100%|██████████| 1032/1032 [00:04<00:00, 230.49it/s]\n"
          ]
        },
        {
          "name": "stdout",
          "output_type": "stream",
          "text": [
            "[035/100] Train Acc: 0.55495 Loss: 1.48223 | Val Acc: 0.55314 loss: 1.48957\n",
            "saving model with acc 0.55314\n",
            "learning_rate: 7.8125e-07\n"
          ]
        },
        {
          "name": "stderr",
          "output_type": "stream",
          "text": [
            "100%|██████████| 3103/3103 [00:27<00:00, 113.58it/s]\n",
            "100%|██████████| 1032/1032 [00:04<00:00, 218.18it/s]\n"
          ]
        },
        {
          "name": "stdout",
          "output_type": "stream",
          "text": [
            "[036/100] Train Acc: 0.55504 Loss: 1.48186 | Val Acc: 0.55305 loss: 1.48934\n",
            "learning_rate: 7.8125e-07\n"
          ]
        },
        {
          "name": "stderr",
          "output_type": "stream",
          "text": [
            "100%|██████████| 3103/3103 [00:27<00:00, 112.54it/s]\n",
            "100%|██████████| 1032/1032 [00:04<00:00, 234.41it/s]\n"
          ]
        },
        {
          "name": "stdout",
          "output_type": "stream",
          "text": [
            "[037/100] Train Acc: 0.55524 Loss: 1.48197 | Val Acc: 0.55309 loss: 1.48935\n",
            "learning_rate: 7.8125e-07\n"
          ]
        },
        {
          "name": "stderr",
          "output_type": "stream",
          "text": [
            "100%|██████████| 3103/3103 [00:27<00:00, 113.27it/s]\n",
            "100%|██████████| 1032/1032 [00:04<00:00, 225.70it/s]\n"
          ]
        },
        {
          "name": "stdout",
          "output_type": "stream",
          "text": [
            "[038/100] Train Acc: 0.55499 Loss: 1.48175 | Val Acc: 0.55314 loss: 1.48923\n",
            "saving model with acc 0.55314\n",
            "learning_rate: 7.8125e-07\n"
          ]
        },
        {
          "name": "stderr",
          "output_type": "stream",
          "text": [
            "100%|██████████| 3103/3103 [00:27<00:00, 112.53it/s]\n",
            "100%|██████████| 1032/1032 [00:04<00:00, 233.37it/s]\n"
          ]
        },
        {
          "name": "stdout",
          "output_type": "stream",
          "text": [
            "[039/100] Train Acc: 0.55503 Loss: 1.48125 | Val Acc: 0.55313 loss: 1.48914\n",
            "learning_rate: 7.8125e-07\n"
          ]
        },
        {
          "name": "stderr",
          "output_type": "stream",
          "text": [
            "100%|██████████| 3103/3103 [00:27<00:00, 112.40it/s]\n",
            "100%|██████████| 1032/1032 [00:04<00:00, 219.16it/s]\n"
          ]
        },
        {
          "name": "stdout",
          "output_type": "stream",
          "text": [
            "[040/100] Train Acc: 0.55515 Loss: 1.48163 | Val Acc: 0.55323 loss: 1.48894\n",
            "saving model with acc 0.55323\n",
            "learning_rate: 3.90625e-07\n"
          ]
        },
        {
          "name": "stderr",
          "output_type": "stream",
          "text": [
            "100%|██████████| 3103/3103 [00:27<00:00, 110.91it/s]\n",
            "100%|██████████| 1032/1032 [00:04<00:00, 231.93it/s]\n"
          ]
        },
        {
          "name": "stdout",
          "output_type": "stream",
          "text": [
            "[041/100] Train Acc: 0.55526 Loss: 1.48131 | Val Acc: 0.55322 loss: 1.48900\n",
            "learning_rate: 3.90625e-07\n"
          ]
        },
        {
          "name": "stderr",
          "output_type": "stream",
          "text": [
            "100%|██████████| 3103/3103 [00:27<00:00, 112.75it/s]\n",
            "100%|██████████| 1032/1032 [00:04<00:00, 219.75it/s]\n"
          ]
        },
        {
          "name": "stdout",
          "output_type": "stream",
          "text": [
            "[042/100] Train Acc: 0.55494 Loss: 1.48143 | Val Acc: 0.55325 loss: 1.48891\n",
            "saving model with acc 0.55325\n",
            "learning_rate: 3.90625e-07\n"
          ]
        },
        {
          "name": "stderr",
          "output_type": "stream",
          "text": [
            "100%|██████████| 3103/3103 [00:27<00:00, 111.91it/s]\n",
            "100%|██████████| 1032/1032 [00:04<00:00, 232.09it/s]\n"
          ]
        },
        {
          "name": "stdout",
          "output_type": "stream",
          "text": [
            "[043/100] Train Acc: 0.55524 Loss: 1.48128 | Val Acc: 0.55320 loss: 1.48892\n",
            "learning_rate: 3.90625e-07\n"
          ]
        },
        {
          "name": "stderr",
          "output_type": "stream",
          "text": [
            "100%|██████████| 3103/3103 [00:27<00:00, 112.16it/s]\n",
            "100%|██████████| 1032/1032 [00:04<00:00, 223.96it/s]\n"
          ]
        },
        {
          "name": "stdout",
          "output_type": "stream",
          "text": [
            "[044/100] Train Acc: 0.55523 Loss: 1.48155 | Val Acc: 0.55322 loss: 1.48889\n",
            "learning_rate: 3.90625e-07\n"
          ]
        },
        {
          "name": "stderr",
          "output_type": "stream",
          "text": [
            "100%|██████████| 3103/3103 [00:27<00:00, 111.23it/s]\n",
            "100%|██████████| 1032/1032 [00:04<00:00, 231.90it/s]\n"
          ]
        },
        {
          "name": "stdout",
          "output_type": "stream",
          "text": [
            "[045/100] Train Acc: 0.55507 Loss: 1.48115 | Val Acc: 0.55327 loss: 1.48878\n",
            "saving model with acc 0.55327\n",
            "learning_rate: 1.953125e-07\n"
          ]
        },
        {
          "name": "stderr",
          "output_type": "stream",
          "text": [
            "100%|██████████| 3103/3103 [00:27<00:00, 112.43it/s]\n",
            "100%|██████████| 1032/1032 [00:04<00:00, 229.75it/s]\n"
          ]
        },
        {
          "name": "stdout",
          "output_type": "stream",
          "text": [
            "[046/100] Train Acc: 0.55511 Loss: 1.48121 | Val Acc: 0.55318 loss: 1.48879\n",
            "learning_rate: 1.953125e-07\n"
          ]
        },
        {
          "name": "stderr",
          "output_type": "stream",
          "text": [
            "100%|██████████| 3103/3103 [00:27<00:00, 112.39it/s]\n",
            "100%|██████████| 1032/1032 [00:04<00:00, 228.90it/s]\n"
          ]
        },
        {
          "name": "stdout",
          "output_type": "stream",
          "text": [
            "[047/100] Train Acc: 0.55508 Loss: 1.48095 | Val Acc: 0.55326 loss: 1.48877\n",
            "learning_rate: 1.953125e-07\n"
          ]
        },
        {
          "name": "stderr",
          "output_type": "stream",
          "text": [
            "100%|██████████| 3103/3103 [00:27<00:00, 112.69it/s]\n",
            "100%|██████████| 1032/1032 [00:04<00:00, 224.37it/s]\n"
          ]
        },
        {
          "name": "stdout",
          "output_type": "stream",
          "text": [
            "[048/100] Train Acc: 0.55517 Loss: 1.48119 | Val Acc: 0.55329 loss: 1.48874\n",
            "saving model with acc 0.55329\n",
            "learning_rate: 1.953125e-07\n"
          ]
        },
        {
          "name": "stderr",
          "output_type": "stream",
          "text": [
            "100%|██████████| 3103/3103 [00:27<00:00, 112.15it/s]\n",
            "100%|██████████| 1032/1032 [00:04<00:00, 228.74it/s]\n"
          ]
        },
        {
          "name": "stdout",
          "output_type": "stream",
          "text": [
            "[049/100] Train Acc: 0.55531 Loss: 1.48119 | Val Acc: 0.55325 loss: 1.48872\n",
            "learning_rate: 1.953125e-07\n"
          ]
        },
        {
          "name": "stderr",
          "output_type": "stream",
          "text": [
            "100%|██████████| 3103/3103 [00:27<00:00, 112.87it/s]\n",
            "100%|██████████| 1032/1032 [00:04<00:00, 222.61it/s]\n"
          ]
        },
        {
          "name": "stdout",
          "output_type": "stream",
          "text": [
            "[050/100] Train Acc: 0.55529 Loss: 1.48067 | Val Acc: 0.55327 loss: 1.48870\n",
            "learning_rate: 9.765625e-08\n"
          ]
        },
        {
          "name": "stderr",
          "output_type": "stream",
          "text": [
            "100%|██████████| 3103/3103 [00:27<00:00, 111.55it/s]\n",
            "100%|██████████| 1032/1032 [00:04<00:00, 227.50it/s]\n"
          ]
        },
        {
          "name": "stdout",
          "output_type": "stream",
          "text": [
            "[051/100] Train Acc: 0.55531 Loss: 1.48098 | Val Acc: 0.55326 loss: 1.48871\n",
            "learning_rate: 9.765625e-08\n"
          ]
        },
        {
          "name": "stderr",
          "output_type": "stream",
          "text": [
            "100%|██████████| 3103/3103 [00:27<00:00, 110.86it/s]\n",
            "100%|██████████| 1032/1032 [00:04<00:00, 221.12it/s]\n"
          ]
        },
        {
          "name": "stdout",
          "output_type": "stream",
          "text": [
            "[052/100] Train Acc: 0.55496 Loss: 1.48131 | Val Acc: 0.55327 loss: 1.48871\n",
            "learning_rate: 9.765625e-08\n"
          ]
        },
        {
          "name": "stderr",
          "output_type": "stream",
          "text": [
            "100%|██████████| 3103/3103 [00:27<00:00, 111.23it/s]\n",
            "100%|██████████| 1032/1032 [00:04<00:00, 226.94it/s]\n"
          ]
        },
        {
          "name": "stdout",
          "output_type": "stream",
          "text": [
            "[053/100] Train Acc: 0.55531 Loss: 1.48091 | Val Acc: 0.55327 loss: 1.48869\n",
            "learning_rate: 9.765625e-08\n"
          ]
        },
        {
          "name": "stderr",
          "output_type": "stream",
          "text": [
            "100%|██████████| 3103/3103 [00:27<00:00, 112.30it/s]\n",
            "100%|██████████| 1032/1032 [00:04<00:00, 220.83it/s]\n"
          ]
        },
        {
          "name": "stdout",
          "output_type": "stream",
          "text": [
            "[054/100] Train Acc: 0.55494 Loss: 1.48122 | Val Acc: 0.55327 loss: 1.48866\n",
            "learning_rate: 9.765625e-08\n"
          ]
        },
        {
          "name": "stderr",
          "output_type": "stream",
          "text": [
            "100%|██████████| 3103/3103 [00:27<00:00, 111.78it/s]\n",
            "100%|██████████| 1032/1032 [00:04<00:00, 227.81it/s]\n"
          ]
        },
        {
          "name": "stdout",
          "output_type": "stream",
          "text": [
            "[055/100] Train Acc: 0.55519 Loss: 1.48065 | Val Acc: 0.55327 loss: 1.48867\n",
            "learning_rate: 4.8828125e-08\n"
          ]
        },
        {
          "name": "stderr",
          "output_type": "stream",
          "text": [
            "100%|██████████| 3103/3103 [00:27<00:00, 112.14it/s]\n",
            "100%|██████████| 1032/1032 [00:04<00:00, 223.49it/s]\n"
          ]
        },
        {
          "name": "stdout",
          "output_type": "stream",
          "text": [
            "[056/100] Train Acc: 0.55508 Loss: 1.48086 | Val Acc: 0.55328 loss: 1.48865\n",
            "learning_rate: 4.8828125e-08\n"
          ]
        },
        {
          "name": "stderr",
          "output_type": "stream",
          "text": [
            "100%|██████████| 3103/3103 [00:27<00:00, 111.55it/s]\n",
            "100%|██████████| 1032/1032 [00:04<00:00, 229.47it/s]\n"
          ]
        },
        {
          "name": "stdout",
          "output_type": "stream",
          "text": [
            "[057/100] Train Acc: 0.55535 Loss: 1.48081 | Val Acc: 0.55328 loss: 1.48865\n",
            "learning_rate: 4.8828125e-08\n"
          ]
        },
        {
          "name": "stderr",
          "output_type": "stream",
          "text": [
            "100%|██████████| 3103/3103 [00:27<00:00, 111.89it/s]\n",
            "100%|██████████| 1032/1032 [00:04<00:00, 230.24it/s]\n"
          ]
        },
        {
          "name": "stdout",
          "output_type": "stream",
          "text": [
            "[058/100] Train Acc: 0.55512 Loss: 1.48080 | Val Acc: 0.55327 loss: 1.48864\n",
            "learning_rate: 4.8828125e-08\n"
          ]
        },
        {
          "name": "stderr",
          "output_type": "stream",
          "text": [
            "100%|██████████| 3103/3103 [00:27<00:00, 112.13it/s]\n",
            "100%|██████████| 1032/1032 [00:04<00:00, 228.98it/s]\n"
          ]
        },
        {
          "name": "stdout",
          "output_type": "stream",
          "text": [
            "[059/100] Train Acc: 0.55553 Loss: 1.48064 | Val Acc: 0.55328 loss: 1.48864\n",
            "learning_rate: 4.8828125e-08\n"
          ]
        },
        {
          "name": "stderr",
          "output_type": "stream",
          "text": [
            "100%|██████████| 3103/3103 [00:27<00:00, 112.62it/s]\n",
            "100%|██████████| 1032/1032 [00:04<00:00, 226.97it/s]\n"
          ]
        },
        {
          "name": "stdout",
          "output_type": "stream",
          "text": [
            "[060/100] Train Acc: 0.55541 Loss: 1.48086 | Val Acc: 0.55326 loss: 1.48864\n",
            "learning_rate: 2.44140625e-08\n"
          ]
        },
        {
          "name": "stderr",
          "output_type": "stream",
          "text": [
            "100%|██████████| 3103/3103 [00:27<00:00, 111.73it/s]\n",
            "100%|██████████| 1032/1032 [00:04<00:00, 228.01it/s]\n"
          ]
        },
        {
          "name": "stdout",
          "output_type": "stream",
          "text": [
            "[061/100] Train Acc: 0.55539 Loss: 1.48085 | Val Acc: 0.55325 loss: 1.48863\n",
            "learning_rate: 2.44140625e-08\n"
          ]
        },
        {
          "name": "stderr",
          "output_type": "stream",
          "text": [
            "100%|██████████| 3103/3103 [00:27<00:00, 112.33it/s]\n",
            "100%|██████████| 1032/1032 [00:04<00:00, 227.58it/s]\n"
          ]
        },
        {
          "name": "stdout",
          "output_type": "stream",
          "text": [
            "[062/100] Train Acc: 0.55543 Loss: 1.48081 | Val Acc: 0.55326 loss: 1.48863\n",
            "learning_rate: 2.44140625e-08\n"
          ]
        },
        {
          "name": "stderr",
          "output_type": "stream",
          "text": [
            "100%|██████████| 3103/3103 [00:27<00:00, 111.14it/s]\n",
            "100%|██████████| 1032/1032 [00:04<00:00, 230.43it/s]\n"
          ]
        },
        {
          "name": "stdout",
          "output_type": "stream",
          "text": [
            "[063/100] Train Acc: 0.55554 Loss: 1.48058 | Val Acc: 0.55327 loss: 1.48862\n",
            "learning_rate: 2.44140625e-08\n"
          ]
        },
        {
          "name": "stderr",
          "output_type": "stream",
          "text": [
            "100%|██████████| 3103/3103 [00:27<00:00, 112.10it/s]\n",
            "100%|██████████| 1032/1032 [00:04<00:00, 224.16it/s]\n"
          ]
        },
        {
          "name": "stdout",
          "output_type": "stream",
          "text": [
            "[064/100] Train Acc: 0.55510 Loss: 1.48083 | Val Acc: 0.55326 loss: 1.48862\n",
            "learning_rate: 2.44140625e-08\n"
          ]
        },
        {
          "name": "stderr",
          "output_type": "stream",
          "text": [
            "100%|██████████| 3103/3103 [00:27<00:00, 111.65it/s]\n",
            "100%|██████████| 1032/1032 [00:04<00:00, 232.91it/s]\n"
          ]
        },
        {
          "name": "stdout",
          "output_type": "stream",
          "text": [
            "[065/100] Train Acc: 0.55505 Loss: 1.48062 | Val Acc: 0.55327 loss: 1.48862\n",
            "learning_rate: 1.220703125e-08\n"
          ]
        },
        {
          "name": "stderr",
          "output_type": "stream",
          "text": [
            "100%|██████████| 3103/3103 [00:27<00:00, 112.72it/s]\n",
            "100%|██████████| 1032/1032 [00:04<00:00, 215.53it/s]\n"
          ]
        },
        {
          "name": "stdout",
          "output_type": "stream",
          "text": [
            "[066/100] Train Acc: 0.55520 Loss: 1.48065 | Val Acc: 0.55326 loss: 1.48862\n",
            "learning_rate: 1.220703125e-08\n"
          ]
        },
        {
          "name": "stderr",
          "output_type": "stream",
          "text": [
            "100%|██████████| 3103/3103 [00:27<00:00, 112.14it/s]\n",
            "100%|██████████| 1032/1032 [00:04<00:00, 233.11it/s]\n"
          ]
        },
        {
          "name": "stdout",
          "output_type": "stream",
          "text": [
            "[067/100] Train Acc: 0.55494 Loss: 1.48088 | Val Acc: 0.55326 loss: 1.48862\n",
            "learning_rate: 1.220703125e-08\n"
          ]
        },
        {
          "name": "stderr",
          "output_type": "stream",
          "text": [
            "100%|██████████| 3103/3103 [00:27<00:00, 112.84it/s]\n",
            "100%|██████████| 1032/1032 [00:04<00:00, 219.79it/s]\n"
          ]
        },
        {
          "name": "stdout",
          "output_type": "stream",
          "text": [
            "[068/100] Train Acc: 0.55539 Loss: 1.48037 | Val Acc: 0.55327 loss: 1.48861\n",
            "learning_rate: 1.220703125e-08\n"
          ]
        },
        {
          "name": "stderr",
          "output_type": "stream",
          "text": [
            "100%|██████████| 3103/3103 [00:27<00:00, 112.07it/s]\n",
            "100%|██████████| 1032/1032 [00:04<00:00, 233.85it/s]\n"
          ]
        },
        {
          "name": "stdout",
          "output_type": "stream",
          "text": [
            "[069/100] Train Acc: 0.55519 Loss: 1.48072 | Val Acc: 0.55328 loss: 1.48861\n",
            "learning_rate: 1.220703125e-08\n"
          ]
        },
        {
          "name": "stderr",
          "output_type": "stream",
          "text": [
            "100%|██████████| 3103/3103 [00:27<00:00, 112.14it/s]\n",
            "100%|██████████| 1032/1032 [00:04<00:00, 224.42it/s]\n"
          ]
        },
        {
          "name": "stdout",
          "output_type": "stream",
          "text": [
            "[070/100] Train Acc: 0.55527 Loss: 1.48099 | Val Acc: 0.55327 loss: 1.48861\n",
            "learning_rate: 6.103515625e-09\n"
          ]
        },
        {
          "name": "stderr",
          "output_type": "stream",
          "text": [
            "100%|██████████| 3103/3103 [00:27<00:00, 111.55it/s]\n",
            "100%|██████████| 1032/1032 [00:04<00:00, 232.15it/s]\n"
          ]
        },
        {
          "name": "stdout",
          "output_type": "stream",
          "text": [
            "[071/100] Train Acc: 0.55532 Loss: 1.48066 | Val Acc: 0.55327 loss: 1.48861\n",
            "learning_rate: 6.103515625e-09\n"
          ]
        },
        {
          "name": "stderr",
          "output_type": "stream",
          "text": [
            "100%|██████████| 3103/3103 [00:27<00:00, 112.92it/s]\n",
            "100%|██████████| 1032/1032 [00:04<00:00, 225.13it/s]\n"
          ]
        },
        {
          "name": "stdout",
          "output_type": "stream",
          "text": [
            "[072/100] Train Acc: 0.55561 Loss: 1.48086 | Val Acc: 0.55327 loss: 1.48861\n",
            "learning_rate: 6.103515625e-09\n"
          ]
        },
        {
          "name": "stderr",
          "output_type": "stream",
          "text": [
            "100%|██████████| 3103/3103 [00:27<00:00, 111.61it/s]\n",
            "100%|██████████| 1032/1032 [00:04<00:00, 230.65it/s]\n"
          ]
        },
        {
          "name": "stdout",
          "output_type": "stream",
          "text": [
            "[073/100] Train Acc: 0.55497 Loss: 1.48074 | Val Acc: 0.55327 loss: 1.48861\n",
            "learning_rate: 6.103515625e-09\n"
          ]
        },
        {
          "name": "stderr",
          "output_type": "stream",
          "text": [
            "100%|██████████| 3103/3103 [00:27<00:00, 111.49it/s]\n",
            "100%|██████████| 1032/1032 [00:04<00:00, 219.95it/s]\n"
          ]
        },
        {
          "name": "stdout",
          "output_type": "stream",
          "text": [
            "[074/100] Train Acc: 0.55543 Loss: 1.48071 | Val Acc: 0.55328 loss: 1.48861\n",
            "learning_rate: 6.103515625e-09\n"
          ]
        },
        {
          "name": "stderr",
          "output_type": "stream",
          "text": [
            "100%|██████████| 3103/3103 [00:27<00:00, 111.56it/s]\n",
            "100%|██████████| 1032/1032 [00:04<00:00, 231.29it/s]\n"
          ]
        },
        {
          "name": "stdout",
          "output_type": "stream",
          "text": [
            "[075/100] Train Acc: 0.55532 Loss: 1.48067 | Val Acc: 0.55327 loss: 1.48861\n",
            "learning_rate: 3.0517578125e-09\n"
          ]
        },
        {
          "name": "stderr",
          "output_type": "stream",
          "text": [
            "100%|██████████| 3103/3103 [00:27<00:00, 112.13it/s]\n",
            "100%|██████████| 1032/1032 [00:04<00:00, 224.27it/s]\n"
          ]
        },
        {
          "name": "stdout",
          "output_type": "stream",
          "text": [
            "[076/100] Train Acc: 0.55536 Loss: 1.48057 | Val Acc: 0.55327 loss: 1.48861\n",
            "learning_rate: 3.0517578125e-09\n"
          ]
        },
        {
          "name": "stderr",
          "output_type": "stream",
          "text": [
            "100%|██████████| 3103/3103 [00:27<00:00, 111.80it/s]\n",
            "100%|██████████| 1032/1032 [00:04<00:00, 232.76it/s]\n"
          ]
        },
        {
          "name": "stdout",
          "output_type": "stream",
          "text": [
            "[077/100] Train Acc: 0.55532 Loss: 1.48083 | Val Acc: 0.55327 loss: 1.48861\n",
            "learning_rate: 3.0517578125e-09\n"
          ]
        },
        {
          "name": "stderr",
          "output_type": "stream",
          "text": [
            "100%|██████████| 3103/3103 [00:27<00:00, 112.37it/s]\n",
            "100%|██████████| 1032/1032 [00:04<00:00, 219.89it/s]\n"
          ]
        },
        {
          "name": "stdout",
          "output_type": "stream",
          "text": [
            "[078/100] Train Acc: 0.55546 Loss: 1.48056 | Val Acc: 0.55327 loss: 1.48861\n",
            "learning_rate: 3.0517578125e-09\n"
          ]
        },
        {
          "name": "stderr",
          "output_type": "stream",
          "text": [
            "100%|██████████| 3103/3103 [00:27<00:00, 112.01it/s]\n",
            "100%|██████████| 1032/1032 [00:04<00:00, 232.72it/s]\n"
          ]
        },
        {
          "name": "stdout",
          "output_type": "stream",
          "text": [
            "[079/100] Train Acc: 0.55550 Loss: 1.48073 | Val Acc: 0.55327 loss: 1.48861\n",
            "learning_rate: 3.0517578125e-09\n"
          ]
        },
        {
          "name": "stderr",
          "output_type": "stream",
          "text": [
            "100%|██████████| 3103/3103 [00:27<00:00, 112.69it/s]\n",
            "100%|██████████| 1032/1032 [00:04<00:00, 218.51it/s]\n"
          ]
        },
        {
          "name": "stdout",
          "output_type": "stream",
          "text": [
            "[080/100] Train Acc: 0.55542 Loss: 1.48055 | Val Acc: 0.55328 loss: 1.48861\n",
            "learning_rate: 1.52587890625e-09\n"
          ]
        },
        {
          "name": "stderr",
          "output_type": "stream",
          "text": [
            "100%|██████████| 3103/3103 [00:27<00:00, 111.77it/s]\n",
            "100%|██████████| 1032/1032 [00:04<00:00, 232.42it/s]\n"
          ]
        },
        {
          "name": "stdout",
          "output_type": "stream",
          "text": [
            "[081/100] Train Acc: 0.55532 Loss: 1.48098 | Val Acc: 0.55328 loss: 1.48861\n",
            "learning_rate: 1.52587890625e-09\n"
          ]
        },
        {
          "name": "stderr",
          "output_type": "stream",
          "text": [
            "100%|██████████| 3103/3103 [00:27<00:00, 112.22it/s]\n",
            "100%|██████████| 1032/1032 [00:04<00:00, 223.97it/s]\n"
          ]
        },
        {
          "name": "stdout",
          "output_type": "stream",
          "text": [
            "[082/100] Train Acc: 0.55530 Loss: 1.48077 | Val Acc: 0.55328 loss: 1.48861\n",
            "learning_rate: 1.52587890625e-09\n"
          ]
        },
        {
          "name": "stderr",
          "output_type": "stream",
          "text": [
            "100%|██████████| 3103/3103 [00:27<00:00, 111.48it/s]\n",
            "100%|██████████| 1032/1032 [00:04<00:00, 232.53it/s]\n"
          ]
        },
        {
          "name": "stdout",
          "output_type": "stream",
          "text": [
            "[083/100] Train Acc: 0.55528 Loss: 1.48106 | Val Acc: 0.55328 loss: 1.48861\n",
            "learning_rate: 1.52587890625e-09\n"
          ]
        },
        {
          "name": "stderr",
          "output_type": "stream",
          "text": [
            "100%|██████████| 3103/3103 [00:27<00:00, 112.65it/s]\n",
            "100%|██████████| 1032/1032 [00:04<00:00, 224.27it/s]\n"
          ]
        },
        {
          "name": "stdout",
          "output_type": "stream",
          "text": [
            "[084/100] Train Acc: 0.55524 Loss: 1.48119 | Val Acc: 0.55327 loss: 1.48861\n",
            "learning_rate: 1.52587890625e-09\n"
          ]
        },
        {
          "name": "stderr",
          "output_type": "stream",
          "text": [
            "100%|██████████| 3103/3103 [00:27<00:00, 111.68it/s]\n",
            "100%|██████████| 1032/1032 [00:04<00:00, 232.56it/s]\n"
          ]
        },
        {
          "name": "stdout",
          "output_type": "stream",
          "text": [
            "[085/100] Train Acc: 0.55532 Loss: 1.48048 | Val Acc: 0.55327 loss: 1.48861\n",
            "learning_rate: 7.62939453125e-10\n"
          ]
        },
        {
          "name": "stderr",
          "output_type": "stream",
          "text": [
            "100%|██████████| 3103/3103 [00:27<00:00, 112.66it/s]\n",
            "100%|██████████| 1032/1032 [00:04<00:00, 220.18it/s]\n"
          ]
        },
        {
          "name": "stdout",
          "output_type": "stream",
          "text": [
            "[086/100] Train Acc: 0.55521 Loss: 1.48088 | Val Acc: 0.55328 loss: 1.48861\n",
            "learning_rate: 7.62939453125e-10\n"
          ]
        },
        {
          "name": "stderr",
          "output_type": "stream",
          "text": [
            "100%|██████████| 3103/3103 [00:27<00:00, 112.00it/s]\n",
            "100%|██████████| 1032/1032 [00:04<00:00, 232.80it/s]\n"
          ]
        },
        {
          "name": "stdout",
          "output_type": "stream",
          "text": [
            "[087/100] Train Acc: 0.55512 Loss: 1.48131 | Val Acc: 0.55327 loss: 1.48861\n",
            "learning_rate: 7.62939453125e-10\n"
          ]
        },
        {
          "name": "stderr",
          "output_type": "stream",
          "text": [
            "100%|██████████| 3103/3103 [00:27<00:00, 112.29it/s]\n",
            "100%|██████████| 1032/1032 [00:04<00:00, 227.00it/s]\n"
          ]
        },
        {
          "name": "stdout",
          "output_type": "stream",
          "text": [
            "[088/100] Train Acc: 0.55538 Loss: 1.48093 | Val Acc: 0.55327 loss: 1.48861\n",
            "learning_rate: 7.62939453125e-10\n"
          ]
        },
        {
          "name": "stderr",
          "output_type": "stream",
          "text": [
            "100%|██████████| 3103/3103 [00:27<00:00, 111.73it/s]\n",
            "100%|██████████| 1032/1032 [00:04<00:00, 231.75it/s]\n"
          ]
        },
        {
          "name": "stdout",
          "output_type": "stream",
          "text": [
            "[089/100] Train Acc: 0.55544 Loss: 1.48111 | Val Acc: 0.55327 loss: 1.48861\n",
            "learning_rate: 7.62939453125e-10\n"
          ]
        },
        {
          "name": "stderr",
          "output_type": "stream",
          "text": [
            "100%|██████████| 3103/3103 [00:27<00:00, 112.79it/s]\n",
            "100%|██████████| 1032/1032 [00:04<00:00, 223.38it/s]\n"
          ]
        },
        {
          "name": "stdout",
          "output_type": "stream",
          "text": [
            "[090/100] Train Acc: 0.55536 Loss: 1.48073 | Val Acc: 0.55327 loss: 1.48861\n",
            "learning_rate: 3.814697265625e-10\n"
          ]
        },
        {
          "name": "stderr",
          "output_type": "stream",
          "text": [
            "100%|██████████| 3103/3103 [00:27<00:00, 111.33it/s]\n",
            "100%|██████████| 1032/1032 [00:04<00:00, 215.85it/s]\n"
          ]
        },
        {
          "name": "stdout",
          "output_type": "stream",
          "text": [
            "[091/100] Train Acc: 0.55503 Loss: 1.48090 | Val Acc: 0.55327 loss: 1.48861\n",
            "learning_rate: 3.814697265625e-10\n"
          ]
        },
        {
          "name": "stderr",
          "output_type": "stream",
          "text": [
            "100%|██████████| 3103/3103 [00:30<00:00, 101.66it/s]\n",
            "100%|██████████| 1032/1032 [00:05<00:00, 195.24it/s]\n"
          ]
        },
        {
          "name": "stdout",
          "output_type": "stream",
          "text": [
            "[092/100] Train Acc: 0.55532 Loss: 1.48053 | Val Acc: 0.55327 loss: 1.48861\n",
            "learning_rate: 3.814697265625e-10\n"
          ]
        },
        {
          "name": "stderr",
          "output_type": "stream",
          "text": [
            "100%|██████████| 3103/3103 [00:31<00:00, 98.01it/s] \n",
            "100%|██████████| 1032/1032 [00:05<00:00, 198.94it/s]\n"
          ]
        },
        {
          "name": "stdout",
          "output_type": "stream",
          "text": [
            "[093/100] Train Acc: 0.55548 Loss: 1.48076 | Val Acc: 0.55327 loss: 1.48861\n",
            "learning_rate: 3.814697265625e-10\n"
          ]
        },
        {
          "name": "stderr",
          "output_type": "stream",
          "text": [
            "100%|██████████| 3103/3103 [00:31<00:00, 99.81it/s] \n",
            "100%|██████████| 1032/1032 [00:05<00:00, 181.75it/s]\n"
          ]
        },
        {
          "name": "stdout",
          "output_type": "stream",
          "text": [
            "[094/100] Train Acc: 0.55505 Loss: 1.48049 | Val Acc: 0.55327 loss: 1.48861\n",
            "learning_rate: 3.814697265625e-10\n"
          ]
        },
        {
          "name": "stderr",
          "output_type": "stream",
          "text": [
            "100%|██████████| 3103/3103 [00:33<00:00, 92.93it/s] \n",
            "100%|██████████| 1032/1032 [00:05<00:00, 192.91it/s]\n"
          ]
        },
        {
          "name": "stdout",
          "output_type": "stream",
          "text": [
            "[095/100] Train Acc: 0.55554 Loss: 1.48099 | Val Acc: 0.55327 loss: 1.48861\n",
            "learning_rate: 1.9073486328125e-10\n"
          ]
        },
        {
          "name": "stderr",
          "output_type": "stream",
          "text": [
            "100%|██████████| 3103/3103 [00:31<00:00, 99.60it/s] \n",
            "100%|██████████| 1032/1032 [00:05<00:00, 196.09it/s]\n"
          ]
        },
        {
          "name": "stdout",
          "output_type": "stream",
          "text": [
            "[096/100] Train Acc: 0.55503 Loss: 1.48069 | Val Acc: 0.55327 loss: 1.48861\n",
            "learning_rate: 1.9073486328125e-10\n"
          ]
        },
        {
          "name": "stderr",
          "output_type": "stream",
          "text": [
            "100%|██████████| 3103/3103 [00:31<00:00, 98.39it/s] \n",
            "100%|██████████| 1032/1032 [00:05<00:00, 194.53it/s]\n"
          ]
        },
        {
          "name": "stdout",
          "output_type": "stream",
          "text": [
            "[097/100] Train Acc: 0.55519 Loss: 1.48097 | Val Acc: 0.55327 loss: 1.48861\n",
            "learning_rate: 1.9073486328125e-10\n"
          ]
        },
        {
          "name": "stderr",
          "output_type": "stream",
          "text": [
            "100%|██████████| 3103/3103 [00:30<00:00, 100.20it/s]\n",
            "100%|██████████| 1032/1032 [00:05<00:00, 193.63it/s]\n"
          ]
        },
        {
          "name": "stdout",
          "output_type": "stream",
          "text": [
            "[098/100] Train Acc: 0.55537 Loss: 1.48055 | Val Acc: 0.55327 loss: 1.48861\n",
            "learning_rate: 1.9073486328125e-10\n"
          ]
        },
        {
          "name": "stderr",
          "output_type": "stream",
          "text": [
            "100%|██████████| 3103/3103 [00:29<00:00, 106.86it/s]\n",
            "100%|██████████| 1032/1032 [00:04<00:00, 227.34it/s]\n"
          ]
        },
        {
          "name": "stdout",
          "output_type": "stream",
          "text": [
            "[099/100] Train Acc: 0.55526 Loss: 1.48097 | Val Acc: 0.55327 loss: 1.48861\n",
            "learning_rate: 1.9073486328125e-10\n"
          ]
        },
        {
          "name": "stderr",
          "output_type": "stream",
          "text": [
            "100%|██████████| 3103/3103 [00:27<00:00, 112.03it/s]\n",
            "100%|██████████| 1032/1032 [00:04<00:00, 223.32it/s]"
          ]
        },
        {
          "name": "stdout",
          "output_type": "stream",
          "text": [
            "[100/100] Train Acc: 0.55545 Loss: 1.48012 | Val Acc: 0.55327 loss: 1.48861\n"
          ]
        },
        {
          "name": "stderr",
          "output_type": "stream",
          "text": [
            "\n"
          ]
        }
      ],
      "source": [
        "model_7 = Classifier_GRU(input_dim=input_dim // concat_nframes, \n",
        "                         hidden_dim=256, \n",
        "                         bidirectional=True, \n",
        "                         num_layers=2, \n",
        "                         dropout=0.5,\n",
        "                         mlp_layers=[64, 32]).to(device)\n",
        "model_7.seq_len = concat_nframes\n",
        "print(f'Start to train model_7 on {device}.')\n",
        "train_from_init(100, model_7, train_loader, val_loader, device, learning_rate, 'model_7.ckpt')"
      ]
    },
    {
      "cell_type": "code",
      "execution_count": 8,
      "metadata": {
        "colab": {
          "base_uri": "https://localhost:8080/"
        },
        "id": "ab33MxosWLmG",
        "outputId": "b41d3d23-d1a4-4733-8f0a-eb11960518ce"
      },
      "outputs": [
        {
          "data": {
            "text/plain": [
              "0"
            ]
          },
          "execution_count": 8,
          "metadata": {},
          "output_type": "execute_result"
        }
      ],
      "source": [
        "del train_set, val_set\n",
        "del train_loader, val_loader\n",
        "gc.collect()"
      ]
    },
    {
      "cell_type": "markdown",
      "metadata": {
        "id": "1Hi7jTn3PX-m"
      },
      "source": [
        "# Testing\n",
        "Create a testing dataset, and load model from the saved checkpoint."
      ]
    },
    {
      "cell_type": "code",
      "execution_count": null,
      "metadata": {
        "colab": {
          "base_uri": "https://localhost:8080/"
        },
        "id": "VOG1Ou0PGrhc",
        "outputId": "2c7c909c-b60b-43cf-a49d-b1e92838aafd"
      },
      "outputs": [
        {
          "name": "stdout",
          "output_type": "stream",
          "text": [
            "[Dataset] - # phone classes: 41, number of utterances for test: 857\n"
          ]
        },
        {
          "name": "stderr",
          "output_type": "stream",
          "text": [
            "0it [00:00, ?it/s]<ipython-input-3-794249a209e1>:6: FutureWarning: You are using `torch.load` with `weights_only=False` (the current default value), which uses the default pickle module implicitly. It is possible to construct malicious pickle data which will execute arbitrary code during unpickling (See https://github.com/pytorch/pytorch/blob/main/SECURITY.md#untrusted-models for more details). In a future release, the default value for `weights_only` will be flipped to `True`. This limits the functions that could be executed during unpickling. Arbitrary objects will no longer be allowed to be loaded via this mode unless they are explicitly allowlisted by the user via `torch.serialization.add_safe_globals`. We recommend you start setting `weights_only=True` for any use case where you don't have full control of the loaded file. Please open an issue on GitHub for any issues related to this experimental feature.\n",
            "  feat = torch.load(path)\n",
            "857it [00:00, 1375.02it/s]"
          ]
        },
        {
          "name": "stdout",
          "output_type": "stream",
          "text": [
            "[INFO] test set\n",
            "torch.Size([527364, 117])\n"
          ]
        },
        {
          "name": "stderr",
          "output_type": "stream",
          "text": [
            "\n"
          ]
        }
      ],
      "source": [
        "# load data\n",
        "test_X = preprocess_data(split='test', feat_dir='./libriphone/feat', phone_path='./libriphone', concat_nframes=concat_nframes)\n",
        "test_set = LibriDataset(test_X, None)\n",
        "test_loader = DataLoader(test_set, batch_size=batch_size, shuffle=False)"
      ]
    },
    {
      "cell_type": "code",
      "execution_count": null,
      "metadata": {
        "colab": {
          "base_uri": "https://localhost:8080/"
        },
        "id": "ay0Fu8Ovkdad",
        "outputId": "f19da307-2ace-4419-fffa-fb54c722f969"
      },
      "outputs": [
        {
          "name": "stderr",
          "output_type": "stream",
          "text": [
            "<ipython-input-11-f7b7612de35f>:3: FutureWarning: You are using `torch.load` with `weights_only=False` (the current default value), which uses the default pickle module implicitly. It is possible to construct malicious pickle data which will execute arbitrary code during unpickling (See https://github.com/pytorch/pytorch/blob/main/SECURITY.md#untrusted-models for more details). In a future release, the default value for `weights_only` will be flipped to `True`. This limits the functions that could be executed during unpickling. Arbitrary objects will no longer be allowed to be loaded via this mode unless they are explicitly allowlisted by the user via `torch.serialization.add_safe_globals`. We recommend you start setting `weights_only=True` for any use case where you don't have full control of the loaded file. Please open an issue on GitHub for any issues related to this experimental feature.\n",
            "  model.load_state_dict(torch.load(model_path))\n"
          ]
        },
        {
          "data": {
            "text/plain": [
              "<All keys matched successfully>"
            ]
          },
          "execution_count": 11,
          "metadata": {},
          "output_type": "execute_result"
        }
      ],
      "source": [
        "# load model\n",
        "model = Classifier(input_dim=input_dim, hidden_layers=hidden_layers, hidden_dim=hidden_dim).to(device)\n",
        "model.load_state_dict(torch.load(model_path))"
      ]
    },
    {
      "cell_type": "markdown",
      "metadata": {
        "id": "zp-DV1p4r7Nz"
      },
      "source": [
        "Make prediction."
      ]
    },
    {
      "cell_type": "code",
      "execution_count": null,
      "metadata": {
        "colab": {
          "base_uri": "https://localhost:8080/"
        },
        "id": "84HU5GGjPqR0",
        "outputId": "5cf704cb-4ce9-4e8b-f79f-9d9395aec316"
      },
      "outputs": [
        {
          "name": "stderr",
          "output_type": "stream",
          "text": [
            "100%|██████████| 1031/1031 [00:01<00:00, 518.37it/s]\n"
          ]
        }
      ],
      "source": [
        "pred = np.array([], dtype=np.int32)\n",
        "\n",
        "model.eval()\n",
        "with torch.no_grad():\n",
        "    for i, batch in enumerate(tqdm(test_loader)):\n",
        "        features = batch\n",
        "        features = features.to(device)\n",
        "\n",
        "        outputs = model(features)\n",
        "\n",
        "        _, test_pred = torch.max(outputs, 1) # get the index of the class with the highest probability\n",
        "        pred = np.concatenate((pred, test_pred.cpu().numpy()), axis=0)\n"
      ]
    },
    {
      "cell_type": "markdown",
      "metadata": {
        "id": "wyZqy40Prz0v"
      },
      "source": [
        "Write prediction to a CSV file.\n",
        "\n",
        "After finish running this block, download the file `prediction.csv` from the files section on the left-hand side and submit it to Kaggle."
      ]
    },
    {
      "cell_type": "code",
      "execution_count": null,
      "metadata": {
        "id": "GuljYSPHcZir"
      },
      "outputs": [],
      "source": [
        "with open('prediction.csv', 'w') as f:\n",
        "    f.write('Id,Class\\n')\n",
        "    for i, y in enumerate(pred):\n",
        "        f.write('{},{}\\n'.format(i, y))"
      ]
    }
  ],
  "metadata": {
    "accelerator": "GPU",
    "colab": {
      "provenance": []
    },
    "kernelspec": {
      "display_name": "Python 3",
      "name": "python3"
    },
    "language_info": {
      "codemirror_mode": {
        "name": "ipython",
        "version": 3
      },
      "file_extension": ".py",
      "mimetype": "text/x-python",
      "name": "python",
      "nbconvert_exporter": "python",
      "pygments_lexer": "ipython3",
      "version": "3.9.20"
    }
  },
  "nbformat": 4,
  "nbformat_minor": 0
}
