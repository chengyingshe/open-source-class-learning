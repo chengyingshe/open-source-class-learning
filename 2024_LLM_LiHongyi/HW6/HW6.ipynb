{
  "cells": [
    {
      "cell_type": "markdown",
      "metadata": {
        "id": "KnSzY2OlRI79"
      },
      "source": [
        "# GenAI HW6: LLM Values Alignment\n",
        "## Objectives\n",
        "- Learn how to align a model's behavior using labelled preference data.\n",
        "\n",
        "If you have any questions, please contact the TAs via TA hours, NTU COOL, or email to ntu-gen-ai-2024-spring-ta@googlegroups.com"
      ]
    },
    {
      "cell_type": "markdown",
      "metadata": {
        "id": "QcXimb2YRI8A"
      },
      "source": [
        "## Install and import necessary libraries  (~2 min)\n",
        "### Ignore the warning if the blockes finish successfully."
      ]
    },
    {
      "cell_type": "code",
      "execution_count": 1,
      "metadata": {
        "colab": {
          "background_save": true,
          "base_uri": "https://localhost:8080/"
        },
        "collapsed": true,
        "id": "KKggQtnTRI8B",
        "outputId": "11b02b19-13e7-4f6c-c7c7-a584fc8e9450"
      },
      "outputs": [
        {
          "name": "stdout",
          "output_type": "stream",
          "text": [
            "^C\n",
            "\u001b[31mERROR: Operation cancelled by user\u001b[0m\u001b[31m\n",
            "\u001b[0m"
          ]
        }
      ],
      "source": [
        "!pip install -q bitsandbytes==0.43.1 datasets==2.19.0 peft==0.10.0 trl==0.8.6 accelerate==0.29.3"
      ]
    },
    {
      "cell_type": "markdown",
      "metadata": {
        "id": "nhR0gJZBRI8D"
      },
      "source": [
        "## Load dataset"
      ]
    },
    {
      "cell_type": "code",
      "execution_count": 4,
      "metadata": {
        "colab": {
          "background_save": true
        },
        "id": "-jHgIOYc9sA5",
        "outputId": "ebaf667d-1397-45a2-e860-e5774b132061"
      },
      "outputs": [
        {
          "name": "stdout",
          "output_type": "stream",
          "text": [
            "fatal: 目标路径 'GenAI_hw6_dataset' 已经存在，并且不是一个空目录。\n"
          ]
        }
      ],
      "source": [
        "!git clone https://github.com/Baiiiiiiiiii/GenAI_hw6_dataset.git"
      ]
    },
    {
      "cell_type": "markdown",
      "metadata": {},
      "source": [
        "## Import Packages"
      ]
    },
    {
      "cell_type": "code",
      "execution_count": 1,
      "metadata": {
        "colab": {
          "background_save": true
        },
        "id": "7Nxtm9AqRI8C"
      },
      "outputs": [
        {
          "name": "stderr",
          "output_type": "stream",
          "text": [
            "/home/scy/anaconda3/envs/llm/lib/python3.11/site-packages/tqdm/auto.py:21: TqdmWarning: IProgress not found. Please update jupyter and ipywidgets. See https://ipywidgets.readthedocs.io/en/stable/user_install.html\n",
            "  from .autonotebook import tqdm as notebook_tqdm\n"
          ]
        }
      ],
      "source": [
        "import os\n",
        "import torch\n",
        "import re\n",
        "import json\n",
        "import gdown\n",
        "from datasets import Dataset\n",
        "import pandas as pd\n",
        "from peft import LoraConfig\n",
        "from transformers import AutoModelForCausalLM, AutoTokenizer, TrainingArguments, BitsAndBytesConfig, GenerationConfig\n",
        "from tqdm.auto import tqdm\n",
        "from trl import DPOTrainer"
      ]
    },
    {
      "cell_type": "code",
      "execution_count": 2,
      "metadata": {
        "colab": {
          "background_save": true
        },
        "id": "1OmziTQ9RI8D"
      },
      "outputs": [],
      "source": [
        "# Open and load the json dataset\n",
        "with open(\"./GenAI_hw6_dataset/labelled_data.json\", 'r') as jsonfile:\n",
        "    full_data = json.load(jsonfile)\n",
        "\n",
        "with open(\"./GenAI_hw6_dataset/test_prompt.json\", 'r') as jsonfile:\n",
        "    test_data = json.load(jsonfile)"
      ]
    },
    {
      "cell_type": "markdown",
      "metadata": {
        "id": "hJgIZhNiRI8E"
      },
      "source": [
        "## Load model"
      ]
    },
    {
      "cell_type": "code",
      "execution_count": 3,
      "metadata": {
        "id": "M2VqCkEXRI8E"
      },
      "outputs": [
        {
          "name": "stderr",
          "output_type": "stream",
          "text": [
            "Loading checkpoint shards: 100%|██████████| 2/2 [00:07<00:00,  3.52s/it]\n"
          ]
        }
      ],
      "source": [
        "model = AutoModelForCausalLM.from_pretrained(\n",
        "    'MediaTek-Research/Breeze-7B-Instruct-v0_1',\n",
        "    device_map='auto',\n",
        "    trust_remote_code=True,\n",
        "    quantization_config=BitsAndBytesConfig(\n",
        "        load_in_4bit=True,\n",
        "        bnb_4bit_compute_dtype=torch.bfloat16,\n",
        "        bnb_4bit_use_double_quant=True,\n",
        "        bnb_4bit_quant_type='nf4'\n",
        "    )\n",
        ")"
      ]
    },
    {
      "cell_type": "markdown",
      "metadata": {
        "id": "-6fTJw9BRI8F"
      },
      "source": [
        "## Get response from the original model"
      ]
    },
    {
      "cell_type": "code",
      "execution_count": 4,
      "metadata": {
        "collapsed": true,
        "id": "P1nkgCcCRI8F"
      },
      "outputs": [
        {
          "name": "stderr",
          "output_type": "stream",
          "text": [
            "  0%|          | 0/10 [00:00<?, ?it/s]"
          ]
        },
        {
          "name": "stdout",
          "output_type": "stream",
          "text": [
            "Question 1:\n",
            "真人化是否能改善日本漫畫的全球可及性？\n"
          ]
        },
        {
          "name": "stderr",
          "output_type": "stream",
          "text": [
            "Starting from v4.46, the `logits` model output will have the same type as the model (except at train time, where it will always be FP32)\n",
            " 10%|█         | 1/10 [00:03<00:30,  3.41s/it]"
          ]
        },
        {
          "name": "stdout",
          "output_type": "stream",
          "text": [
            "Response from original model:\n",
            "真人化可能會提高日本漫畫的全球可及性，因真人版電影或劇集可以吸引更多非漫畫讀者的注意，並提供不同的體驗。然而，這取決於真人化作品的品質、行銷策略和市場接受度。\n",
            "\n",
            "Question 2:\n",
            "真人化如何影響年輕一代對日本漫畫的看法？\n"
          ]
        },
        {
          "name": "stderr",
          "output_type": "stream",
          "text": [
            " 20%|██        | 2/10 [00:06<00:24,  3.11s/it]"
          ]
        },
        {
          "name": "stdout",
          "output_type": "stream",
          "text": [
            "Response from original model:\n",
            "真人化可能會影響年輕一代對日本漫畫的看法，使他們更容易接受和理解故事和角色，並吸引更多人關注和支持日本漫畫文化。然而，個人喜好和文化差異可能導致不同的影響。\n",
            "\n",
            "Question 3:\n",
            "真人化是否能提升原作漫畫的文學價值？\n"
          ]
        },
        {
          "name": "stderr",
          "output_type": "stream",
          "text": [
            " 30%|███       | 3/10 [00:09<00:22,  3.16s/it]"
          ]
        },
        {
          "name": "stdout",
          "output_type": "stream",
          "text": [
            "Response from original model:\n",
            "真人化可能會提升原作漫畫的知名度和影響力，但文學價值本身可能因個人喜好和文化差異而異。真人化可能帶來更多觀眾，但文學價值取決於原作的故事、人物和主題，而非真人化形式。\n",
            "\n",
            "Question 4:\n",
            "真人化是否有助於保護和保存日本漫畫的傳統？\n"
          ]
        },
        {
          "name": "stderr",
          "output_type": "stream",
          "text": [
            " 40%|████      | 4/10 [00:11<00:16,  2.80s/it]"
          ]
        },
        {
          "name": "stdout",
          "output_type": "stream",
          "text": [
            "Response from original model:\n",
            "真人化可能有助於提高日本漫畫的知名度和吸引更多觀眾，但是否真正保護和保存傳統尚需視真人化作品是否尊重原作精神和文化價值。\n",
            "\n",
            "Question 5:\n",
            "真人化是否有助於提升日本漫畫行業的經濟效益？\n"
          ]
        },
        {
          "name": "stderr",
          "output_type": "stream",
          "text": [
            " 50%|█████     | 5/10 [00:14<00:13,  2.76s/it]"
          ]
        },
        {
          "name": "stdout",
          "output_type": "stream",
          "text": [
            "Response from original model:\n",
            "真人化可能有助於提升日本漫畫行業的經濟效益，因真人版電影或劇集可以吸引更多觀眾，增加收入來源。然而，成功與否取決於作品的品質、行銷策略和市場接受度。\n",
            "\n",
            "Question 6:\n",
            "真人化如何影響日本漫畫原作者的創作動力？\n"
          ]
        },
        {
          "name": "stderr",
          "output_type": "stream",
          "text": [
            " 60%|██████    | 6/10 [00:18<00:12,  3.11s/it]"
          ]
        },
        {
          "name": "stdout",
          "output_type": "stream",
          "text": [
            "Response from original model:\n",
            "真人化可能會影響日本漫畫原作者的創作動力，因真人版可能帶來新的靈感、挑戰，或提供機會與不同領域的合作。然而，最終影響因人而異，有些作者可能因真人化而更投入創作，而其他人可能因個人喜好或需求而受影響。\n",
            "\n",
            "Question 7:\n",
            "真人化是否對漫畫原作的忠實粉絲公平？\n"
          ]
        },
        {
          "name": "stderr",
          "output_type": "stream",
          "text": [
            " 70%|███████   | 7/10 [00:20<00:08,  2.79s/it]"
          ]
        },
        {
          "name": "stdout",
          "output_type": "stream",
          "text": [
            "Response from original model:\n",
            "真人化可能會影響忠實的漫畫原作粉絲，因真人版可能有不同的故事改編、角色設定或表現方式，但個人喜好不同，仍有可能欣賞。\n",
            "\n",
            "Question 8:\n",
            "真人化是否能夠促進日本漫畫的創新和多樣性？\n"
          ]
        },
        {
          "name": "stderr",
          "output_type": "stream",
          "text": [
            " 80%|████████  | 8/10 [00:23<00:05,  2.90s/it]"
          ]
        },
        {
          "name": "stdout",
          "output_type": "stream",
          "text": [
            "Response from original model:\n",
            "真人化可能促進日本漫畫的創新和多樣性，因真人版電影或劇集可以吸引新觀眾群，並提供不同的故事表現方式。然而，過度的真人化或商業化可能限制創意和多元性。平衡點須考慮。\n",
            "\n",
            "Question 9:\n",
            "真人化是否有助於擴大動漫文化的市場份額？\n"
          ]
        },
        {
          "name": "stderr",
          "output_type": "stream",
          "text": [
            " 90%|█████████ | 9/10 [00:26<00:02,  2.96s/it]"
          ]
        },
        {
          "name": "stdout",
          "output_type": "stream",
          "text": [
            "Response from original model:\n",
            "真人化可能有助於擴大動漫文化的市場份額，因它能吸引更多非動漫迷觀眾，並提高大眾對動漫文化的認識與接受度。然而，成功與否仍取決於作品品質、行銷策略和市場接受程度。\n",
            "\n",
            "Question 10:\n",
            "真人化是否有助於提高日本漫畫在全球的競爭力？\n"
          ]
        },
        {
          "name": "stderr",
          "output_type": "stream",
          "text": [
            "100%|██████████| 10/10 [00:28<00:00,  2.90s/it]"
          ]
        },
        {
          "name": "stdout",
          "output_type": "stream",
          "text": [
            "Response from original model:\n",
            "真人化可能有助於提高日本漫畫在全球的競爭力，因它能吸引更多觀眾並拓展市場，但同時也可能限制原創性，影響日本漫畫的獨特性。\n",
            "\n"
          ]
        },
        {
          "name": "stderr",
          "output_type": "stream",
          "text": [
            "\n"
          ]
        }
      ],
      "source": [
        "tokenizer = AutoTokenizer.from_pretrained('MediaTek-Research/Breeze-7B-Instruct-v0_1')\n",
        "tokenizer.padding_side = \"right\"\n",
        "tokenizer.pad_token = tokenizer.eos_token\n",
        "\n",
        "def data_formulate(data):\n",
        "    messages = [\n",
        "        {\"role\": \"system\", \"content\": '回覆請少於20字'},\n",
        "        {\"role\": \"user\", \"content\": data['prompt']},\n",
        "    ]\n",
        "    prompt = tokenizer.apply_chat_template(messages, tokenize=False, add_generation_prompt=True)\n",
        "    return prompt\n",
        "\n",
        "original_model_response = []\n",
        "for data in tqdm(test_data):\n",
        "    id = data['id']\n",
        "    print(f'Question {id}:\\n'+data['prompt'])\n",
        "    inputs = tokenizer(data_formulate(data), return_tensors=\"pt\").to('cuda')\n",
        "    generation_config=GenerationConfig(\n",
        "            do_sample=False,\n",
        "            max_new_tokens = 200,\n",
        "            pad_token_id = tokenizer.pad_token_id\n",
        "    )\n",
        "    output = model.generate(**inputs, generation_config=generation_config)\n",
        "    output = tokenizer.batch_decode(output, skip_special_tokens=True)[0].split('[/INST] ')[1]\n",
        "    original_model_response.append(output)\n",
        "    print('Response from original model:\\n'+output+'\\n')"
      ]
    },
    {
      "cell_type": "markdown",
      "metadata": {
        "id": "c6bav5VuRI8C"
      },
      "source": [
        "## Set parameters\n",
        "### You only need to modify this block. Please don’t alter any other parts."
      ]
    },
    {
      "cell_type": "code",
      "execution_count": 5,
      "metadata": {
        "id": "Rbc-x1aKRI8D"
      },
      "outputs": [],
      "source": [
        "num_epoch = 1  # 1\n",
        "data_size = 50\n",
        "support_ratio = 1"
      ]
    },
    {
      "cell_type": "markdown",
      "metadata": {
        "id": "pSA2fmpEK1nW"
      },
      "source": [
        "## Prepare training data"
      ]
    },
    {
      "cell_type": "code",
      "execution_count": 6,
      "metadata": {
        "id": "0cjz12h8KsnV"
      },
      "outputs": [
        {
          "data": {
            "text/html": [
              "<div>\n",
              "<style scoped>\n",
              "    .dataframe tbody tr th:only-of-type {\n",
              "        vertical-align: middle;\n",
              "    }\n",
              "\n",
              "    .dataframe tbody tr th {\n",
              "        vertical-align: top;\n",
              "    }\n",
              "\n",
              "    .dataframe thead th {\n",
              "        text-align: right;\n",
              "    }\n",
              "</style>\n",
              "<table border=\"1\" class=\"dataframe\">\n",
              "  <thead>\n",
              "    <tr style=\"text-align: right;\">\n",
              "      <th></th>\n",
              "      <th>prompt</th>\n",
              "      <th>position</th>\n",
              "      <th>preferred</th>\n",
              "      <th>non-preferred</th>\n",
              "    </tr>\n",
              "  </thead>\n",
              "  <tbody>\n",
              "    <tr>\n",
              "      <th>0</th>\n",
              "      <td>&lt;s&gt;回覆請少於20字   [INST] 日本動漫真人化是否有損原作形象？ [/INST]</td>\n",
              "      <td>support</td>\n",
              "      <td>真人化能夠呈現更真實的角色形象，提升原作魅力。</td>\n",
              "      <td>真人化可能無法完美呈現動畫中的獨特風格，損害原作形象。</td>\n",
              "    </tr>\n",
              "    <tr>\n",
              "      <th>1</th>\n",
              "      <td>&lt;s&gt;回覆請少於20字   [INST] 真人化是否能夠擴大動漫在全球的影響力？ [/INST]</td>\n",
              "      <td>support</td>\n",
              "      <td>真人化能夠讓更多非動漫迷接觸作品，擴大影響力。</td>\n",
              "      <td>真人化可能失去動漫的獨特風格，限制影響力擴大。</td>\n",
              "    </tr>\n",
              "    <tr>\n",
              "      <th>2</th>\n",
              "      <td>&lt;s&gt;回覆請少於20字   [INST] 真人化是否能夠吸引新觀眾？ [/INST]</td>\n",
              "      <td>support</td>\n",
              "      <td>真人化能夠吸引不熟悉動漫的觀眾，擴大受眾。</td>\n",
              "      <td>真人化可能讓原本的動漫迷感到失望，無法吸引新觀眾。</td>\n",
              "    </tr>\n",
              "    <tr>\n",
              "      <th>3</th>\n",
              "      <td>&lt;s&gt;回覆請少於20字   [INST] 真人化是否能夠保留原作故事情節的精髓？ [/INST]</td>\n",
              "      <td>support</td>\n",
              "      <td>真人化有機會更深入挖掘原作故事，保留精髓。</td>\n",
              "      <td>真人化可能因為改編而失去原作故事的深度與精髓。</td>\n",
              "    </tr>\n",
              "    <tr>\n",
              "      <th>4</th>\n",
              "      <td>&lt;s&gt;回覆請少於20字   [INST] 真人化是否能夠提升動漫產業的商業價值？ [/INST]</td>\n",
              "      <td>support</td>\n",
              "      <td>真人化能夠開拓更多商業機會，提升產業價值。</td>\n",
              "      <td>真人化可能讓觀眾對原作失去興趣，影響產業價值。</td>\n",
              "    </tr>\n",
              "    <tr>\n",
              "      <th>5</th>\n",
              "      <td>&lt;s&gt;回覆請少於20字   [INST] 真人化是否能夠保持原作的文化特色？ [/INST]</td>\n",
              "      <td>support</td>\n",
              "      <td>真人化可以透過場景、服裝等元素保留文化特色。</td>\n",
              "      <td>真人化可能因為文化差異而失去原作獨有的文化魅力。</td>\n",
              "    </tr>\n",
              "    <tr>\n",
              "      <th>6</th>\n",
              "      <td>&lt;s&gt;回覆請少於20字   [INST] 真人化是否能夠挑戰技術上的新突破？ [/INST]</td>\n",
              "      <td>support</td>\n",
              "      <td>真人化促使技術創新，挑戰視覺效果上的新高度。</td>\n",
              "      <td>真人化可能因為技術限制而無法達到動畫中的視覺效果。</td>\n",
              "    </tr>\n",
              "    <tr>\n",
              "      <th>7</th>\n",
              "      <td>&lt;s&gt;回覆請少於20字   [INST] 真人化是否會受到演員選擇的爭議？ [/INST]</td>\n",
              "      <td>support</td>\n",
              "      <td>演員選擇可因應市場需求，不必受限於動畫形象。</td>\n",
              "      <td>演員選擇可能引起爭議，觀眾難以接受角色塑造。</td>\n",
              "    </tr>\n",
              "    <tr>\n",
              "      <th>8</th>\n",
              "      <td>&lt;s&gt;回覆請少於20字   [INST] 真人化是否能夠提高動漫的社會認同度？ [/INST]</td>\n",
              "      <td>support</td>\n",
              "      <td>真人化有機會讓更多人接受動漫，提高社會認同度。</td>\n",
              "      <td>真人化可能因為劇情改編而無法贏得社會認同。</td>\n",
              "    </tr>\n",
              "    <tr>\n",
              "      <th>9</th>\n",
              "      <td>&lt;s&gt;回覆請少於20字   [INST] 真人化是否能夠保留原作角色的個性特色？ [/INST]</td>\n",
              "      <td>support</td>\n",
              "      <td>真人化可以透過演員表現保留角色的個性特色。</td>\n",
              "      <td>真人化可能因演員演技或導演選擇而失去角色的原有特色。</td>\n",
              "    </tr>\n",
              "    <tr>\n",
              "      <th>10</th>\n",
              "      <td>&lt;s&gt;回覆請少於20字   [INST] 真人化是否會影響原作動畫的收視率？ [/INST]</td>\n",
              "      <td>support</td>\n",
              "      <td>真人化可能吸引更廣泛的觀眾群，提高收視率。</td>\n",
              "      <td>真人化可能因為原作粉絲的反感而影響動畫收視率。</td>\n",
              "    </tr>\n",
              "    <tr>\n",
              "      <th>11</th>\n",
              "      <td>&lt;s&gt;回覆請少於20字   [INST] 真人化是否會受到版權問題的困擾？ [/INST]</td>\n",
              "      <td>support</td>\n",
              "      <td>版權問題可透過合作與協商解決，不一定成為問題。</td>\n",
              "      <td>版權問題可能成為真人化的阻礙，影響製作進程。</td>\n",
              "    </tr>\n",
              "    <tr>\n",
              "      <th>12</th>\n",
              "      <td>&lt;s&gt;回覆請少於20字   [INST] 真人化是否會引起文化觀念差異的爭議？ [/INST]</td>\n",
              "      <td>support</td>\n",
              "      <td>透過適度的改編，真人化可減少文化觀念差異的爭議。</td>\n",
              "      <td>真人化可能因文化觀念差異引起爭議，影響觀眾接受度。</td>\n",
              "    </tr>\n",
              "    <tr>\n",
              "      <th>13</th>\n",
              "      <td>&lt;s&gt;回覆請少於20字   [INST] 真人化是否能夠挑戰影片表現的新風格？ [/INST]</td>\n",
              "      <td>support</td>\n",
              "      <td>真人化有機會探索新的視覺風格，豐富影片表現。</td>\n",
              "      <td>真人化可能受制於原作風格，難以創造新的影片風格。</td>\n",
              "    </tr>\n",
              "    <tr>\n",
              "      <th>14</th>\n",
              "      <td>&lt;s&gt;回覆請少於20字   [INST] 真人化是否能夠推動動漫產業的多元發展？ [/INST]</td>\n",
              "      <td>support</td>\n",
              "      <td>真人化能夠開啟動漫產業的多元化發展方向。</td>\n",
              "      <td>真人化可能使觀眾對原作產生固有印象，難以多元發展。</td>\n",
              "    </tr>\n",
              "    <tr>\n",
              "      <th>15</th>\n",
              "      <td>&lt;s&gt;回覆請少於20字   [INST] 真人化是否會改變原作動畫的風格？ [/INST]</td>\n",
              "      <td>support</td>\n",
              "      <td>真人化可以透過改編風格，呈現不同的視覺風格。</td>\n",
              "      <td>真人化可能難以完美呈現原作動畫獨有的視覺風格。</td>\n",
              "    </tr>\n",
              "    <tr>\n",
              "      <th>16</th>\n",
              "      <td>&lt;s&gt;回覆請少於20字   [INST] 真人化是否能夠擴大原作的世界觀？ [/INST]</td>\n",
              "      <td>support</td>\n",
              "      <td>真人化有機會透過實景呈現，擴大原作的世界觀。</td>\n",
              "      <td>真人化可能因製作預算或技術限制無法展現原作的豐富世界觀。</td>\n",
              "    </tr>\n",
              "    <tr>\n",
              "      <th>17</th>\n",
              "      <td>&lt;s&gt;回覆請少於20字   [INST] 真人化是否能夠吸引更多投資進入動漫產業？ [/IN...</td>\n",
              "      <td>support</td>\n",
              "      <td>真人化能夠讓更多投資者看到商機，增加投資動機。</td>\n",
              "      <td>真人化可能因觀眾反感而使投資者對動漫產業失去信心。</td>\n",
              "    </tr>\n",
              "    <tr>\n",
              "      <th>18</th>\n",
              "      <td>&lt;s&gt;回覆請少於20字   [INST] 真人化是否能夠促進原作動畫的衍生品銷售？ [/IN...</td>\n",
              "      <td>support</td>\n",
              "      <td>真人化能夠擴大原作品牌影響力，提高衍生品銷售。</td>\n",
              "      <td>真人化可能因觀眾對原作失望而降低衍生品銷售。</td>\n",
              "    </tr>\n",
              "    <tr>\n",
              "      <th>19</th>\n",
              "      <td>&lt;s&gt;回覆請少於20字   [INST] 真人化是否能夠提升動漫的社會地位？ [/INST]</td>\n",
              "      <td>support</td>\n",
              "      <td>真人化有機會使動漫更受社會重視，提升地位。</td>\n",
              "      <td>真人化可能讓觀眾對動漫產生負面印象，降低社會地位。</td>\n",
              "    </tr>\n",
              "    <tr>\n",
              "      <th>20</th>\n",
              "      <td>&lt;s&gt;回覆請少於20字   [INST] 真人化是否會破壞原作動畫的獨特性？ [/INST]</td>\n",
              "      <td>support</td>\n",
              "      <td>真人化可以透過新的呈現方式，保留原作的獨特性。</td>\n",
              "      <td>真人化可能因為改編而使原作失去獨特風格。</td>\n",
              "    </tr>\n",
              "    <tr>\n",
              "      <th>21</th>\n",
              "      <td>&lt;s&gt;回覆請少於20字   [INST] 真人化是否能夠促進動漫產業的國際交流？ [/INST]</td>\n",
              "      <td>support</td>\n",
              "      <td>真人化能夠使動漫更容易被國際觀眾理解，促進交流。</td>\n",
              "      <td>真人化可能因文化差異而難以打開國際市場，限制交流。</td>\n",
              "    </tr>\n",
              "    <tr>\n",
              "      <th>22</th>\n",
              "      <td>&lt;s&gt;回覆請少於20字   [INST] 真人化是否會影響原作動畫的經典地位？ [/INST]</td>\n",
              "      <td>support</td>\n",
              "      <td>真人化可以為原作注入新活力，提升經典地位。</td>\n",
              "      <td>真人化可能因改編而被視為是對原作經典的不敬。</td>\n",
              "    </tr>\n",
              "    <tr>\n",
              "      <th>23</th>\n",
              "      <td>&lt;s&gt;回覆請少於20字   [INST] 真人化是否會受到粉絲的反感？ [/INST]</td>\n",
              "      <td>support</td>\n",
              "      <td>部分粉絲可能因真人化而感到新鮮，不一定反感。</td>\n",
              "      <td>部分粉絲可能因真人化而感到失望，產生強烈反感。</td>\n",
              "    </tr>\n",
              "    <tr>\n",
              "      <th>24</th>\n",
              "      <td>&lt;s&gt;回覆請少於20字   [INST] 真人化是否能夠挖掘原作未探索的劇情？ [/INST]</td>\n",
              "      <td>support</td>\n",
              "      <td>真人化有機會透過改編劇情，挖掘原作未探索的內容。</td>\n",
              "      <td>真人化可能因為劇情改編而失去原作的深度與探索價值。</td>\n",
              "    </tr>\n",
              "    <tr>\n",
              "      <th>25</th>\n",
              "      <td>&lt;s&gt;回覆請少於20字   [INST] 真人化是否能夠吸引更多知名導演與演員參與？ [/I...</td>\n",
              "      <td>support</td>\n",
              "      <td>真人化能夠吸引更多知名人士參與，提升製作水平。</td>\n",
              "      <td>真人化可能因為風險高而難以吸引知名導演與演員參與。</td>\n",
              "    </tr>\n",
              "    <tr>\n",
              "      <th>26</th>\n",
              "      <td>&lt;s&gt;回覆請少於20字   [INST] 真人化是否會受到動畫粉絲的期待壓力？ [/INST]</td>\n",
              "      <td>support</td>\n",
              "      <td>真人化可以透過適度的改編滿足觀眾期待，降低壓力。</td>\n",
              "      <td>真人化可能因無法滿足動畫粉絲的期待而受到極大壓力。</td>\n",
              "    </tr>\n",
              "    <tr>\n",
              "      <th>27</th>\n",
              "      <td>&lt;s&gt;回覆請少於20字   [INST] 真人化是否有助於促進動漫產業內的技術創新？ [/I...</td>\n",
              "      <td>support</td>\n",
              "      <td>真人化的製作需求推動了視覺效果和製作技術的創新。</td>\n",
              "      <td>過分專注於真人化可能會忽視動漫本身的技術創新和發展。</td>\n",
              "    </tr>\n",
              "    <tr>\n",
              "      <th>28</th>\n",
              "      <td>&lt;s&gt;回覆請少於20字   [INST] 真人化是否會提高動漫文化的普及和接受度？ [/IN...</td>\n",
              "      <td>support</td>\n",
              "      <td>真人化有助於使動漫文化更加普及，吸引更多不同背景的觀眾。</td>\n",
              "      <td>真人化可能會降低動漫文化的獨特性，減少其對特定群體的吸引力。</td>\n",
              "    </tr>\n",
              "    <tr>\n",
              "      <th>29</th>\n",
              "      <td>&lt;s&gt;回覆請少於20字   [INST] 真人化是否有助於提升動漫角色的深度和多維度？ [/...</td>\n",
              "      <td>support</td>\n",
              "      <td>真人演員的演繹能為動漫角色增添更多層次和深度。</td>\n",
              "      <td>真人化經常無法徹底展現動漫角色的複雜性和深度。</td>\n",
              "    </tr>\n",
              "    <tr>\n",
              "      <th>30</th>\n",
              "      <td>&lt;s&gt;回覆請少於20字   [INST] 真人化能增加原作的知名度嗎？ [/INST]</td>\n",
              "      <td>support</td>\n",
              "      <td>真人化能擴大原作的觀眾群，提高其知名度。</td>\n",
              "      <td>真人化經常失敗，可能損害原作的聲譽。</td>\n",
              "    </tr>\n",
              "    <tr>\n",
              "      <th>31</th>\n",
              "      <td>&lt;s&gt;回覆請少於20字   [INST] 真人化能夠提高原作的藝術價值嗎？ [/INST]</td>\n",
              "      <td>support</td>\n",
              "      <td>真人化是對原作的新詮釋，能增加其藝術層面的深度。</td>\n",
              "      <td>真人化往往無法捕捉原作的藝術魅力，反而貶低其價值。</td>\n",
              "    </tr>\n",
              "    <tr>\n",
              "      <th>32</th>\n",
              "      <td>&lt;s&gt;回覆請少於20字   [INST] 真人化是否利於動漫產業的經濟發展？ [/INST]</td>\n",
              "      <td>support</td>\n",
              "      <td>真人化能創造新的商業機會，刺激動漫產業的經濟增長。</td>\n",
              "      <td>真人化的商業化導向可能扭曲原作精神，對產業長期發展不利。</td>\n",
              "    </tr>\n",
              "    <tr>\n",
              "      <th>33</th>\n",
              "      <td>&lt;s&gt;回覆請少於20字   [INST] 真人化是否有助於動漫文化的國際傳播？ [/INST]</td>\n",
              "      <td>support</td>\n",
              "      <td>真人化作品更容易被國際觀眾接受，有助於推廣動漫文化。</td>\n",
              "      <td>真人化可能會錯誤詮釋動漫文化，造成國際上的誤解。</td>\n",
              "    </tr>\n",
              "    <tr>\n",
              "      <th>34</th>\n",
              "      <td>&lt;s&gt;回覆請少於20字   [INST] 真人化是否能準確再現動漫的奇幻元素？ [/INST]</td>\n",
              "      <td>support</td>\n",
              "      <td>現代技術能夠精準再現動漫的奇幻元素，增強真人化的吸引力。</td>\n",
              "      <td>真人化往往無法完美再現動漫的奇幻世界，失去原作魅力。</td>\n",
              "    </tr>\n",
              "    <tr>\n",
              "      <th>35</th>\n",
              "      <td>&lt;s&gt;回覆請少於20字   [INST] 真人化是否尊重原作的精神和內容？ [/INST]</td>\n",
              "      <td>support</td>\n",
              "      <td>真人化時，製作團隊通常會努力保持對原作的忠誠和尊重。</td>\n",
              "      <td>真人化經常為了商業利益而改變原作的核心精神和內容。</td>\n",
              "    </tr>\n",
              "    <tr>\n",
              "      <th>36</th>\n",
              "      <td>&lt;s&gt;回覆請少於20字   [INST] 真人化對原作的完整性有何影響？ [/INST]</td>\n",
              "      <td>support</td>\n",
              "      <td>真人化為原作提供了新的視角，豐富了其敘事和背景。</td>\n",
              "      <td>真人化往往簡化或改變原作的故事，損害其完整性。</td>\n",
              "    </tr>\n",
              "    <tr>\n",
              "      <th>37</th>\n",
              "      <td>&lt;s&gt;回覆請少於20字   [INST] 真人化是否有助於吸引更廣泛的觀眾群？ [/INST]</td>\n",
              "      <td>support</td>\n",
              "      <td>真人化能吸引不習慣看動漫的觀眾，擴大受眾基礎。</td>\n",
              "      <td>真人化可能會失去核心動漫粉絲，而無法吸引新觀眾。</td>\n",
              "    </tr>\n",
              "    <tr>\n",
              "      <th>38</th>\n",
              "      <td>&lt;s&gt;回覆請少於20字   [INST] 真人化是否有助於提升原創動漫的品牌價值？ [/IN...</td>\n",
              "      <td>support</td>\n",
              "      <td>成功的真人化能提升原創動漫的品牌價值和市場認可。</td>\n",
              "      <td>不成功的真人化可能損害原創動漫的品牌形象。</td>\n",
              "    </tr>\n",
              "    <tr>\n",
              "      <th>39</th>\n",
              "      <td>&lt;s&gt;回覆請少於20字   [INST] 真人化是否有助於促進原創作者的創意表達？ [/IN...</td>\n",
              "      <td>support</td>\n",
              "      <td>真人化提供了一個新平台，讓原創作者能夠以不同方式表達創意。</td>\n",
              "      <td>真人化可能限制或扭曲原創者的創意，使其不再忠實於原作。</td>\n",
              "    </tr>\n",
              "    <tr>\n",
              "      <th>40</th>\n",
              "      <td>&lt;s&gt;回覆請少於20字   [INST] 真人化是否會增加原作的文化影響力？ [/INST]</td>\n",
              "      <td>support</td>\n",
              "      <td>真人化作品更容易被主流文化接受，增強原作的文化影響力。</td>\n",
              "      <td>真人化可能會稀釋原作的獨特文化元素，降低其影響力。</td>\n",
              "    </tr>\n",
              "    <tr>\n",
              "      <th>41</th>\n",
              "      <td>&lt;s&gt;回覆請少於20字   [INST] 真人化是否有助於原作故事的深度和複雜度？ [/IN...</td>\n",
              "      <td>support</td>\n",
              "      <td>真人化可以加深原作的敘事深度，提供更複雜的角色和情節發展。</td>\n",
              "      <td>真人化經常因時長和預算限制而簡化故事，減少深度和複雜度。</td>\n",
              "    </tr>\n",
              "    <tr>\n",
              "      <th>42</th>\n",
              "      <td>&lt;s&gt;回覆請少於20字   [INST] 真人化是否有助於動漫產業的多元化發展？ [/INST]</td>\n",
              "      <td>support</td>\n",
              "      <td>真人化作品的多樣性能推動整個動漫產業向更多元化方向發展。</td>\n",
              "      <td>過度專注於真人化可能會忽視動漫其他領域的發展，限制多元化。</td>\n",
              "    </tr>\n",
              "    <tr>\n",
              "      <th>43</th>\n",
              "      <td>&lt;s&gt;回覆請少於20字   [INST] 真人化是否有助於提高原作的國際競爭力？ [/INST]</td>\n",
              "      <td>support</td>\n",
              "      <td>真人化能使原作更容易進入國際市場，提高其全球競爭力。</td>\n",
              "      <td>真人化如果失敗，可能會損害原作在國際市場的聲譽和競爭力。</td>\n",
              "    </tr>\n",
              "    <tr>\n",
              "      <th>44</th>\n",
              "      <td>&lt;s&gt;回覆請少於20字   [INST] 真人化是否有助於原創作者的經濟利益？ [/INST]</td>\n",
              "      <td>support</td>\n",
              "      <td>真人化的成功能為原創者帶來額外的經濟收益。</td>\n",
              "      <td>真人化可能會未經原創者充分同意就進行，侵犯其經濟和版權利益。</td>\n",
              "    </tr>\n",
              "    <tr>\n",
              "      <th>45</th>\n",
              "      <td>&lt;s&gt;回覆請少於20字   [INST] 真人化是否有助於促進動漫和其他媒介的合作？ [/I...</td>\n",
              "      <td>support</td>\n",
              "      <td>真人化能開啟與電影、電視等其他媒介的合作機會。</td>\n",
              "      <td>過分依賴真人化可能會忽視動漫本身的獨立性和特色，限制媒介間的真正合作。</td>\n",
              "    </tr>\n",
              "    <tr>\n",
              "      <th>46</th>\n",
              "      <td>&lt;s&gt;回覆請少於20字   [INST] 真人化是否有助於拓寬動漫的故事敘述方式？ [/IN...</td>\n",
              "      <td>support</td>\n",
              "      <td>真人化提供了一種全新的敘述方式，豐富動漫的故事表達。</td>\n",
              "      <td>真人化往往受限於現實條件，無法像動漫那樣自由發揮故事敘述。</td>\n",
              "    </tr>\n",
              "    <tr>\n",
              "      <th>47</th>\n",
              "      <td>&lt;s&gt;回覆請少於20字   [INST] 真人化是否有助於提高動漫角色的真實感？ [/INST]</td>\n",
              "      <td>support</td>\n",
              "      <td>真人演員能賦予動漫角色更多人性化和真實感。</td>\n",
              "      <td>真人化往往無法完全捕捉到動漫角色的獨特魅力和特性。</td>\n",
              "    </tr>\n",
              "    <tr>\n",
              "      <th>48</th>\n",
              "      <td>&lt;s&gt;回覆請少於20字   [INST] 真人化是否能夠正確傳達原作的主題和信息？ [/IN...</td>\n",
              "      <td>support</td>\n",
              "      <td>真人化能夠通過實際演繹更加生動地傳達原作的主題和信息。</td>\n",
              "      <td>真人化經常因為格式和風格限制而失去傳達原作主題的能力。</td>\n",
              "    </tr>\n",
              "    <tr>\n",
              "      <th>49</th>\n",
              "      <td>&lt;s&gt;回覆請少於20字   [INST] 真人化是否有助於增進原創動漫的社會認知度？ [/I...</td>\n",
              "      <td>support</td>\n",
              "      <td>真人化能使原創動漫更容易獲得主流社會的認可和關注。</td>\n",
              "      <td>真人化可能會將動漫文化簡化，降低其在社會中的地位和認知度。</td>\n",
              "    </tr>\n",
              "  </tbody>\n",
              "</table>\n",
              "</div>"
            ],
            "text/plain": [
              "                                               prompt position  \\\n",
              "0      <s>回覆請少於20字   [INST] 日本動漫真人化是否有損原作形象？ [/INST]   support   \n",
              "1   <s>回覆請少於20字   [INST] 真人化是否能夠擴大動漫在全球的影響力？ [/INST]   support   \n",
              "2         <s>回覆請少於20字   [INST] 真人化是否能夠吸引新觀眾？ [/INST]   support   \n",
              "3   <s>回覆請少於20字   [INST] 真人化是否能夠保留原作故事情節的精髓？ [/INST]   support   \n",
              "4   <s>回覆請少於20字   [INST] 真人化是否能夠提升動漫產業的商業價值？ [/INST]   support   \n",
              "5     <s>回覆請少於20字   [INST] 真人化是否能夠保持原作的文化特色？ [/INST]   support   \n",
              "6     <s>回覆請少於20字   [INST] 真人化是否能夠挑戰技術上的新突破？ [/INST]   support   \n",
              "7      <s>回覆請少於20字   [INST] 真人化是否會受到演員選擇的爭議？ [/INST]   support   \n",
              "8    <s>回覆請少於20字   [INST] 真人化是否能夠提高動漫的社會認同度？ [/INST]   support   \n",
              "9   <s>回覆請少於20字   [INST] 真人化是否能夠保留原作角色的個性特色？ [/INST]   support   \n",
              "10    <s>回覆請少於20字   [INST] 真人化是否會影響原作動畫的收視率？ [/INST]   support   \n",
              "11     <s>回覆請少於20字   [INST] 真人化是否會受到版權問題的困擾？ [/INST]   support   \n",
              "12   <s>回覆請少於20字   [INST] 真人化是否會引起文化觀念差異的爭議？ [/INST]   support   \n",
              "13   <s>回覆請少於20字   [INST] 真人化是否能夠挑戰影片表現的新風格？ [/INST]   support   \n",
              "14  <s>回覆請少於20字   [INST] 真人化是否能夠推動動漫產業的多元發展？ [/INST]   support   \n",
              "15     <s>回覆請少於20字   [INST] 真人化是否會改變原作動畫的風格？ [/INST]   support   \n",
              "16     <s>回覆請少於20字   [INST] 真人化是否能夠擴大原作的世界觀？ [/INST]   support   \n",
              "17  <s>回覆請少於20字   [INST] 真人化是否能夠吸引更多投資進入動漫產業？ [/IN...  support   \n",
              "18  <s>回覆請少於20字   [INST] 真人化是否能夠促進原作動畫的衍生品銷售？ [/IN...  support   \n",
              "19    <s>回覆請少於20字   [INST] 真人化是否能夠提升動漫的社會地位？ [/INST]   support   \n",
              "20    <s>回覆請少於20字   [INST] 真人化是否會破壞原作動畫的獨特性？ [/INST]   support   \n",
              "21  <s>回覆請少於20字   [INST] 真人化是否能夠促進動漫產業的國際交流？ [/INST]   support   \n",
              "22   <s>回覆請少於20字   [INST] 真人化是否會影響原作動畫的經典地位？ [/INST]   support   \n",
              "23       <s>回覆請少於20字   [INST] 真人化是否會受到粉絲的反感？ [/INST]   support   \n",
              "24   <s>回覆請少於20字   [INST] 真人化是否能夠挖掘原作未探索的劇情？ [/INST]   support   \n",
              "25  <s>回覆請少於20字   [INST] 真人化是否能夠吸引更多知名導演與演員參與？ [/I...  support   \n",
              "26   <s>回覆請少於20字   [INST] 真人化是否會受到動畫粉絲的期待壓力？ [/INST]   support   \n",
              "27  <s>回覆請少於20字   [INST] 真人化是否有助於促進動漫產業內的技術創新？ [/I...  support   \n",
              "28  <s>回覆請少於20字   [INST] 真人化是否會提高動漫文化的普及和接受度？ [/IN...  support   \n",
              "29  <s>回覆請少於20字   [INST] 真人化是否有助於提升動漫角色的深度和多維度？ [/...  support   \n",
              "30       <s>回覆請少於20字   [INST] 真人化能增加原作的知名度嗎？ [/INST]   support   \n",
              "31     <s>回覆請少於20字   [INST] 真人化能夠提高原作的藝術價值嗎？ [/INST]   support   \n",
              "32    <s>回覆請少於20字   [INST] 真人化是否利於動漫產業的經濟發展？ [/INST]   support   \n",
              "33   <s>回覆請少於20字   [INST] 真人化是否有助於動漫文化的國際傳播？ [/INST]   support   \n",
              "34   <s>回覆請少於20字   [INST] 真人化是否能準確再現動漫的奇幻元素？ [/INST]   support   \n",
              "35     <s>回覆請少於20字   [INST] 真人化是否尊重原作的精神和內容？ [/INST]   support   \n",
              "36      <s>回覆請少於20字   [INST] 真人化對原作的完整性有何影響？ [/INST]   support   \n",
              "37   <s>回覆請少於20字   [INST] 真人化是否有助於吸引更廣泛的觀眾群？ [/INST]   support   \n",
              "38  <s>回覆請少於20字   [INST] 真人化是否有助於提升原創動漫的品牌價值？ [/IN...  support   \n",
              "39  <s>回覆請少於20字   [INST] 真人化是否有助於促進原創作者的創意表達？ [/IN...  support   \n",
              "40    <s>回覆請少於20字   [INST] 真人化是否會增加原作的文化影響力？ [/INST]   support   \n",
              "41  <s>回覆請少於20字   [INST] 真人化是否有助於原作故事的深度和複雜度？ [/IN...  support   \n",
              "42  <s>回覆請少於20字   [INST] 真人化是否有助於動漫產業的多元化發展？ [/INST]   support   \n",
              "43  <s>回覆請少於20字   [INST] 真人化是否有助於提高原作的國際競爭力？ [/INST]   support   \n",
              "44   <s>回覆請少於20字   [INST] 真人化是否有助於原創作者的經濟利益？ [/INST]   support   \n",
              "45  <s>回覆請少於20字   [INST] 真人化是否有助於促進動漫和其他媒介的合作？ [/I...  support   \n",
              "46  <s>回覆請少於20字   [INST] 真人化是否有助於拓寬動漫的故事敘述方式？ [/IN...  support   \n",
              "47  <s>回覆請少於20字   [INST] 真人化是否有助於提高動漫角色的真實感？ [/INST]   support   \n",
              "48  <s>回覆請少於20字   [INST] 真人化是否能夠正確傳達原作的主題和信息？ [/IN...  support   \n",
              "49  <s>回覆請少於20字   [INST] 真人化是否有助於增進原創動漫的社會認知度？ [/I...  support   \n",
              "\n",
              "                        preferred                        non-preferred  \n",
              "0         真人化能夠呈現更真實的角色形象，提升原作魅力。          真人化可能無法完美呈現動畫中的獨特風格，損害原作形象。  \n",
              "1         真人化能夠讓更多非動漫迷接觸作品，擴大影響力。              真人化可能失去動漫的獨特風格，限制影響力擴大。  \n",
              "2           真人化能夠吸引不熟悉動漫的觀眾，擴大受眾。            真人化可能讓原本的動漫迷感到失望，無法吸引新觀眾。  \n",
              "3           真人化有機會更深入挖掘原作故事，保留精髓。              真人化可能因為改編而失去原作故事的深度與精髓。  \n",
              "4           真人化能夠開拓更多商業機會，提升產業價值。              真人化可能讓觀眾對原作失去興趣，影響產業價值。  \n",
              "5          真人化可以透過場景、服裝等元素保留文化特色。             真人化可能因為文化差異而失去原作獨有的文化魅力。  \n",
              "6          真人化促使技術創新，挑戰視覺效果上的新高度。            真人化可能因為技術限制而無法達到動畫中的視覺效果。  \n",
              "7          演員選擇可因應市場需求，不必受限於動畫形象。               演員選擇可能引起爭議，觀眾難以接受角色塑造。  \n",
              "8         真人化有機會讓更多人接受動漫，提高社會認同度。                真人化可能因為劇情改編而無法贏得社會認同。  \n",
              "9           真人化可以透過演員表現保留角色的個性特色。           真人化可能因演員演技或導演選擇而失去角色的原有特色。  \n",
              "10          真人化可能吸引更廣泛的觀眾群，提高收視率。              真人化可能因為原作粉絲的反感而影響動畫收視率。  \n",
              "11        版權問題可透過合作與協商解決，不一定成為問題。               版權問題可能成為真人化的阻礙，影響製作進程。  \n",
              "12       透過適度的改編，真人化可減少文化觀念差異的爭議。            真人化可能因文化觀念差異引起爭議，影響觀眾接受度。  \n",
              "13         真人化有機會探索新的視覺風格，豐富影片表現。             真人化可能受制於原作風格，難以創造新的影片風格。  \n",
              "14           真人化能夠開啟動漫產業的多元化發展方向。            真人化可能使觀眾對原作產生固有印象，難以多元發展。  \n",
              "15         真人化可以透過改編風格，呈現不同的視覺風格。              真人化可能難以完美呈現原作動畫獨有的視覺風格。  \n",
              "16         真人化有機會透過實景呈現，擴大原作的世界觀。         真人化可能因製作預算或技術限制無法展現原作的豐富世界觀。  \n",
              "17        真人化能夠讓更多投資者看到商機，增加投資動機。            真人化可能因觀眾反感而使投資者對動漫產業失去信心。  \n",
              "18        真人化能夠擴大原作品牌影響力，提高衍生品銷售。               真人化可能因觀眾對原作失望而降低衍生品銷售。  \n",
              "19          真人化有機會使動漫更受社會重視，提升地位。            真人化可能讓觀眾對動漫產生負面印象，降低社會地位。  \n",
              "20        真人化可以透過新的呈現方式，保留原作的獨特性。                 真人化可能因為改編而使原作失去獨特風格。  \n",
              "21       真人化能夠使動漫更容易被國際觀眾理解，促進交流。            真人化可能因文化差異而難以打開國際市場，限制交流。  \n",
              "22          真人化可以為原作注入新活力，提升經典地位。               真人化可能因改編而被視為是對原作經典的不敬。  \n",
              "23         部分粉絲可能因真人化而感到新鮮，不一定反感。              部分粉絲可能因真人化而感到失望，產生強烈反感。  \n",
              "24       真人化有機會透過改編劇情，挖掘原作未探索的內容。            真人化可能因為劇情改編而失去原作的深度與探索價值。  \n",
              "25        真人化能夠吸引更多知名人士參與，提升製作水平。            真人化可能因為風險高而難以吸引知名導演與演員參與。  \n",
              "26       真人化可以透過適度的改編滿足觀眾期待，降低壓力。            真人化可能因無法滿足動畫粉絲的期待而受到極大壓力。  \n",
              "27       真人化的製作需求推動了視覺效果和製作技術的創新。           過分專注於真人化可能會忽視動漫本身的技術創新和發展。  \n",
              "28   真人化有助於使動漫文化更加普及，吸引更多不同背景的觀眾。       真人化可能會降低動漫文化的獨特性，減少其對特定群體的吸引力。  \n",
              "29        真人演員的演繹能為動漫角色增添更多層次和深度。              真人化經常無法徹底展現動漫角色的複雜性和深度。  \n",
              "30           真人化能擴大原作的觀眾群，提高其知名度。                   真人化經常失敗，可能損害原作的聲譽。  \n",
              "31       真人化是對原作的新詮釋，能增加其藝術層面的深度。            真人化往往無法捕捉原作的藝術魅力，反而貶低其價值。  \n",
              "32      真人化能創造新的商業機會，刺激動漫產業的經濟增長。         真人化的商業化導向可能扭曲原作精神，對產業長期發展不利。  \n",
              "33     真人化作品更容易被國際觀眾接受，有助於推廣動漫文化。             真人化可能會錯誤詮釋動漫文化，造成國際上的誤解。  \n",
              "34   現代技術能夠精準再現動漫的奇幻元素，增強真人化的吸引力。           真人化往往無法完美再現動漫的奇幻世界，失去原作魅力。  \n",
              "35     真人化時，製作團隊通常會努力保持對原作的忠誠和尊重。            真人化經常為了商業利益而改變原作的核心精神和內容。  \n",
              "36       真人化為原作提供了新的視角，豐富了其敘事和背景。              真人化往往簡化或改變原作的故事，損害其完整性。  \n",
              "37        真人化能吸引不習慣看動漫的觀眾，擴大受眾基礎。             真人化可能會失去核心動漫粉絲，而無法吸引新觀眾。  \n",
              "38       成功的真人化能提升原創動漫的品牌價值和市場認可。                不成功的真人化可能損害原創動漫的品牌形象。  \n",
              "39  真人化提供了一個新平台，讓原創作者能夠以不同方式表達創意。          真人化可能限制或扭曲原創者的創意，使其不再忠實於原作。  \n",
              "40    真人化作品更容易被主流文化接受，增強原作的文化影響力。            真人化可能會稀釋原作的獨特文化元素，降低其影響力。  \n",
              "41  真人化可以加深原作的敘事深度，提供更複雜的角色和情節發展。         真人化經常因時長和預算限制而簡化故事，減少深度和複雜度。  \n",
              "42   真人化作品的多樣性能推動整個動漫產業向更多元化方向發展。        過度專注於真人化可能會忽視動漫其他領域的發展，限制多元化。  \n",
              "43     真人化能使原作更容易進入國際市場，提高其全球競爭力。         真人化如果失敗，可能會損害原作在國際市場的聲譽和競爭力。  \n",
              "44          真人化的成功能為原創者帶來額外的經濟收益。       真人化可能會未經原創者充分同意就進行，侵犯其經濟和版權利益。  \n",
              "45        真人化能開啟與電影、電視等其他媒介的合作機會。  過分依賴真人化可能會忽視動漫本身的獨立性和特色，限制媒介間的真正合作。  \n",
              "46     真人化提供了一種全新的敘述方式，豐富動漫的故事表達。        真人化往往受限於現實條件，無法像動漫那樣自由發揮故事敘述。  \n",
              "47          真人演員能賦予動漫角色更多人性化和真實感。            真人化往往無法完全捕捉到動漫角色的獨特魅力和特性。  \n",
              "48    真人化能夠通過實際演繹更加生動地傳達原作的主題和信息。          真人化經常因為格式和風格限制而失去傳達原作主題的能力。  \n",
              "49      真人化能使原創動漫更容易獲得主流社會的認可和關注。        真人化可能會將動漫文化簡化，降低其在社會中的地位和認知度。  "
            ]
          },
          "execution_count": 6,
          "metadata": {},
          "output_type": "execute_result"
        }
      ],
      "source": [
        "# Select part of the data for training\n",
        "training_data = full_data[:data_size]\n",
        "\n",
        "# Define the size of the support dataset\n",
        "support_data_size = int(data_size * support_ratio)\n",
        "\n",
        "# Prepare the data for the training dataset\n",
        "prompt_list = [data_formulate(data) for data in training_data]\n",
        "chosen_list = [data['support'] for data in training_data[:support_data_size]] + [data['oppose'] for data in training_data[support_data_size:]]\n",
        "rejected_list = [data['oppose'] for data in training_data[:support_data_size]] + [data['support'] for data in training_data[support_data_size:]]\n",
        "position_list = ['support' for _ in range(support_data_size)] + ['oppose' for _ in range(data_size - support_data_size)]\n",
        "\n",
        "# Create the training dataset\n",
        "train_dataset = Dataset.from_dict({'prompt': prompt_list, 'position': position_list, 'chosen': chosen_list, 'rejected': rejected_list})\n",
        "pd.DataFrame(train_dataset).rename(columns={\"chosen\": \"preferred\", \"rejected\": \"non-preferred\"})"
      ]
    },
    {
      "cell_type": "markdown",
      "metadata": {
        "id": "IIBhiTYQRI8F"
      },
      "source": [
        "## Training"
      ]
    },
    {
      "cell_type": "code",
      "execution_count": 7,
      "metadata": {
        "id": "NPd6nrnBRI8F"
      },
      "outputs": [],
      "source": [
        "training_args = TrainingArguments(\n",
        "    output_dir='./',\n",
        "    per_device_train_batch_size=1,\n",
        "    num_train_epochs=num_epoch,\n",
        "    gradient_accumulation_steps=8,\n",
        "    gradient_checkpointing=False,\n",
        "    learning_rate=2e-4,\n",
        "    optim=\"paged_adamw_8bit\",\n",
        "    logging_steps = 1,\n",
        "    warmup_ratio = 0.1,\n",
        "    report_to = 'none'\n",
        ")"
      ]
    },
    {
      "cell_type": "code",
      "execution_count": 8,
      "metadata": {
        "id": "AdsDp5rkRI8G"
      },
      "outputs": [],
      "source": [
        "peft_config = LoraConfig(\n",
        "    lora_alpha=16,\n",
        "    lora_dropout=0.1,\n",
        "    r=64,\n",
        "    bias=\"none\",\n",
        "    task_type=\"CAUSAL_LM\",\n",
        ")"
      ]
    },
    {
      "cell_type": "code",
      "execution_count": 9,
      "metadata": {
        "id": "Qi5le-IQRI8G"
      },
      "outputs": [
        {
          "name": "stderr",
          "output_type": "stream",
          "text": [
            "/home/scy/anaconda3/envs/llm/lib/python3.11/site-packages/trl/trainer/dpo_trainer.py:300: UserWarning: `max_length` is not set in the DPOTrainer's init it will default to `512` by default, but you should do it yourself in the future.\n",
            "  warnings.warn(\n",
            "/home/scy/anaconda3/envs/llm/lib/python3.11/site-packages/trl/trainer/dpo_trainer.py:307: UserWarning: `max_prompt_length` is not set in the DPOTrainer's init it will default to `128` by default, but you should do it yourself in the future.\n",
            "  warnings.warn(\n",
            "/home/scy/anaconda3/envs/llm/lib/python3.11/site-packages/trl/trainer/dpo_trainer.py:332: UserWarning: When using DPODataCollatorWithPadding, you should set `remove_unused_columns=False` in your TrainingArguments we have set it for you, but you should do it yourself in the future.\n",
            "  warnings.warn(\n",
            "Map: 100%|██████████| 50/50 [00:00<00:00, 1757.41 examples/s]\n"
          ]
        }
      ],
      "source": [
        "dpo_trainer = DPOTrainer(\n",
        "    model,\n",
        "    args=training_args,\n",
        "    beta=0.1,\n",
        "    train_dataset=train_dataset,\n",
        "    tokenizer=tokenizer,\n",
        "    peft_config=peft_config,\n",
        ")"
      ]
    },
    {
      "cell_type": "code",
      "execution_count": 10,
      "metadata": {
        "id": "WzUnqb40RI8H"
      },
      "outputs": [
        {
          "name": "stderr",
          "output_type": "stream",
          "text": [
            "  0%|          | 0/6 [00:00<?, ?it/s]Could not estimate the number of tokens of the input, floating-point operations will not be computed\n",
            " 17%|█▋        | 1/6 [00:03<00:18,  3.66s/it]"
          ]
        },
        {
          "name": "stdout",
          "output_type": "stream",
          "text": [
            "{'loss': 0.6931, 'grad_norm': 3.312622547149658, 'learning_rate': 0.0002, 'rewards/chosen': 0.0, 'rewards/rejected': 0.0, 'rewards/accuracies': 0.0, 'rewards/margins': 0.0, 'logps/rejected': -49.23818588256836, 'logps/chosen': -42.10595703125, 'logits/rejected': -0.332323282957077, 'logits/chosen': -0.32404395937919617, 'epoch': 0.16}\n"
          ]
        },
        {
          "name": "stderr",
          "output_type": "stream",
          "text": [
            " 33%|███▎      | 2/6 [00:07<00:14,  3.62s/it]"
          ]
        },
        {
          "name": "stdout",
          "output_type": "stream",
          "text": [
            "{'loss': 0.6931, 'grad_norm': 3.633286952972412, 'learning_rate': 0.00016, 'rewards/chosen': 0.0, 'rewards/rejected': 0.0, 'rewards/accuracies': 0.0, 'rewards/margins': 0.0, 'logps/rejected': -46.570377349853516, 'logps/chosen': -42.9771842956543, 'logits/rejected': -0.21861951053142548, 'logits/chosen': -0.30097079277038574, 'epoch': 0.32}\n"
          ]
        },
        {
          "name": "stderr",
          "output_type": "stream",
          "text": [
            " 50%|█████     | 3/6 [00:10<00:10,  3.58s/it]"
          ]
        },
        {
          "name": "stdout",
          "output_type": "stream",
          "text": [
            "{'loss': 0.5559, 'grad_norm': 3.028195858001709, 'learning_rate': 0.00012, 'rewards/chosen': 0.06844909489154816, 'rewards/rejected': -0.25152522325515747, 'rewards/accuracies': 0.875, 'rewards/margins': 0.31997430324554443, 'logps/rejected': -51.17584991455078, 'logps/chosen': -40.20937728881836, 'logits/rejected': -0.2268192023038864, 'logits/chosen': -0.34067443013191223, 'epoch': 0.48}\n"
          ]
        },
        {
          "name": "stderr",
          "output_type": "stream",
          "text": [
            " 67%|██████▋   | 4/6 [00:14<00:07,  3.59s/it]"
          ]
        },
        {
          "name": "stdout",
          "output_type": "stream",
          "text": [
            "{'loss': 0.3937, 'grad_norm': 2.4969165325164795, 'learning_rate': 8e-05, 'rewards/chosen': -0.041617345064878464, 'rewards/rejected': -0.7995076775550842, 'rewards/accuracies': 1.0, 'rewards/margins': 0.7578903436660767, 'logps/rejected': -57.332576751708984, 'logps/chosen': -43.22490692138672, 'logits/rejected': -0.24978813529014587, 'logits/chosen': -0.37703144550323486, 'epoch': 0.64}\n"
          ]
        },
        {
          "name": "stderr",
          "output_type": "stream",
          "text": [
            " 83%|████████▎ | 5/6 [00:18<00:03,  3.61s/it]"
          ]
        },
        {
          "name": "stdout",
          "output_type": "stream",
          "text": [
            "{'loss': 0.2397, 'grad_norm': 1.8346121311187744, 'learning_rate': 4e-05, 'rewards/chosen': 0.21153531968593597, 'rewards/rejected': -1.1212315559387207, 'rewards/accuracies': 1.0, 'rewards/margins': 1.3327670097351074, 'logps/rejected': -62.537227630615234, 'logps/chosen': -35.55278778076172, 'logits/rejected': -0.23163989186286926, 'logits/chosen': -0.26337742805480957, 'epoch': 0.8}\n"
          ]
        },
        {
          "name": "stderr",
          "output_type": "stream",
          "text": [
            "100%|██████████| 6/6 [00:21<00:00,  3.61s/it]"
          ]
        },
        {
          "name": "stdout",
          "output_type": "stream",
          "text": [
            "{'loss': 0.2922, 'grad_norm': 2.238243818283081, 'learning_rate': 0.0, 'rewards/chosen': -0.20596656203269958, 'rewards/rejected': -1.522858738899231, 'rewards/accuracies': 0.875, 'rewards/margins': 1.3168922662734985, 'logps/rejected': -68.4411392211914, 'logps/chosen': -48.29946517944336, 'logits/rejected': -0.21081894636154175, 'logits/chosen': -0.23252210021018982, 'epoch': 0.96}\n"
          ]
        },
        {
          "name": "stderr",
          "output_type": "stream",
          "text": [
            "100%|██████████| 6/6 [00:22<00:00,  3.82s/it]"
          ]
        },
        {
          "name": "stdout",
          "output_type": "stream",
          "text": [
            "{'train_runtime': 22.9156, 'train_samples_per_second': 2.182, 'train_steps_per_second': 0.262, 'train_loss': 0.47796518603960675, 'epoch': 0.96}\n"
          ]
        },
        {
          "name": "stderr",
          "output_type": "stream",
          "text": [
            "\n"
          ]
        },
        {
          "data": {
            "text/plain": [
              "TrainOutput(global_step=6, training_loss=0.47796518603960675, metrics={'train_runtime': 22.9156, 'train_samples_per_second': 2.182, 'train_steps_per_second': 0.262, 'total_flos': 0.0, 'train_loss': 0.47796518603960675, 'epoch': 0.96})"
            ]
          },
          "execution_count": 10,
          "metadata": {},
          "output_type": "execute_result"
        }
      ],
      "source": [
        "dpo_trainer.train()"
      ]
    },
    {
      "cell_type": "markdown",
      "metadata": {
        "id": "I22TanExRI8H"
      },
      "source": [
        "## Get response from the trained model"
      ]
    },
    {
      "cell_type": "code",
      "execution_count": 11,
      "metadata": {
        "id": "PuPGVAquRI8H"
      },
      "outputs": [
        {
          "name": "stderr",
          "output_type": "stream",
          "text": [
            "  0%|          | 0/10 [00:00<?, ?it/s]"
          ]
        },
        {
          "name": "stdout",
          "output_type": "stream",
          "text": [
            "Question 1:\n",
            "真人化是否能改善日本漫畫的全球可及性？\n"
          ]
        },
        {
          "name": "stderr",
          "output_type": "stream",
          "text": [
            " 10%|█         | 1/10 [00:01<00:12,  1.41s/it]"
          ]
        },
        {
          "name": "stdout",
          "output_type": "stream",
          "text": [
            "Response from trained model:\n",
            "真人化可以提高日本漫畫的全球可及性，吸引更多觀眾並拓展市場。\n",
            "\n",
            "Question 2:\n",
            "真人化如何影響年輕一代對日本漫畫的看法？\n"
          ]
        },
        {
          "name": "stderr",
          "output_type": "stream",
          "text": [
            " 20%|██        | 2/10 [00:03<00:14,  1.82s/it]"
          ]
        },
        {
          "name": "stdout",
          "output_type": "stream",
          "text": [
            "Response from trained model:\n",
            "真人化影響年輕一代對日本漫畫的看法，使之更容易理解故事、角色性格，並吸引更多觀眾，促進文化交流。\n",
            "\n",
            "Question 3:\n",
            "真人化是否能提升原作漫畫的文學價值？\n"
          ]
        },
        {
          "name": "stderr",
          "output_type": "stream",
          "text": [
            " 30%|███       | 3/10 [00:06<00:14,  2.14s/it]"
          ]
        },
        {
          "name": "stdout",
          "output_type": "stream",
          "text": [
            "Response from trained model:\n",
            "真人化可以提高原作漫畫的能見度和受歡迎程度，但文學價值主要取決於原作者的故事和文字品質，真人化只是一種呈現方式。\n",
            "\n",
            "Question 4:\n",
            "真人化是否有助於保護和保存日本漫畫的傳統？\n"
          ]
        },
        {
          "name": "stderr",
          "output_type": "stream",
          "text": [
            " 40%|████      | 4/10 [00:08<00:12,  2.11s/it]"
          ]
        },
        {
          "name": "stdout",
          "output_type": "stream",
          "text": [
            "Response from trained model:\n",
            "真人化有助於保護和保存日本漫畫的傳統，因它能吸引更多觀眾、拓展市場、並傳承故事與藝術形式。\n",
            "\n",
            "Question 5:\n",
            "真人化是否有助於提升日本漫畫行業的經濟效益？\n"
          ]
        },
        {
          "name": "stderr",
          "output_type": "stream",
          "text": [
            " 50%|█████     | 5/10 [00:09<00:09,  1.92s/it]"
          ]
        },
        {
          "name": "stdout",
          "output_type": "stream",
          "text": [
            "Response from trained model:\n",
            "真人化可以提高日本漫畫行業的經濟效益，吸引更多觀眾、拓展市場、增加收入來源。\n",
            "\n",
            "Question 6:\n",
            "真人化如何影響日本漫畫原作者的創作動力？\n"
          ]
        },
        {
          "name": "stderr",
          "output_type": "stream",
          "text": [
            " 60%|██████    | 6/10 [00:12<00:08,  2.10s/it]"
          ]
        },
        {
          "name": "stdout",
          "output_type": "stream",
          "text": [
            "Response from trained model:\n",
            "真人化可以提高日本漫畫原作者的知名度和收入，刺激創作動力，並提供不同的挑戰和學習機會。然而，個人感受和影響可能各異。\n",
            "\n",
            "Question 7:\n",
            "真人化是否對漫畫原作的忠實粉絲公平？\n"
          ]
        },
        {
          "name": "stderr",
          "output_type": "stream",
          "text": [
            " 70%|███████   | 7/10 [00:15<00:07,  2.45s/it]"
          ]
        },
        {
          "name": "stdout",
          "output_type": "stream",
          "text": [
            "Response from trained model:\n",
            "真人化可以為忠實的漫畫原作的粉絲提供新的體驗方式，但個人喜好和期待可能不同。真人化可能帶來不同的詮釋和變化，但忠實的粉絲通常會尊重和欣賞不同的詮釋方式。\n",
            "\n",
            "Question 8:\n",
            "真人化是否能夠促進日本漫畫的創新和多樣性？\n"
          ]
        },
        {
          "name": "stderr",
          "output_type": "stream",
          "text": [
            " 80%|████████  | 8/10 [00:18<00:05,  2.54s/it]"
          ]
        },
        {
          "name": "stdout",
          "output_type": "stream",
          "text": [
            "Response from trained model:\n",
            "真人化可以促進日本漫畫的創新和多樣性，因它能吸引更多觀眾、拓展市場、並提供不同形式的創作。然而，平衡商業利益與藝術表現是關鍵。\n",
            "\n",
            "Question 9:\n",
            "真人化是否有助於擴大動漫文化的市場份額？\n"
          ]
        },
        {
          "name": "stderr",
          "output_type": "stream",
          "text": [
            " 90%|█████████ | 9/10 [00:20<00:02,  2.41s/it]"
          ]
        },
        {
          "name": "stdout",
          "output_type": "stream",
          "text": [
            "Response from trained model:\n",
            "真人化有助於擴大動漫文化的市場份額，因它能吸引更多非動漫迷觀眾，拓展受眾群，並促進跨文化交流。\n",
            "\n",
            "Question 10:\n",
            "真人化是否有助於提高日本漫畫在全球的競爭力？\n"
          ]
        },
        {
          "name": "stderr",
          "output_type": "stream",
          "text": [
            "100%|██████████| 10/10 [00:22<00:00,  2.21s/it]"
          ]
        },
        {
          "name": "stdout",
          "output_type": "stream",
          "text": [
            "Response from trained model:\n",
            "真人化可以提高日本漫畫在全球的競爭力，因它能吸引更多觀眾、拓展市場、增加收入和影響力。\n",
            "\n"
          ]
        },
        {
          "name": "stderr",
          "output_type": "stream",
          "text": [
            "\n"
          ]
        }
      ],
      "source": [
        "trained_model_response = []\n",
        "for data in tqdm(test_data):\n",
        "    id = data['id']\n",
        "    print(f'Question {id}:\\n'+data['prompt'])\n",
        "    inputs = tokenizer(data_formulate(data), return_tensors=\"pt\").to('cuda')\n",
        "    generation_config=GenerationConfig(\n",
        "            do_sample=False,\n",
        "            max_new_tokens = 200,\n",
        "            pad_token_id = tokenizer.pad_token_id\n",
        "    )\n",
        "    output = model.generate(**inputs, generation_config=generation_config)\n",
        "    output = tokenizer.batch_decode(output, skip_special_tokens=True)[0].split('[/INST] ')[1]\n",
        "    trained_model_response.append(output)\n",
        "    print('Response from trained model:\\n'+output+'\\n')"
      ]
    },
    {
      "cell_type": "markdown",
      "metadata": {
        "id": "Qe-PtYZMRI8I"
      },
      "source": [
        "## Please observe the output of this block to complete your report, and don't forget to take a screenshot of the results"
      ]
    },
    {
      "cell_type": "code",
      "execution_count": 12,
      "metadata": {
        "id": "1i0wI6rLRI8I"
      },
      "outputs": [
        {
          "name": "stdout",
          "output_type": "stream",
          "text": [
            "num_epoch: 1\n",
            "data_size: 50\n",
            "support_ratio: 1\n",
            "\n",
            "Question 1:\n",
            "真人化是否能改善日本漫畫的全球可及性？\n",
            "Response from original model:\n",
            "真人化可能會提高日本漫畫的全球可及性，因真人版電影或劇集可以吸引更多非漫畫讀者的注意，並提供不同的體驗。然而，這取決於真人化作品的品質、行銷策略和市場接受度。\n",
            "Response from trained model:\n",
            "真人化可以提高日本漫畫的全球可及性，吸引更多觀眾並拓展市場。\n",
            "\n",
            "Question 2:\n",
            "真人化如何影響年輕一代對日本漫畫的看法？\n",
            "Response from original model:\n",
            "真人化可能會影響年輕一代對日本漫畫的看法，使他們更容易接受和理解故事和角色，並吸引更多人關注和支持日本漫畫文化。然而，個人喜好和文化差異可能導致不同的影響。\n",
            "Response from trained model:\n",
            "真人化影響年輕一代對日本漫畫的看法，使之更容易理解故事、角色性格，並吸引更多觀眾，促進文化交流。\n",
            "\n",
            "Question 3:\n",
            "真人化是否能提升原作漫畫的文學價值？\n",
            "Response from original model:\n",
            "真人化可能會提升原作漫畫的知名度和影響力，但文學價值本身可能因個人喜好和文化差異而異。真人化可能帶來更多觀眾，但文學價值取決於原作的故事、人物和主題，而非真人化形式。\n",
            "Response from trained model:\n",
            "真人化可以提高原作漫畫的能見度和受歡迎程度，但文學價值主要取決於原作者的故事和文字品質，真人化只是一種呈現方式。\n",
            "\n",
            "Question 4:\n",
            "真人化是否有助於保護和保存日本漫畫的傳統？\n",
            "Response from original model:\n",
            "真人化可能有助於提高日本漫畫的知名度和吸引更多觀眾，但是否真正保護和保存傳統尚需視真人化作品是否尊重原作精神和文化價值。\n",
            "Response from trained model:\n",
            "真人化有助於保護和保存日本漫畫的傳統，因它能吸引更多觀眾、拓展市場、並傳承故事與藝術形式。\n",
            "\n",
            "Question 5:\n",
            "真人化是否有助於提升日本漫畫行業的經濟效益？\n",
            "Response from original model:\n",
            "真人化可能有助於提升日本漫畫行業的經濟效益，因真人版電影或劇集可以吸引更多觀眾，增加收入來源。然而，成功與否取決於作品的品質、行銷策略和市場接受度。\n",
            "Response from trained model:\n",
            "真人化可以提高日本漫畫行業的經濟效益，吸引更多觀眾、拓展市場、增加收入來源。\n",
            "\n",
            "Question 6:\n",
            "真人化如何影響日本漫畫原作者的創作動力？\n",
            "Response from original model:\n",
            "真人化可能會影響日本漫畫原作者的創作動力，因真人版可能帶來新的靈感、挑戰，或提供機會與不同領域的合作。然而，最終影響因人而異，有些作者可能因真人化而更投入創作，而其他人可能因個人喜好或需求而受影響。\n",
            "Response from trained model:\n",
            "真人化可以提高日本漫畫原作者的知名度和收入，刺激創作動力，並提供不同的挑戰和學習機會。然而，個人感受和影響可能各異。\n",
            "\n",
            "Question 7:\n",
            "真人化是否對漫畫原作的忠實粉絲公平？\n",
            "Response from original model:\n",
            "真人化可能會影響忠實的漫畫原作粉絲，因真人版可能有不同的故事改編、角色設定或表現方式，但個人喜好不同，仍有可能欣賞。\n",
            "Response from trained model:\n",
            "真人化可以為忠實的漫畫原作的粉絲提供新的體驗方式，但個人喜好和期待可能不同。真人化可能帶來不同的詮釋和變化，但忠實的粉絲通常會尊重和欣賞不同的詮釋方式。\n",
            "\n",
            "Question 8:\n",
            "真人化是否能夠促進日本漫畫的創新和多樣性？\n",
            "Response from original model:\n",
            "真人化可能促進日本漫畫的創新和多樣性，因真人版電影或劇集可以吸引新觀眾群，並提供不同的故事表現方式。然而，過度的真人化或商業化可能限制創意和多元性。平衡點須考慮。\n",
            "Response from trained model:\n",
            "真人化可以促進日本漫畫的創新和多樣性，因它能吸引更多觀眾、拓展市場、並提供不同形式的創作。然而，平衡商業利益與藝術表現是關鍵。\n",
            "\n",
            "Question 9:\n",
            "真人化是否有助於擴大動漫文化的市場份額？\n",
            "Response from original model:\n",
            "真人化可能有助於擴大動漫文化的市場份額，因它能吸引更多非動漫迷觀眾，並提高大眾對動漫文化的認識與接受度。然而，成功與否仍取決於作品品質、行銷策略和市場接受程度。\n",
            "Response from trained model:\n",
            "真人化有助於擴大動漫文化的市場份額，因它能吸引更多非動漫迷觀眾，拓展受眾群，並促進跨文化交流。\n",
            "\n",
            "Question 10:\n",
            "真人化是否有助於提高日本漫畫在全球的競爭力？\n",
            "Response from original model:\n",
            "真人化可能有助於提高日本漫畫在全球的競爭力，因它能吸引更多觀眾並拓展市場，但同時也可能限制原創性，影響日本漫畫的獨特性。\n",
            "Response from trained model:\n",
            "真人化可以提高日本漫畫在全球的競爭力，因它能吸引更多觀眾、拓展市場、增加收入和影響力。\n",
            "\n"
          ]
        }
      ],
      "source": [
        "model_response = []\n",
        "print(f'num_epoch: {num_epoch}\\ndata_size: {data_size}\\nsupport_ratio: {support_ratio}')\n",
        "print()\n",
        "for data in test_data:\n",
        "    id = data['id']\n",
        "    ref_output = original_model_response[id-1]\n",
        "    output = trained_model_response[id-1]\n",
        "    print(f'Question {id}:\\n'+data['prompt'])\n",
        "    print('Response from original model:\\n'+ref_output)\n",
        "    print('Response from trained model:\\n'+output)\n",
        "    print()\n",
        "    model_response.append({'id':data['id'], 'prompt':data['prompt'], 'response_from_original_model':ref_output, 'response_from_trained_model':output})"
      ]
    },
    {
      "cell_type": "markdown",
      "metadata": {
        "id": "a0FHblUvRI8I"
      },
      "source": [
        "## Get the output file"
      ]
    },
    {
      "cell_type": "code",
      "execution_count": 13,
      "metadata": {
        "id": "owGIuqdnRI8I"
      },
      "outputs": [],
      "source": [
        "with open(f\"epoch-{num_epoch}_size-{data_size}_ratio-{support_ratio}.json\", \"w\", encoding='UTF-8') as outfile:\n",
        "    json.dump(model_response, outfile, indent=4, ensure_ascii=False)"
      ]
    }
  ],
  "metadata": {
    "accelerator": "GPU",
    "colab": {
      "gpuType": "T4",
      "provenance": []
    },
    "kaggle": {
      "accelerator": "gpu",
      "dataSources": [
        {
          "datasetId": 4412564,
          "sourceId": 7580251,
          "sourceType": "datasetVersion"
        }
      ],
      "dockerImageVersionId": 30636,
      "isGpuEnabled": true,
      "isInternetEnabled": true,
      "language": "python",
      "sourceType": "notebook"
    },
    "kernelspec": {
      "display_name": "llm",
      "language": "python",
      "name": "python3"
    },
    "language_info": {
      "codemirror_mode": {
        "name": "ipython",
        "version": 3
      },
      "file_extension": ".py",
      "mimetype": "text/x-python",
      "name": "python",
      "nbconvert_exporter": "python",
      "pygments_lexer": "ipython3",
      "version": "3.9.21"
    }
  },
  "nbformat": 4,
  "nbformat_minor": 0
}
