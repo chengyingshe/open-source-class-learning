{
  "cells": [
    {
      "cell_type": "markdown",
      "metadata": {
        "id": "KnSzY2OlRI79"
      },
      "source": [
        "# GenAI HW6: LLM Values Alignment\n",
        "## Objectives\n",
        "- Learn how to align a model's behavior using labelled preference data.\n",
        "\n",
        "If you have any questions, please contact the TAs via TA hours, NTU COOL, or email to ntu-gen-ai-2024-spring-ta@googlegroups.com"
      ]
    },
    {
      "cell_type": "markdown",
      "metadata": {
        "id": "QcXimb2YRI8A"
      },
      "source": [
        "## Install and import necessary libraries  (~2 min)\n",
        "### Ignore the warning if the blockes finish successfully."
      ]
    },
    {
      "cell_type": "code",
      "execution_count": 1,
      "metadata": {
        "colab": {
          "background_save": true,
          "base_uri": "https://localhost:8080/"
        },
        "collapsed": true,
        "id": "KKggQtnTRI8B",
        "outputId": "11b02b19-13e7-4f6c-c7c7-a584fc8e9450"
      },
      "outputs": [
        {
          "name": "stdout",
          "output_type": "stream",
          "text": [
            "^C\n",
            "\u001b[31mERROR: Operation cancelled by user\u001b[0m\u001b[31m\n",
            "\u001b[0m"
          ]
        }
      ],
      "source": [
        "!pip install -q bitsandbytes==0.43.1 datasets==2.19.0 peft==0.10.0 trl==0.8.6 accelerate==0.29.3"
      ]
    },
    {
      "cell_type": "markdown",
      "metadata": {
        "id": "nhR0gJZBRI8D"
      },
      "source": [
        "## Load dataset"
      ]
    },
    {
      "cell_type": "code",
      "execution_count": 4,
      "metadata": {
        "colab": {
          "background_save": true
        },
        "id": "-jHgIOYc9sA5",
        "outputId": "ebaf667d-1397-45a2-e860-e5774b132061"
      },
      "outputs": [
        {
          "name": "stdout",
          "output_type": "stream",
          "text": [
            "fatal: 目标路径 'GenAI_hw6_dataset' 已经存在，并且不是一个空目录。\n"
          ]
        }
      ],
      "source": [
        "!git clone https://github.com/Baiiiiiiiiii/GenAI_hw6_dataset.git"
      ]
    },
    {
      "cell_type": "markdown",
      "metadata": {},
      "source": [
        "## Import Packages"
      ]
    },
    {
      "cell_type": "code",
      "execution_count": 1,
      "metadata": {
        "colab": {
          "background_save": true
        },
        "id": "7Nxtm9AqRI8C"
      },
      "outputs": [
        {
          "name": "stderr",
          "output_type": "stream",
          "text": [
            "/home/scy/anaconda3/envs/llm/lib/python3.11/site-packages/tqdm/auto.py:21: TqdmWarning: IProgress not found. Please update jupyter and ipywidgets. See https://ipywidgets.readthedocs.io/en/stable/user_install.html\n",
            "  from .autonotebook import tqdm as notebook_tqdm\n"
          ]
        }
      ],
      "source": [
        "import os\n",
        "import torch\n",
        "import re\n",
        "import json\n",
        "import gdown\n",
        "from datasets import Dataset\n",
        "import pandas as pd\n",
        "from peft import LoraConfig\n",
        "from transformers import AutoModelForCausalLM, AutoTokenizer, TrainingArguments, BitsAndBytesConfig, GenerationConfig\n",
        "from tqdm.auto import tqdm\n",
        "from trl import DPOTrainer"
      ]
    },
    {
      "cell_type": "code",
      "execution_count": 2,
      "metadata": {
        "colab": {
          "background_save": true
        },
        "id": "1OmziTQ9RI8D"
      },
      "outputs": [],
      "source": [
        "# Open and load the json dataset\n",
        "with open(\"./GenAI_hw6_dataset/labelled_data.json\", 'r') as jsonfile:\n",
        "    full_data = json.load(jsonfile)\n",
        "\n",
        "with open(\"./GenAI_hw6_dataset/test_prompt.json\", 'r') as jsonfile:\n",
        "    test_data = json.load(jsonfile)"
      ]
    },
    {
      "cell_type": "markdown",
      "metadata": {
        "id": "hJgIZhNiRI8E"
      },
      "source": [
        "## Load model"
      ]
    },
    {
      "cell_type": "code",
      "execution_count": 3,
      "metadata": {
        "id": "M2VqCkEXRI8E"
      },
      "outputs": [
        {
          "name": "stderr",
          "output_type": "stream",
          "text": [
            "Loading checkpoint shards: 100%|██████████| 2/2 [00:06<00:00,  3.42s/it]\n"
          ]
        }
      ],
      "source": [
        "model = AutoModelForCausalLM.from_pretrained(\n",
        "    'MediaTek-Research/Breeze-7B-Instruct-v0_1',\n",
        "    device_map='auto',\n",
        "    trust_remote_code=True,\n",
        "    quantization_config=BitsAndBytesConfig(\n",
        "        load_in_4bit=True,\n",
        "        bnb_4bit_compute_dtype=torch.bfloat16,\n",
        "        bnb_4bit_use_double_quant=True,\n",
        "        bnb_4bit_quant_type='nf4'\n",
        "    )\n",
        ")"
      ]
    },
    {
      "cell_type": "markdown",
      "metadata": {
        "id": "-6fTJw9BRI8F"
      },
      "source": [
        "## Get response from the original model"
      ]
    },
    {
      "cell_type": "code",
      "execution_count": null,
      "metadata": {
        "collapsed": true,
        "id": "P1nkgCcCRI8F"
      },
      "outputs": [
        {
          "name": "stderr",
          "output_type": "stream",
          "text": [
            "  0%|          | 0/10 [00:00<?, ?it/s]"
          ]
        },
        {
          "name": "stdout",
          "output_type": "stream",
          "text": [
            "Question 1:\n",
            "真人化是否能改善日本漫畫的全球可及性？\n"
          ]
        },
        {
          "name": "stderr",
          "output_type": "stream",
          "text": [
            "Starting from v4.46, the `logits` model output will have the same type as the model (except at train time, where it will always be FP32)\n",
            " 10%|█         | 1/10 [00:03<00:30,  3.40s/it]"
          ]
        },
        {
          "name": "stdout",
          "output_type": "stream",
          "text": [
            "Response from original model:\n",
            "真人化可能會提高日本漫畫的全球可及性，因真人版電影或劇集可以吸引更多非漫畫讀者的注意，並提供不同的體驗。然而，這取決於真人化作品的品質、行銷策略和市場接受度。\n",
            "\n",
            "Question 2:\n",
            "真人化如何影響年輕一代對日本漫畫的看法？\n"
          ]
        },
        {
          "name": "stderr",
          "output_type": "stream",
          "text": [
            " 20%|██        | 2/10 [00:06<00:24,  3.07s/it]"
          ]
        },
        {
          "name": "stdout",
          "output_type": "stream",
          "text": [
            "Response from original model:\n",
            "真人化可能會影響年輕一代對日本漫畫的看法，使他們更容易接受和理解故事和角色，並吸引更多人關注和支持日本漫畫文化。然而，個人喜好和文化差異可能導致不同的影響。\n",
            "\n",
            "Question 3:\n",
            "真人化是否能提升原作漫畫的文學價值？\n"
          ]
        },
        {
          "name": "stderr",
          "output_type": "stream",
          "text": [
            " 30%|███       | 3/10 [00:09<00:22,  3.14s/it]"
          ]
        },
        {
          "name": "stdout",
          "output_type": "stream",
          "text": [
            "Response from original model:\n",
            "真人化可能會提升原作漫畫的知名度和影響力，但文學價值本身可能因個人喜好和文化差異而異。真人化可能帶來更多觀眾，但文學價值取決於原作的故事、人物和主題，而非真人化形式。\n",
            "\n",
            "Question 4:\n",
            "真人化是否有助於保護和保存日本漫畫的傳統？\n"
          ]
        },
        {
          "name": "stderr",
          "output_type": "stream",
          "text": [
            " 40%|████      | 4/10 [00:11<00:16,  2.81s/it]"
          ]
        },
        {
          "name": "stdout",
          "output_type": "stream",
          "text": [
            "Response from original model:\n",
            "真人化可能有助於提高日本漫畫的知名度和吸引更多觀眾，但是否真正保護和保存傳統尚需視真人化作品是否尊重原作精神和文化價值。\n",
            "\n",
            "Question 5:\n",
            "真人化是否有助於提升日本漫畫行業的經濟效益？\n"
          ]
        },
        {
          "name": "stderr",
          "output_type": "stream",
          "text": [
            " 50%|█████     | 5/10 [00:14<00:14,  2.81s/it]"
          ]
        }
      ],
      "source": [
        "tokenizer = AutoTokenizer.from_pretrained('MediaTek-Research/Breeze-7B-Instruct-v0_1')\n",
        "tokenizer.padding_side = \"right\"\n",
        "tokenizer.pad_token = tokenizer.eos_token\n",
        "\n",
        "def data_formulate(data):\n",
        "    messages = [\n",
        "        {\"role\": \"system\", \"content\": '回覆請少於20字'},\n",
        "        {\"role\": \"user\", \"content\": data['prompt']},\n",
        "    ]\n",
        "    prompt = tokenizer.apply_chat_template(messages, tokenize=False, add_generation_prompt=True)\n",
        "    return prompt\n",
        "\n",
        "original_model_response = []\n",
        "for data in tqdm(test_data):\n",
        "    id = data['id']\n",
        "    print(f'Question {id}:\\n'+data['prompt'])\n",
        "    inputs = tokenizer(data_formulate(data), return_tensors=\"pt\").to('cuda')\n",
        "    generation_config=GenerationConfig(\n",
        "            do_sample=False,\n",
        "            max_new_tokens = 200,\n",
        "            pad_token_id = tokenizer.pad_token_id\n",
        "    )\n",
        "    output = model.generate(**inputs, generation_config=generation_config)\n",
        "    output = tokenizer.batch_decode(output, skip_special_tokens=True)[0].split('[/INST] ')[1]\n",
        "    original_model_response.append(output)\n",
        "    print('Response from original model:\\n'+output+'\\n')"
      ]
    },
    {
      "cell_type": "markdown",
      "metadata": {
        "id": "c6bav5VuRI8C"
      },
      "source": [
        "## Set parameters\n",
        "### You only need to modify this block. Please don’t alter any other parts."
      ]
    },
    {
      "cell_type": "code",
      "execution_count": null,
      "metadata": {
        "id": "Rbc-x1aKRI8D"
      },
      "outputs": [],
      "source": [
        "num_epoch = 1  # 1\n",
        "data_size = 50\n",
        "support_ratio = 1"
      ]
    },
    {
      "cell_type": "markdown",
      "metadata": {
        "id": "pSA2fmpEK1nW"
      },
      "source": [
        "## Prepare training data"
      ]
    },
    {
      "cell_type": "code",
      "execution_count": null,
      "metadata": {
        "id": "0cjz12h8KsnV"
      },
      "outputs": [
        {
          "data": {
            "text/html": [
              "<div>\n",
              "<style scoped>\n",
              "    .dataframe tbody tr th:only-of-type {\n",
              "        vertical-align: middle;\n",
              "    }\n",
              "\n",
              "    .dataframe tbody tr th {\n",
              "        vertical-align: top;\n",
              "    }\n",
              "\n",
              "    .dataframe thead th {\n",
              "        text-align: right;\n",
              "    }\n",
              "</style>\n",
              "<table border=\"1\" class=\"dataframe\">\n",
              "  <thead>\n",
              "    <tr style=\"text-align: right;\">\n",
              "      <th></th>\n",
              "      <th>prompt</th>\n",
              "      <th>position</th>\n",
              "      <th>preferred</th>\n",
              "      <th>non-preferred</th>\n",
              "    </tr>\n",
              "  </thead>\n",
              "  <tbody>\n",
              "    <tr>\n",
              "      <th>0</th>\n",
              "      <td>&lt;s&gt;回覆請少於20字   [INST] 日本動漫真人化是否有損原作形象？ [/INST]</td>\n",
              "      <td>support</td>\n",
              "      <td>真人化能夠呈現更真實的角色形象，提升原作魅力。</td>\n",
              "      <td>真人化可能無法完美呈現動畫中的獨特風格，損害原作形象。</td>\n",
              "    </tr>\n",
              "    <tr>\n",
              "      <th>1</th>\n",
              "      <td>&lt;s&gt;回覆請少於20字   [INST] 真人化是否能夠擴大動漫在全球的影響力？ [/INST]</td>\n",
              "      <td>support</td>\n",
              "      <td>真人化能夠讓更多非動漫迷接觸作品，擴大影響力。</td>\n",
              "      <td>真人化可能失去動漫的獨特風格，限制影響力擴大。</td>\n",
              "    </tr>\n",
              "    <tr>\n",
              "      <th>2</th>\n",
              "      <td>&lt;s&gt;回覆請少於20字   [INST] 真人化是否能夠吸引新觀眾？ [/INST]</td>\n",
              "      <td>support</td>\n",
              "      <td>真人化能夠吸引不熟悉動漫的觀眾，擴大受眾。</td>\n",
              "      <td>真人化可能讓原本的動漫迷感到失望，無法吸引新觀眾。</td>\n",
              "    </tr>\n",
              "    <tr>\n",
              "      <th>3</th>\n",
              "      <td>&lt;s&gt;回覆請少於20字   [INST] 真人化是否能夠保留原作故事情節的精髓？ [/INST]</td>\n",
              "      <td>support</td>\n",
              "      <td>真人化有機會更深入挖掘原作故事，保留精髓。</td>\n",
              "      <td>真人化可能因為改編而失去原作故事的深度與精髓。</td>\n",
              "    </tr>\n",
              "    <tr>\n",
              "      <th>4</th>\n",
              "      <td>&lt;s&gt;回覆請少於20字   [INST] 真人化是否能夠提升動漫產業的商業價值？ [/INST]</td>\n",
              "      <td>support</td>\n",
              "      <td>真人化能夠開拓更多商業機會，提升產業價值。</td>\n",
              "      <td>真人化可能讓觀眾對原作失去興趣，影響產業價值。</td>\n",
              "    </tr>\n",
              "    <tr>\n",
              "      <th>5</th>\n",
              "      <td>&lt;s&gt;回覆請少於20字   [INST] 真人化是否能夠保持原作的文化特色？ [/INST]</td>\n",
              "      <td>support</td>\n",
              "      <td>真人化可以透過場景、服裝等元素保留文化特色。</td>\n",
              "      <td>真人化可能因為文化差異而失去原作獨有的文化魅力。</td>\n",
              "    </tr>\n",
              "    <tr>\n",
              "      <th>6</th>\n",
              "      <td>&lt;s&gt;回覆請少於20字   [INST] 真人化是否能夠挑戰技術上的新突破？ [/INST]</td>\n",
              "      <td>support</td>\n",
              "      <td>真人化促使技術創新，挑戰視覺效果上的新高度。</td>\n",
              "      <td>真人化可能因為技術限制而無法達到動畫中的視覺效果。</td>\n",
              "    </tr>\n",
              "    <tr>\n",
              "      <th>7</th>\n",
              "      <td>&lt;s&gt;回覆請少於20字   [INST] 真人化是否會受到演員選擇的爭議？ [/INST]</td>\n",
              "      <td>support</td>\n",
              "      <td>演員選擇可因應市場需求，不必受限於動畫形象。</td>\n",
              "      <td>演員選擇可能引起爭議，觀眾難以接受角色塑造。</td>\n",
              "    </tr>\n",
              "    <tr>\n",
              "      <th>8</th>\n",
              "      <td>&lt;s&gt;回覆請少於20字   [INST] 真人化是否能夠提高動漫的社會認同度？ [/INST]</td>\n",
              "      <td>support</td>\n",
              "      <td>真人化有機會讓更多人接受動漫，提高社會認同度。</td>\n",
              "      <td>真人化可能因為劇情改編而無法贏得社會認同。</td>\n",
              "    </tr>\n",
              "    <tr>\n",
              "      <th>9</th>\n",
              "      <td>&lt;s&gt;回覆請少於20字   [INST] 真人化是否能夠保留原作角色的個性特色？ [/INST]</td>\n",
              "      <td>support</td>\n",
              "      <td>真人化可以透過演員表現保留角色的個性特色。</td>\n",
              "      <td>真人化可能因演員演技或導演選擇而失去角色的原有特色。</td>\n",
              "    </tr>\n",
              "  </tbody>\n",
              "</table>\n",
              "</div>"
            ],
            "text/plain": [
              "                                              prompt position  \\\n",
              "0     <s>回覆請少於20字   [INST] 日本動漫真人化是否有損原作形象？ [/INST]   support   \n",
              "1  <s>回覆請少於20字   [INST] 真人化是否能夠擴大動漫在全球的影響力？ [/INST]   support   \n",
              "2        <s>回覆請少於20字   [INST] 真人化是否能夠吸引新觀眾？ [/INST]   support   \n",
              "3  <s>回覆請少於20字   [INST] 真人化是否能夠保留原作故事情節的精髓？ [/INST]   support   \n",
              "4  <s>回覆請少於20字   [INST] 真人化是否能夠提升動漫產業的商業價值？ [/INST]   support   \n",
              "5    <s>回覆請少於20字   [INST] 真人化是否能夠保持原作的文化特色？ [/INST]   support   \n",
              "6    <s>回覆請少於20字   [INST] 真人化是否能夠挑戰技術上的新突破？ [/INST]   support   \n",
              "7     <s>回覆請少於20字   [INST] 真人化是否會受到演員選擇的爭議？ [/INST]   support   \n",
              "8   <s>回覆請少於20字   [INST] 真人化是否能夠提高動漫的社會認同度？ [/INST]   support   \n",
              "9  <s>回覆請少於20字   [INST] 真人化是否能夠保留原作角色的個性特色？ [/INST]   support   \n",
              "\n",
              "                 preferred                non-preferred  \n",
              "0  真人化能夠呈現更真實的角色形象，提升原作魅力。  真人化可能無法完美呈現動畫中的獨特風格，損害原作形象。  \n",
              "1  真人化能夠讓更多非動漫迷接觸作品，擴大影響力。      真人化可能失去動漫的獨特風格，限制影響力擴大。  \n",
              "2    真人化能夠吸引不熟悉動漫的觀眾，擴大受眾。    真人化可能讓原本的動漫迷感到失望，無法吸引新觀眾。  \n",
              "3    真人化有機會更深入挖掘原作故事，保留精髓。      真人化可能因為改編而失去原作故事的深度與精髓。  \n",
              "4    真人化能夠開拓更多商業機會，提升產業價值。      真人化可能讓觀眾對原作失去興趣，影響產業價值。  \n",
              "5   真人化可以透過場景、服裝等元素保留文化特色。     真人化可能因為文化差異而失去原作獨有的文化魅力。  \n",
              "6   真人化促使技術創新，挑戰視覺效果上的新高度。    真人化可能因為技術限制而無法達到動畫中的視覺效果。  \n",
              "7   演員選擇可因應市場需求，不必受限於動畫形象。       演員選擇可能引起爭議，觀眾難以接受角色塑造。  \n",
              "8  真人化有機會讓更多人接受動漫，提高社會認同度。        真人化可能因為劇情改編而無法贏得社會認同。  \n",
              "9    真人化可以透過演員表現保留角色的個性特色。   真人化可能因演員演技或導演選擇而失去角色的原有特色。  "
            ]
          },
          "execution_count": 6,
          "metadata": {},
          "output_type": "execute_result"
        }
      ],
      "source": [
        "# Select part of the data for training\n",
        "training_data = full_data[:data_size]\n",
        "\n",
        "# Define the size of the support dataset\n",
        "support_data_size = int(data_size * support_ratio)\n",
        "\n",
        "# Prepare the data for the training dataset\n",
        "prompt_list = [data_formulate(data) for data in training_data]\n",
        "chosen_list = [data['support'] for data in training_data[:support_data_size]] + [data['oppose'] for data in training_data[support_data_size:]]\n",
        "rejected_list = [data['oppose'] for data in training_data[:support_data_size]] + [data['support'] for data in training_data[support_data_size:]]\n",
        "position_list = ['support' for _ in range(support_data_size)] + ['oppose' for _ in range(data_size - support_data_size)]\n",
        "\n",
        "# Create the training dataset\n",
        "train_dataset = Dataset.from_dict({'prompt': prompt_list, 'position': position_list, 'chosen': chosen_list, 'rejected': rejected_list})\n",
        "pd.DataFrame(train_dataset).rename(columns={\"chosen\": \"preferred\", \"rejected\": \"non-preferred\"})"
      ]
    },
    {
      "cell_type": "markdown",
      "metadata": {
        "id": "IIBhiTYQRI8F"
      },
      "source": [
        "## Training"
      ]
    },
    {
      "cell_type": "code",
      "execution_count": null,
      "metadata": {
        "id": "NPd6nrnBRI8F"
      },
      "outputs": [],
      "source": [
        "training_args = TrainingArguments(\n",
        "    output_dir='./',\n",
        "    per_device_train_batch_size=1,\n",
        "    num_train_epochs=num_epoch,\n",
        "    gradient_accumulation_steps=8,\n",
        "    gradient_checkpointing=False,\n",
        "    learning_rate=2e-4,\n",
        "    optim=\"paged_adamw_8bit\",\n",
        "    logging_steps = 1,\n",
        "    warmup_ratio = 0.1,\n",
        "    report_to = 'none'\n",
        ")"
      ]
    },
    {
      "cell_type": "code",
      "execution_count": null,
      "metadata": {
        "id": "AdsDp5rkRI8G"
      },
      "outputs": [],
      "source": [
        "peft_config = LoraConfig(\n",
        "    lora_alpha=16,\n",
        "    lora_dropout=0.1,\n",
        "    r=64,\n",
        "    bias=\"none\",\n",
        "    task_type=\"CAUSAL_LM\",\n",
        ")"
      ]
    },
    {
      "cell_type": "code",
      "execution_count": null,
      "metadata": {
        "id": "Qi5le-IQRI8G"
      },
      "outputs": [
        {
          "name": "stderr",
          "output_type": "stream",
          "text": [
            "/home/scy/anaconda3/envs/llm/lib/python3.11/site-packages/trl/trainer/dpo_trainer.py:300: UserWarning: `max_length` is not set in the DPOTrainer's init it will default to `512` by default, but you should do it yourself in the future.\n",
            "  warnings.warn(\n",
            "/home/scy/anaconda3/envs/llm/lib/python3.11/site-packages/trl/trainer/dpo_trainer.py:307: UserWarning: `max_prompt_length` is not set in the DPOTrainer's init it will default to `128` by default, but you should do it yourself in the future.\n",
            "  warnings.warn(\n",
            "/home/scy/anaconda3/envs/llm/lib/python3.11/site-packages/trl/trainer/dpo_trainer.py:332: UserWarning: When using DPODataCollatorWithPadding, you should set `remove_unused_columns=False` in your TrainingArguments we have set it for you, but you should do it yourself in the future.\n",
            "  warnings.warn(\n",
            "Map: 100%|██████████| 10/10 [00:00<00:00, 956.56 examples/s]\n"
          ]
        }
      ],
      "source": [
        "dpo_trainer = DPOTrainer(\n",
        "    model,\n",
        "    args=training_args,\n",
        "    beta=0.1,\n",
        "    train_dataset=train_dataset,\n",
        "    tokenizer=tokenizer,\n",
        "    peft_config=peft_config,\n",
        ")"
      ]
    },
    {
      "cell_type": "code",
      "execution_count": null,
      "metadata": {
        "id": "WzUnqb40RI8H"
      },
      "outputs": [
        {
          "name": "stderr",
          "output_type": "stream",
          "text": [
            "  0%|          | 0/3 [00:00<?, ?it/s]Could not estimate the number of tokens of the input, floating-point operations will not be computed\n",
            " 33%|███▎      | 1/3 [00:03<00:06,  3.47s/it]"
          ]
        },
        {
          "name": "stdout",
          "output_type": "stream",
          "text": [
            "{'loss': 0.6931, 'grad_norm': 3.509688138961792, 'learning_rate': 0.0002, 'rewards/chosen': 0.0, 'rewards/rejected': 0.0, 'rewards/accuracies': 0.0, 'rewards/margins': 0.0, 'logps/rejected': -50.23879623413086, 'logps/chosen': -41.871788024902344, 'logits/rejected': -0.3050101697444916, 'logits/chosen': -0.38764747977256775, 'epoch': 0.8}\n"
          ]
        },
        {
          "name": "stderr",
          "output_type": "stream",
          "text": [
            " 67%|██████▋   | 2/3 [00:06<00:03,  3.41s/it]"
          ]
        },
        {
          "name": "stdout",
          "output_type": "stream",
          "text": [
            "{'loss': 0.6931, 'grad_norm': 3.7032129764556885, 'learning_rate': 0.0001, 'rewards/chosen': 0.0, 'rewards/rejected': 0.0, 'rewards/accuracies': 0.0, 'rewards/margins': 0.0, 'logps/rejected': -51.70563888549805, 'logps/chosen': -44.04267501831055, 'logits/rejected': -0.309154748916626, 'logits/chosen': -0.3647148013114929, 'epoch': 1.6}\n"
          ]
        },
        {
          "name": "stderr",
          "output_type": "stream",
          "text": [
            "100%|██████████| 3/3 [00:10<00:00,  3.42s/it]"
          ]
        },
        {
          "name": "stdout",
          "output_type": "stream",
          "text": [
            "{'loss': 0.3167, 'grad_norm': 2.78055477142334, 'learning_rate': 0.0, 'rewards/chosen': 0.3809282183647156, 'rewards/rejected': -0.7297425866127014, 'rewards/accuracies': 1.0, 'rewards/margins': 1.110670804977417, 'logps/rejected': -57.246177673339844, 'logps/chosen': -45.69913101196289, 'logits/rejected': -0.2910057306289673, 'logits/chosen': -0.3661591410636902, 'epoch': 2.4}\n"
          ]
        },
        {
          "name": "stderr",
          "output_type": "stream",
          "text": [
            "100%|██████████| 3/3 [00:11<00:00,  3.73s/it]"
          ]
        },
        {
          "name": "stdout",
          "output_type": "stream",
          "text": [
            "{'train_runtime': 11.1784, 'train_samples_per_second': 2.684, 'train_steps_per_second': 0.268, 'train_loss': 0.5676639676094055, 'epoch': 2.4}\n"
          ]
        },
        {
          "name": "stderr",
          "output_type": "stream",
          "text": [
            "\n"
          ]
        },
        {
          "data": {
            "text/plain": [
              "TrainOutput(global_step=3, training_loss=0.5676639676094055, metrics={'train_runtime': 11.1784, 'train_samples_per_second': 2.684, 'train_steps_per_second': 0.268, 'total_flos': 0.0, 'train_loss': 0.5676639676094055, 'epoch': 2.4})"
            ]
          },
          "execution_count": 10,
          "metadata": {},
          "output_type": "execute_result"
        }
      ],
      "source": [
        "dpo_trainer.train()"
      ]
    },
    {
      "cell_type": "markdown",
      "metadata": {
        "id": "I22TanExRI8H"
      },
      "source": [
        "## Get response from the trained model"
      ]
    },
    {
      "cell_type": "code",
      "execution_count": null,
      "metadata": {
        "id": "PuPGVAquRI8H"
      },
      "outputs": [
        {
          "name": "stderr",
          "output_type": "stream",
          "text": [
            "  0%|          | 0/10 [00:00<?, ?it/s]"
          ]
        },
        {
          "name": "stdout",
          "output_type": "stream",
          "text": [
            "Question 1:\n",
            "真人化是否能改善日本漫畫的全球可及性？\n"
          ]
        },
        {
          "name": "stderr",
          "output_type": "stream",
          "text": [
            " 10%|█         | 1/10 [00:03<00:31,  3.55s/it]"
          ]
        },
        {
          "name": "stdout",
          "output_type": "stream",
          "text": [
            "Response from trained model:\n",
            "真人化可能會提高日本漫畫的全球可及性，因真人版電影或劇集能吸引更多非漫畫讀者，並拓展不同文化的市場。然而，成功與否仍取決於故事內容、製作品質、行銷策略等因素。\n",
            "\n",
            "Question 2:\n",
            "真人化如何影響年輕一代對日本漫畫的看法？\n"
          ]
        },
        {
          "name": "stderr",
          "output_type": "stream",
          "text": [
            " 20%|██        | 2/10 [00:05<00:22,  2.82s/it]"
          ]
        },
        {
          "name": "stdout",
          "output_type": "stream",
          "text": [
            "Response from trained model:\n",
            "真人化可以提高年輕一代對日本漫畫的關注度和接受性，但個人喜好和審美觀差異仍存在，影響程度因人而異。\n",
            "\n",
            "Question 3:\n",
            "真人化是否能提升原作漫畫的文學價值？\n"
          ]
        },
        {
          "name": "stderr",
          "output_type": "stream",
          "text": [
            " 30%|███       | 3/10 [00:08<00:20,  2.91s/it]"
          ]
        },
        {
          "name": "stdout",
          "output_type": "stream",
          "text": [
            "Response from trained model:\n",
            "真人化可能會提高原作漫畫的知名度和影響力，但文學價值本身並不會因此提升。文學價值取決於故事、人物、主題和寫作技巧，真人化只是一種呈現方式。\n",
            "\n",
            "Question 4:\n",
            "真人化是否有助於保護和保存日本漫畫的傳統？\n"
          ]
        },
        {
          "name": "stderr",
          "output_type": "stream",
          "text": [
            " 40%|████      | 4/10 [00:12<00:18,  3.08s/it]"
          ]
        },
        {
          "name": "stdout",
          "output_type": "stream",
          "text": [
            "Response from trained model:\n",
            "真人化可以提高日本漫畫的知名度和影響力，但保護和保存傳統上，以動畫和漫畫的形式更符合文化傳承。真人化可能帶來商業利益，但傳統的漫畫形式更貼近日本漫畫的本質。\n",
            "\n",
            "Question 5:\n",
            "真人化是否有助於提升日本漫畫行業的經濟效益？\n"
          ]
        },
        {
          "name": "stderr",
          "output_type": "stream",
          "text": [
            " 50%|█████     | 5/10 [00:15<00:14,  2.98s/it]"
          ]
        },
        {
          "name": "stdout",
          "output_type": "stream",
          "text": [
            "Response from trained model:\n",
            "真人化可以提高日本漫畫行業的經濟效益，因它能吸引更多觀眾，增加商品銷售和收入。然而，成功與否取決於作品品質、行銷策略和市場接受度。\n",
            "\n",
            "Question 6:\n",
            "真人化如何影響日本漫畫原作者的創作動力？\n"
          ]
        },
        {
          "name": "stderr",
          "output_type": "stream",
          "text": [
            " 60%|██████    | 6/10 [00:19<00:13,  3.45s/it]"
          ]
        },
        {
          "name": "stdout",
          "output_type": "stream",
          "text": [
            "Response from trained model:\n",
            "真人化可以為日本漫畫原作者帶來更多的收入和知名度，並增加作品的曝光率，這可能會刺激他們的創作動力。然而，個人感受和經驗可能不同，有些作者可能因真人化而更專注於漫畫創作，而有些則可能因其他因素影響其動力。\n",
            "\n",
            "Question 7:\n",
            "真人化是否對漫畫原作的忠實粉絲公平？\n"
          ]
        },
        {
          "name": "stderr",
          "output_type": "stream",
          "text": [
            " 70%|███████   | 7/10 [00:22<00:09,  3.22s/it]"
          ]
        },
        {
          "name": "stdout",
          "output_type": "stream",
          "text": [
            "Response from trained model:\n",
            "真人化對忠實的漫畫原作粉絲可能不公平，因真人版可能有不同的詮釋方式、刪減或增加劇情，但亦可能吸引新觀眾，拓展漫畫原作的影響力。\n",
            "\n",
            "Question 8:\n",
            "真人化是否能夠促進日本漫畫的創新和多樣性？\n"
          ]
        },
        {
          "name": "stderr",
          "output_type": "stream",
          "text": [
            " 80%|████████  | 8/10 [00:24<00:06,  3.10s/it]"
          ]
        },
        {
          "name": "stdout",
          "output_type": "stream",
          "text": [
            "Response from trained model:\n",
            "真人化可以促進日本漫畫的創新和多樣性，因它能吸引更多觀眾，拓展市場，並提供不同的創作機會。然而，平衡和尊重原作者的想法是關鍵。\n",
            "\n",
            "Question 9:\n",
            "真人化是否有助於擴大動漫文化的市場份額？\n"
          ]
        },
        {
          "name": "stderr",
          "output_type": "stream",
          "text": [
            " 90%|█████████ | 9/10 [00:28<00:03,  3.11s/it]"
          ]
        },
        {
          "name": "stdout",
          "output_type": "stream",
          "text": [
            "Response from trained model:\n",
            "真人化可以有助於擴大動漫文化的市場份額，因它能吸引更多非動漫迷觀眾，並透過不同媒介推廣動漫文化。然而，成功與否取決於作品品質、行銷策略和市場接受度。\n",
            "\n",
            "Question 10:\n",
            "真人化是否有助於提高日本漫畫在全球的競爭力？\n"
          ]
        },
        {
          "name": "stderr",
          "output_type": "stream",
          "text": [
            "100%|██████████| 10/10 [00:30<00:00,  3.00s/it]"
          ]
        },
        {
          "name": "stdout",
          "output_type": "stream",
          "text": [
            "Response from trained model:\n",
            "真人化可以提高日本漫畫在全球的競爭力，因它能吸引更多觀眾，拓展市場，並促進文化交流。\n",
            "\n"
          ]
        },
        {
          "name": "stderr",
          "output_type": "stream",
          "text": [
            "\n"
          ]
        }
      ],
      "source": [
        "trained_model_response = []\n",
        "for data in tqdm(test_data):\n",
        "    id = data['id']\n",
        "    print(f'Question {id}:\\n'+data['prompt'])\n",
        "    inputs = tokenizer(data_formulate(data), return_tensors=\"pt\").to('cuda')\n",
        "    generation_config=GenerationConfig(\n",
        "            do_sample=False,\n",
        "            max_new_tokens = 200,\n",
        "            pad_token_id = tokenizer.pad_token_id\n",
        "    )\n",
        "    output = model.generate(**inputs, generation_config=generation_config)\n",
        "    output = tokenizer.batch_decode(output, skip_special_tokens=True)[0].split('[/INST] ')[1]\n",
        "    trained_model_response.append(output)\n",
        "    print('Response from trained model:\\n'+output+'\\n')"
      ]
    },
    {
      "cell_type": "markdown",
      "metadata": {
        "id": "Qe-PtYZMRI8I"
      },
      "source": [
        "## Please observe the output of this block to complete your report, and don't forget to take a screenshot of the results"
      ]
    },
    {
      "cell_type": "code",
      "execution_count": null,
      "metadata": {
        "id": "1i0wI6rLRI8I"
      },
      "outputs": [
        {
          "name": "stdout",
          "output_type": "stream",
          "text": [
            "num_epoch: 3\n",
            "data_size: 10\n",
            "support_ratio: 1\n",
            "\n",
            "Question 1:\n",
            "真人化是否能改善日本漫畫的全球可及性？\n",
            "Response from original model:\n",
            "真人化可能會提高日本漫畫的全球可及性，因真人版電影或劇集可以吸引更多非漫畫讀者的注意，並提供不同的體驗。然而，這取決於真人化作品的品質、行銷策略和市場接受度。\n",
            "Response from trained model:\n",
            "真人化可能會提高日本漫畫的全球可及性，因真人版電影或劇集能吸引更多非漫畫讀者，並拓展不同文化的市場。然而，成功與否仍取決於故事內容、製作品質、行銷策略等因素。\n",
            "\n",
            "Question 2:\n",
            "真人化如何影響年輕一代對日本漫畫的看法？\n",
            "Response from original model:\n",
            "真人化可能會影響年輕一代對日本漫畫的看法，使他們更容易接受和理解故事和角色，並吸引更多人關注和支持日本漫畫文化。然而，個人喜好和文化差異可能導致不同的影響。\n",
            "Response from trained model:\n",
            "真人化可以提高年輕一代對日本漫畫的關注度和接受性，但個人喜好和審美觀差異仍存在，影響程度因人而異。\n",
            "\n",
            "Question 3:\n",
            "真人化是否能提升原作漫畫的文學價值？\n",
            "Response from original model:\n",
            "真人化可能會提升原作漫畫的知名度和影響力，但文學價值本身可能因個人喜好和文化差異而異。真人化可能帶來更多觀眾，但文學價值取決於原作的故事、人物和主題，而非真人化形式。\n",
            "Response from trained model:\n",
            "真人化可能會提高原作漫畫的知名度和影響力，但文學價值本身並不會因此提升。文學價值取決於故事、人物、主題和寫作技巧，真人化只是一種呈現方式。\n",
            "\n",
            "Question 4:\n",
            "真人化是否有助於保護和保存日本漫畫的傳統？\n",
            "Response from original model:\n",
            "真人化可能有助於提高日本漫畫的知名度和吸引更多觀眾，但是否真正保護和保存傳統尚需視真人化作品是否尊重原作精神和文化價值。\n",
            "Response from trained model:\n",
            "真人化可以提高日本漫畫的知名度和影響力，但保護和保存傳統上，以動畫和漫畫的形式更符合文化傳承。真人化可能帶來商業利益，但傳統的漫畫形式更貼近日本漫畫的本質。\n",
            "\n",
            "Question 5:\n",
            "真人化是否有助於提升日本漫畫行業的經濟效益？\n",
            "Response from original model:\n",
            "真人化可能有助於提升日本漫畫行業的經濟效益，因真人版電影或劇集可以吸引更多觀眾，增加收入來源。然而，成功與否取決於作品的品質、行銷策略和市場接受度。\n",
            "Response from trained model:\n",
            "真人化可以提高日本漫畫行業的經濟效益，因它能吸引更多觀眾，增加商品銷售和收入。然而，成功與否取決於作品品質、行銷策略和市場接受度。\n",
            "\n",
            "Question 6:\n",
            "真人化如何影響日本漫畫原作者的創作動力？\n",
            "Response from original model:\n",
            "真人化可能會影響日本漫畫原作者的創作動力，因真人版可能帶來新的靈感、挑戰，或提供機會與不同領域的合作。然而，最終影響因人而異，有些作者可能因真人化而更投入創作，而其他人可能因個人喜好或需求而受影響。\n",
            "Response from trained model:\n",
            "真人化可以為日本漫畫原作者帶來更多的收入和知名度，並增加作品的曝光率，這可能會刺激他們的創作動力。然而，個人感受和經驗可能不同，有些作者可能因真人化而更專注於漫畫創作，而有些則可能因其他因素影響其動力。\n",
            "\n",
            "Question 7:\n",
            "真人化是否對漫畫原作的忠實粉絲公平？\n",
            "Response from original model:\n",
            "真人化可能會影響忠實的漫畫原作粉絲，因真人版可能有不同的故事改編、角色設定或表現方式，但個人喜好不同，仍有可能欣賞。\n",
            "Response from trained model:\n",
            "真人化對忠實的漫畫原作粉絲可能不公平，因真人版可能有不同的詮釋方式、刪減或增加劇情，但亦可能吸引新觀眾，拓展漫畫原作的影響力。\n",
            "\n",
            "Question 8:\n",
            "真人化是否能夠促進日本漫畫的創新和多樣性？\n",
            "Response from original model:\n",
            "真人化可能促進日本漫畫的創新和多樣性，因真人版電影或劇集可以吸引新觀眾群，並提供不同的故事表現方式。然而，過度的真人化或商業化可能限制創意和多元性。平衡點須考慮。\n",
            "Response from trained model:\n",
            "真人化可以促進日本漫畫的創新和多樣性，因它能吸引更多觀眾，拓展市場，並提供不同的創作機會。然而，平衡和尊重原作者的想法是關鍵。\n",
            "\n",
            "Question 9:\n",
            "真人化是否有助於擴大動漫文化的市場份額？\n",
            "Response from original model:\n",
            "真人化可能有助於擴大動漫文化的市場份額，因它能吸引更多非動漫迷觀眾，並提高大眾對動漫文化的認識與接受度。然而，成功與否仍取決於作品品質、行銷策略和市場接受程度。\n",
            "Response from trained model:\n",
            "真人化可以有助於擴大動漫文化的市場份額，因它能吸引更多非動漫迷觀眾，並透過不同媒介推廣動漫文化。然而，成功與否取決於作品品質、行銷策略和市場接受度。\n",
            "\n",
            "Question 10:\n",
            "真人化是否有助於提高日本漫畫在全球的競爭力？\n",
            "Response from original model:\n",
            "真人化可能有助於提高日本漫畫在全球的競爭力，因它能吸引更多觀眾並拓展市場，但同時也可能限制原創性，影響日本漫畫的獨特性。\n",
            "Response from trained model:\n",
            "真人化可以提高日本漫畫在全球的競爭力，因它能吸引更多觀眾，拓展市場，並促進文化交流。\n",
            "\n"
          ]
        }
      ],
      "source": [
        "model_response = []\n",
        "print(f'num_epoch: {num_epoch}\\ndata_size: {data_size}\\nsupport_ratio: {support_ratio}')\n",
        "print()\n",
        "for data in test_data:\n",
        "    id = data['id']\n",
        "    ref_output = original_model_response[id-1]\n",
        "    output = trained_model_response[id-1]\n",
        "    print(f'Question {id}:\\n'+data['prompt'])\n",
        "    print('Response from original model:\\n'+ref_output)\n",
        "    print('Response from trained model:\\n'+output)\n",
        "    print()\n",
        "    model_response.append({'id':data['id'], 'prompt':data['prompt'], 'response_from_original_model':ref_output, 'response_from_trained_model':output})"
      ]
    },
    {
      "cell_type": "markdown",
      "metadata": {
        "id": "a0FHblUvRI8I"
      },
      "source": [
        "## Get the output file"
      ]
    },
    {
      "cell_type": "code",
      "execution_count": null,
      "metadata": {
        "id": "owGIuqdnRI8I"
      },
      "outputs": [],
      "source": [
        "with open(f\"epoch-{num_epoch}_size-{data_size}_ratio-{support_ratio}.json\", \"w\", encoding='UTF-8') as outfile:\n",
        "    json.dump(model_response, outfile, indent=4, ensure_ascii=False)"
      ]
    }
  ],
  "metadata": {
    "accelerator": "GPU",
    "colab": {
      "gpuType": "T4",
      "provenance": []
    },
    "kaggle": {
      "accelerator": "gpu",
      "dataSources": [
        {
          "datasetId": 4412564,
          "sourceId": 7580251,
          "sourceType": "datasetVersion"
        }
      ],
      "dockerImageVersionId": 30636,
      "isGpuEnabled": true,
      "isInternetEnabled": true,
      "language": "python",
      "sourceType": "notebook"
    },
    "kernelspec": {
      "display_name": "llm",
      "language": "python",
      "name": "python3"
    },
    "language_info": {
      "codemirror_mode": {
        "name": "ipython",
        "version": 3
      },
      "file_extension": ".py",
      "mimetype": "text/x-python",
      "name": "python",
      "nbconvert_exporter": "python",
      "pygments_lexer": "ipython3",
      "version": "3.11.11"
    }
  },
  "nbformat": 4,
  "nbformat_minor": 0
}
