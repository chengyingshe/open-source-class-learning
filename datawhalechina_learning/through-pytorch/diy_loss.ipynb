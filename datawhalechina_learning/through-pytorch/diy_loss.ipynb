{
 "cells": [
  {
   "cell_type": "markdown",
   "metadata": {},
   "source": [
    "## Setup model and dataset"
   ]
  },
  {
   "cell_type": "code",
   "execution_count": 1,
   "metadata": {},
   "outputs": [],
   "source": [
    "import torch \n",
    "import torch.nn as nn\n",
    "from torch.utils.data import Dataset, DataLoader, random_split\n",
    "import numpy as np\n",
    "import pandas as pd\n",
    "from tqdm import tqdm"
   ]
  },
  {
   "cell_type": "code",
   "execution_count": 2,
   "metadata": {},
   "outputs": [],
   "source": [
    "class COVID19Dataset(Dataset):\n",
    "    '''\n",
    "    x: Features.\n",
    "    y: Targets, if none, do prediction.\n",
    "    '''\n",
    "    def __init__(self, x, y=None):\n",
    "        if y is None:\n",
    "            self.y = y\n",
    "        else:\n",
    "            self.y = torch.FloatTensor(y)\n",
    "        self.x = torch.FloatTensor(x)\n",
    "\n",
    "    def __getitem__(self, idx):\n",
    "        if self.y is None:\n",
    "            return self.x[idx]\n",
    "        else:\n",
    "            return self.x[idx], self.y[idx]\n",
    "\n",
    "    def __len__(self):\n",
    "        return len(self.x)"
   ]
  },
  {
   "cell_type": "code",
   "execution_count": 3,
   "metadata": {},
   "outputs": [],
   "source": [
    "# setup model\n",
    "class SimpleMLP(nn.Module):\n",
    "    \"\"\"\n",
    "    简单的MLP模型\n",
    "    \"\"\"\n",
    "    def __init__(self, input_dim, hidden_layers_dim=[64, 32, 8]):\n",
    "        super().__init__()\n",
    "        self.layers = []\n",
    "        for i in range(len(hidden_layers_dim)):\n",
    "            if i == 0: \n",
    "                self.layers.append(nn.Linear(input_dim, hidden_layers_dim[i]))\n",
    "            else: \n",
    "                self.layers.append(nn.Linear(hidden_layers_dim[i-1], hidden_layers_dim[i]))\n",
    "            self.layers.append(nn.ReLU())\n",
    "        self.layers.append(nn.Linear(hidden_layers_dim[-1], 1))\n",
    "        self.layers = nn.Sequential(*self.layers)\n",
    "        \n",
    "    def forward(self, x):\n",
    "        x = self.layers(x)  # [B, 1]\n",
    "        x = x.squeeze(1)\n",
    "        return x"
   ]
  },
  {
   "cell_type": "code",
   "execution_count": 4,
   "metadata": {},
   "outputs": [],
   "source": [
    "def same_seed(seed): \n",
    "    '''Fixes random number generator seeds for reproducibility.'''\n",
    "    torch.backends.cudnn.deterministic = True\n",
    "    torch.backends.cudnn.benchmark = False\n",
    "    np.random.seed(seed)\n",
    "    torch.manual_seed(seed)\n",
    "    if torch.cuda.is_available():\n",
    "        torch.cuda.manual_seed_all(seed)\n",
    "\n",
    "def train_valid_split(data_set, valid_ratio, seed):\n",
    "    '''Split provided training data into training set and validation set'''\n",
    "    valid_set_size = int(valid_ratio * len(data_set)) \n",
    "    train_set_size = len(data_set) - valid_set_size\n",
    "    train_set, valid_set = random_split(data_set, [train_set_size, valid_set_size], generator=torch.Generator().manual_seed(seed))\n",
    "    return np.array(train_set), np.array(valid_set)\n",
    "\n",
    "def select_feat(train_data, valid_data, select_all=False):\n",
    "    '''Selects useful features to perform regression'''\n",
    "    y_train, y_valid = train_data[:,-1], valid_data[:,-1]\n",
    "    raw_x_train, raw_x_valid = train_data[:,:-1], valid_data[:,:-1]\n",
    "\n",
    "    if select_all:\n",
    "        feat_idx = list(range(raw_x_train.shape[1]))\n",
    "    else:\n",
    "        # [35:length - 1]\n",
    "        feat_idx = list(range(35, raw_x_train.shape[1])) # TODO: Select suitable feature columns.\n",
    "        \n",
    "    return raw_x_train[:,feat_idx], raw_x_valid[:,feat_idx], y_train, y_valid"
   ]
  },
  {
   "cell_type": "code",
   "execution_count": 5,
   "metadata": {},
   "outputs": [],
   "source": [
    "# config\n",
    "config = {\n",
    "    'seed': 52,      # Your seed number, you can pick your lucky number. :)\n",
    "    'select_all': False,   # Whether to use all features.\n",
    "    'valid_ratio': 0.1,   # validation_size = train_size * valid_ratio\n",
    "    'n_epochs': 1000,     # Number of epochs.            \n",
    "    'batch_size': 256, \n",
    "    'learning_rate': 1e-5,              \n",
    "    'weight_decay': 1e-5,  # L2 Regularization (weight decay).\n",
    "    'early_stop': 600,    # If model has not improved for this many consecutive epochs, stop training.     \n",
    "    'save_path': './models/model.ckpt'  # Your model will be saved here.\n",
    "}"
   ]
  },
  {
   "cell_type": "code",
   "execution_count": 6,
   "metadata": {},
   "outputs": [
    {
     "name": "stdout",
     "output_type": "stream",
     "text": [
      "x_train size: (2709, 53), y_train size: (2709,)\n"
     ]
    }
   ],
   "source": [
    "same_seed(config['seed'])\n",
    "train_data = pd.read_csv('datasets/covid/covid_train.csv').values\n",
    "train_data, valid_data = train_valid_split(train_data, config['valid_ratio'], config['seed'])\n",
    "x_train, x_valid, y_train, y_valid = select_feat(train_data, valid_data, config['select_all'])\n",
    "print(f\"x_train size: {x_train.shape}, y_train size: {y_train.shape}\")\n",
    "train_dataset, valid_dataset = COVID19Dataset(x_train, y_train), COVID19Dataset(x_valid, y_valid)\n",
    "train_loader = DataLoader(train_dataset, batch_size=config['batch_size'], shuffle=True, pin_memory=True)\n",
    "valid_loader = DataLoader(valid_dataset, batch_size=config['batch_size'], shuffle=True, pin_memory=True)"
   ]
  },
  {
   "cell_type": "code",
   "execution_count": 7,
   "metadata": {},
   "outputs": [],
   "source": [
    "# train function\n",
    "def train(num_epoch, model, optimizer, criterion, train_loader, val_loader, device, model_path, lr_scheduler=None):\n",
    "    best_loss = float('inf')\n",
    "    for epoch in range(num_epoch):\n",
    "        train_loss = 0.0\n",
    "        val_loss = 0.0\n",
    "        \n",
    "        # training\n",
    "        model.train() # set the model to training mode\n",
    "        for i, batch in enumerate(tqdm(train_loader)):\n",
    "            features, labels = batch\n",
    "            features = features.to(device)\n",
    "            labels = labels.to(device)\n",
    "\n",
    "            optimizer.zero_grad()\n",
    "            outputs = model(features)\n",
    "            loss = criterion(outputs, labels)\n",
    "            loss.backward()\n",
    "            optimizer.step()\n",
    "\n",
    "            train_loss += loss.item()\n",
    "\n",
    "        # validation\n",
    "        model.eval() # set the model to evaluation mode\n",
    "        with torch.no_grad():\n",
    "            for i, batch in enumerate(tqdm(val_loader)):\n",
    "                features, labels = batch\n",
    "                features = features.to(device)\n",
    "                labels = labels.to(device)\n",
    "                outputs = model(features)\n",
    "\n",
    "                loss = criterion(outputs, labels)\n",
    "\n",
    "                val_loss += loss.item()\n",
    "\n",
    "        print(f'[{epoch+1:03d}/{num_epoch:03d}] Train Loss: {train_loss/len(train_loader):3.5f} | Val loss: {val_loss/len(val_loader):3.5f}')\n",
    "\n",
    "        # if the model improves, save a checkpoint at this epoch\n",
    "        if val_loss < best_loss:\n",
    "            best_loss = val_loss\n",
    "            torch.save(model.state_dict(), model_path)\n",
    "            print(f'saving model with loss {val_loss/len(val_loader):.5f}')\n",
    "\n",
    "        if lr_scheduler:\n",
    "            lr_scheduler.step()"
   ]
  },
  {
   "cell_type": "code",
   "execution_count": 8,
   "metadata": {},
   "outputs": [],
   "source": [
    "input_dim = x_train.shape[1]\n",
    "device = 'cuda' if torch.cuda.is_available() else 'cpu'"
   ]
  },
  {
   "cell_type": "markdown",
   "metadata": {},
   "source": [
    "## Define loss as a function"
   ]
  },
  {
   "cell_type": "code",
   "execution_count": 9,
   "metadata": {},
   "outputs": [],
   "source": [
    "def mse_loss(pred, target):\n",
    "    return torch.mean((pred - target) ** 2)"
   ]
  },
  {
   "cell_type": "code",
   "execution_count": 11,
   "metadata": {},
   "outputs": [
    {
     "name": "stderr",
     "output_type": "stream",
     "text": [
      "100%|██████████| 11/11 [00:00<00:00, 277.77it/s]\n",
      "100%|██████████| 2/2 [00:00<00:00, 499.95it/s]\n"
     ]
    },
    {
     "name": "stdout",
     "output_type": "stream",
     "text": [
      "[001/100] Train Loss: 393.93820 | Val loss: 348.84509\n",
      "saving model with loss 348.84509\n"
     ]
    },
    {
     "name": "stderr",
     "output_type": "stream",
     "text": [
      "100%|██████████| 11/11 [00:00<00:00, 318.31it/s]\n",
      "100%|██████████| 2/2 [00:00<00:00, 499.92it/s]\n"
     ]
    },
    {
     "name": "stdout",
     "output_type": "stream",
     "text": [
      "[002/100] Train Loss: 391.97064 | Val loss: 416.79640\n"
     ]
    },
    {
     "name": "stderr",
     "output_type": "stream",
     "text": [
      "100%|██████████| 11/11 [00:00<00:00, 327.50it/s]\n",
      "100%|██████████| 2/2 [00:00<00:00, 666.08it/s]\n"
     ]
    },
    {
     "name": "stdout",
     "output_type": "stream",
     "text": [
      "[003/100] Train Loss: 389.82393 | Val loss: 351.57544\n"
     ]
    },
    {
     "name": "stderr",
     "output_type": "stream",
     "text": [
      "100%|██████████| 11/11 [00:00<00:00, 333.08it/s]\n",
      "100%|██████████| 2/2 [00:00<00:00, 669.00it/s]\n"
     ]
    },
    {
     "name": "stdout",
     "output_type": "stream",
     "text": [
      "[004/100] Train Loss: 391.11426 | Val loss: 397.98251\n"
     ]
    },
    {
     "name": "stderr",
     "output_type": "stream",
     "text": [
      "100%|██████████| 11/11 [00:00<00:00, 333.34it/s]\n",
      "100%|██████████| 2/2 [00:00<00:00, 436.13it/s]\n"
     ]
    },
    {
     "name": "stdout",
     "output_type": "stream",
     "text": [
      "[005/100] Train Loss: 387.85482 | Val loss: 390.87057\n"
     ]
    },
    {
     "name": "stderr",
     "output_type": "stream",
     "text": [
      "100%|██████████| 11/11 [00:00<00:00, 307.90it/s]\n",
      "100%|██████████| 2/2 [00:00<00:00, 666.82it/s]\n"
     ]
    },
    {
     "name": "stdout",
     "output_type": "stream",
     "text": [
      "[006/100] Train Loss: 385.55175 | Val loss: 370.32950\n"
     ]
    },
    {
     "name": "stderr",
     "output_type": "stream",
     "text": [
      "100%|██████████| 11/11 [00:00<00:00, 293.20it/s]\n",
      "100%|██████████| 2/2 [00:00<00:00, 666.61it/s]\n"
     ]
    },
    {
     "name": "stdout",
     "output_type": "stream",
     "text": [
      "[007/100] Train Loss: 385.65743 | Val loss: 404.88521\n"
     ]
    },
    {
     "name": "stderr",
     "output_type": "stream",
     "text": [
      "100%|██████████| 11/11 [00:00<00:00, 233.60it/s]\n",
      "100%|██████████| 2/2 [00:00<00:00, 500.42it/s]\n"
     ]
    },
    {
     "name": "stdout",
     "output_type": "stream",
     "text": [
      "[008/100] Train Loss: 380.97885 | Val loss: 441.67381\n"
     ]
    },
    {
     "name": "stderr",
     "output_type": "stream",
     "text": [
      "100%|██████████| 11/11 [00:00<00:00, 292.69it/s]\n",
      "100%|██████████| 2/2 [00:00<00:00, 500.16it/s]\n"
     ]
    },
    {
     "name": "stdout",
     "output_type": "stream",
     "text": [
      "[009/100] Train Loss: 385.49934 | Val loss: 346.06906\n",
      "saving model with loss 346.06906\n"
     ]
    },
    {
     "name": "stderr",
     "output_type": "stream",
     "text": [
      "100%|██████████| 11/11 [00:00<00:00, 314.29it/s]\n",
      "100%|██████████| 2/2 [00:00<00:00, 488.28it/s]\n"
     ]
    },
    {
     "name": "stdout",
     "output_type": "stream",
     "text": [
      "[010/100] Train Loss: 381.44677 | Val loss: 361.87415\n"
     ]
    },
    {
     "name": "stderr",
     "output_type": "stream",
     "text": [
      "100%|██████████| 11/11 [00:00<00:00, 309.02it/s]\n",
      "100%|██████████| 2/2 [00:00<00:00, 666.71it/s]\n"
     ]
    },
    {
     "name": "stdout",
     "output_type": "stream",
     "text": [
      "[011/100] Train Loss: 381.30715 | Val loss: 347.59984\n"
     ]
    },
    {
     "name": "stderr",
     "output_type": "stream",
     "text": [
      "100%|██████████| 11/11 [00:00<00:00, 337.01it/s]\n",
      "100%|██████████| 2/2 [00:00<00:00, 429.61it/s]\n"
     ]
    },
    {
     "name": "stdout",
     "output_type": "stream",
     "text": [
      "[012/100] Train Loss: 379.69528 | Val loss: 351.37102\n"
     ]
    },
    {
     "name": "stderr",
     "output_type": "stream",
     "text": [
      "100%|██████████| 11/11 [00:00<00:00, 206.43it/s]\n",
      "100%|██████████| 2/2 [00:00<00:00, 500.01it/s]\n"
     ]
    },
    {
     "name": "stdout",
     "output_type": "stream",
     "text": [
      "[013/100] Train Loss: 379.40952 | Val loss: 365.36604\n"
     ]
    },
    {
     "name": "stderr",
     "output_type": "stream",
     "text": [
      "100%|██████████| 11/11 [00:00<00:00, 229.18it/s]\n",
      "100%|██████████| 2/2 [00:00<00:00, 325.62it/s]\n"
     ]
    },
    {
     "name": "stdout",
     "output_type": "stream",
     "text": [
      "[014/100] Train Loss: 378.88252 | Val loss: 376.55412\n"
     ]
    },
    {
     "name": "stderr",
     "output_type": "stream",
     "text": [
      "100%|██████████| 11/11 [00:00<00:00, 309.36it/s]\n",
      "100%|██████████| 2/2 [00:00<00:00, 499.92it/s]\n"
     ]
    },
    {
     "name": "stdout",
     "output_type": "stream",
     "text": [
      "[015/100] Train Loss: 376.54577 | Val loss: 397.49005\n"
     ]
    },
    {
     "name": "stderr",
     "output_type": "stream",
     "text": [
      "100%|██████████| 11/11 [00:00<00:00, 371.37it/s]\n",
      "100%|██████████| 2/2 [00:00<00:00, 500.30it/s]\n"
     ]
    },
    {
     "name": "stdout",
     "output_type": "stream",
     "text": [
      "[016/100] Train Loss: 379.75498 | Val loss: 416.24019\n"
     ]
    },
    {
     "name": "stderr",
     "output_type": "stream",
     "text": [
      "100%|██████████| 11/11 [00:00<00:00, 308.90it/s]\n",
      "100%|██████████| 2/2 [00:00<00:00, 666.61it/s]\n"
     ]
    },
    {
     "name": "stdout",
     "output_type": "stream",
     "text": [
      "[017/100] Train Loss: 376.30633 | Val loss: 408.62271\n"
     ]
    },
    {
     "name": "stderr",
     "output_type": "stream",
     "text": [
      "100%|██████████| 11/11 [00:00<00:00, 340.46it/s]\n",
      "100%|██████████| 2/2 [00:00<00:00, 499.71it/s]\n"
     ]
    },
    {
     "name": "stdout",
     "output_type": "stream",
     "text": [
      "[018/100] Train Loss: 376.30938 | Val loss: 340.70827\n",
      "saving model with loss 340.70827\n"
     ]
    },
    {
     "name": "stderr",
     "output_type": "stream",
     "text": [
      "100%|██████████| 11/11 [00:00<00:00, 343.76it/s]\n",
      "100%|██████████| 2/2 [00:00<00:00, 666.71it/s]\n"
     ]
    },
    {
     "name": "stdout",
     "output_type": "stream",
     "text": [
      "[019/100] Train Loss: 374.37503 | Val loss: 360.13289\n"
     ]
    },
    {
     "name": "stderr",
     "output_type": "stream",
     "text": [
      "100%|██████████| 11/11 [00:00<00:00, 337.97it/s]\n",
      "100%|██████████| 2/2 [00:00<00:00, 499.68it/s]\n"
     ]
    },
    {
     "name": "stdout",
     "output_type": "stream",
     "text": [
      "[020/100] Train Loss: 373.14528 | Val loss: 380.61720\n"
     ]
    },
    {
     "name": "stderr",
     "output_type": "stream",
     "text": [
      "100%|██████████| 11/11 [00:00<00:00, 341.74it/s]\n",
      "100%|██████████| 2/2 [00:00<00:00, 669.96it/s]\n"
     ]
    },
    {
     "name": "stdout",
     "output_type": "stream",
     "text": [
      "[021/100] Train Loss: 373.27336 | Val loss: 419.03021\n"
     ]
    },
    {
     "name": "stderr",
     "output_type": "stream",
     "text": [
      "100%|██████████| 11/11 [00:00<00:00, 333.34it/s]\n",
      "100%|██████████| 2/2 [00:00<00:00, 666.77it/s]\n"
     ]
    },
    {
     "name": "stdout",
     "output_type": "stream",
     "text": [
      "[022/100] Train Loss: 373.87718 | Val loss: 366.86935\n"
     ]
    },
    {
     "name": "stderr",
     "output_type": "stream",
     "text": [
      "100%|██████████| 11/11 [00:00<00:00, 297.32it/s]\n",
      "100%|██████████| 2/2 [00:00<00:00, 667.09it/s]\n"
     ]
    },
    {
     "name": "stdout",
     "output_type": "stream",
     "text": [
      "[023/100] Train Loss: 370.49945 | Val loss: 380.25266\n"
     ]
    },
    {
     "name": "stderr",
     "output_type": "stream",
     "text": [
      "100%|██████████| 11/11 [00:00<00:00, 327.86it/s]\n",
      "100%|██████████| 2/2 [00:00<00:00, 666.77it/s]\n"
     ]
    },
    {
     "name": "stdout",
     "output_type": "stream",
     "text": [
      "[024/100] Train Loss: 371.84031 | Val loss: 336.38823\n",
      "saving model with loss 336.38823\n"
     ]
    },
    {
     "name": "stderr",
     "output_type": "stream",
     "text": [
      "100%|██████████| 11/11 [00:00<00:00, 293.33it/s]\n",
      "100%|██████████| 2/2 [00:00<00:00, 499.98it/s]\n"
     ]
    },
    {
     "name": "stdout",
     "output_type": "stream",
     "text": [
      "[025/100] Train Loss: 368.44945 | Val loss: 357.11424\n"
     ]
    },
    {
     "name": "stderr",
     "output_type": "stream",
     "text": [
      "100%|██████████| 11/11 [00:00<00:00, 314.28it/s]\n",
      "100%|██████████| 2/2 [00:00<00:00, 666.82it/s]\n"
     ]
    },
    {
     "name": "stdout",
     "output_type": "stream",
     "text": [
      "[026/100] Train Loss: 370.20652 | Val loss: 373.85757\n"
     ]
    },
    {
     "name": "stderr",
     "output_type": "stream",
     "text": [
      "100%|██████████| 11/11 [00:00<00:00, 366.70it/s]\n",
      "100%|██████████| 2/2 [00:00<00:00, 666.56it/s]\n"
     ]
    },
    {
     "name": "stdout",
     "output_type": "stream",
     "text": [
      "[027/100] Train Loss: 366.30827 | Val loss: 351.35353\n"
     ]
    },
    {
     "name": "stderr",
     "output_type": "stream",
     "text": [
      "100%|██████████| 11/11 [00:00<00:00, 348.03it/s]\n",
      "100%|██████████| 2/2 [00:00<00:00, 499.80it/s]\n"
     ]
    },
    {
     "name": "stdout",
     "output_type": "stream",
     "text": [
      "[028/100] Train Loss: 365.59146 | Val loss: 317.73834\n",
      "saving model with loss 317.73834\n"
     ]
    },
    {
     "name": "stderr",
     "output_type": "stream",
     "text": [
      "100%|██████████| 11/11 [00:00<00:00, 274.99it/s]\n",
      "100%|██████████| 2/2 [00:00<00:00, 285.76it/s]\n"
     ]
    },
    {
     "name": "stdout",
     "output_type": "stream",
     "text": [
      "[029/100] Train Loss: 365.04557 | Val loss: 399.39714\n"
     ]
    },
    {
     "name": "stderr",
     "output_type": "stream",
     "text": [
      "100%|██████████| 11/11 [00:00<00:00, 176.35it/s]\n",
      "100%|██████████| 2/2 [00:00<00:00, 499.68it/s]\n"
     ]
    },
    {
     "name": "stdout",
     "output_type": "stream",
     "text": [
      "[030/100] Train Loss: 366.43323 | Val loss: 358.07520\n"
     ]
    },
    {
     "name": "stderr",
     "output_type": "stream",
     "text": [
      "100%|██████████| 11/11 [00:00<00:00, 235.86it/s]\n",
      "100%|██████████| 2/2 [00:00<00:00, 500.30it/s]\n"
     ]
    },
    {
     "name": "stdout",
     "output_type": "stream",
     "text": [
      "[031/100] Train Loss: 363.05856 | Val loss: 350.07817\n"
     ]
    },
    {
     "name": "stderr",
     "output_type": "stream",
     "text": [
      "100%|██████████| 11/11 [00:00<00:00, 323.54it/s]\n",
      "100%|██████████| 2/2 [00:00<00:00, 500.07it/s]\n"
     ]
    },
    {
     "name": "stdout",
     "output_type": "stream",
     "text": [
      "[032/100] Train Loss: 361.04658 | Val loss: 338.68642\n"
     ]
    },
    {
     "name": "stderr",
     "output_type": "stream",
     "text": [
      "100%|██████████| 11/11 [00:00<00:00, 328.23it/s]\n",
      "100%|██████████| 2/2 [00:00<00:00, 666.40it/s]\n"
     ]
    },
    {
     "name": "stdout",
     "output_type": "stream",
     "text": [
      "[033/100] Train Loss: 360.28076 | Val loss: 355.18509\n"
     ]
    },
    {
     "name": "stderr",
     "output_type": "stream",
     "text": [
      "100%|██████████| 11/11 [00:00<00:00, 346.89it/s]\n",
      "100%|██████████| 2/2 [00:00<00:00, 499.89it/s]\n"
     ]
    },
    {
     "name": "stdout",
     "output_type": "stream",
     "text": [
      "[034/100] Train Loss: 358.51991 | Val loss: 326.03290\n"
     ]
    },
    {
     "name": "stderr",
     "output_type": "stream",
     "text": [
      "100%|██████████| 11/11 [00:00<00:00, 343.75it/s]\n",
      "100%|██████████| 2/2 [00:00<00:00, 666.87it/s]\n"
     ]
    },
    {
     "name": "stdout",
     "output_type": "stream",
     "text": [
      "[035/100] Train Loss: 358.49329 | Val loss: 340.48126\n"
     ]
    },
    {
     "name": "stderr",
     "output_type": "stream",
     "text": [
      "100%|██████████| 11/11 [00:00<00:00, 323.52it/s]\n",
      "100%|██████████| 2/2 [00:00<00:00, 1001.15it/s]\n"
     ]
    },
    {
     "name": "stdout",
     "output_type": "stream",
     "text": [
      "[036/100] Train Loss: 355.80270 | Val loss: 364.86137\n"
     ]
    },
    {
     "name": "stderr",
     "output_type": "stream",
     "text": [
      "100%|██████████| 11/11 [00:00<00:00, 337.79it/s]\n",
      "100%|██████████| 2/2 [00:00<00:00, 500.04it/s]\n"
     ]
    },
    {
     "name": "stdout",
     "output_type": "stream",
     "text": [
      "[037/100] Train Loss: 348.09075 | Val loss: 350.41275\n"
     ]
    },
    {
     "name": "stderr",
     "output_type": "stream",
     "text": [
      "100%|██████████| 11/11 [00:00<00:00, 358.96it/s]\n",
      "100%|██████████| 2/2 [00:00<00:00, 500.13it/s]\n"
     ]
    },
    {
     "name": "stdout",
     "output_type": "stream",
     "text": [
      "[038/100] Train Loss: 347.45669 | Val loss: 353.35216\n"
     ]
    },
    {
     "name": "stderr",
     "output_type": "stream",
     "text": [
      "100%|██████████| 11/11 [00:00<00:00, 334.03it/s]\n",
      "100%|██████████| 2/2 [00:00<00:00, 666.40it/s]\n"
     ]
    },
    {
     "name": "stdout",
     "output_type": "stream",
     "text": [
      "[039/100] Train Loss: 342.10945 | Val loss: 296.73550\n",
      "saving model with loss 296.73550\n"
     ]
    },
    {
     "name": "stderr",
     "output_type": "stream",
     "text": [
      "100%|██████████| 11/11 [00:00<00:00, 189.66it/s]\n",
      "100%|██████████| 2/2 [00:00<00:00, 500.57it/s]\n"
     ]
    },
    {
     "name": "stdout",
     "output_type": "stream",
     "text": [
      "[040/100] Train Loss: 334.05368 | Val loss: 314.62906\n"
     ]
    },
    {
     "name": "stderr",
     "output_type": "stream",
     "text": [
      "100%|██████████| 11/11 [00:00<00:00, 282.07it/s]\n",
      "100%|██████████| 2/2 [00:00<00:00, 353.13it/s]\n"
     ]
    },
    {
     "name": "stdout",
     "output_type": "stream",
     "text": [
      "[041/100] Train Loss: 330.82802 | Val loss: 326.30276\n"
     ]
    },
    {
     "name": "stderr",
     "output_type": "stream",
     "text": [
      "100%|██████████| 11/11 [00:00<00:00, 112.17it/s]\n",
      "100%|██████████| 2/2 [00:00<00:00, 666.66it/s]\n"
     ]
    },
    {
     "name": "stdout",
     "output_type": "stream",
     "text": [
      "[042/100] Train Loss: 324.73662 | Val loss: 307.49913\n"
     ]
    },
    {
     "name": "stderr",
     "output_type": "stream",
     "text": [
      "100%|██████████| 11/11 [00:00<00:00, 386.02it/s]\n",
      "100%|██████████| 2/2 [00:00<00:00, 667.46it/s]\n"
     ]
    },
    {
     "name": "stdout",
     "output_type": "stream",
     "text": [
      "[043/100] Train Loss: 321.00876 | Val loss: 325.86070\n"
     ]
    },
    {
     "name": "stderr",
     "output_type": "stream",
     "text": [
      "100%|██████████| 11/11 [00:00<00:00, 366.67it/s]\n",
      "100%|██████████| 2/2 [00:00<00:00, 666.77it/s]\n"
     ]
    },
    {
     "name": "stdout",
     "output_type": "stream",
     "text": [
      "[044/100] Train Loss: 317.79915 | Val loss: 325.62491\n"
     ]
    },
    {
     "name": "stderr",
     "output_type": "stream",
     "text": [
      "100%|██████████| 11/11 [00:00<00:00, 347.26it/s]\n",
      "100%|██████████| 2/2 [00:00<00:00, 666.82it/s]\n"
     ]
    },
    {
     "name": "stdout",
     "output_type": "stream",
     "text": [
      "[045/100] Train Loss: 314.12261 | Val loss: 271.96263\n",
      "saving model with loss 271.96263\n"
     ]
    },
    {
     "name": "stderr",
     "output_type": "stream",
     "text": [
      "100%|██████████| 11/11 [00:00<00:00, 301.26it/s]\n",
      "100%|██████████| 2/2 [00:00<00:00, 500.13it/s]\n"
     ]
    },
    {
     "name": "stdout",
     "output_type": "stream",
     "text": [
      "[046/100] Train Loss: 310.08111 | Val loss: 318.44046\n"
     ]
    },
    {
     "name": "stderr",
     "output_type": "stream",
     "text": [
      "100%|██████████| 11/11 [00:00<00:00, 305.57it/s]\n",
      "100%|██████████| 2/2 [00:00<00:00, 499.98it/s]\n"
     ]
    },
    {
     "name": "stdout",
     "output_type": "stream",
     "text": [
      "[047/100] Train Loss: 307.06041 | Val loss: 280.30881\n"
     ]
    },
    {
     "name": "stderr",
     "output_type": "stream",
     "text": [
      "100%|██████████| 11/11 [00:00<00:00, 323.55it/s]\n",
      "100%|██████████| 2/2 [00:00<00:00, 666.66it/s]\n"
     ]
    },
    {
     "name": "stdout",
     "output_type": "stream",
     "text": [
      "[048/100] Train Loss: 305.73434 | Val loss: 298.27359\n"
     ]
    },
    {
     "name": "stderr",
     "output_type": "stream",
     "text": [
      "100%|██████████| 11/11 [00:00<00:00, 323.56it/s]\n",
      "100%|██████████| 2/2 [00:00<00:00, 399.82it/s]\n"
     ]
    },
    {
     "name": "stdout",
     "output_type": "stream",
     "text": [
      "[049/100] Train Loss: 299.16126 | Val loss: 255.34028\n",
      "saving model with loss 255.34028\n"
     ]
    },
    {
     "name": "stderr",
     "output_type": "stream",
     "text": [
      "100%|██████████| 11/11 [00:00<00:00, 297.31it/s]\n",
      "100%|██████████| 2/2 [00:00<00:00, 666.77it/s]\n"
     ]
    },
    {
     "name": "stdout",
     "output_type": "stream",
     "text": [
      "[050/100] Train Loss: 294.50166 | Val loss: 313.80075\n"
     ]
    },
    {
     "name": "stderr",
     "output_type": "stream",
     "text": [
      "100%|██████████| 11/11 [00:00<00:00, 313.39it/s]\n",
      "100%|██████████| 2/2 [00:00<00:00, 666.87it/s]\n"
     ]
    },
    {
     "name": "stdout",
     "output_type": "stream",
     "text": [
      "[051/100] Train Loss: 292.30799 | Val loss: 307.34181\n"
     ]
    },
    {
     "name": "stderr",
     "output_type": "stream",
     "text": [
      "100%|██████████| 11/11 [00:00<00:00, 333.34it/s]\n",
      "100%|██████████| 2/2 [00:00<00:00, 667.14it/s]\n"
     ]
    },
    {
     "name": "stdout",
     "output_type": "stream",
     "text": [
      "[052/100] Train Loss: 287.44659 | Val loss: 263.88911\n"
     ]
    },
    {
     "name": "stderr",
     "output_type": "stream",
     "text": [
      "100%|██████████| 11/11 [00:00<00:00, 233.30it/s]\n",
      "100%|██████████| 2/2 [00:00<00:00, 399.90it/s]\n"
     ]
    },
    {
     "name": "stdout",
     "output_type": "stream",
     "text": [
      "[053/100] Train Loss: 284.90030 | Val loss: 234.47654\n",
      "saving model with loss 234.47654\n"
     ]
    },
    {
     "name": "stderr",
     "output_type": "stream",
     "text": [
      "100%|██████████| 11/11 [00:00<00:00, 337.16it/s]\n",
      "100%|██████████| 2/2 [00:00<00:00, 519.87it/s]\n"
     ]
    },
    {
     "name": "stdout",
     "output_type": "stream",
     "text": [
      "[054/100] Train Loss: 280.94327 | Val loss: 255.97981\n"
     ]
    },
    {
     "name": "stderr",
     "output_type": "stream",
     "text": [
      "100%|██████████| 11/11 [00:00<00:00, 323.54it/s]\n",
      "100%|██████████| 2/2 [00:00<00:00, 668.36it/s]\n"
     ]
    },
    {
     "name": "stdout",
     "output_type": "stream",
     "text": [
      "[055/100] Train Loss: 276.67465 | Val loss: 276.59926\n"
     ]
    },
    {
     "name": "stderr",
     "output_type": "stream",
     "text": [
      "100%|██████████| 11/11 [00:00<00:00, 318.06it/s]\n",
      "100%|██████████| 2/2 [00:00<00:00, 666.87it/s]\n"
     ]
    },
    {
     "name": "stdout",
     "output_type": "stream",
     "text": [
      "[056/100] Train Loss: 274.65070 | Val loss: 244.83145\n"
     ]
    },
    {
     "name": "stderr",
     "output_type": "stream",
     "text": [
      "100%|██████████| 11/11 [00:00<00:00, 343.76it/s]\n",
      "100%|██████████| 2/2 [00:00<00:00, 666.82it/s]\n"
     ]
    },
    {
     "name": "stdout",
     "output_type": "stream",
     "text": [
      "[057/100] Train Loss: 269.72358 | Val loss: 255.17815\n"
     ]
    },
    {
     "name": "stderr",
     "output_type": "stream",
     "text": [
      "100%|██████████| 11/11 [00:00<00:00, 333.33it/s]\n",
      "100%|██████████| 2/2 [00:00<00:00, 500.30it/s]\n"
     ]
    },
    {
     "name": "stdout",
     "output_type": "stream",
     "text": [
      "[058/100] Train Loss: 265.14514 | Val loss: 262.79297\n"
     ]
    },
    {
     "name": "stderr",
     "output_type": "stream",
     "text": [
      "100%|██████████| 11/11 [00:00<00:00, 333.33it/s]\n",
      "100%|██████████| 2/2 [00:00<00:00, 666.71it/s]\n"
     ]
    },
    {
     "name": "stdout",
     "output_type": "stream",
     "text": [
      "[059/100] Train Loss: 261.41701 | Val loss: 253.19979\n"
     ]
    },
    {
     "name": "stderr",
     "output_type": "stream",
     "text": [
      "100%|██████████| 11/11 [00:00<00:00, 351.16it/s]\n",
      "100%|██████████| 2/2 [00:00<00:00, 649.02it/s]\n"
     ]
    },
    {
     "name": "stdout",
     "output_type": "stream",
     "text": [
      "[060/100] Train Loss: 255.97711 | Val loss: 230.77279\n",
      "saving model with loss 230.77279\n"
     ]
    },
    {
     "name": "stderr",
     "output_type": "stream",
     "text": [
      "100%|██████████| 11/11 [00:00<00:00, 346.02it/s]\n",
      "100%|██████████| 2/2 [00:00<00:00, 500.39it/s]\n"
     ]
    },
    {
     "name": "stdout",
     "output_type": "stream",
     "text": [
      "[061/100] Train Loss: 253.48066 | Val loss: 250.52488\n"
     ]
    },
    {
     "name": "stderr",
     "output_type": "stream",
     "text": [
      "100%|██████████| 11/11 [00:00<00:00, 343.75it/s]\n",
      "100%|██████████| 2/2 [00:00<00:00, 666.93it/s]\n"
     ]
    },
    {
     "name": "stdout",
     "output_type": "stream",
     "text": [
      "[062/100] Train Loss: 249.36894 | Val loss: 213.04383\n",
      "saving model with loss 213.04383\n"
     ]
    },
    {
     "name": "stderr",
     "output_type": "stream",
     "text": [
      "100%|██████████| 11/11 [00:00<00:00, 333.34it/s]\n",
      "100%|██████████| 2/2 [00:00<00:00, 666.82it/s]\n"
     ]
    },
    {
     "name": "stdout",
     "output_type": "stream",
     "text": [
      "[063/100] Train Loss: 247.73480 | Val loss: 232.82159\n"
     ]
    },
    {
     "name": "stderr",
     "output_type": "stream",
     "text": [
      "100%|██████████| 11/11 [00:00<00:00, 321.02it/s]\n",
      "100%|██████████| 2/2 [00:00<00:00, 666.82it/s]\n"
     ]
    },
    {
     "name": "stdout",
     "output_type": "stream",
     "text": [
      "[064/100] Train Loss: 242.07182 | Val loss: 231.01409\n"
     ]
    },
    {
     "name": "stderr",
     "output_type": "stream",
     "text": [
      "100%|██████████| 11/11 [00:00<00:00, 335.44it/s]\n",
      "100%|██████████| 2/2 [00:00<00:00, 499.71it/s]\n"
     ]
    },
    {
     "name": "stdout",
     "output_type": "stream",
     "text": [
      "[065/100] Train Loss: 239.07569 | Val loss: 283.84110\n"
     ]
    },
    {
     "name": "stderr",
     "output_type": "stream",
     "text": [
      "100%|██████████| 11/11 [00:00<00:00, 338.38it/s]\n",
      "100%|██████████| 2/2 [00:00<00:00, 666.87it/s]\n"
     ]
    },
    {
     "name": "stdout",
     "output_type": "stream",
     "text": [
      "[066/100] Train Loss: 234.19516 | Val loss: 236.70444\n"
     ]
    },
    {
     "name": "stderr",
     "output_type": "stream",
     "text": [
      "100%|██████████| 11/11 [00:00<00:00, 305.55it/s]\n",
      "100%|██████████| 2/2 [00:00<00:00, 500.04it/s]\n"
     ]
    },
    {
     "name": "stdout",
     "output_type": "stream",
     "text": [
      "[067/100] Train Loss: 230.64863 | Val loss: 254.35416\n"
     ]
    },
    {
     "name": "stderr",
     "output_type": "stream",
     "text": [
      "100%|██████████| 11/11 [00:00<00:00, 314.29it/s]\n",
      "100%|██████████| 2/2 [00:00<00:00, 666.87it/s]\n"
     ]
    },
    {
     "name": "stdout",
     "output_type": "stream",
     "text": [
      "[068/100] Train Loss: 227.78776 | Val loss: 225.83092\n"
     ]
    },
    {
     "name": "stderr",
     "output_type": "stream",
     "text": [
      "100%|██████████| 11/11 [00:00<00:00, 333.35it/s]\n",
      "100%|██████████| 2/2 [00:00<00:00, 439.95it/s]\n"
     ]
    },
    {
     "name": "stdout",
     "output_type": "stream",
     "text": [
      "[069/100] Train Loss: 223.56452 | Val loss: 223.31838\n"
     ]
    },
    {
     "name": "stderr",
     "output_type": "stream",
     "text": [
      "100%|██████████| 11/11 [00:00<00:00, 305.55it/s]\n",
      "100%|██████████| 2/2 [00:00<00:00, 500.13it/s]\n"
     ]
    },
    {
     "name": "stdout",
     "output_type": "stream",
     "text": [
      "[070/100] Train Loss: 221.51402 | Val loss: 202.82999\n",
      "saving model with loss 202.82999\n"
     ]
    },
    {
     "name": "stderr",
     "output_type": "stream",
     "text": [
      "100%|██████████| 11/11 [00:00<00:00, 322.47it/s]\n",
      "100%|██████████| 2/2 [00:00<00:00, 499.98it/s]\n"
     ]
    },
    {
     "name": "stdout",
     "output_type": "stream",
     "text": [
      "[071/100] Train Loss: 217.82715 | Val loss: 239.60362\n"
     ]
    },
    {
     "name": "stderr",
     "output_type": "stream",
     "text": [
      "100%|██████████| 11/11 [00:00<00:00, 314.27it/s]\n",
      "100%|██████████| 2/2 [00:00<00:00, 666.98it/s]\n"
     ]
    },
    {
     "name": "stdout",
     "output_type": "stream",
     "text": [
      "[072/100] Train Loss: 213.75694 | Val loss: 211.01862\n"
     ]
    },
    {
     "name": "stderr",
     "output_type": "stream",
     "text": [
      "100%|██████████| 11/11 [00:00<00:00, 323.50it/s]\n",
      "100%|██████████| 2/2 [00:00<00:00, 500.22it/s]\n"
     ]
    },
    {
     "name": "stdout",
     "output_type": "stream",
     "text": [
      "[073/100] Train Loss: 209.44803 | Val loss: 174.92123\n",
      "saving model with loss 174.92123\n"
     ]
    },
    {
     "name": "stderr",
     "output_type": "stream",
     "text": [
      "100%|██████████| 11/11 [00:00<00:00, 301.10it/s]\n",
      "100%|██████████| 2/2 [00:00<00:00, 399.93it/s]\n"
     ]
    },
    {
     "name": "stdout",
     "output_type": "stream",
     "text": [
      "[074/100] Train Loss: 208.63828 | Val loss: 179.12813\n"
     ]
    },
    {
     "name": "stderr",
     "output_type": "stream",
     "text": [
      "100%|██████████| 11/11 [00:00<00:00, 326.19it/s]\n",
      "100%|██████████| 2/2 [00:00<00:00, 667.09it/s]\n"
     ]
    },
    {
     "name": "stdout",
     "output_type": "stream",
     "text": [
      "[075/100] Train Loss: 204.00215 | Val loss: 225.40251\n"
     ]
    },
    {
     "name": "stderr",
     "output_type": "stream",
     "text": [
      "100%|██████████| 11/11 [00:00<00:00, 327.80it/s]\n",
      "100%|██████████| 2/2 [00:00<00:00, 499.92it/s]\n"
     ]
    },
    {
     "name": "stdout",
     "output_type": "stream",
     "text": [
      "[076/100] Train Loss: 201.18719 | Val loss: 175.64866\n"
     ]
    },
    {
     "name": "stderr",
     "output_type": "stream",
     "text": [
      "100%|██████████| 11/11 [00:00<00:00, 308.48it/s]\n",
      "100%|██████████| 2/2 [00:00<00:00, 500.01it/s]\n"
     ]
    },
    {
     "name": "stdout",
     "output_type": "stream",
     "text": [
      "[077/100] Train Loss: 197.24863 | Val loss: 188.76631\n"
     ]
    },
    {
     "name": "stderr",
     "output_type": "stream",
     "text": [
      "100%|██████████| 11/11 [00:00<00:00, 340.87it/s]\n",
      "100%|██████████| 2/2 [00:00<00:00, 499.98it/s]\n"
     ]
    },
    {
     "name": "stdout",
     "output_type": "stream",
     "text": [
      "[078/100] Train Loss: 194.22184 | Val loss: 218.30555\n"
     ]
    },
    {
     "name": "stderr",
     "output_type": "stream",
     "text": [
      "100%|██████████| 11/11 [00:00<00:00, 350.72it/s]\n",
      "100%|██████████| 2/2 [00:00<00:00, 500.19it/s]\n"
     ]
    },
    {
     "name": "stdout",
     "output_type": "stream",
     "text": [
      "[079/100] Train Loss: 192.28506 | Val loss: 176.44527\n"
     ]
    },
    {
     "name": "stderr",
     "output_type": "stream",
     "text": [
      "100%|██████████| 11/11 [00:00<00:00, 359.96it/s]\n",
      "100%|██████████| 2/2 [00:00<00:00, 666.71it/s]\n"
     ]
    },
    {
     "name": "stdout",
     "output_type": "stream",
     "text": [
      "[080/100] Train Loss: 188.38587 | Val loss: 166.60550\n",
      "saving model with loss 166.60550\n"
     ]
    },
    {
     "name": "stderr",
     "output_type": "stream",
     "text": [
      "100%|██████████| 11/11 [00:00<00:00, 333.36it/s]\n",
      "100%|██████████| 2/2 [00:00<00:00, 499.86it/s]\n"
     ]
    },
    {
     "name": "stdout",
     "output_type": "stream",
     "text": [
      "[081/100] Train Loss: 187.66266 | Val loss: 186.13226\n"
     ]
    },
    {
     "name": "stderr",
     "output_type": "stream",
     "text": [
      "100%|██████████| 11/11 [00:00<00:00, 343.74it/s]\n",
      "100%|██████████| 2/2 [00:00<00:00, 666.98it/s]\n"
     ]
    },
    {
     "name": "stdout",
     "output_type": "stream",
     "text": [
      "[082/100] Train Loss: 183.46983 | Val loss: 195.56347\n"
     ]
    },
    {
     "name": "stderr",
     "output_type": "stream",
     "text": [
      "100%|██████████| 11/11 [00:00<00:00, 348.24it/s]\n",
      "100%|██████████| 2/2 [00:00<00:00, 666.66it/s]\n"
     ]
    },
    {
     "name": "stdout",
     "output_type": "stream",
     "text": [
      "[083/100] Train Loss: 182.54137 | Val loss: 182.25615\n"
     ]
    },
    {
     "name": "stderr",
     "output_type": "stream",
     "text": [
      "100%|██████████| 11/11 [00:00<00:00, 337.04it/s]\n",
      "100%|██████████| 2/2 [00:00<00:00, 499.86it/s]\n"
     ]
    },
    {
     "name": "stdout",
     "output_type": "stream",
     "text": [
      "[084/100] Train Loss: 177.68493 | Val loss: 138.49916\n",
      "saving model with loss 138.49916\n"
     ]
    },
    {
     "name": "stderr",
     "output_type": "stream",
     "text": [
      "100%|██████████| 11/11 [00:00<00:00, 246.82it/s]\n",
      "100%|██████████| 2/2 [00:00<00:00, 500.10it/s]\n"
     ]
    },
    {
     "name": "stdout",
     "output_type": "stream",
     "text": [
      "[085/100] Train Loss: 177.03505 | Val loss: 161.17171\n"
     ]
    },
    {
     "name": "stderr",
     "output_type": "stream",
     "text": [
      "100%|██████████| 11/11 [00:00<00:00, 314.29it/s]\n",
      "100%|██████████| 2/2 [00:00<00:00, 666.66it/s]\n"
     ]
    },
    {
     "name": "stdout",
     "output_type": "stream",
     "text": [
      "[086/100] Train Loss: 174.91446 | Val loss: 168.45957\n"
     ]
    },
    {
     "name": "stderr",
     "output_type": "stream",
     "text": [
      "100%|██████████| 11/11 [00:00<00:00, 342.70it/s]\n",
      "100%|██████████| 2/2 [00:00<00:00, 548.20it/s]\n"
     ]
    },
    {
     "name": "stdout",
     "output_type": "stream",
     "text": [
      "[087/100] Train Loss: 171.49157 | Val loss: 166.04636\n"
     ]
    },
    {
     "name": "stderr",
     "output_type": "stream",
     "text": [
      "100%|██████████| 11/11 [00:00<00:00, 328.91it/s]\n",
      "100%|██████████| 2/2 [00:00<00:00, 632.20it/s]\n"
     ]
    },
    {
     "name": "stdout",
     "output_type": "stream",
     "text": [
      "[088/100] Train Loss: 169.51838 | Val loss: 214.27786\n"
     ]
    },
    {
     "name": "stderr",
     "output_type": "stream",
     "text": [
      "100%|██████████| 11/11 [00:00<00:00, 320.28it/s]\n",
      "100%|██████████| 2/2 [00:00<00:00, 468.38it/s]\n"
     ]
    },
    {
     "name": "stdout",
     "output_type": "stream",
     "text": [
      "[089/100] Train Loss: 167.46731 | Val loss: 164.42302\n"
     ]
    },
    {
     "name": "stderr",
     "output_type": "stream",
     "text": [
      "100%|██████████| 11/11 [00:00<00:00, 352.54it/s]\n",
      "100%|██████████| 2/2 [00:00<00:00, 667.09it/s]\n"
     ]
    },
    {
     "name": "stdout",
     "output_type": "stream",
     "text": [
      "[090/100] Train Loss: 163.90127 | Val loss: 169.44572\n"
     ]
    },
    {
     "name": "stderr",
     "output_type": "stream",
     "text": [
      "100%|██████████| 11/11 [00:00<00:00, 343.74it/s]\n",
      "100%|██████████| 2/2 [00:00<00:00, 666.77it/s]\n"
     ]
    },
    {
     "name": "stdout",
     "output_type": "stream",
     "text": [
      "[091/100] Train Loss: 162.71009 | Val loss: 154.40158\n"
     ]
    },
    {
     "name": "stderr",
     "output_type": "stream",
     "text": [
      "100%|██████████| 11/11 [00:00<00:00, 340.29it/s]\n",
      "100%|██████████| 2/2 [00:00<00:00, 667.09it/s]\n"
     ]
    },
    {
     "name": "stdout",
     "output_type": "stream",
     "text": [
      "[092/100] Train Loss: 160.79895 | Val loss: 142.01780\n"
     ]
    },
    {
     "name": "stderr",
     "output_type": "stream",
     "text": [
      "100%|██████████| 11/11 [00:00<00:00, 333.36it/s]\n",
      "100%|██████████| 2/2 [00:00<00:00, 667.09it/s]\n"
     ]
    },
    {
     "name": "stdout",
     "output_type": "stream",
     "text": [
      "[093/100] Train Loss: 158.33581 | Val loss: 141.74205\n"
     ]
    },
    {
     "name": "stderr",
     "output_type": "stream",
     "text": [
      "100%|██████████| 11/11 [00:00<00:00, 328.20it/s]\n",
      "100%|██████████| 2/2 [00:00<00:00, 499.98it/s]\n"
     ]
    },
    {
     "name": "stdout",
     "output_type": "stream",
     "text": [
      "[094/100] Train Loss: 156.33525 | Val loss: 158.49014\n"
     ]
    },
    {
     "name": "stderr",
     "output_type": "stream",
     "text": [
      "100%|██████████| 11/11 [00:00<00:00, 305.57it/s]\n",
      "100%|██████████| 2/2 [00:00<00:00, 500.01it/s]\n"
     ]
    },
    {
     "name": "stdout",
     "output_type": "stream",
     "text": [
      "[095/100] Train Loss: 153.14508 | Val loss: 180.98647\n"
     ]
    },
    {
     "name": "stderr",
     "output_type": "stream",
     "text": [
      "100%|██████████| 11/11 [00:00<00:00, 196.42it/s]\n",
      "100%|██████████| 2/2 [00:00<00:00, 400.03it/s]\n"
     ]
    },
    {
     "name": "stdout",
     "output_type": "stream",
     "text": [
      "[096/100] Train Loss: 151.53591 | Val loss: 160.80691\n"
     ]
    },
    {
     "name": "stderr",
     "output_type": "stream",
     "text": [
      "100%|██████████| 11/11 [00:00<00:00, 234.06it/s]\n",
      "100%|██████████| 2/2 [00:00<00:00, 499.92it/s]\n"
     ]
    },
    {
     "name": "stdout",
     "output_type": "stream",
     "text": [
      "[097/100] Train Loss: 149.08411 | Val loss: 143.84098\n"
     ]
    },
    {
     "name": "stderr",
     "output_type": "stream",
     "text": [
      "100%|██████████| 11/11 [00:00<00:00, 333.33it/s]\n",
      "100%|██████████| 2/2 [00:00<00:00, 499.83it/s]\n"
     ]
    },
    {
     "name": "stdout",
     "output_type": "stream",
     "text": [
      "[098/100] Train Loss: 146.60638 | Val loss: 144.35190\n"
     ]
    },
    {
     "name": "stderr",
     "output_type": "stream",
     "text": [
      "100%|██████████| 11/11 [00:00<00:00, 282.07it/s]\n",
      "100%|██████████| 2/2 [00:00<00:00, 399.88it/s]\n"
     ]
    },
    {
     "name": "stdout",
     "output_type": "stream",
     "text": [
      "[099/100] Train Loss: 145.18762 | Val loss: 143.07728\n"
     ]
    },
    {
     "name": "stderr",
     "output_type": "stream",
     "text": [
      "100%|██████████| 11/11 [00:00<00:00, 318.21it/s]\n",
      "100%|██████████| 2/2 [00:00<00:00, 666.61it/s]"
     ]
    },
    {
     "name": "stdout",
     "output_type": "stream",
     "text": [
      "[100/100] Train Loss: 143.60540 | Val loss: 136.26231\n",
      "saving model with loss 136.26231\n"
     ]
    },
    {
     "name": "stderr",
     "output_type": "stream",
     "text": [
      "\n"
     ]
    }
   ],
   "source": [
    "criterion_1 = mse_loss\n",
    "model = SimpleMLP(input_dim=input_dim).to(device)\n",
    "optimizer = torch.optim.Adam(model.parameters(), lr=config['learning_rate'], weight_decay=config['weight_decay'])\n",
    "train(100, model, optimizer, criterion_1, train_loader, valid_loader, device, 'models/simple_mlp.pt')"
   ]
  },
  {
   "cell_type": "markdown",
   "metadata": {},
   "source": [
    "## Define loss as a nn.Module"
   ]
  },
  {
   "cell_type": "code",
   "execution_count": 12,
   "metadata": {},
   "outputs": [],
   "source": [
    "class MSELoss(nn.Module):\n",
    "    def __init__(self):\n",
    "        super().__init__()\n",
    "        \n",
    "    def forward(self, pred, target):\n",
    "        return torch.mean((pred - target) ** 2)"
   ]
  },
  {
   "cell_type": "code",
   "execution_count": 14,
   "metadata": {},
   "outputs": [
    {
     "name": "stderr",
     "output_type": "stream",
     "text": [
      "100%|██████████| 11/11 [00:00<00:00, 233.97it/s]\n",
      "100%|██████████| 2/2 [00:00<00:00, 400.07it/s]\n"
     ]
    },
    {
     "name": "stdout",
     "output_type": "stream",
     "text": [
      "[001/100] Train Loss: 415.25088 | Val loss: 355.43562\n",
      "saving model with loss 355.43562\n"
     ]
    },
    {
     "name": "stderr",
     "output_type": "stream",
     "text": [
      "100%|██████████| 11/11 [00:00<00:00, 235.45it/s]\n",
      "100%|██████████| 2/2 [00:00<00:00, 499.62it/s]\n"
     ]
    },
    {
     "name": "stdout",
     "output_type": "stream",
     "text": [
      "[002/100] Train Loss: 410.53878 | Val loss: 412.89938\n"
     ]
    },
    {
     "name": "stderr",
     "output_type": "stream",
     "text": [
      "100%|██████████| 11/11 [00:00<00:00, 297.28it/s]\n",
      "100%|██████████| 2/2 [00:00<00:00, 641.13it/s]\n"
     ]
    },
    {
     "name": "stdout",
     "output_type": "stream",
     "text": [
      "[003/100] Train Loss: 401.92654 | Val loss: 360.08675\n"
     ]
    },
    {
     "name": "stderr",
     "output_type": "stream",
     "text": [
      "100%|██████████| 11/11 [00:00<00:00, 354.83it/s]\n",
      "100%|██████████| 2/2 [00:00<00:00, 499.92it/s]\n"
     ]
    },
    {
     "name": "stdout",
     "output_type": "stream",
     "text": [
      "[004/100] Train Loss: 399.08572 | Val loss: 346.76186\n",
      "saving model with loss 346.76186\n"
     ]
    },
    {
     "name": "stderr",
     "output_type": "stream",
     "text": [
      "100%|██████████| 11/11 [00:00<00:00, 332.01it/s]\n",
      "100%|██████████| 2/2 [00:00<00:00, 665.92it/s]\n"
     ]
    },
    {
     "name": "stdout",
     "output_type": "stream",
     "text": [
      "[005/100] Train Loss: 390.37546 | Val loss: 372.53314\n"
     ]
    },
    {
     "name": "stderr",
     "output_type": "stream",
     "text": [
      "100%|██████████| 11/11 [00:00<00:00, 333.32it/s]\n",
      "100%|██████████| 2/2 [00:00<00:00, 499.53it/s]\n"
     ]
    },
    {
     "name": "stdout",
     "output_type": "stream",
     "text": [
      "[006/100] Train Loss: 386.42104 | Val loss: 352.11662\n"
     ]
    },
    {
     "name": "stderr",
     "output_type": "stream",
     "text": [
      "100%|██████████| 11/11 [00:00<00:00, 349.84it/s]\n",
      "100%|██████████| 2/2 [00:00<00:00, 665.92it/s]\n"
     ]
    },
    {
     "name": "stdout",
     "output_type": "stream",
     "text": [
      "[007/100] Train Loss: 383.71618 | Val loss: 369.05339\n"
     ]
    },
    {
     "name": "stderr",
     "output_type": "stream",
     "text": [
      "100%|██████████| 11/11 [00:00<00:00, 341.76it/s]\n",
      "100%|██████████| 2/2 [00:00<00:00, 667.09it/s]\n"
     ]
    },
    {
     "name": "stdout",
     "output_type": "stream",
     "text": [
      "[008/100] Train Loss: 376.45032 | Val loss: 422.79732\n"
     ]
    },
    {
     "name": "stderr",
     "output_type": "stream",
     "text": [
      "100%|██████████| 11/11 [00:00<00:00, 354.01it/s]\n",
      "100%|██████████| 2/2 [00:00<00:00, 500.30it/s]\n"
     ]
    },
    {
     "name": "stdout",
     "output_type": "stream",
     "text": [
      "[009/100] Train Loss: 370.12427 | Val loss: 323.39365\n",
      "saving model with loss 323.39365\n"
     ]
    },
    {
     "name": "stderr",
     "output_type": "stream",
     "text": [
      "100%|██████████| 11/11 [00:00<00:00, 343.71it/s]\n",
      "100%|██████████| 2/2 [00:00<00:00, 667.14it/s]\n"
     ]
    },
    {
     "name": "stdout",
     "output_type": "stream",
     "text": [
      "[010/100] Train Loss: 367.89822 | Val loss: 351.69429\n"
     ]
    },
    {
     "name": "stderr",
     "output_type": "stream",
     "text": [
      "100%|██████████| 11/11 [00:00<00:00, 107.84it/s]\n",
      "100%|██████████| 2/2 [00:00<00:00, 399.80it/s]\n"
     ]
    },
    {
     "name": "stdout",
     "output_type": "stream",
     "text": [
      "[011/100] Train Loss: 361.17482 | Val loss: 310.90100\n",
      "saving model with loss 310.90100\n"
     ]
    },
    {
     "name": "stderr",
     "output_type": "stream",
     "text": [
      "100%|██████████| 11/11 [00:00<00:00, 325.97it/s]\n",
      "100%|██████████| 2/2 [00:00<00:00, 666.03it/s]\n"
     ]
    },
    {
     "name": "stdout",
     "output_type": "stream",
     "text": [
      "[012/100] Train Loss: 354.62376 | Val loss: 387.76668\n"
     ]
    },
    {
     "name": "stderr",
     "output_type": "stream",
     "text": [
      "100%|██████████| 11/11 [00:00<00:00, 336.51it/s]\n",
      "100%|██████████| 2/2 [00:00<00:00, 666.29it/s]\n"
     ]
    },
    {
     "name": "stdout",
     "output_type": "stream",
     "text": [
      "[013/100] Train Loss: 347.81491 | Val loss: 329.46042\n"
     ]
    },
    {
     "name": "stderr",
     "output_type": "stream",
     "text": [
      "100%|██████████| 11/11 [00:00<00:00, 339.85it/s]\n",
      "100%|██████████| 2/2 [00:00<00:00, 666.71it/s]\n"
     ]
    },
    {
     "name": "stdout",
     "output_type": "stream",
     "text": [
      "[014/100] Train Loss: 345.44505 | Val loss: 327.28943\n"
     ]
    },
    {
     "name": "stderr",
     "output_type": "stream",
     "text": [
      "100%|██████████| 11/11 [00:00<00:00, 314.25it/s]\n",
      "100%|██████████| 2/2 [00:00<00:00, 499.98it/s]\n"
     ]
    },
    {
     "name": "stdout",
     "output_type": "stream",
     "text": [
      "[015/100] Train Loss: 340.60597 | Val loss: 349.16106\n"
     ]
    },
    {
     "name": "stderr",
     "output_type": "stream",
     "text": [
      "100%|██████████| 11/11 [00:00<00:00, 333.30it/s]\n",
      "100%|██████████| 2/2 [00:00<00:00, 998.76it/s]\n"
     ]
    },
    {
     "name": "stdout",
     "output_type": "stream",
     "text": [
      "[016/100] Train Loss: 334.96383 | Val loss: 302.60980\n",
      "saving model with loss 302.60980\n"
     ]
    },
    {
     "name": "stderr",
     "output_type": "stream",
     "text": [
      "100%|██████████| 11/11 [00:00<00:00, 343.25it/s]\n",
      "100%|██████████| 2/2 [00:00<00:00, 665.97it/s]\n"
     ]
    },
    {
     "name": "stdout",
     "output_type": "stream",
     "text": [
      "[017/100] Train Loss: 332.74907 | Val loss: 332.49298\n"
     ]
    },
    {
     "name": "stderr",
     "output_type": "stream",
     "text": [
      "100%|██████████| 11/11 [00:00<00:00, 353.79it/s]\n",
      "100%|██████████| 2/2 [00:00<00:00, 666.13it/s]\n"
     ]
    },
    {
     "name": "stdout",
     "output_type": "stream",
     "text": [
      "[018/100] Train Loss: 326.48591 | Val loss: 375.86018\n"
     ]
    },
    {
     "name": "stderr",
     "output_type": "stream",
     "text": [
      "100%|██████████| 11/11 [00:00<00:00, 333.32it/s]\n",
      "100%|██████████| 2/2 [00:00<00:00, 665.97it/s]\n"
     ]
    },
    {
     "name": "stdout",
     "output_type": "stream",
     "text": [
      "[019/100] Train Loss: 320.94327 | Val loss: 314.80675\n"
     ]
    },
    {
     "name": "stderr",
     "output_type": "stream",
     "text": [
      "100%|██████████| 11/11 [00:00<00:00, 343.71it/s]\n",
      "100%|██████████| 2/2 [00:00<00:00, 666.03it/s]\n"
     ]
    },
    {
     "name": "stdout",
     "output_type": "stream",
     "text": [
      "[020/100] Train Loss: 318.56206 | Val loss: 335.54543\n"
     ]
    },
    {
     "name": "stderr",
     "output_type": "stream",
     "text": [
      "100%|██████████| 11/11 [00:00<00:00, 333.34it/s]\n",
      "100%|██████████| 2/2 [00:00<00:00, 499.71it/s]\n"
     ]
    },
    {
     "name": "stdout",
     "output_type": "stream",
     "text": [
      "[021/100] Train Loss: 314.03794 | Val loss: 302.19656\n",
      "saving model with loss 302.19656\n"
     ]
    },
    {
     "name": "stderr",
     "output_type": "stream",
     "text": [
      "100%|██████████| 11/11 [00:00<00:00, 319.69it/s]\n",
      "100%|██████████| 2/2 [00:00<00:00, 666.50it/s]\n"
     ]
    },
    {
     "name": "stdout",
     "output_type": "stream",
     "text": [
      "[022/100] Train Loss: 307.30606 | Val loss: 261.77443\n",
      "saving model with loss 261.77443\n"
     ]
    },
    {
     "name": "stderr",
     "output_type": "stream",
     "text": [
      "100%|██████████| 11/11 [00:00<00:00, 183.33it/s]\n",
      "100%|██████████| 2/2 [00:00<00:00, 333.40it/s]\n"
     ]
    },
    {
     "name": "stdout",
     "output_type": "stream",
     "text": [
      "[023/100] Train Loss: 303.99734 | Val loss: 308.63342\n"
     ]
    },
    {
     "name": "stderr",
     "output_type": "stream",
     "text": [
      "100%|██████████| 11/11 [00:00<00:00, 274.82it/s]\n",
      "100%|██████████| 2/2 [00:00<00:00, 499.98it/s]\n"
     ]
    },
    {
     "name": "stdout",
     "output_type": "stream",
     "text": [
      "[024/100] Train Loss: 298.67432 | Val loss: 319.97108\n"
     ]
    },
    {
     "name": "stderr",
     "output_type": "stream",
     "text": [
      "100%|██████████| 11/11 [00:00<00:00, 229.17it/s]\n",
      "100%|██████████| 2/2 [00:00<00:00, 666.87it/s]\n"
     ]
    },
    {
     "name": "stdout",
     "output_type": "stream",
     "text": [
      "[025/100] Train Loss: 296.26205 | Val loss: 282.32860\n"
     ]
    },
    {
     "name": "stderr",
     "output_type": "stream",
     "text": [
      "100%|██████████| 11/11 [00:00<00:00, 354.81it/s]\n",
      "100%|██████████| 2/2 [00:00<00:00, 666.13it/s]\n"
     ]
    },
    {
     "name": "stdout",
     "output_type": "stream",
     "text": [
      "[026/100] Train Loss: 292.58768 | Val loss: 275.08389\n"
     ]
    },
    {
     "name": "stderr",
     "output_type": "stream",
     "text": [
      "100%|██████████| 11/11 [00:00<00:00, 343.76it/s]\n",
      "100%|██████████| 2/2 [00:00<00:00, 666.29it/s]\n"
     ]
    },
    {
     "name": "stdout",
     "output_type": "stream",
     "text": [
      "[027/100] Train Loss: 288.93526 | Val loss: 271.97090\n"
     ]
    },
    {
     "name": "stderr",
     "output_type": "stream",
     "text": [
      "100%|██████████| 11/11 [00:00<00:00, 366.66it/s]\n",
      "100%|██████████| 2/2 [00:00<00:00, 665.87it/s]\n"
     ]
    },
    {
     "name": "stdout",
     "output_type": "stream",
     "text": [
      "[028/100] Train Loss: 284.13320 | Val loss: 311.92975\n"
     ]
    },
    {
     "name": "stderr",
     "output_type": "stream",
     "text": [
      "100%|██████████| 11/11 [00:00<00:00, 341.60it/s]\n",
      "100%|██████████| 2/2 [00:00<00:00, 665.92it/s]\n"
     ]
    },
    {
     "name": "stdout",
     "output_type": "stream",
     "text": [
      "[029/100] Train Loss: 279.99349 | Val loss: 275.82140\n"
     ]
    },
    {
     "name": "stderr",
     "output_type": "stream",
     "text": [
      "100%|██████████| 11/11 [00:00<00:00, 333.30it/s]\n",
      "100%|██████████| 2/2 [00:00<00:00, 667.14it/s]\n"
     ]
    },
    {
     "name": "stdout",
     "output_type": "stream",
     "text": [
      "[030/100] Train Loss: 275.14777 | Val loss: 254.88579\n",
      "saving model with loss 254.88579\n"
     ]
    },
    {
     "name": "stderr",
     "output_type": "stream",
     "text": [
      "100%|██████████| 11/11 [00:00<00:00, 340.87it/s]\n",
      "100%|██████████| 2/2 [00:00<00:00, 666.82it/s]\n"
     ]
    },
    {
     "name": "stdout",
     "output_type": "stream",
     "text": [
      "[031/100] Train Loss: 276.09480 | Val loss: 242.12348\n",
      "saving model with loss 242.12348\n"
     ]
    },
    {
     "name": "stderr",
     "output_type": "stream",
     "text": [
      "100%|██████████| 11/11 [00:00<00:00, 347.83it/s]\n",
      "100%|██████████| 2/2 [00:00<00:00, 666.08it/s]\n"
     ]
    },
    {
     "name": "stdout",
     "output_type": "stream",
     "text": [
      "[032/100] Train Loss: 269.34133 | Val loss: 231.01942\n",
      "saving model with loss 231.01942\n"
     ]
    },
    {
     "name": "stderr",
     "output_type": "stream",
     "text": [
      "100%|██████████| 11/11 [00:00<00:00, 359.07it/s]\n",
      "100%|██████████| 2/2 [00:00<00:00, 665.97it/s]\n"
     ]
    },
    {
     "name": "stdout",
     "output_type": "stream",
     "text": [
      "[033/100] Train Loss: 265.33410 | Val loss: 264.03349\n"
     ]
    },
    {
     "name": "stderr",
     "output_type": "stream",
     "text": [
      "100%|██████████| 11/11 [00:00<00:00, 354.84it/s]\n",
      "100%|██████████| 2/2 [00:00<00:00, 666.77it/s]\n"
     ]
    },
    {
     "name": "stdout",
     "output_type": "stream",
     "text": [
      "[034/100] Train Loss: 259.24427 | Val loss: 305.65553\n"
     ]
    },
    {
     "name": "stderr",
     "output_type": "stream",
     "text": [
      "100%|██████████| 11/11 [00:00<00:00, 354.82it/s]\n",
      "100%|██████████| 2/2 [00:00<00:00, 668.68it/s]\n"
     ]
    },
    {
     "name": "stdout",
     "output_type": "stream",
     "text": [
      "[035/100] Train Loss: 256.13343 | Val loss: 256.65440\n"
     ]
    },
    {
     "name": "stderr",
     "output_type": "stream",
     "text": [
      "100%|██████████| 11/11 [00:00<00:00, 323.51it/s]\n",
      "100%|██████████| 2/2 [00:00<00:00, 666.45it/s]\n"
     ]
    },
    {
     "name": "stdout",
     "output_type": "stream",
     "text": [
      "[036/100] Train Loss: 257.05483 | Val loss: 251.50847\n"
     ]
    },
    {
     "name": "stderr",
     "output_type": "stream",
     "text": [
      "100%|██████████| 11/11 [00:00<00:00, 371.57it/s]\n",
      "100%|██████████| 2/2 [00:00<00:00, 666.03it/s]\n"
     ]
    },
    {
     "name": "stdout",
     "output_type": "stream",
     "text": [
      "[037/100] Train Loss: 249.49139 | Val loss: 259.73201\n"
     ]
    },
    {
     "name": "stderr",
     "output_type": "stream",
     "text": [
      "100%|██████████| 11/11 [00:00<00:00, 354.82it/s]\n",
      "100%|██████████| 2/2 [00:00<00:00, 666.29it/s]\n"
     ]
    },
    {
     "name": "stdout",
     "output_type": "stream",
     "text": [
      "[038/100] Train Loss: 246.78289 | Val loss: 250.16164\n"
     ]
    },
    {
     "name": "stderr",
     "output_type": "stream",
     "text": [
      "100%|██████████| 11/11 [00:00<00:00, 282.02it/s]\n",
      "100%|██████████| 2/2 [00:00<00:00, 400.07it/s]\n"
     ]
    },
    {
     "name": "stdout",
     "output_type": "stream",
     "text": [
      "[039/100] Train Loss: 245.43576 | Val loss: 263.01567\n"
     ]
    },
    {
     "name": "stderr",
     "output_type": "stream",
     "text": [
      "100%|██████████| 11/11 [00:00<00:00, 207.55it/s]\n",
      "100%|██████████| 2/2 [00:00<00:00, 666.40it/s]\n"
     ]
    },
    {
     "name": "stdout",
     "output_type": "stream",
     "text": [
      "[040/100] Train Loss: 242.18148 | Val loss: 218.57642\n",
      "saving model with loss 218.57642\n"
     ]
    },
    {
     "name": "stderr",
     "output_type": "stream",
     "text": [
      "100%|██████████| 11/11 [00:00<00:00, 305.54it/s]\n",
      "100%|██████████| 2/2 [00:00<00:00, 666.87it/s]\n"
     ]
    },
    {
     "name": "stdout",
     "output_type": "stream",
     "text": [
      "[041/100] Train Loss: 238.53967 | Val loss: 223.39133\n"
     ]
    },
    {
     "name": "stderr",
     "output_type": "stream",
     "text": [
      "100%|██████████| 11/11 [00:00<00:00, 354.83it/s]\n",
      "100%|██████████| 2/2 [00:00<00:00, 666.71it/s]\n"
     ]
    },
    {
     "name": "stdout",
     "output_type": "stream",
     "text": [
      "[042/100] Train Loss: 236.88574 | Val loss: 239.87509\n"
     ]
    },
    {
     "name": "stderr",
     "output_type": "stream",
     "text": [
      "100%|██████████| 11/11 [00:00<00:00, 354.80it/s]\n",
      "100%|██████████| 2/2 [00:00<00:00, 666.98it/s]\n"
     ]
    },
    {
     "name": "stdout",
     "output_type": "stream",
     "text": [
      "[043/100] Train Loss: 234.87333 | Val loss: 252.45853\n"
     ]
    },
    {
     "name": "stderr",
     "output_type": "stream",
     "text": [
      "100%|██████████| 11/11 [00:00<00:00, 343.72it/s]\n",
      "100%|██████████| 2/2 [00:00<00:00, 666.24it/s]\n"
     ]
    },
    {
     "name": "stdout",
     "output_type": "stream",
     "text": [
      "[044/100] Train Loss: 231.84683 | Val loss: 220.94212\n"
     ]
    },
    {
     "name": "stderr",
     "output_type": "stream",
     "text": [
      "100%|██████████| 11/11 [00:00<00:00, 366.66it/s]\n",
      "100%|██████████| 2/2 [00:00<00:00, 666.77it/s]\n"
     ]
    },
    {
     "name": "stdout",
     "output_type": "stream",
     "text": [
      "[045/100] Train Loss: 230.49235 | Val loss: 223.99585\n"
     ]
    },
    {
     "name": "stderr",
     "output_type": "stream",
     "text": [
      "100%|██████████| 11/11 [00:00<00:00, 352.49it/s]\n",
      "100%|██████████| 2/2 [00:00<00:00, 500.19it/s]\n"
     ]
    },
    {
     "name": "stdout",
     "output_type": "stream",
     "text": [
      "[046/100] Train Loss: 226.53855 | Val loss: 248.54328\n"
     ]
    },
    {
     "name": "stderr",
     "output_type": "stream",
     "text": [
      "100%|██████████| 11/11 [00:00<00:00, 333.31it/s]\n",
      "100%|██████████| 2/2 [00:00<00:00, 666.40it/s]\n"
     ]
    },
    {
     "name": "stdout",
     "output_type": "stream",
     "text": [
      "[047/100] Train Loss: 224.58228 | Val loss: 208.28471\n",
      "saving model with loss 208.28471\n"
     ]
    },
    {
     "name": "stderr",
     "output_type": "stream",
     "text": [
      "100%|██████████| 11/11 [00:00<00:00, 337.26it/s]\n",
      "100%|██████████| 2/2 [00:00<00:00, 399.99it/s]\n"
     ]
    },
    {
     "name": "stdout",
     "output_type": "stream",
     "text": [
      "[048/100] Train Loss: 221.83262 | Val loss: 220.90668\n"
     ]
    },
    {
     "name": "stderr",
     "output_type": "stream",
     "text": [
      "100%|██████████| 11/11 [00:00<00:00, 344.51it/s]\n",
      "100%|██████████| 2/2 [00:00<00:00, 666.98it/s]\n"
     ]
    },
    {
     "name": "stdout",
     "output_type": "stream",
     "text": [
      "[049/100] Train Loss: 218.45155 | Val loss: 269.36901\n"
     ]
    },
    {
     "name": "stderr",
     "output_type": "stream",
     "text": [
      "100%|██████████| 11/11 [00:00<00:00, 343.71it/s]\n",
      "100%|██████████| 2/2 [00:00<00:00, 667.14it/s]\n"
     ]
    },
    {
     "name": "stdout",
     "output_type": "stream",
     "text": [
      "[050/100] Train Loss: 216.82826 | Val loss: 220.30611\n"
     ]
    },
    {
     "name": "stderr",
     "output_type": "stream",
     "text": [
      "100%|██████████| 11/11 [00:00<00:00, 337.50it/s]\n",
      "100%|██████████| 2/2 [00:00<00:00, 537.01it/s]\n"
     ]
    },
    {
     "name": "stdout",
     "output_type": "stream",
     "text": [
      "[051/100] Train Loss: 214.23151 | Val loss: 220.07653\n"
     ]
    },
    {
     "name": "stderr",
     "output_type": "stream",
     "text": [
      "100%|██████████| 11/11 [00:00<00:00, 333.33it/s]\n",
      "100%|██████████| 2/2 [00:00<00:00, 667.09it/s]\n"
     ]
    },
    {
     "name": "stdout",
     "output_type": "stream",
     "text": [
      "[052/100] Train Loss: 213.12594 | Val loss: 211.50231\n"
     ]
    },
    {
     "name": "stderr",
     "output_type": "stream",
     "text": [
      "100%|██████████| 11/11 [00:00<00:00, 354.79it/s]\n",
      "100%|██████████| 2/2 [00:00<00:00, 499.68it/s]\n"
     ]
    },
    {
     "name": "stdout",
     "output_type": "stream",
     "text": [
      "[053/100] Train Loss: 209.63508 | Val loss: 216.26110\n"
     ]
    },
    {
     "name": "stderr",
     "output_type": "stream",
     "text": [
      "100%|██████████| 11/11 [00:00<00:00, 360.40it/s]\n",
      "100%|██████████| 2/2 [00:00<00:00, 665.82it/s]\n"
     ]
    },
    {
     "name": "stdout",
     "output_type": "stream",
     "text": [
      "[054/100] Train Loss: 209.08576 | Val loss: 195.58816\n",
      "saving model with loss 195.58816\n"
     ]
    },
    {
     "name": "stderr",
     "output_type": "stream",
     "text": [
      "100%|██████████| 11/11 [00:00<00:00, 343.73it/s]\n",
      "100%|██████████| 2/2 [00:00<00:00, 400.09it/s]\n"
     ]
    },
    {
     "name": "stdout",
     "output_type": "stream",
     "text": [
      "[055/100] Train Loss: 205.49175 | Val loss: 227.97851\n"
     ]
    },
    {
     "name": "stderr",
     "output_type": "stream",
     "text": [
      "100%|██████████| 11/11 [00:00<00:00, 194.52it/s]\n",
      "100%|██████████| 2/2 [00:00<00:00, 499.92it/s]\n"
     ]
    },
    {
     "name": "stdout",
     "output_type": "stream",
     "text": [
      "[056/100] Train Loss: 203.64022 | Val loss: 214.01001\n"
     ]
    },
    {
     "name": "stderr",
     "output_type": "stream",
     "text": [
      "100%|██████████| 11/11 [00:00<00:00, 282.06it/s]\n",
      "100%|██████████| 2/2 [00:00<00:00, 499.56it/s]\n"
     ]
    },
    {
     "name": "stdout",
     "output_type": "stream",
     "text": [
      "[057/100] Train Loss: 198.56367 | Val loss: 190.04350\n",
      "saving model with loss 190.04350\n"
     ]
    },
    {
     "name": "stderr",
     "output_type": "stream",
     "text": [
      "100%|██████████| 11/11 [00:00<00:00, 333.33it/s]\n",
      "100%|██████████| 2/2 [00:00<00:00, 500.10it/s]\n"
     ]
    },
    {
     "name": "stdout",
     "output_type": "stream",
     "text": [
      "[058/100] Train Loss: 198.55096 | Val loss: 212.55478\n"
     ]
    },
    {
     "name": "stderr",
     "output_type": "stream",
     "text": [
      "100%|██████████| 11/11 [00:00<00:00, 331.88it/s]\n",
      "100%|██████████| 2/2 [00:00<00:00, 499.53it/s]\n"
     ]
    },
    {
     "name": "stdout",
     "output_type": "stream",
     "text": [
      "[059/100] Train Loss: 195.81887 | Val loss: 200.49474\n"
     ]
    },
    {
     "name": "stderr",
     "output_type": "stream",
     "text": [
      "100%|██████████| 11/11 [00:00<00:00, 379.28it/s]\n",
      "100%|██████████| 2/2 [00:00<00:00, 671.30it/s]\n"
     ]
    },
    {
     "name": "stdout",
     "output_type": "stream",
     "text": [
      "[060/100] Train Loss: 197.06642 | Val loss: 192.16066\n"
     ]
    },
    {
     "name": "stderr",
     "output_type": "stream",
     "text": [
      "100%|██████████| 11/11 [00:00<00:00, 331.76it/s]\n",
      "100%|██████████| 2/2 [00:00<00:00, 550.83it/s]\n"
     ]
    },
    {
     "name": "stdout",
     "output_type": "stream",
     "text": [
      "[061/100] Train Loss: 193.84807 | Val loss: 168.54341\n",
      "saving model with loss 168.54341\n"
     ]
    },
    {
     "name": "stderr",
     "output_type": "stream",
     "text": [
      "100%|██████████| 11/11 [00:00<00:00, 333.33it/s]\n",
      "100%|██████████| 2/2 [00:00<00:00, 666.45it/s]\n"
     ]
    },
    {
     "name": "stdout",
     "output_type": "stream",
     "text": [
      "[062/100] Train Loss: 191.12086 | Val loss: 187.06903\n"
     ]
    },
    {
     "name": "stderr",
     "output_type": "stream",
     "text": [
      "100%|██████████| 11/11 [00:00<00:00, 354.70it/s]\n",
      "100%|██████████| 2/2 [00:00<00:00, 499.83it/s]\n"
     ]
    },
    {
     "name": "stdout",
     "output_type": "stream",
     "text": [
      "[063/100] Train Loss: 189.51999 | Val loss: 192.86327\n"
     ]
    },
    {
     "name": "stderr",
     "output_type": "stream",
     "text": [
      "100%|██████████| 11/11 [00:00<00:00, 338.22it/s]\n",
      "100%|██████████| 2/2 [00:00<00:00, 998.76it/s]\n"
     ]
    },
    {
     "name": "stdout",
     "output_type": "stream",
     "text": [
      "[064/100] Train Loss: 185.45644 | Val loss: 167.50639\n",
      "saving model with loss 167.50639\n"
     ]
    },
    {
     "name": "stderr",
     "output_type": "stream",
     "text": [
      "100%|██████████| 11/11 [00:00<00:00, 366.47it/s]\n",
      "100%|██████████| 2/2 [00:00<00:00, 666.71it/s]\n"
     ]
    },
    {
     "name": "stdout",
     "output_type": "stream",
     "text": [
      "[065/100] Train Loss: 185.99910 | Val loss: 152.88757\n",
      "saving model with loss 152.88757\n"
     ]
    },
    {
     "name": "stderr",
     "output_type": "stream",
     "text": [
      "100%|██████████| 11/11 [00:00<00:00, 343.76it/s]\n",
      "100%|██████████| 2/2 [00:00<00:00, 499.11it/s]\n"
     ]
    },
    {
     "name": "stdout",
     "output_type": "stream",
     "text": [
      "[066/100] Train Loss: 179.95446 | Val loss: 198.63578\n"
     ]
    },
    {
     "name": "stderr",
     "output_type": "stream",
     "text": [
      "100%|██████████| 11/11 [00:00<00:00, 366.62it/s]\n",
      "100%|██████████| 2/2 [00:00<00:00, 666.13it/s]\n"
     ]
    },
    {
     "name": "stdout",
     "output_type": "stream",
     "text": [
      "[067/100] Train Loss: 180.98487 | Val loss: 192.29945\n"
     ]
    },
    {
     "name": "stderr",
     "output_type": "stream",
     "text": [
      "100%|██████████| 11/11 [00:00<00:00, 359.92it/s]\n",
      "100%|██████████| 2/2 [00:00<00:00, 666.71it/s]\n"
     ]
    },
    {
     "name": "stdout",
     "output_type": "stream",
     "text": [
      "[068/100] Train Loss: 177.79755 | Val loss: 191.11934\n"
     ]
    },
    {
     "name": "stderr",
     "output_type": "stream",
     "text": [
      "100%|██████████| 11/11 [00:00<00:00, 319.95it/s]\n",
      "100%|██████████| 2/2 [00:00<00:00, 666.03it/s]\n"
     ]
    },
    {
     "name": "stdout",
     "output_type": "stream",
     "text": [
      "[069/100] Train Loss: 175.63420 | Val loss: 161.32424\n"
     ]
    },
    {
     "name": "stderr",
     "output_type": "stream",
     "text": [
      "100%|██████████| 11/11 [00:00<00:00, 228.11it/s]\n",
      "100%|██████████| 2/2 [00:00<00:00, 333.32it/s]\n"
     ]
    },
    {
     "name": "stdout",
     "output_type": "stream",
     "text": [
      "[070/100] Train Loss: 173.91065 | Val loss: 171.09642\n"
     ]
    },
    {
     "name": "stderr",
     "output_type": "stream",
     "text": [
      "100%|██████████| 11/11 [00:00<00:00, 213.32it/s]\n",
      "100%|██████████| 2/2 [00:00<00:00, 500.10it/s]\n"
     ]
    },
    {
     "name": "stdout",
     "output_type": "stream",
     "text": [
      "[071/100] Train Loss: 171.90752 | Val loss: 185.02934\n"
     ]
    },
    {
     "name": "stderr",
     "output_type": "stream",
     "text": [
      "100%|██████████| 11/11 [00:00<00:00, 328.16it/s]\n",
      "100%|██████████| 2/2 [00:00<00:00, 666.93it/s]\n"
     ]
    },
    {
     "name": "stdout",
     "output_type": "stream",
     "text": [
      "[072/100] Train Loss: 167.85520 | Val loss: 175.21474\n"
     ]
    },
    {
     "name": "stderr",
     "output_type": "stream",
     "text": [
      "100%|██████████| 11/11 [00:00<00:00, 354.85it/s]\n",
      "100%|██████████| 2/2 [00:00<00:00, 666.93it/s]\n"
     ]
    },
    {
     "name": "stdout",
     "output_type": "stream",
     "text": [
      "[073/100] Train Loss: 167.11489 | Val loss: 185.17775\n"
     ]
    },
    {
     "name": "stderr",
     "output_type": "stream",
     "text": [
      "100%|██████████| 11/11 [00:00<00:00, 322.91it/s]\n",
      "100%|██████████| 2/2 [00:00<00:00, 499.65it/s]\n"
     ]
    },
    {
     "name": "stdout",
     "output_type": "stream",
     "text": [
      "[074/100] Train Loss: 166.97223 | Val loss: 142.30447\n",
      "saving model with loss 142.30447\n"
     ]
    },
    {
     "name": "stderr",
     "output_type": "stream",
     "text": [
      "100%|██████████| 11/11 [00:00<00:00, 353.67it/s]\n",
      "100%|██████████| 2/2 [00:00<00:00, 499.68it/s]\n"
     ]
    },
    {
     "name": "stdout",
     "output_type": "stream",
     "text": [
      "[075/100] Train Loss: 163.08740 | Val loss: 178.48118\n"
     ]
    },
    {
     "name": "stderr",
     "output_type": "stream",
     "text": [
      "100%|██████████| 11/11 [00:00<00:00, 354.84it/s]\n",
      "100%|██████████| 2/2 [00:00<00:00, 665.97it/s]\n"
     ]
    },
    {
     "name": "stdout",
     "output_type": "stream",
     "text": [
      "[076/100] Train Loss: 160.97202 | Val loss: 158.20760\n"
     ]
    },
    {
     "name": "stderr",
     "output_type": "stream",
     "text": [
      "100%|██████████| 11/11 [00:00<00:00, 354.81it/s]\n",
      "100%|██████████| 2/2 [00:00<00:00, 666.98it/s]\n"
     ]
    },
    {
     "name": "stdout",
     "output_type": "stream",
     "text": [
      "[077/100] Train Loss: 158.67486 | Val loss: 155.23668\n"
     ]
    },
    {
     "name": "stderr",
     "output_type": "stream",
     "text": [
      "100%|██████████| 11/11 [00:00<00:00, 343.71it/s]\n",
      "100%|██████████| 2/2 [00:00<00:00, 568.53it/s]\n"
     ]
    },
    {
     "name": "stdout",
     "output_type": "stream",
     "text": [
      "[078/100] Train Loss: 157.80767 | Val loss: 139.31641\n",
      "saving model with loss 139.31641\n"
     ]
    },
    {
     "name": "stderr",
     "output_type": "stream",
     "text": [
      "100%|██████████| 11/11 [00:00<00:00, 346.26it/s]\n",
      "100%|██████████| 2/2 [00:00<00:00, 666.71it/s]\n"
     ]
    },
    {
     "name": "stdout",
     "output_type": "stream",
     "text": [
      "[079/100] Train Loss: 155.94818 | Val loss: 161.56347\n"
     ]
    },
    {
     "name": "stderr",
     "output_type": "stream",
     "text": [
      "100%|██████████| 11/11 [00:00<00:00, 239.13it/s]\n",
      "100%|██████████| 2/2 [00:00<00:00, 666.29it/s]\n"
     ]
    },
    {
     "name": "stdout",
     "output_type": "stream",
     "text": [
      "[080/100] Train Loss: 153.78936 | Val loss: 155.38445\n"
     ]
    },
    {
     "name": "stderr",
     "output_type": "stream",
     "text": [
      "100%|██████████| 11/11 [00:00<00:00, 359.35it/s]\n",
      "100%|██████████| 2/2 [00:00<00:00, 666.50it/s]\n"
     ]
    },
    {
     "name": "stdout",
     "output_type": "stream",
     "text": [
      "[081/100] Train Loss: 152.71188 | Val loss: 155.11383\n"
     ]
    },
    {
     "name": "stderr",
     "output_type": "stream",
     "text": [
      "100%|██████████| 11/11 [00:00<00:00, 323.51it/s]\n",
      "100%|██████████| 2/2 [00:00<00:00, 666.08it/s]\n"
     ]
    },
    {
     "name": "stdout",
     "output_type": "stream",
     "text": [
      "[082/100] Train Loss: 150.89781 | Val loss: 142.88160\n"
     ]
    },
    {
     "name": "stderr",
     "output_type": "stream",
     "text": [
      "100%|██████████| 11/11 [00:00<00:00, 327.51it/s]\n",
      "100%|██████████| 2/2 [00:00<00:00, 665.87it/s]\n"
     ]
    },
    {
     "name": "stdout",
     "output_type": "stream",
     "text": [
      "[083/100] Train Loss: 148.87130 | Val loss: 132.03282\n",
      "saving model with loss 132.03282\n"
     ]
    },
    {
     "name": "stderr",
     "output_type": "stream",
     "text": [
      "100%|██████████| 11/11 [00:00<00:00, 342.14it/s]\n",
      "100%|██████████| 2/2 [00:00<00:00, 667.09it/s]\n"
     ]
    },
    {
     "name": "stdout",
     "output_type": "stream",
     "text": [
      "[084/100] Train Loss: 146.61216 | Val loss: 121.62381\n",
      "saving model with loss 121.62381\n"
     ]
    },
    {
     "name": "stderr",
     "output_type": "stream",
     "text": [
      "100%|██████████| 11/11 [00:00<00:00, 335.83it/s]\n",
      "100%|██████████| 2/2 [00:00<00:00, 666.19it/s]\n"
     ]
    },
    {
     "name": "stdout",
     "output_type": "stream",
     "text": [
      "[085/100] Train Loss: 146.22310 | Val loss: 165.96301\n"
     ]
    },
    {
     "name": "stderr",
     "output_type": "stream",
     "text": [
      "100%|██████████| 11/11 [00:00<00:00, 171.92it/s]\n",
      "100%|██████████| 2/2 [00:00<00:00, 500.30it/s]\n"
     ]
    },
    {
     "name": "stdout",
     "output_type": "stream",
     "text": [
      "[086/100] Train Loss: 143.73740 | Val loss: 139.35241\n"
     ]
    },
    {
     "name": "stderr",
     "output_type": "stream",
     "text": [
      "100%|██████████| 11/11 [00:00<00:00, 271.45it/s]\n",
      "100%|██████████| 2/2 [00:00<00:00, 499.86it/s]\n"
     ]
    },
    {
     "name": "stdout",
     "output_type": "stream",
     "text": [
      "[087/100] Train Loss: 141.69568 | Val loss: 139.14838\n"
     ]
    },
    {
     "name": "stderr",
     "output_type": "stream",
     "text": [
      "100%|██████████| 11/11 [00:00<00:00, 327.67it/s]\n",
      "100%|██████████| 2/2 [00:00<00:00, 666.29it/s]\n"
     ]
    },
    {
     "name": "stdout",
     "output_type": "stream",
     "text": [
      "[088/100] Train Loss: 140.56241 | Val loss: 134.86542\n"
     ]
    },
    {
     "name": "stderr",
     "output_type": "stream",
     "text": [
      "100%|██████████| 11/11 [00:00<00:00, 318.14it/s]\n",
      "100%|██████████| 2/2 [00:00<00:00, 638.94it/s]\n"
     ]
    },
    {
     "name": "stdout",
     "output_type": "stream",
     "text": [
      "[089/100] Train Loss: 138.28176 | Val loss: 137.83912\n"
     ]
    },
    {
     "name": "stderr",
     "output_type": "stream",
     "text": [
      "100%|██████████| 11/11 [00:00<00:00, 245.12it/s]\n",
      "100%|██████████| 2/2 [00:00<00:00, 352.06it/s]\n"
     ]
    },
    {
     "name": "stdout",
     "output_type": "stream",
     "text": [
      "[090/100] Train Loss: 139.59013 | Val loss: 130.94886\n"
     ]
    },
    {
     "name": "stderr",
     "output_type": "stream",
     "text": [
      "100%|██████████| 11/11 [00:00<00:00, 286.83it/s]\n",
      "100%|██████████| 2/2 [00:00<00:00, 500.04it/s]\n"
     ]
    },
    {
     "name": "stdout",
     "output_type": "stream",
     "text": [
      "[091/100] Train Loss: 136.50755 | Val loss: 128.07392\n"
     ]
    },
    {
     "name": "stderr",
     "output_type": "stream",
     "text": [
      "100%|██████████| 11/11 [00:00<00:00, 297.32it/s]\n",
      "100%|██████████| 2/2 [00:00<00:00, 425.13it/s]\n"
     ]
    },
    {
     "name": "stdout",
     "output_type": "stream",
     "text": [
      "[092/100] Train Loss: 136.30792 | Val loss: 112.73536\n",
      "saving model with loss 112.73536\n"
     ]
    },
    {
     "name": "stderr",
     "output_type": "stream",
     "text": [
      "100%|██████████| 11/11 [00:00<00:00, 297.30it/s]\n",
      "100%|██████████| 2/2 [00:00<00:00, 540.36it/s]\n"
     ]
    },
    {
     "name": "stdout",
     "output_type": "stream",
     "text": [
      "[093/100] Train Loss: 133.45371 | Val loss: 139.72060\n"
     ]
    },
    {
     "name": "stderr",
     "output_type": "stream",
     "text": [
      "100%|██████████| 11/11 [00:00<00:00, 209.43it/s]\n",
      "100%|██████████| 2/2 [00:00<00:00, 199.99it/s]\n"
     ]
    },
    {
     "name": "stdout",
     "output_type": "stream",
     "text": [
      "[094/100] Train Loss: 132.09804 | Val loss: 131.59442\n"
     ]
    },
    {
     "name": "stderr",
     "output_type": "stream",
     "text": [
      "100%|██████████| 11/11 [00:00<00:00, 220.00it/s]\n",
      "100%|██████████| 2/2 [00:00<00:00, 666.61it/s]\n"
     ]
    },
    {
     "name": "stdout",
     "output_type": "stream",
     "text": [
      "[095/100] Train Loss: 131.70418 | Val loss: 128.11469\n"
     ]
    },
    {
     "name": "stderr",
     "output_type": "stream",
     "text": [
      "100%|██████████| 11/11 [00:00<00:00, 99.43it/s]\n",
      "100%|██████████| 2/2 [00:00<00:00, 666.50it/s]\n"
     ]
    },
    {
     "name": "stdout",
     "output_type": "stream",
     "text": [
      "[096/100] Train Loss: 128.91473 | Val loss: 121.29679\n"
     ]
    },
    {
     "name": "stderr",
     "output_type": "stream",
     "text": [
      "100%|██████████| 11/11 [00:00<00:00, 343.74it/s]\n",
      "100%|██████████| 2/2 [00:00<00:00, 499.71it/s]\n"
     ]
    },
    {
     "name": "stdout",
     "output_type": "stream",
     "text": [
      "[097/100] Train Loss: 128.51185 | Val loss: 129.57015\n"
     ]
    },
    {
     "name": "stderr",
     "output_type": "stream",
     "text": [
      "100%|██████████| 11/11 [00:00<00:00, 327.75it/s]\n",
      "100%|██████████| 2/2 [00:00<00:00, 499.59it/s]\n"
     ]
    },
    {
     "name": "stdout",
     "output_type": "stream",
     "text": [
      "[098/100] Train Loss: 126.71949 | Val loss: 125.84037\n"
     ]
    },
    {
     "name": "stderr",
     "output_type": "stream",
     "text": [
      "100%|██████████| 11/11 [00:00<00:00, 342.27it/s]\n",
      "100%|██████████| 2/2 [00:00<00:00, 666.98it/s]\n"
     ]
    },
    {
     "name": "stdout",
     "output_type": "stream",
     "text": [
      "[099/100] Train Loss: 125.48237 | Val loss: 102.93153\n",
      "saving model with loss 102.93153\n"
     ]
    },
    {
     "name": "stderr",
     "output_type": "stream",
     "text": [
      "100%|██████████| 11/11 [00:00<00:00, 333.31it/s]\n",
      "100%|██████████| 2/2 [00:00<00:00, 499.77it/s]"
     ]
    },
    {
     "name": "stdout",
     "output_type": "stream",
     "text": [
      "[100/100] Train Loss: 124.54389 | Val loss: 129.30560\n"
     ]
    },
    {
     "name": "stderr",
     "output_type": "stream",
     "text": [
      "\n"
     ]
    }
   ],
   "source": [
    "criterion_2 = MSELoss()\n",
    "model = SimpleMLP(input_dim=input_dim).to(device)\n",
    "optimizer = torch.optim.Adam(model.parameters(), lr=config['learning_rate'], weight_decay=config['weight_decay'])\n",
    "train(100, model, optimizer, criterion_2, train_loader, valid_loader, device, 'models/simple_mlp.pt')"
   ]
  }
 ],
 "metadata": {
  "kernelspec": {
   "display_name": "cv",
   "language": "python",
   "name": "python3"
  },
  "language_info": {
   "codemirror_mode": {
    "name": "ipython",
    "version": 3
   },
   "file_extension": ".py",
   "mimetype": "text/x-python",
   "name": "python",
   "nbconvert_exporter": "python",
   "pygments_lexer": "ipython3",
   "version": "3.9.20"
  }
 },
 "nbformat": 4,
 "nbformat_minor": 2
}
